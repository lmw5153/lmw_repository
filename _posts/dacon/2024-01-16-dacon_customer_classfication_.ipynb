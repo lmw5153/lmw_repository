{
 "cells": [
  {
   "cell_type": "markdown",
   "id": "029f853e",
   "metadata": {},
   "source": [
    "# DACON 고객 대출등급 분류 해커톤"
   ]
  },
  {
   "cell_type": "markdown",
   "id": "07ee5050",
   "metadata": {},
   "source": [
    "---"
   ]
  },
  {
   "cell_type": "markdown",
   "id": "26af6dc4",
   "metadata": {},
   "source": [
    "# import "
   ]
  },
  {
   "cell_type": "code",
   "execution_count": 1,
   "id": "a80dcff9",
   "metadata": {},
   "outputs": [],
   "source": [
    "import numpy as np\n",
    "import pandas as pd\n",
    "import matplotlib.pyplot as plt"
   ]
  },
  {
   "cell_type": "markdown",
   "id": "ab0a1288",
   "metadata": {},
   "source": [
    "# data set"
   ]
  },
  {
   "cell_type": "markdown",
   "id": "9e4a0050",
   "metadata": {},
   "source": [
    "`-` read data"
   ]
  },
  {
   "cell_type": "code",
   "execution_count": 2,
   "id": "7e297a27",
   "metadata": {},
   "outputs": [],
   "source": [
    "df = pd.read_csv('C:\\\\Users\\\\default.DESKTOP-2ISHQBS\\\\lab\\\\data\\\\dacon\\\\open\\\\train.csv')"
   ]
  },
  {
   "cell_type": "markdown",
   "id": "e113ff9b",
   "metadata": {},
   "source": [
    "`-` 결측치 확인"
   ]
  },
  {
   "cell_type": "code",
   "execution_count": 3,
   "id": "674faeed",
   "metadata": {
    "scrolled": false
   },
   "outputs": [
    {
     "data": {
      "text/plain": [
       "ID              0\n",
       "대출금액            0\n",
       "대출기간            0\n",
       "근로기간            0\n",
       "주택소유상태          0\n",
       "연간소득            0\n",
       "부채_대비_소득_비율     0\n",
       "총계좌수            0\n",
       "대출목적            0\n",
       "최근_2년간_연체_횟수    0\n",
       "총상환원금           0\n",
       "총상환이자           0\n",
       "총연체금액           0\n",
       "연체계좌수           0\n",
       "대출등급            0\n",
       "dtype: int64"
      ]
     },
     "execution_count": 3,
     "metadata": {},
     "output_type": "execute_result"
    }
   ],
   "source": [
    "df.isnull().sum(axis=0)"
   ]
  },
  {
   "cell_type": "markdown",
   "id": "5c0931f6",
   "metadata": {},
   "source": [
    "- 결측치는 확인되지 않음"
   ]
  },
  {
   "cell_type": "markdown",
   "id": "bb67b42f",
   "metadata": {},
   "source": [
    "`-` summary"
   ]
  },
  {
   "cell_type": "code",
   "execution_count": 4,
   "id": "3282d7b5",
   "metadata": {
    "scrolled": true
   },
   "outputs": [
    {
     "data": {
      "text/html": [
       "<div>\n",
       "<style scoped>\n",
       "    .dataframe tbody tr th:only-of-type {\n",
       "        vertical-align: middle;\n",
       "    }\n",
       "\n",
       "    .dataframe tbody tr th {\n",
       "        vertical-align: top;\n",
       "    }\n",
       "\n",
       "    .dataframe thead th {\n",
       "        text-align: right;\n",
       "    }\n",
       "</style>\n",
       "<table border=\"1\" class=\"dataframe\">\n",
       "  <thead>\n",
       "    <tr style=\"text-align: right;\">\n",
       "      <th></th>\n",
       "      <th>ID</th>\n",
       "      <th>대출금액</th>\n",
       "      <th>대출기간</th>\n",
       "      <th>근로기간</th>\n",
       "      <th>주택소유상태</th>\n",
       "      <th>연간소득</th>\n",
       "      <th>부채_대비_소득_비율</th>\n",
       "      <th>총계좌수</th>\n",
       "      <th>대출목적</th>\n",
       "      <th>최근_2년간_연체_횟수</th>\n",
       "      <th>총상환원금</th>\n",
       "      <th>총상환이자</th>\n",
       "      <th>총연체금액</th>\n",
       "      <th>연체계좌수</th>\n",
       "      <th>대출등급</th>\n",
       "    </tr>\n",
       "  </thead>\n",
       "  <tbody>\n",
       "    <tr>\n",
       "      <th>0</th>\n",
       "      <td>TRAIN_00000</td>\n",
       "      <td>12480000</td>\n",
       "      <td>36 months</td>\n",
       "      <td>6 years</td>\n",
       "      <td>RENT</td>\n",
       "      <td>72000000</td>\n",
       "      <td>18.90</td>\n",
       "      <td>15</td>\n",
       "      <td>부채 통합</td>\n",
       "      <td>0</td>\n",
       "      <td>0</td>\n",
       "      <td>0.0</td>\n",
       "      <td>0.0</td>\n",
       "      <td>0.0</td>\n",
       "      <td>C</td>\n",
       "    </tr>\n",
       "    <tr>\n",
       "      <th>1</th>\n",
       "      <td>TRAIN_00001</td>\n",
       "      <td>14400000</td>\n",
       "      <td>60 months</td>\n",
       "      <td>10+ years</td>\n",
       "      <td>MORTGAGE</td>\n",
       "      <td>130800000</td>\n",
       "      <td>22.33</td>\n",
       "      <td>21</td>\n",
       "      <td>주택 개선</td>\n",
       "      <td>0</td>\n",
       "      <td>373572</td>\n",
       "      <td>234060.0</td>\n",
       "      <td>0.0</td>\n",
       "      <td>0.0</td>\n",
       "      <td>B</td>\n",
       "    </tr>\n",
       "    <tr>\n",
       "      <th>2</th>\n",
       "      <td>TRAIN_00002</td>\n",
       "      <td>12000000</td>\n",
       "      <td>36 months</td>\n",
       "      <td>5 years</td>\n",
       "      <td>MORTGAGE</td>\n",
       "      <td>96000000</td>\n",
       "      <td>8.60</td>\n",
       "      <td>14</td>\n",
       "      <td>부채 통합</td>\n",
       "      <td>0</td>\n",
       "      <td>928644</td>\n",
       "      <td>151944.0</td>\n",
       "      <td>0.0</td>\n",
       "      <td>0.0</td>\n",
       "      <td>A</td>\n",
       "    </tr>\n",
       "    <tr>\n",
       "      <th>3</th>\n",
       "      <td>TRAIN_00003</td>\n",
       "      <td>14400000</td>\n",
       "      <td>36 months</td>\n",
       "      <td>8 years</td>\n",
       "      <td>MORTGAGE</td>\n",
       "      <td>132000000</td>\n",
       "      <td>15.09</td>\n",
       "      <td>15</td>\n",
       "      <td>부채 통합</td>\n",
       "      <td>0</td>\n",
       "      <td>325824</td>\n",
       "      <td>153108.0</td>\n",
       "      <td>0.0</td>\n",
       "      <td>0.0</td>\n",
       "      <td>C</td>\n",
       "    </tr>\n",
       "    <tr>\n",
       "      <th>4</th>\n",
       "      <td>TRAIN_00004</td>\n",
       "      <td>18000000</td>\n",
       "      <td>60 months</td>\n",
       "      <td>Unknown</td>\n",
       "      <td>RENT</td>\n",
       "      <td>71736000</td>\n",
       "      <td>25.39</td>\n",
       "      <td>19</td>\n",
       "      <td>주요 구매</td>\n",
       "      <td>0</td>\n",
       "      <td>228540</td>\n",
       "      <td>148956.0</td>\n",
       "      <td>0.0</td>\n",
       "      <td>0.0</td>\n",
       "      <td>B</td>\n",
       "    </tr>\n",
       "  </tbody>\n",
       "</table>\n",
       "</div>"
      ],
      "text/plain": [
       "            ID      대출금액        대출기간       근로기간    주택소유상태       연간소득  \\\n",
       "0  TRAIN_00000  12480000   36 months    6 years      RENT   72000000   \n",
       "1  TRAIN_00001  14400000   60 months  10+ years  MORTGAGE  130800000   \n",
       "2  TRAIN_00002  12000000   36 months    5 years  MORTGAGE   96000000   \n",
       "3  TRAIN_00003  14400000   36 months    8 years  MORTGAGE  132000000   \n",
       "4  TRAIN_00004  18000000   60 months    Unknown      RENT   71736000   \n",
       "\n",
       "   부채_대비_소득_비율  총계좌수   대출목적  최근_2년간_연체_횟수   총상환원금     총상환이자  총연체금액  연체계좌수 대출등급  \n",
       "0        18.90    15  부채 통합             0       0       0.0    0.0    0.0    C  \n",
       "1        22.33    21  주택 개선             0  373572  234060.0    0.0    0.0    B  \n",
       "2         8.60    14  부채 통합             0  928644  151944.0    0.0    0.0    A  \n",
       "3        15.09    15  부채 통합             0  325824  153108.0    0.0    0.0    C  \n",
       "4        25.39    19  주요 구매             0  228540  148956.0    0.0    0.0    B  "
      ]
     },
     "execution_count": 4,
     "metadata": {},
     "output_type": "execute_result"
    }
   ],
   "source": [
    "df.head()"
   ]
  },
  {
   "cell_type": "markdown",
   "id": "8a2da7aa",
   "metadata": {},
   "source": [
    "`-` data 변수 파악"
   ]
  },
  {
   "cell_type": "markdown",
   "id": "5b5a0204",
   "metadata": {},
   "source": [
    "- 이산형 변수\n",
    "    - ID, 대출기간, 주택소유상태, 대출목적, 대출등급, 근로기간\n",
    "- 연속형 변수\n",
    "    - 대출금액, 연간소득, 부채대비 소득비율, 총계좌수,최근 2년간 연체횟수, 총상환원금, 총상환이자, 총연체금액, 연체계좌수\n",
    "    \n",
    "**ID 변수는 유의한 지표가 아니므로 제외**"
   ]
  },
  {
   "cell_type": "markdown",
   "id": "0df8bb38",
   "metadata": {},
   "source": [
    "# 이산형변수 data EDA"
   ]
  },
  {
   "cell_type": "markdown",
   "id": "9f1c6e6a",
   "metadata": {},
   "source": [
    "- 이산형변수"
   ]
  },
  {
   "cell_type": "code",
   "execution_count": 5,
   "id": "a0f91015",
   "metadata": {},
   "outputs": [],
   "source": [
    "discrete = ['대출기간','주택소유상태','대출목적','대출등급', '근로기간']\n",
    "\n",
    "df_discrete =df.loc[:,discrete]"
   ]
  },
  {
   "cell_type": "markdown",
   "id": "5ad0f6a4",
   "metadata": {},
   "source": [
    "`-` 변수 종류 파악"
   ]
  },
  {
   "cell_type": "code",
   "execution_count": 6,
   "id": "6ed6a034",
   "metadata": {},
   "outputs": [
    {
     "data": {
      "text/plain": [
       "[[' 60 months', ' 36 months'],\n",
       " ['RENT', 'OWN', 'MORTGAGE', 'ANY'],\n",
       " ['기타',\n",
       "  '주택',\n",
       "  '휴가',\n",
       "  '이사',\n",
       "  '신용 카드',\n",
       "  '자동차',\n",
       "  '소규모 사업',\n",
       "  '부채 통합',\n",
       "  '주택 개선',\n",
       "  '재생 에너지',\n",
       "  '의료',\n",
       "  '주요 구매'],\n",
       " ['F', 'A', 'G', 'D', 'E', 'C', 'B'],\n",
       " ['< 1 year',\n",
       "  '6 years',\n",
       "  '8 years',\n",
       "  '1 year',\n",
       "  '3 years',\n",
       "  'Unknown',\n",
       "  '<1 year',\n",
       "  '10+years',\n",
       "  '3',\n",
       "  '10+ years',\n",
       "  '4 years',\n",
       "  '2 years',\n",
       "  '7 years',\n",
       "  '1 years',\n",
       "  '5 years',\n",
       "  '9 years']]"
      ]
     },
     "execution_count": 6,
     "metadata": {},
     "output_type": "execute_result"
    }
   ],
   "source": [
    "set_discrete = [set(df_discrete.iloc[:,i]) for i in range(len(discrete))]\n",
    "set_discrete = [list(set_discrete[i]) for i in range(len(discrete))]\n",
    "set_discrete"
   ]
  },
  {
   "cell_type": "markdown",
   "id": "3a188603",
   "metadata": {},
   "source": [
    "# `-` 각 변수 bar 그래프"
   ]
  },
  {
   "cell_type": "code",
   "execution_count": 7,
   "id": "469fe9a4",
   "metadata": {},
   "outputs": [],
   "source": [
    "lst = []\n",
    "for j in range(len(df_discrete.columns)):\n",
    "    a= [df_discrete.iloc[:,j] == set_discrete[j][i] for i in range(len(set_discrete[j]))]\n",
    "    lst.append(a)"
   ]
  },
  {
   "cell_type": "code",
   "execution_count": 8,
   "id": "bd489c1b",
   "metadata": {},
   "outputs": [],
   "source": [
    "lst2 =[]\n",
    "for j in range(len(df_discrete.columns)):\n",
    "    b=[(lst[j][i]*1).sum() for i in range(len(lst[j]))]\n",
    "    lst2.append(b)\n",
    "    "
   ]
  },
  {
   "cell_type": "code",
   "execution_count": 9,
   "id": "c990f636",
   "metadata": {},
   "outputs": [
    {
     "data": {
      "image/png": "[encoded data removed]",
      "text/plain": [
       "<Figure size 1400x1400 with 6 Axes>"
      ]
     },
     "metadata": {},
     "output_type": "display_data"
    }
   ],
   "source": [
    "plt.rcParams['font.family'] ='Malgun Gothic'\n",
    "plt.rcParams['axes.unicode_minus'] =False\n",
    "\n",
    "fig, axes = plt.subplots(3, 2, figsize=(14, 14))\n",
    "\n",
    "# 각각의 축에 막대 그래프 추가\n",
    "axes[0, 0].bar(set_discrete[0], lst2[0], color='blue')\n",
    "axes[0, 1].bar(set_discrete[1],lst2[1], color='green')\n",
    "axes[1, 0].bar(set_discrete[2],lst2[2], color='red')\n",
    "axes[1, 1].bar(set_discrete[3],lst2[3], color='purple')\n",
    "axes[2, 0].bar(set_discrete[4],lst2[4], color='purple')\n",
    "# 레이아웃 조정\n",
    "plt.tight_layout()\n",
    "plt.show()"
   ]
  },
  {
   "cell_type": "markdown",
   "id": "adc6cfab",
   "metadata": {},
   "source": [
    "# `-` 원그래프, count"
   ]
  },
  {
   "cell_type": "code",
   "execution_count": 10,
   "id": "1eb67b44",
   "metadata": {},
   "outputs": [
    {
     "data": {
      "image/png": "[encoded data removed]",
      "text/plain": [
       "<Figure size 640x480 with 1 Axes>"
      ]
     },
     "metadata": {},
     "output_type": "display_data"
    }
   ],
   "source": [
    "plt.pie(lst2[0],labels=set_discrete[0],autopct='%.1f%%');\n",
    "plt.title('대출기간')\n",
    "plt.show()"
   ]
  },
  {
   "cell_type": "code",
   "execution_count": 11,
   "id": "22410299",
   "metadata": {
    "scrolled": false
   },
   "outputs": [
    {
     "data": {
      "text/html": [
       "<div>\n",
       "<style scoped>\n",
       "    .dataframe tbody tr th:only-of-type {\n",
       "        vertical-align: middle;\n",
       "    }\n",
       "\n",
       "    .dataframe tbody tr th {\n",
       "        vertical-align: top;\n",
       "    }\n",
       "\n",
       "    .dataframe thead th {\n",
       "        text-align: right;\n",
       "    }\n",
       "</style>\n",
       "<table border=\"1\" class=\"dataframe\">\n",
       "  <thead>\n",
       "    <tr style=\"text-align: right;\">\n",
       "      <th></th>\n",
       "      <th>대출기간</th>\n",
       "    </tr>\n",
       "  </thead>\n",
       "  <tbody>\n",
       "    <tr>\n",
       "      <th>60 months</th>\n",
       "      <td>31815</td>\n",
       "    </tr>\n",
       "    <tr>\n",
       "      <th>36 months</th>\n",
       "      <td>64479</td>\n",
       "    </tr>\n",
       "  </tbody>\n",
       "</table>\n",
       "</div>"
      ],
      "text/plain": [
       "             대출기간\n",
       " 60 months  31815\n",
       " 36 months  64479"
      ]
     },
     "execution_count": 11,
     "metadata": {},
     "output_type": "execute_result"
    }
   ],
   "source": [
    "discreie_count= [pd.DataFrame({discrete[i]:lst2[i]},set_discrete[i]) for i in range(len(discrete))]\n",
    "discreie_count[0]"
   ]
  },
  {
   "cell_type": "markdown",
   "id": "ac7b1690",
   "metadata": {},
   "source": [
    "`-` 대출기간\n",
    "- 대출기간은 60개월과 36개월로 이루어져 있음\n",
    "- 60개월보다 36개월 대출기간 고객이 2배가량 많다"
   ]
  },
  {
   "cell_type": "markdown",
   "id": "07bbbd7e",
   "metadata": {},
   "source": [
    "---"
   ]
  },
  {
   "cell_type": "code",
   "execution_count": 12,
   "id": "f1a701c6",
   "metadata": {},
   "outputs": [
    {
     "data": {
      "image/png": "[encoded data removed]",
      "text/plain": [
       "<Figure size 640x480 with 1 Axes>"
      ]
     },
     "metadata": {},
     "output_type": "display_data"
    }
   ],
   "source": [
    "plt.pie(lst2[1],labels=set_discrete[1],autopct='%.1f%%');\n",
    "plt.title('주택소유상태')\n",
    "plt.show()"
   ]
  },
  {
   "cell_type": "code",
   "execution_count": 13,
   "id": "5a403908",
   "metadata": {
    "scrolled": true
   },
   "outputs": [
    {
     "data": {
      "text/html": [
       "<div>\n",
       "<style scoped>\n",
       "    .dataframe tbody tr th:only-of-type {\n",
       "        vertical-align: middle;\n",
       "    }\n",
       "\n",
       "    .dataframe tbody tr th {\n",
       "        vertical-align: top;\n",
       "    }\n",
       "\n",
       "    .dataframe thead th {\n",
       "        text-align: right;\n",
       "    }\n",
       "</style>\n",
       "<table border=\"1\" class=\"dataframe\">\n",
       "  <thead>\n",
       "    <tr style=\"text-align: right;\">\n",
       "      <th></th>\n",
       "      <th>주택소유상태</th>\n",
       "    </tr>\n",
       "  </thead>\n",
       "  <tbody>\n",
       "    <tr>\n",
       "      <th>RENT</th>\n",
       "      <td>37705</td>\n",
       "    </tr>\n",
       "    <tr>\n",
       "      <th>OWN</th>\n",
       "      <td>10654</td>\n",
       "    </tr>\n",
       "    <tr>\n",
       "      <th>MORTGAGE</th>\n",
       "      <td>47934</td>\n",
       "    </tr>\n",
       "    <tr>\n",
       "      <th>ANY</th>\n",
       "      <td>1</td>\n",
       "    </tr>\n",
       "  </tbody>\n",
       "</table>\n",
       "</div>"
      ],
      "text/plain": [
       "          주택소유상태\n",
       "RENT       37705\n",
       "OWN        10654\n",
       "MORTGAGE   47934\n",
       "ANY            1"
      ]
     },
     "execution_count": 13,
     "metadata": {},
     "output_type": "execute_result"
    }
   ],
   "source": [
    "discreie_count[1]"
   ]
  },
  {
   "cell_type": "markdown",
   "id": "2319c629",
   "metadata": {},
   "source": [
    "`-` 주택소유상태\n",
    "- MORTGAGE(저당)으로 인한 주택소유가 가장 많으면 약 50%의 pie를 차지함\n",
    "- RENT(전세)로 인한 주택소유는 약 40%로 2순위를 차지함\n",
    "- OWN(자가보유)는 약 11%이다"
   ]
  },
  {
   "cell_type": "markdown",
   "id": "7b125b67",
   "metadata": {},
   "source": [
    "---"
   ]
  },
  {
   "cell_type": "code",
   "execution_count": 14,
   "id": "267dabfb",
   "metadata": {},
   "outputs": [
    {
     "data": {
      "image/png": "[encoded data removed]",
      "text/plain": [
       "<Figure size 640x480 with 1 Axes>"
      ]
     },
     "metadata": {},
     "output_type": "display_data"
    }
   ],
   "source": [
    "plt.pie(lst2[2],autopct='%.1f%%');\n",
    "plt.title('대출목적')\n",
    "plt.legend(set_discrete[2])\n",
    "plt.show()"
   ]
  },
  {
   "cell_type": "code",
   "execution_count": 15,
   "id": "04a2f23d",
   "metadata": {},
   "outputs": [
    {
     "data": {
      "text/html": [
       "<div>\n",
       "<style scoped>\n",
       "    .dataframe tbody tr th:only-of-type {\n",
       "        vertical-align: middle;\n",
       "    }\n",
       "\n",
       "    .dataframe tbody tr th {\n",
       "        vertical-align: top;\n",
       "    }\n",
       "\n",
       "    .dataframe thead th {\n",
       "        text-align: right;\n",
       "    }\n",
       "</style>\n",
       "<table border=\"1\" class=\"dataframe\">\n",
       "  <thead>\n",
       "    <tr style=\"text-align: right;\">\n",
       "      <th></th>\n",
       "      <th>대출목적</th>\n",
       "    </tr>\n",
       "  </thead>\n",
       "  <tbody>\n",
       "    <tr>\n",
       "      <th>부채 통합</th>\n",
       "      <td>55150</td>\n",
       "    </tr>\n",
       "    <tr>\n",
       "      <th>신용 카드</th>\n",
       "      <td>24500</td>\n",
       "    </tr>\n",
       "    <tr>\n",
       "      <th>주택 개선</th>\n",
       "      <td>6160</td>\n",
       "    </tr>\n",
       "    <tr>\n",
       "      <th>기타</th>\n",
       "      <td>4725</td>\n",
       "    </tr>\n",
       "    <tr>\n",
       "      <th>주요 구매</th>\n",
       "      <td>1803</td>\n",
       "    </tr>\n",
       "    <tr>\n",
       "      <th>의료</th>\n",
       "      <td>1039</td>\n",
       "    </tr>\n",
       "    <tr>\n",
       "      <th>자동차</th>\n",
       "      <td>797</td>\n",
       "    </tr>\n",
       "    <tr>\n",
       "      <th>소규모 사업</th>\n",
       "      <td>787</td>\n",
       "    </tr>\n",
       "    <tr>\n",
       "      <th>이사</th>\n",
       "      <td>506</td>\n",
       "    </tr>\n",
       "    <tr>\n",
       "      <th>휴가</th>\n",
       "      <td>466</td>\n",
       "    </tr>\n",
       "    <tr>\n",
       "      <th>주택</th>\n",
       "      <td>301</td>\n",
       "    </tr>\n",
       "    <tr>\n",
       "      <th>재생 에너지</th>\n",
       "      <td>60</td>\n",
       "    </tr>\n",
       "  </tbody>\n",
       "</table>\n",
       "</div>"
      ],
      "text/plain": [
       "         대출목적\n",
       "부채 통합   55150\n",
       "신용 카드   24500\n",
       "주택 개선    6160\n",
       "기타       4725\n",
       "주요 구매    1803\n",
       "의료       1039\n",
       "자동차       797\n",
       "소규모 사업    787\n",
       "이사        506\n",
       "휴가        466\n",
       "주택        301\n",
       "재생 에너지     60"
      ]
     },
     "execution_count": 15,
     "metadata": {},
     "output_type": "execute_result"
    }
   ],
   "source": [
    "discreie_count[2].sort_values('대출목적',ascending=False)"
   ]
  },
  {
   "cell_type": "markdown",
   "id": "28ef31ae",
   "metadata": {},
   "source": [
    "`-` 대출목적\n",
    "- 부채통합이 압도적으로 많은 경우를 차지함\n",
    "- 신용 카드를 이용한 대출 거래가 그 뒤를 차지한다\n",
    "- 나머지 목적의 총 pie가 대략 18%를 차지함"
   ]
  },
  {
   "cell_type": "markdown",
   "id": "f88c428d",
   "metadata": {},
   "source": [
    "---"
   ]
  },
  {
   "cell_type": "code",
   "execution_count": 16,
   "id": "6661b714",
   "metadata": {},
   "outputs": [
    {
     "data": {
      "image/png": "[encoded data removed]",
      "text/plain": [
       "<Figure size 640x480 with 1 Axes>"
      ]
     },
     "metadata": {},
     "output_type": "display_data"
    }
   ],
   "source": [
    "plt.pie(lst2[3],labels=set_discrete[3],autopct='%.1f%%');\n",
    "plt.title('신용등급')\n",
    "plt.show()"
   ]
  },
  {
   "cell_type": "code",
   "execution_count": 17,
   "id": "5c9317bf",
   "metadata": {},
   "outputs": [
    {
     "data": {
      "text/html": [
       "<div>\n",
       "<style scoped>\n",
       "    .dataframe tbody tr th:only-of-type {\n",
       "        vertical-align: middle;\n",
       "    }\n",
       "\n",
       "    .dataframe tbody tr th {\n",
       "        vertical-align: top;\n",
       "    }\n",
       "\n",
       "    .dataframe thead th {\n",
       "        text-align: right;\n",
       "    }\n",
       "</style>\n",
       "<table border=\"1\" class=\"dataframe\">\n",
       "  <thead>\n",
       "    <tr style=\"text-align: right;\">\n",
       "      <th></th>\n",
       "      <th>대출등급</th>\n",
       "    </tr>\n",
       "  </thead>\n",
       "  <tbody>\n",
       "    <tr>\n",
       "      <th>B</th>\n",
       "      <td>28817</td>\n",
       "    </tr>\n",
       "    <tr>\n",
       "      <th>C</th>\n",
       "      <td>27623</td>\n",
       "    </tr>\n",
       "    <tr>\n",
       "      <th>A</th>\n",
       "      <td>16772</td>\n",
       "    </tr>\n",
       "    <tr>\n",
       "      <th>D</th>\n",
       "      <td>13354</td>\n",
       "    </tr>\n",
       "    <tr>\n",
       "      <th>E</th>\n",
       "      <td>7354</td>\n",
       "    </tr>\n",
       "    <tr>\n",
       "      <th>F</th>\n",
       "      <td>1954</td>\n",
       "    </tr>\n",
       "    <tr>\n",
       "      <th>G</th>\n",
       "      <td>420</td>\n",
       "    </tr>\n",
       "  </tbody>\n",
       "</table>\n",
       "</div>"
      ],
      "text/plain": [
       "    대출등급\n",
       "B  28817\n",
       "C  27623\n",
       "A  16772\n",
       "D  13354\n",
       "E   7354\n",
       "F   1954\n",
       "G    420"
      ]
     },
     "execution_count": 17,
     "metadata": {},
     "output_type": "execute_result"
    }
   ],
   "source": [
    "discreie_count[3].sort_values('대출등급',ascending=False)"
   ]
  },
  {
   "cell_type": "markdown",
   "id": "5db8184a",
   "metadata": {},
   "source": [
    "`-` 대출등급\n",
    "- B등급과 C등급이 근소한 차이로 1,2순위를 차지함\n",
    "- A,C,B 등급이 전체의 2/3를 넘게 차지한다"
   ]
  },
  {
   "cell_type": "markdown",
   "id": "5ffc6966",
   "metadata": {},
   "source": [
    "---"
   ]
  },
  {
   "cell_type": "code",
   "execution_count": 18,
   "id": "32624365",
   "metadata": {},
   "outputs": [
    {
     "data": {
      "image/png": "[encoded data removed]",
      "text/plain": [
       "<Figure size 640x480 with 1 Axes>"
      ]
     },
     "metadata": {},
     "output_type": "display_data"
    }
   ],
   "source": [
    "plt.pie(lst2[4],labels=set_discrete[4],autopct='%.1f%%');\n",
    "plt.title('근로기간')\n",
    "plt.show()"
   ]
  },
  {
   "cell_type": "code",
   "execution_count": 19,
   "id": "d6883446",
   "metadata": {},
   "outputs": [
    {
     "data": {
      "text/html": [
       "<div>\n",
       "<style scoped>\n",
       "    .dataframe tbody tr th:only-of-type {\n",
       "        vertical-align: middle;\n",
       "    }\n",
       "\n",
       "    .dataframe tbody tr th {\n",
       "        vertical-align: top;\n",
       "    }\n",
       "\n",
       "    .dataframe thead th {\n",
       "        text-align: right;\n",
       "    }\n",
       "</style>\n",
       "<table border=\"1\" class=\"dataframe\">\n",
       "  <thead>\n",
       "    <tr style=\"text-align: right;\">\n",
       "      <th></th>\n",
       "      <th>근로기간</th>\n",
       "    </tr>\n",
       "  </thead>\n",
       "  <tbody>\n",
       "    <tr>\n",
       "      <th>10+ years</th>\n",
       "      <td>31585</td>\n",
       "    </tr>\n",
       "    <tr>\n",
       "      <th>2 years</th>\n",
       "      <td>8450</td>\n",
       "    </tr>\n",
       "    <tr>\n",
       "      <th>&lt; 1 year</th>\n",
       "      <td>7774</td>\n",
       "    </tr>\n",
       "    <tr>\n",
       "      <th>3 years</th>\n",
       "      <td>7581</td>\n",
       "    </tr>\n",
       "    <tr>\n",
       "      <th>1 year</th>\n",
       "      <td>6249</td>\n",
       "    </tr>\n",
       "    <tr>\n",
       "      <th>Unknown</th>\n",
       "      <td>5671</td>\n",
       "    </tr>\n",
       "    <tr>\n",
       "      <th>5 years</th>\n",
       "      <td>5665</td>\n",
       "    </tr>\n",
       "    <tr>\n",
       "      <th>4 years</th>\n",
       "      <td>5588</td>\n",
       "    </tr>\n",
       "    <tr>\n",
       "      <th>8 years</th>\n",
       "      <td>4888</td>\n",
       "    </tr>\n",
       "    <tr>\n",
       "      <th>6 years</th>\n",
       "      <td>3874</td>\n",
       "    </tr>\n",
       "    <tr>\n",
       "      <th>7 years</th>\n",
       "      <td>3814</td>\n",
       "    </tr>\n",
       "    <tr>\n",
       "      <th>9 years</th>\n",
       "      <td>3744</td>\n",
       "    </tr>\n",
       "    <tr>\n",
       "      <th>10+years</th>\n",
       "      <td>896</td>\n",
       "    </tr>\n",
       "    <tr>\n",
       "      <th>&lt;1 year</th>\n",
       "      <td>370</td>\n",
       "    </tr>\n",
       "    <tr>\n",
       "      <th>3</th>\n",
       "      <td>89</td>\n",
       "    </tr>\n",
       "    <tr>\n",
       "      <th>1 years</th>\n",
       "      <td>56</td>\n",
       "    </tr>\n",
       "  </tbody>\n",
       "</table>\n",
       "</div>"
      ],
      "text/plain": [
       "            근로기간\n",
       "10+ years  31585\n",
       "2 years     8450\n",
       "< 1 year    7774\n",
       "3 years     7581\n",
       "1 year      6249\n",
       "Unknown     5671\n",
       "5 years     5665\n",
       "4 years     5588\n",
       "8 years     4888\n",
       "6 years     3874\n",
       "7 years     3814\n",
       "9 years     3744\n",
       "10+years     896\n",
       "<1 year      370\n",
       "3             89\n",
       "1 years       56"
      ]
     },
     "execution_count": 19,
     "metadata": {},
     "output_type": "execute_result"
    }
   ],
   "source": [
    "discreie_count[4].sort_values('근로기간',ascending=False)"
   ]
  },
  {
   "cell_type": "markdown",
   "id": "e4703f13",
   "metadata": {},
   "source": [
    "`-` 근로기간\n",
    "- 10년이상 장기 근로자의 비율이 매우 높다.\n",
    "- 그 오히려 2년 근로자가 많음\n",
    "- 근로 기간에 따라 비례하는 것은 아닌 것을 알 수 있다"
   ]
  },
  {
   "cell_type": "markdown",
   "id": "be111ced",
   "metadata": {},
   "source": [
    "---"
   ]
  },
  {
   "cell_type": "markdown",
   "id": "6651450d",
   "metadata": {},
   "source": [
    "# 데이터 가변수 설정"
   ]
  },
  {
   "cell_type": "code",
   "execution_count": 20,
   "id": "da1a7cfa",
   "metadata": {},
   "outputs": [
    {
     "data": {
      "text/html": [
       "<div>\n",
       "<style scoped>\n",
       "    .dataframe tbody tr th:only-of-type {\n",
       "        vertical-align: middle;\n",
       "    }\n",
       "\n",
       "    .dataframe tbody tr th {\n",
       "        vertical-align: top;\n",
       "    }\n",
       "\n",
       "    .dataframe thead th {\n",
       "        text-align: right;\n",
       "    }\n",
       "</style>\n",
       "<table border=\"1\" class=\"dataframe\">\n",
       "  <thead>\n",
       "    <tr style=\"text-align: right;\">\n",
       "      <th></th>\n",
       "      <th>대출기간</th>\n",
       "      <th>주택소유상태</th>\n",
       "      <th>대출목적</th>\n",
       "      <th>근로기간</th>\n",
       "    </tr>\n",
       "  </thead>\n",
       "  <tbody>\n",
       "    <tr>\n",
       "      <th>0</th>\n",
       "      <td>36 months</td>\n",
       "      <td>RENT</td>\n",
       "      <td>부채 통합</td>\n",
       "      <td>6 years</td>\n",
       "    </tr>\n",
       "    <tr>\n",
       "      <th>1</th>\n",
       "      <td>60 months</td>\n",
       "      <td>MORTGAGE</td>\n",
       "      <td>주택 개선</td>\n",
       "      <td>10+ years</td>\n",
       "    </tr>\n",
       "    <tr>\n",
       "      <th>2</th>\n",
       "      <td>36 months</td>\n",
       "      <td>MORTGAGE</td>\n",
       "      <td>부채 통합</td>\n",
       "      <td>5 years</td>\n",
       "    </tr>\n",
       "    <tr>\n",
       "      <th>3</th>\n",
       "      <td>36 months</td>\n",
       "      <td>MORTGAGE</td>\n",
       "      <td>부채 통합</td>\n",
       "      <td>8 years</td>\n",
       "    </tr>\n",
       "    <tr>\n",
       "      <th>4</th>\n",
       "      <td>60 months</td>\n",
       "      <td>RENT</td>\n",
       "      <td>주요 구매</td>\n",
       "      <td>Unknown</td>\n",
       "    </tr>\n",
       "  </tbody>\n",
       "</table>\n",
       "</div>"
      ],
      "text/plain": [
       "         대출기간    주택소유상태   대출목적       근로기간\n",
       "0   36 months      RENT  부채 통합    6 years\n",
       "1   60 months  MORTGAGE  주택 개선  10+ years\n",
       "2   36 months  MORTGAGE  부채 통합    5 years\n",
       "3   36 months  MORTGAGE  부채 통합    8 years\n",
       "4   60 months      RENT  주요 구매    Unknown"
      ]
     },
     "execution_count": 20,
     "metadata": {},
     "output_type": "execute_result"
    }
   ],
   "source": [
    "discrete.remove('대출등급')\n",
    "df_discrete.iloc[:,[0,1,2,4]].head() # y label remove"
   ]
  },
  {
   "cell_type": "code",
   "execution_count": 21,
   "id": "6e229ec9",
   "metadata": {
    "scrolled": true
   },
   "outputs": [
    {
     "data": {
      "text/html": [
       "<div>\n",
       "<style scoped>\n",
       "    .dataframe tbody tr th:only-of-type {\n",
       "        vertical-align: middle;\n",
       "    }\n",
       "\n",
       "    .dataframe tbody tr th {\n",
       "        vertical-align: top;\n",
       "    }\n",
       "\n",
       "    .dataframe thead th {\n",
       "        text-align: right;\n",
       "    }\n",
       "</style>\n",
       "<table border=\"1\" class=\"dataframe\">\n",
       "  <thead>\n",
       "    <tr style=\"text-align: right;\">\n",
       "      <th></th>\n",
       "      <th>36 months</th>\n",
       "      <th>60 months</th>\n",
       "      <th>ANY</th>\n",
       "      <th>MORTGAGE</th>\n",
       "      <th>OWN</th>\n",
       "      <th>RENT</th>\n",
       "      <th>기타</th>\n",
       "      <th>부채 통합</th>\n",
       "      <th>소규모 사업</th>\n",
       "      <th>신용 카드</th>\n",
       "      <th>...</th>\n",
       "      <th>4 years</th>\n",
       "      <th>5 years</th>\n",
       "      <th>6 years</th>\n",
       "      <th>7 years</th>\n",
       "      <th>8 years</th>\n",
       "      <th>9 years</th>\n",
       "      <th>&lt; 1 year</th>\n",
       "      <th>&lt;1 year</th>\n",
       "      <th>Unknown</th>\n",
       "      <th>대출등급</th>\n",
       "    </tr>\n",
       "  </thead>\n",
       "  <tbody>\n",
       "    <tr>\n",
       "      <th>0</th>\n",
       "      <td>1</td>\n",
       "      <td>0</td>\n",
       "      <td>0</td>\n",
       "      <td>0</td>\n",
       "      <td>0</td>\n",
       "      <td>1</td>\n",
       "      <td>0</td>\n",
       "      <td>1</td>\n",
       "      <td>0</td>\n",
       "      <td>0</td>\n",
       "      <td>...</td>\n",
       "      <td>0</td>\n",
       "      <td>0</td>\n",
       "      <td>1</td>\n",
       "      <td>0</td>\n",
       "      <td>0</td>\n",
       "      <td>0</td>\n",
       "      <td>0</td>\n",
       "      <td>0</td>\n",
       "      <td>0</td>\n",
       "      <td>C</td>\n",
       "    </tr>\n",
       "    <tr>\n",
       "      <th>1</th>\n",
       "      <td>0</td>\n",
       "      <td>1</td>\n",
       "      <td>0</td>\n",
       "      <td>1</td>\n",
       "      <td>0</td>\n",
       "      <td>0</td>\n",
       "      <td>0</td>\n",
       "      <td>0</td>\n",
       "      <td>0</td>\n",
       "      <td>0</td>\n",
       "      <td>...</td>\n",
       "      <td>0</td>\n",
       "      <td>0</td>\n",
       "      <td>0</td>\n",
       "      <td>0</td>\n",
       "      <td>0</td>\n",
       "      <td>0</td>\n",
       "      <td>0</td>\n",
       "      <td>0</td>\n",
       "      <td>0</td>\n",
       "      <td>B</td>\n",
       "    </tr>\n",
       "    <tr>\n",
       "      <th>2</th>\n",
       "      <td>1</td>\n",
       "      <td>0</td>\n",
       "      <td>0</td>\n",
       "      <td>1</td>\n",
       "      <td>0</td>\n",
       "      <td>0</td>\n",
       "      <td>0</td>\n",
       "      <td>1</td>\n",
       "      <td>0</td>\n",
       "      <td>0</td>\n",
       "      <td>...</td>\n",
       "      <td>0</td>\n",
       "      <td>1</td>\n",
       "      <td>0</td>\n",
       "      <td>0</td>\n",
       "      <td>0</td>\n",
       "      <td>0</td>\n",
       "      <td>0</td>\n",
       "      <td>0</td>\n",
       "      <td>0</td>\n",
       "      <td>A</td>\n",
       "    </tr>\n",
       "    <tr>\n",
       "      <th>3</th>\n",
       "      <td>1</td>\n",
       "      <td>0</td>\n",
       "      <td>0</td>\n",
       "      <td>1</td>\n",
       "      <td>0</td>\n",
       "      <td>0</td>\n",
       "      <td>0</td>\n",
       "      <td>1</td>\n",
       "      <td>0</td>\n",
       "      <td>0</td>\n",
       "      <td>...</td>\n",
       "      <td>0</td>\n",
       "      <td>0</td>\n",
       "      <td>0</td>\n",
       "      <td>0</td>\n",
       "      <td>1</td>\n",
       "      <td>0</td>\n",
       "      <td>0</td>\n",
       "      <td>0</td>\n",
       "      <td>0</td>\n",
       "      <td>C</td>\n",
       "    </tr>\n",
       "    <tr>\n",
       "      <th>4</th>\n",
       "      <td>0</td>\n",
       "      <td>1</td>\n",
       "      <td>0</td>\n",
       "      <td>0</td>\n",
       "      <td>0</td>\n",
       "      <td>1</td>\n",
       "      <td>0</td>\n",
       "      <td>0</td>\n",
       "      <td>0</td>\n",
       "      <td>0</td>\n",
       "      <td>...</td>\n",
       "      <td>0</td>\n",
       "      <td>0</td>\n",
       "      <td>0</td>\n",
       "      <td>0</td>\n",
       "      <td>0</td>\n",
       "      <td>0</td>\n",
       "      <td>0</td>\n",
       "      <td>0</td>\n",
       "      <td>1</td>\n",
       "      <td>B</td>\n",
       "    </tr>\n",
       "  </tbody>\n",
       "</table>\n",
       "<p>5 rows × 35 columns</p>\n",
       "</div>"
      ],
      "text/plain": [
       "    36 months   60 months  ANY  MORTGAGE  OWN  RENT  기타  부채 통합  소규모 사업  신용 카드  \\\n",
       "0           1           0    0         0    0     1   0      1       0      0   \n",
       "1           0           1    0         1    0     0   0      0       0      0   \n",
       "2           1           0    0         1    0     0   0      1       0      0   \n",
       "3           1           0    0         1    0     0   0      1       0      0   \n",
       "4           0           1    0         0    0     1   0      0       0      0   \n",
       "\n",
       "   ...  4 years  5 years  6 years  7 years  8 years  9 years  < 1 year  \\\n",
       "0  ...        0        0        1        0        0        0         0   \n",
       "1  ...        0        0        0        0        0        0         0   \n",
       "2  ...        0        1        0        0        0        0         0   \n",
       "3  ...        0        0        0        0        1        0         0   \n",
       "4  ...        0        0        0        0        0        0         0   \n",
       "\n",
       "   <1 year  Unknown  대출등급  \n",
       "0        0        0     C  \n",
       "1        0        0     B  \n",
       "2        0        0     A  \n",
       "3        0        0     C  \n",
       "4        0        1     B  \n",
       "\n",
       "[5 rows x 35 columns]"
      ]
     },
     "execution_count": 21,
     "metadata": {},
     "output_type": "execute_result"
    }
   ],
   "source": [
    "\n",
    "df_dummy= [pd.get_dummies(df_discrete[discrete[i]]) for i in range(len(discrete))]\n",
    "\n",
    "df_dummy = pd.concat([df_dummy[i] for i in range(len(df_dummy))],axis=1)\n",
    "\n",
    "df_dummy = pd.concat([df_dummy,df_discrete.iloc[:,[3]]],axis=1)\n",
    "df_dummy.head()"
   ]
  },
  {
   "cell_type": "markdown",
   "id": "bfc02bed",
   "metadata": {},
   "source": [
    "---"
   ]
  },
  {
   "cell_type": "markdown",
   "id": "dc162a97",
   "metadata": {},
   "source": [
    "# 대출기간에 따른 이산형 변수의 분포"
   ]
  },
  {
   "cell_type": "code",
   "execution_count": 23,
   "id": "48efa367",
   "metadata": {},
   "outputs": [
    {
     "data": {
      "image/png": "[encoded data removed]",
      "text/plain": [
       "<Figure size 640x480 with 1 Axes>"
      ]
     },
     "metadata": {},
     "output_type": "display_data"
    }
   ],
   "source": [
    "plt.boxplot(x=df_dummy.groupby('대출등급').sum().iloc[:,0:2]);\n",
    "plt.title('대출기간')\n",
    "plt.xticks(range(1,len(set_discrete[0])+1),df_dummy.groupby('대출등급').sum().iloc[:,0:2].columns.values)\n",
    "plt.show()"
   ]
  },
  {
   "cell_type": "code",
   "execution_count": 30,
   "id": "e0ced8fd",
   "metadata": {},
   "outputs": [
    {
     "data": {
      "text/html": [
       "<div>\n",
       "<style scoped>\n",
       "    .dataframe tbody tr th:only-of-type {\n",
       "        vertical-align: middle;\n",
       "    }\n",
       "\n",
       "    .dataframe tbody tr th {\n",
       "        vertical-align: top;\n",
       "    }\n",
       "\n",
       "    .dataframe thead th {\n",
       "        text-align: right;\n",
       "    }\n",
       "</style>\n",
       "<table border=\"1\" class=\"dataframe\">\n",
       "  <thead>\n",
       "    <tr style=\"text-align: right;\">\n",
       "      <th></th>\n",
       "      <th>36 months</th>\n",
       "      <th>60 months</th>\n",
       "    </tr>\n",
       "    <tr>\n",
       "      <th>대출등급</th>\n",
       "      <th></th>\n",
       "      <th></th>\n",
       "    </tr>\n",
       "  </thead>\n",
       "  <tbody>\n",
       "    <tr>\n",
       "      <th>A</th>\n",
       "      <td>15952</td>\n",
       "      <td>820</td>\n",
       "    </tr>\n",
       "    <tr>\n",
       "      <th>B</th>\n",
       "      <td>22883</td>\n",
       "      <td>5934</td>\n",
       "    </tr>\n",
       "    <tr>\n",
       "      <th>C</th>\n",
       "      <td>16935</td>\n",
       "      <td>10688</td>\n",
       "    </tr>\n",
       "    <tr>\n",
       "      <th>D</th>\n",
       "      <td>6485</td>\n",
       "      <td>6869</td>\n",
       "    </tr>\n",
       "    <tr>\n",
       "      <th>E</th>\n",
       "      <td>1895</td>\n",
       "      <td>5459</td>\n",
       "    </tr>\n",
       "    <tr>\n",
       "      <th>F</th>\n",
       "      <td>270</td>\n",
       "      <td>1684</td>\n",
       "    </tr>\n",
       "    <tr>\n",
       "      <th>G</th>\n",
       "      <td>59</td>\n",
       "      <td>361</td>\n",
       "    </tr>\n",
       "  </tbody>\n",
       "</table>\n",
       "</div>"
      ],
      "text/plain": [
       "       36 months   60 months\n",
       "대출등급                        \n",
       "A          15952         820\n",
       "B          22883        5934\n",
       "C          16935       10688\n",
       "D           6485        6869\n",
       "E           1895        5459\n",
       "F            270        1684\n",
       "G             59         361"
      ]
     },
     "execution_count": 30,
     "metadata": {},
     "output_type": "execute_result"
    }
   ],
   "source": [
    "df_dummy.groupby('대출등급').sum().iloc[:,0:2]"
   ]
  },
  {
   "cell_type": "markdown",
   "id": "92abc11d",
   "metadata": {},
   "source": [
    "- 비교적 단기인 36개월 대출 고객의 등급이 60개월 대출 고객의 등급보다 높게 이루어져 있음"
   ]
  },
  {
   "cell_type": "markdown",
   "id": "b3e191af",
   "metadata": {},
   "source": [
    "---"
   ]
  },
  {
   "cell_type": "code",
   "execution_count": 24,
   "id": "f87793a6",
   "metadata": {},
   "outputs": [
    {
     "data": {
      "image/png": "[encoded data removed]",
      "text/plain": [
       "<Figure size 640x480 with 1 Axes>"
      ]
     },
     "metadata": {},
     "output_type": "display_data"
    }
   ],
   "source": [
    "\n",
    "plt.boxplot(x=df_dummy.groupby('대출등급').sum().iloc[:,2:6]);\n",
    "plt.title('주택보유')\n",
    "plt.xticks(range(1,len(set_discrete[1])+1),df_dummy.groupby('대출등급').sum().iloc[:,2:6].columns.values)\n",
    "plt.show()"
   ]
  },
  {
   "cell_type": "code",
   "execution_count": 25,
   "id": "2485056f",
   "metadata": {
    "scrolled": true
   },
   "outputs": [
    {
     "data": {
      "text/html": [
       "<div>\n",
       "<style scoped>\n",
       "    .dataframe tbody tr th:only-of-type {\n",
       "        vertical-align: middle;\n",
       "    }\n",
       "\n",
       "    .dataframe tbody tr th {\n",
       "        vertical-align: top;\n",
       "    }\n",
       "\n",
       "    .dataframe thead th {\n",
       "        text-align: right;\n",
       "    }\n",
       "</style>\n",
       "<table border=\"1\" class=\"dataframe\">\n",
       "  <thead>\n",
       "    <tr style=\"text-align: right;\">\n",
       "      <th></th>\n",
       "      <th>ANY</th>\n",
       "      <th>MORTGAGE</th>\n",
       "      <th>OWN</th>\n",
       "      <th>RENT</th>\n",
       "    </tr>\n",
       "    <tr>\n",
       "      <th>대출등급</th>\n",
       "      <th></th>\n",
       "      <th></th>\n",
       "      <th></th>\n",
       "      <th></th>\n",
       "    </tr>\n",
       "  </thead>\n",
       "  <tbody>\n",
       "    <tr>\n",
       "      <th>A</th>\n",
       "      <td>0</td>\n",
       "      <td>9640</td>\n",
       "      <td>1864</td>\n",
       "      <td>5268</td>\n",
       "    </tr>\n",
       "    <tr>\n",
       "      <th>B</th>\n",
       "      <td>0</td>\n",
       "      <td>14518</td>\n",
       "      <td>3099</td>\n",
       "      <td>11200</td>\n",
       "    </tr>\n",
       "    <tr>\n",
       "      <th>C</th>\n",
       "      <td>1</td>\n",
       "      <td>13106</td>\n",
       "      <td>3038</td>\n",
       "      <td>11478</td>\n",
       "    </tr>\n",
       "    <tr>\n",
       "      <th>D</th>\n",
       "      <td>0</td>\n",
       "      <td>6163</td>\n",
       "      <td>1538</td>\n",
       "      <td>5653</td>\n",
       "    </tr>\n",
       "    <tr>\n",
       "      <th>E</th>\n",
       "      <td>0</td>\n",
       "      <td>3452</td>\n",
       "      <td>846</td>\n",
       "      <td>3056</td>\n",
       "    </tr>\n",
       "    <tr>\n",
       "      <th>F</th>\n",
       "      <td>0</td>\n",
       "      <td>883</td>\n",
       "      <td>216</td>\n",
       "      <td>855</td>\n",
       "    </tr>\n",
       "    <tr>\n",
       "      <th>G</th>\n",
       "      <td>0</td>\n",
       "      <td>172</td>\n",
       "      <td>53</td>\n",
       "      <td>195</td>\n",
       "    </tr>\n",
       "  </tbody>\n",
       "</table>\n",
       "</div>"
      ],
      "text/plain": [
       "      ANY  MORTGAGE   OWN   RENT\n",
       "대출등급                            \n",
       "A       0      9640  1864   5268\n",
       "B       0     14518  3099  11200\n",
       "C       1     13106  3038  11478\n",
       "D       0      6163  1538   5653\n",
       "E       0      3452   846   3056\n",
       "F       0       883   216    855\n",
       "G       0       172    53    195"
      ]
     },
     "execution_count": 25,
     "metadata": {},
     "output_type": "execute_result"
    }
   ],
   "source": [
    "df_dummy.groupby('대출등급').sum().iloc[:,2:6]"
   ]
  },
  {
   "cell_type": "markdown",
   "id": "baee4c90",
   "metadata": {},
   "source": [
    "- 저당, 자가보유, 전세 전부 B,C 등급에 많이 포진되어있다."
   ]
  },
  {
   "cell_type": "markdown",
   "id": "5f11f376",
   "metadata": {},
   "source": [
    "\n",
    "---"
   ]
  },
  {
   "cell_type": "code",
   "execution_count": 26,
   "id": "0549c729",
   "metadata": {
    "scrolled": true
   },
   "outputs": [
    {
     "data": {
      "image/png": "[encoded data removed]",
      "text/plain": [
       "<Figure size 640x480 with 1 Axes>"
      ]
     },
     "metadata": {},
     "output_type": "display_data"
    }
   ],
   "source": [
    "plt.boxplot(x=df_dummy.groupby('대출등급').sum().iloc[:,6:18]);\n",
    "plt.title('대출목적')\n",
    "plt.xticks(range(1,len(set_discrete[2])+1),df_dummy.groupby('대출등급').sum().iloc[:,6:18].columns.values, rotation=30)\n",
    "plt.show()"
   ]
  },
  {
   "cell_type": "code",
   "execution_count": 27,
   "id": "e6b7dc3e",
   "metadata": {
    "scrolled": false
   },
   "outputs": [
    {
     "data": {
      "text/html": [
       "<div>\n",
       "<style scoped>\n",
       "    .dataframe tbody tr th:only-of-type {\n",
       "        vertical-align: middle;\n",
       "    }\n",
       "\n",
       "    .dataframe tbody tr th {\n",
       "        vertical-align: top;\n",
       "    }\n",
       "\n",
       "    .dataframe thead th {\n",
       "        text-align: right;\n",
       "    }\n",
       "</style>\n",
       "<table border=\"1\" class=\"dataframe\">\n",
       "  <thead>\n",
       "    <tr style=\"text-align: right;\">\n",
       "      <th></th>\n",
       "      <th>기타</th>\n",
       "      <th>부채 통합</th>\n",
       "      <th>소규모 사업</th>\n",
       "      <th>신용 카드</th>\n",
       "      <th>의료</th>\n",
       "      <th>이사</th>\n",
       "      <th>자동차</th>\n",
       "      <th>재생 에너지</th>\n",
       "      <th>주요 구매</th>\n",
       "      <th>주택</th>\n",
       "      <th>주택 개선</th>\n",
       "      <th>휴가</th>\n",
       "    </tr>\n",
       "    <tr>\n",
       "      <th>대출등급</th>\n",
       "      <th></th>\n",
       "      <th></th>\n",
       "      <th></th>\n",
       "      <th></th>\n",
       "      <th></th>\n",
       "      <th></th>\n",
       "      <th></th>\n",
       "      <th></th>\n",
       "      <th></th>\n",
       "      <th></th>\n",
       "      <th></th>\n",
       "      <th></th>\n",
       "    </tr>\n",
       "  </thead>\n",
       "  <tbody>\n",
       "    <tr>\n",
       "      <th>A</th>\n",
       "      <td>356</td>\n",
       "      <td>8036</td>\n",
       "      <td>19</td>\n",
       "      <td>6424</td>\n",
       "      <td>104</td>\n",
       "      <td>13</td>\n",
       "      <td>174</td>\n",
       "      <td>1</td>\n",
       "      <td>372</td>\n",
       "      <td>8</td>\n",
       "      <td>1225</td>\n",
       "      <td>40</td>\n",
       "    </tr>\n",
       "    <tr>\n",
       "      <th>B</th>\n",
       "      <td>1080</td>\n",
       "      <td>15680</td>\n",
       "      <td>75</td>\n",
       "      <td>8917</td>\n",
       "      <td>238</td>\n",
       "      <td>86</td>\n",
       "      <td>258</td>\n",
       "      <td>4</td>\n",
       "      <td>479</td>\n",
       "      <td>36</td>\n",
       "      <td>1845</td>\n",
       "      <td>119</td>\n",
       "    </tr>\n",
       "    <tr>\n",
       "      <th>C</th>\n",
       "      <td>1705</td>\n",
       "      <td>16349</td>\n",
       "      <td>249</td>\n",
       "      <td>6036</td>\n",
       "      <td>375</td>\n",
       "      <td>203</td>\n",
       "      <td>213</td>\n",
       "      <td>20</td>\n",
       "      <td>503</td>\n",
       "      <td>85</td>\n",
       "      <td>1689</td>\n",
       "      <td>196</td>\n",
       "    </tr>\n",
       "    <tr>\n",
       "      <th>D</th>\n",
       "      <td>916</td>\n",
       "      <td>8529</td>\n",
       "      <td>192</td>\n",
       "      <td>2092</td>\n",
       "      <td>197</td>\n",
       "      <td>131</td>\n",
       "      <td>87</td>\n",
       "      <td>21</td>\n",
       "      <td>238</td>\n",
       "      <td>68</td>\n",
       "      <td>805</td>\n",
       "      <td>78</td>\n",
       "    </tr>\n",
       "    <tr>\n",
       "      <th>E</th>\n",
       "      <td>478</td>\n",
       "      <td>4979</td>\n",
       "      <td>158</td>\n",
       "      <td>877</td>\n",
       "      <td>91</td>\n",
       "      <td>50</td>\n",
       "      <td>46</td>\n",
       "      <td>10</td>\n",
       "      <td>150</td>\n",
       "      <td>63</td>\n",
       "      <td>425</td>\n",
       "      <td>27</td>\n",
       "    </tr>\n",
       "    <tr>\n",
       "      <th>F</th>\n",
       "      <td>147</td>\n",
       "      <td>1311</td>\n",
       "      <td>64</td>\n",
       "      <td>137</td>\n",
       "      <td>27</td>\n",
       "      <td>18</td>\n",
       "      <td>15</td>\n",
       "      <td>4</td>\n",
       "      <td>53</td>\n",
       "      <td>29</td>\n",
       "      <td>145</td>\n",
       "      <td>4</td>\n",
       "    </tr>\n",
       "    <tr>\n",
       "      <th>G</th>\n",
       "      <td>43</td>\n",
       "      <td>266</td>\n",
       "      <td>30</td>\n",
       "      <td>17</td>\n",
       "      <td>7</td>\n",
       "      <td>5</td>\n",
       "      <td>4</td>\n",
       "      <td>0</td>\n",
       "      <td>8</td>\n",
       "      <td>12</td>\n",
       "      <td>26</td>\n",
       "      <td>2</td>\n",
       "    </tr>\n",
       "  </tbody>\n",
       "</table>\n",
       "</div>"
      ],
      "text/plain": [
       "        기타  부채 통합  소규모 사업  신용 카드   의료   이사  자동차  재생 에너지  주요 구매  주택  주택 개선   휴가\n",
       "대출등급                                                                          \n",
       "A      356   8036      19   6424  104   13  174       1    372   8   1225   40\n",
       "B     1080  15680      75   8917  238   86  258       4    479  36   1845  119\n",
       "C     1705  16349     249   6036  375  203  213      20    503  85   1689  196\n",
       "D      916   8529     192   2092  197  131   87      21    238  68    805   78\n",
       "E      478   4979     158    877   91   50   46      10    150  63    425   27\n",
       "F      147   1311      64    137   27   18   15       4     53  29    145    4\n",
       "G       43    266      30     17    7    5    4       0      8  12     26    2"
      ]
     },
     "execution_count": 27,
     "metadata": {},
     "output_type": "execute_result"
    }
   ],
   "source": [
    "df_dummy.groupby('대출등급').sum().iloc[:,6:18]"
   ]
  },
  {
   "cell_type": "markdown",
   "id": "236e98fe",
   "metadata": {},
   "source": [
    "---"
   ]
  },
  {
   "cell_type": "code",
   "execution_count": 28,
   "id": "4b265790",
   "metadata": {},
   "outputs": [
    {
     "data": {
      "image/png": "[encoded data removed]",
      "text/plain": [
       "<Figure size 640x480 with 1 Axes>"
      ]
     },
     "metadata": {},
     "output_type": "display_data"
    }
   ],
   "source": [
    "df_dummy.groupby('대출등급').sum().iloc[:,18:36]\n",
    "plt.boxplot(x=df_dummy.groupby('대출등급').sum().iloc[:,18:36]);\n",
    "plt.title('근로기간')\n",
    "plt.xticks(range(1,len(set_discrete[4])+1),df_dummy.groupby('대출등급').sum().iloc[:,18:36].columns.values, rotation=30)\n",
    "plt.show()"
   ]
  },
  {
   "cell_type": "code",
   "execution_count": 29,
   "id": "74be9a76",
   "metadata": {},
   "outputs": [
    {
     "data": {
      "text/html": [
       "<div>\n",
       "<style scoped>\n",
       "    .dataframe tbody tr th:only-of-type {\n",
       "        vertical-align: middle;\n",
       "    }\n",
       "\n",
       "    .dataframe tbody tr th {\n",
       "        vertical-align: top;\n",
       "    }\n",
       "\n",
       "    .dataframe thead th {\n",
       "        text-align: right;\n",
       "    }\n",
       "</style>\n",
       "<table border=\"1\" class=\"dataframe\">\n",
       "  <thead>\n",
       "    <tr style=\"text-align: right;\">\n",
       "      <th></th>\n",
       "      <th>1 year</th>\n",
       "      <th>1 years</th>\n",
       "      <th>10+ years</th>\n",
       "      <th>10+years</th>\n",
       "      <th>2 years</th>\n",
       "      <th>3</th>\n",
       "      <th>3 years</th>\n",
       "      <th>4 years</th>\n",
       "      <th>5 years</th>\n",
       "      <th>6 years</th>\n",
       "      <th>7 years</th>\n",
       "      <th>8 years</th>\n",
       "      <th>9 years</th>\n",
       "      <th>&lt; 1 year</th>\n",
       "      <th>&lt;1 year</th>\n",
       "      <th>Unknown</th>\n",
       "    </tr>\n",
       "    <tr>\n",
       "      <th>대출등급</th>\n",
       "      <th></th>\n",
       "      <th></th>\n",
       "      <th></th>\n",
       "      <th></th>\n",
       "      <th></th>\n",
       "      <th></th>\n",
       "      <th></th>\n",
       "      <th></th>\n",
       "      <th></th>\n",
       "      <th></th>\n",
       "      <th></th>\n",
       "      <th></th>\n",
       "      <th></th>\n",
       "      <th></th>\n",
       "      <th></th>\n",
       "      <th></th>\n",
       "    </tr>\n",
       "  </thead>\n",
       "  <tbody>\n",
       "    <tr>\n",
       "      <th>A</th>\n",
       "      <td>1025</td>\n",
       "      <td>6</td>\n",
       "      <td>5872</td>\n",
       "      <td>137</td>\n",
       "      <td>1454</td>\n",
       "      <td>20</td>\n",
       "      <td>1295</td>\n",
       "      <td>969</td>\n",
       "      <td>986</td>\n",
       "      <td>650</td>\n",
       "      <td>619</td>\n",
       "      <td>867</td>\n",
       "      <td>621</td>\n",
       "      <td>1262</td>\n",
       "      <td>55</td>\n",
       "      <td>934</td>\n",
       "    </tr>\n",
       "    <tr>\n",
       "      <th>B</th>\n",
       "      <td>1845</td>\n",
       "      <td>22</td>\n",
       "      <td>9554</td>\n",
       "      <td>311</td>\n",
       "      <td>2493</td>\n",
       "      <td>32</td>\n",
       "      <td>2270</td>\n",
       "      <td>1659</td>\n",
       "      <td>1679</td>\n",
       "      <td>1157</td>\n",
       "      <td>1138</td>\n",
       "      <td>1417</td>\n",
       "      <td>1137</td>\n",
       "      <td>2261</td>\n",
       "      <td>100</td>\n",
       "      <td>1742</td>\n",
       "    </tr>\n",
       "    <tr>\n",
       "      <th>C</th>\n",
       "      <td>1845</td>\n",
       "      <td>15</td>\n",
       "      <td>8882</td>\n",
       "      <td>223</td>\n",
       "      <td>2495</td>\n",
       "      <td>16</td>\n",
       "      <td>2209</td>\n",
       "      <td>1577</td>\n",
       "      <td>1646</td>\n",
       "      <td>1124</td>\n",
       "      <td>1103</td>\n",
       "      <td>1364</td>\n",
       "      <td>1049</td>\n",
       "      <td>2326</td>\n",
       "      <td>121</td>\n",
       "      <td>1628</td>\n",
       "    </tr>\n",
       "    <tr>\n",
       "      <th>D</th>\n",
       "      <td>919</td>\n",
       "      <td>8</td>\n",
       "      <td>4262</td>\n",
       "      <td>123</td>\n",
       "      <td>1107</td>\n",
       "      <td>13</td>\n",
       "      <td>1015</td>\n",
       "      <td>796</td>\n",
       "      <td>736</td>\n",
       "      <td>543</td>\n",
       "      <td>535</td>\n",
       "      <td>707</td>\n",
       "      <td>545</td>\n",
       "      <td>1115</td>\n",
       "      <td>58</td>\n",
       "      <td>872</td>\n",
       "    </tr>\n",
       "    <tr>\n",
       "      <th>E</th>\n",
       "      <td>478</td>\n",
       "      <td>3</td>\n",
       "      <td>2254</td>\n",
       "      <td>77</td>\n",
       "      <td>695</td>\n",
       "      <td>4</td>\n",
       "      <td>604</td>\n",
       "      <td>440</td>\n",
       "      <td>475</td>\n",
       "      <td>296</td>\n",
       "      <td>318</td>\n",
       "      <td>385</td>\n",
       "      <td>289</td>\n",
       "      <td>629</td>\n",
       "      <td>29</td>\n",
       "      <td>378</td>\n",
       "    </tr>\n",
       "    <tr>\n",
       "      <th>F</th>\n",
       "      <td>109</td>\n",
       "      <td>1</td>\n",
       "      <td>627</td>\n",
       "      <td>22</td>\n",
       "      <td>170</td>\n",
       "      <td>4</td>\n",
       "      <td>149</td>\n",
       "      <td>122</td>\n",
       "      <td>119</td>\n",
       "      <td>85</td>\n",
       "      <td>79</td>\n",
       "      <td>128</td>\n",
       "      <td>85</td>\n",
       "      <td>156</td>\n",
       "      <td>6</td>\n",
       "      <td>92</td>\n",
       "    </tr>\n",
       "    <tr>\n",
       "      <th>G</th>\n",
       "      <td>28</td>\n",
       "      <td>1</td>\n",
       "      <td>134</td>\n",
       "      <td>3</td>\n",
       "      <td>36</td>\n",
       "      <td>0</td>\n",
       "      <td>39</td>\n",
       "      <td>25</td>\n",
       "      <td>24</td>\n",
       "      <td>19</td>\n",
       "      <td>22</td>\n",
       "      <td>20</td>\n",
       "      <td>18</td>\n",
       "      <td>25</td>\n",
       "      <td>1</td>\n",
       "      <td>25</td>\n",
       "    </tr>\n",
       "  </tbody>\n",
       "</table>\n",
       "</div>"
      ],
      "text/plain": [
       "      1 year  1 years  10+ years  10+years  2 years   3  3 years  4 years  \\\n",
       "대출등급                                                                        \n",
       "A       1025        6       5872       137     1454  20     1295      969   \n",
       "B       1845       22       9554       311     2493  32     2270     1659   \n",
       "C       1845       15       8882       223     2495  16     2209     1577   \n",
       "D        919        8       4262       123     1107  13     1015      796   \n",
       "E        478        3       2254        77      695   4      604      440   \n",
       "F        109        1        627        22      170   4      149      122   \n",
       "G         28        1        134         3       36   0       39       25   \n",
       "\n",
       "      5 years  6 years  7 years  8 years  9 years  < 1 year  <1 year  Unknown  \n",
       "대출등급                                                                           \n",
       "A         986      650      619      867      621      1262       55      934  \n",
       "B        1679     1157     1138     1417     1137      2261      100     1742  \n",
       "C        1646     1124     1103     1364     1049      2326      121     1628  \n",
       "D         736      543      535      707      545      1115       58      872  \n",
       "E         475      296      318      385      289       629       29      378  \n",
       "F         119       85       79      128       85       156        6       92  \n",
       "G          24       19       22       20       18        25        1       25  "
      ]
     },
     "execution_count": 29,
     "metadata": {},
     "output_type": "execute_result"
    }
   ],
   "source": [
    "df_dummy.groupby('대출등급').sum().iloc[:,18:36]"
   ]
  },
  {
   "cell_type": "markdown",
   "id": "c3d2d307",
   "metadata": {},
   "source": [
    "---"
   ]
  },
  {
   "cell_type": "markdown",
   "id": "7f619ffd",
   "metadata": {},
   "source": [
    "# 연속형 변수"
   ]
  },
  {
   "cell_type": "markdown",
   "id": "e2931e12",
   "metadata": {},
   "source": [
    "`-` Continuous data"
   ]
  },
  {
   "cell_type": "code",
   "execution_count": 92,
   "id": "0c7da100",
   "metadata": {
    "scrolled": false
   },
   "outputs": [
    {
     "data": {
      "text/plain": [
       "['ID',\n",
       " '대출금액',\n",
       " '연간소득',\n",
       " '부채_대비_소득_비율',\n",
       " '총계좌수',\n",
       " '최근_2년간_연체_횟수',\n",
       " '총상환원금',\n",
       " '총상환이자',\n",
       " '총연체금액',\n",
       " '연체계좌수',\n",
       " '대출등급']"
      ]
     },
     "execution_count": 92,
     "metadata": {},
     "output_type": "execute_result"
    }
   ],
   "source": [
    "continuous = df.columns.values.tolist()\n",
    "[continuous.remove(discrete[i]) for i in range(len(discrete))]\n",
    "continuous"
   ]
  },
  {
   "cell_type": "code",
   "execution_count": 106,
   "id": "1ffbaa79",
   "metadata": {
    "scrolled": true
   },
   "outputs": [
    {
     "data": {
      "text/html": [
       "<div>\n",
       "<style scoped>\n",
       "    .dataframe tbody tr th:only-of-type {\n",
       "        vertical-align: middle;\n",
       "    }\n",
       "\n",
       "    .dataframe tbody tr th {\n",
       "        vertical-align: top;\n",
       "    }\n",
       "\n",
       "    .dataframe thead th {\n",
       "        text-align: right;\n",
       "    }\n",
       "</style>\n",
       "<table border=\"1\" class=\"dataframe\">\n",
       "  <thead>\n",
       "    <tr style=\"text-align: right;\">\n",
       "      <th></th>\n",
       "      <th>대출금액</th>\n",
       "      <th>연간소득</th>\n",
       "      <th>부채_대비_소득_비율</th>\n",
       "      <th>총계좌수</th>\n",
       "      <th>최근_2년간_연체_횟수</th>\n",
       "      <th>총상환원금</th>\n",
       "      <th>총상환이자</th>\n",
       "      <th>총연체금액</th>\n",
       "      <th>연체계좌수</th>\n",
       "    </tr>\n",
       "  </thead>\n",
       "  <tbody>\n",
       "    <tr>\n",
       "      <th>0</th>\n",
       "      <td>12480000</td>\n",
       "      <td>72000000</td>\n",
       "      <td>18.90</td>\n",
       "      <td>15</td>\n",
       "      <td>0</td>\n",
       "      <td>0</td>\n",
       "      <td>0.0</td>\n",
       "      <td>0.0</td>\n",
       "      <td>0.0</td>\n",
       "    </tr>\n",
       "    <tr>\n",
       "      <th>1</th>\n",
       "      <td>14400000</td>\n",
       "      <td>130800000</td>\n",
       "      <td>22.33</td>\n",
       "      <td>21</td>\n",
       "      <td>0</td>\n",
       "      <td>373572</td>\n",
       "      <td>234060.0</td>\n",
       "      <td>0.0</td>\n",
       "      <td>0.0</td>\n",
       "    </tr>\n",
       "    <tr>\n",
       "      <th>2</th>\n",
       "      <td>12000000</td>\n",
       "      <td>96000000</td>\n",
       "      <td>8.60</td>\n",
       "      <td>14</td>\n",
       "      <td>0</td>\n",
       "      <td>928644</td>\n",
       "      <td>151944.0</td>\n",
       "      <td>0.0</td>\n",
       "      <td>0.0</td>\n",
       "    </tr>\n",
       "    <tr>\n",
       "      <th>3</th>\n",
       "      <td>14400000</td>\n",
       "      <td>132000000</td>\n",
       "      <td>15.09</td>\n",
       "      <td>15</td>\n",
       "      <td>0</td>\n",
       "      <td>325824</td>\n",
       "      <td>153108.0</td>\n",
       "      <td>0.0</td>\n",
       "      <td>0.0</td>\n",
       "    </tr>\n",
       "    <tr>\n",
       "      <th>4</th>\n",
       "      <td>18000000</td>\n",
       "      <td>71736000</td>\n",
       "      <td>25.39</td>\n",
       "      <td>19</td>\n",
       "      <td>0</td>\n",
       "      <td>228540</td>\n",
       "      <td>148956.0</td>\n",
       "      <td>0.0</td>\n",
       "      <td>0.0</td>\n",
       "    </tr>\n",
       "  </tbody>\n",
       "</table>\n",
       "</div>"
      ],
      "text/plain": [
       "       대출금액       연간소득  부채_대비_소득_비율  총계좌수  최근_2년간_연체_횟수   총상환원금     총상환이자  \\\n",
       "0  12480000   72000000        18.90    15             0       0       0.0   \n",
       "1  14400000  130800000        22.33    21             0  373572  234060.0   \n",
       "2  12000000   96000000         8.60    14             0  928644  151944.0   \n",
       "3  14400000  132000000        15.09    15             0  325824  153108.0   \n",
       "4  18000000   71736000        25.39    19             0  228540  148956.0   \n",
       "\n",
       "   총연체금액  연체계좌수  \n",
       "0    0.0    0.0  \n",
       "1    0.0    0.0  \n",
       "2    0.0    0.0  \n",
       "3    0.0    0.0  \n",
       "4    0.0    0.0  "
      ]
     },
     "execution_count": 106,
     "metadata": {},
     "output_type": "execute_result"
    }
   ],
   "source": [
    "df_continuous= df[continuous].iloc[:,1:-1]\n",
    "df_continuous.head()"
   ]
  },
  {
   "cell_type": "code",
   "execution_count": 123,
   "id": "d5b4adc8",
   "metadata": {},
   "outputs": [
    {
     "data": {
      "text/html": [
       "<div>\n",
       "<style scoped>\n",
       "    .dataframe tbody tr th:only-of-type {\n",
       "        vertical-align: middle;\n",
       "    }\n",
       "\n",
       "    .dataframe tbody tr th {\n",
       "        vertical-align: top;\n",
       "    }\n",
       "\n",
       "    .dataframe thead th {\n",
       "        text-align: right;\n",
       "    }\n",
       "</style>\n",
       "<table border=\"1\" class=\"dataframe\">\n",
       "  <thead>\n",
       "    <tr style=\"text-align: right;\">\n",
       "      <th></th>\n",
       "      <th>대출금액</th>\n",
       "      <th>연간소득</th>\n",
       "      <th>부채_대비_소득_비율</th>\n",
       "      <th>총계좌수</th>\n",
       "      <th>최근_2년간_연체_횟수</th>\n",
       "      <th>총상환원금</th>\n",
       "      <th>총상환이자</th>\n",
       "      <th>총연체금액</th>\n",
       "      <th>연체계좌수</th>\n",
       "    </tr>\n",
       "  </thead>\n",
       "  <tbody>\n",
       "    <tr>\n",
       "      <th>count</th>\n",
       "      <td>9.629400e+04</td>\n",
       "      <td>9.629400e+04</td>\n",
       "      <td>96294.000000</td>\n",
       "      <td>96294.000000</td>\n",
       "      <td>96294.000000</td>\n",
       "      <td>9.629400e+04</td>\n",
       "      <td>9.629400e+04</td>\n",
       "      <td>96294.000000</td>\n",
       "      <td>96294.000000</td>\n",
       "    </tr>\n",
       "    <tr>\n",
       "      <th>mean</th>\n",
       "      <td>1.830400e+07</td>\n",
       "      <td>9.392672e+07</td>\n",
       "      <td>19.379590</td>\n",
       "      <td>25.304827</td>\n",
       "      <td>0.345681</td>\n",
       "      <td>8.225035e+05</td>\n",
       "      <td>4.282282e+05</td>\n",
       "      <td>54.380584</td>\n",
       "      <td>0.005805</td>\n",
       "    </tr>\n",
       "    <tr>\n",
       "      <th>std</th>\n",
       "      <td>1.032908e+07</td>\n",
       "      <td>9.956871e+07</td>\n",
       "      <td>33.569559</td>\n",
       "      <td>12.088566</td>\n",
       "      <td>0.919119</td>\n",
       "      <td>1.027745e+06</td>\n",
       "      <td>4.402111e+05</td>\n",
       "      <td>1414.769218</td>\n",
       "      <td>0.079966</td>\n",
       "    </tr>\n",
       "    <tr>\n",
       "      <th>min</th>\n",
       "      <td>1.200000e+06</td>\n",
       "      <td>0.000000e+00</td>\n",
       "      <td>0.000000</td>\n",
       "      <td>4.000000</td>\n",
       "      <td>0.000000</td>\n",
       "      <td>0.000000e+00</td>\n",
       "      <td>0.000000e+00</td>\n",
       "      <td>0.000000</td>\n",
       "      <td>0.000000</td>\n",
       "    </tr>\n",
       "    <tr>\n",
       "      <th>25%</th>\n",
       "      <td>1.020000e+07</td>\n",
       "      <td>5.760000e+07</td>\n",
       "      <td>12.650000</td>\n",
       "      <td>17.000000</td>\n",
       "      <td>0.000000</td>\n",
       "      <td>3.075720e+05</td>\n",
       "      <td>1.346160e+05</td>\n",
       "      <td>0.000000</td>\n",
       "      <td>0.000000</td>\n",
       "    </tr>\n",
       "    <tr>\n",
       "      <th>50%</th>\n",
       "      <td>1.680000e+07</td>\n",
       "      <td>7.800000e+07</td>\n",
       "      <td>18.740000</td>\n",
       "      <td>24.000000</td>\n",
       "      <td>0.000000</td>\n",
       "      <td>5.976960e+05</td>\n",
       "      <td>2.870040e+05</td>\n",
       "      <td>0.000000</td>\n",
       "      <td>0.000000</td>\n",
       "    </tr>\n",
       "    <tr>\n",
       "      <th>75%</th>\n",
       "      <td>2.400000e+07</td>\n",
       "      <td>1.128000e+08</td>\n",
       "      <td>25.540000</td>\n",
       "      <td>32.000000</td>\n",
       "      <td>0.000000</td>\n",
       "      <td>1.055076e+06</td>\n",
       "      <td>5.702160e+05</td>\n",
       "      <td>0.000000</td>\n",
       "      <td>0.000000</td>\n",
       "    </tr>\n",
       "    <tr>\n",
       "      <th>max</th>\n",
       "      <td>4.200000e+07</td>\n",
       "      <td>1.080000e+10</td>\n",
       "      <td>9999.000000</td>\n",
       "      <td>169.000000</td>\n",
       "      <td>30.000000</td>\n",
       "      <td>4.195594e+07</td>\n",
       "      <td>5.653416e+06</td>\n",
       "      <td>75768.000000</td>\n",
       "      <td>4.000000</td>\n",
       "    </tr>\n",
       "  </tbody>\n",
       "</table>\n",
       "</div>"
      ],
      "text/plain": [
       "               대출금액          연간소득   부채_대비_소득_비율          총계좌수  최근_2년간_연체_횟수  \\\n",
       "count  9.629400e+04  9.629400e+04  96294.000000  96294.000000  96294.000000   \n",
       "mean   1.830400e+07  9.392672e+07     19.379590     25.304827      0.345681   \n",
       "std    1.032908e+07  9.956871e+07     33.569559     12.088566      0.919119   \n",
       "min    1.200000e+06  0.000000e+00      0.000000      4.000000      0.000000   \n",
       "25%    1.020000e+07  5.760000e+07     12.650000     17.000000      0.000000   \n",
       "50%    1.680000e+07  7.800000e+07     18.740000     24.000000      0.000000   \n",
       "75%    2.400000e+07  1.128000e+08     25.540000     32.000000      0.000000   \n",
       "max    4.200000e+07  1.080000e+10   9999.000000    169.000000     30.000000   \n",
       "\n",
       "              총상환원금         총상환이자         총연체금액         연체계좌수  \n",
       "count  9.629400e+04  9.629400e+04  96294.000000  96294.000000  \n",
       "mean   8.225035e+05  4.282282e+05     54.380584      0.005805  \n",
       "std    1.027745e+06  4.402111e+05   1414.769218      0.079966  \n",
       "min    0.000000e+00  0.000000e+00      0.000000      0.000000  \n",
       "25%    3.075720e+05  1.346160e+05      0.000000      0.000000  \n",
       "50%    5.976960e+05  2.870040e+05      0.000000      0.000000  \n",
       "75%    1.055076e+06  5.702160e+05      0.000000      0.000000  \n",
       "max    4.195594e+07  5.653416e+06  75768.000000      4.000000  "
      ]
     },
     "execution_count": 123,
     "metadata": {},
     "output_type": "execute_result"
    }
   ],
   "source": [
    "df.describe()"
   ]
  },
  {
   "cell_type": "markdown",
   "id": "22d09e59",
   "metadata": {},
   "source": [
    "- 부채대비소득비율, 총계좌수, 최근 2년간 연체횟수, 총연체금액은 값이 비이상적으로 큰 경우가 있음\n",
    "- 최근 2년간 연체횟수와 총연체금액, 연체계좌수는 대출등급에 중요한 지표로 보여진다"
   ]
  },
  {
   "cell_type": "markdown",
   "id": "7410905b",
   "metadata": {},
   "source": [
    "# 히스토그램"
   ]
  },
  {
   "cell_type": "code",
   "execution_count": 119,
   "id": "217313db",
   "metadata": {
    "scrolled": true
   },
   "outputs": [
    {
     "data": {
      "image/png": "[encoded data removed]",
      "text/plain": [
       "<Figure size 1200x600 with 8 Axes>"
      ]
     },
     "metadata": {},
     "output_type": "display_data"
    }
   ],
   "source": [
    "fig, axes = plt.subplots(2, 4, figsize=(12, 6))\n",
    "\n",
    "for (col, ax) in zip(df_continuous.columns, axes.flatten()):\n",
    "    df_continuous[col].hist(ax=ax, bins=100, alpha=0.7)\n",
    "    ax.set_title(f' {col}')\n",
    "\n",
    "plt.tight_layout()\n",
    "plt.show()"
   ]
  },
  {
   "cell_type": "markdown",
   "id": "7e62a997",
   "metadata": {},
   "source": [
    "- 대출금액, 총계좌수, 총상환이자가 어느정도 분포를 형성하고 있음\n",
    "- 연간소득, 부채 대비 소득비율, 총산환원금, 총연체금액은 극단적인 분포를 형성하고 있음 이상치가 존재하는 것인데 이상치가 고객분류에 중요한 지표가 될 수 있어보인다\n",
    "- 최근2년간 연체횟수는 이산형으로 판단할 여지가 있다.\n",
    "- 히스토그램만으로는 분포를 체크하기 어려움"
   ]
  },
  {
   "cell_type": "markdown",
   "id": "6c862629",
   "metadata": {},
   "source": [
    "# 박스플랏"
   ]
  },
  {
   "cell_type": "code",
   "execution_count": 128,
   "id": "407c2daa",
   "metadata": {},
   "outputs": [
    {
     "data": {
      "image/png": "[encoded data removed]",
      "text/plain": [
       "<Figure size 1200x600 with 8 Axes>"
      ]
     },
     "metadata": {},
     "output_type": "display_data"
    }
   ],
   "source": [
    "fig, axes = plt.subplots(2, 4, figsize=(12, 6))\n",
    "\n",
    "for (col, ax) in zip(df_continuous.columns, axes.flatten()):\n",
    "    df_continuous[col].plot(kind='box', ax=ax)\n",
    "    ax.set_title(f' {col}')\n",
    "\n",
    "plt.tight_layout()\n",
    "plt.show()"
   ]
  },
  {
   "cell_type": "markdown",
   "id": "9d9ee361",
   "metadata": {},
   "source": [
    "- 대출등급을 제외한 나머지 변수의 분포는 이상치가 상당히 있는 것을 발견함"
   ]
  },
  {
   "cell_type": "markdown",
   "id": "2f6cdf5f",
   "metadata": {},
   "source": [
    "`-` 가정\n",
    "- 박스플랏에 존재하는 이상치들이 고객분류 등급에 중요한 영향을 미칠 것이다\n",
    "- 따라서 일단 이상치를 제거하지 않도록하겠음"
   ]
  },
  {
   "cell_type": "markdown",
   "id": "10b80dd1",
   "metadata": {},
   "source": [
    "# 등급에 따른 연속형 변수의 평균"
   ]
  },
  {
   "cell_type": "code",
   "execution_count": 144,
   "id": "d9b5f22c",
   "metadata": {},
   "outputs": [
    {
     "data": {
      "text/html": [
       "<div>\n",
       "<style scoped>\n",
       "    .dataframe tbody tr th:only-of-type {\n",
       "        vertical-align: middle;\n",
       "    }\n",
       "\n",
       "    .dataframe tbody tr th {\n",
       "        vertical-align: top;\n",
       "    }\n",
       "\n",
       "    .dataframe thead th {\n",
       "        text-align: right;\n",
       "    }\n",
       "</style>\n",
       "<table border=\"1\" class=\"dataframe\">\n",
       "  <thead>\n",
       "    <tr style=\"text-align: right;\">\n",
       "      <th></th>\n",
       "      <th>대출금액</th>\n",
       "      <th>연간소득</th>\n",
       "      <th>부채_대비_소득_비율</th>\n",
       "      <th>총계좌수</th>\n",
       "      <th>최근_2년간_연체_횟수</th>\n",
       "      <th>총상환원금</th>\n",
       "      <th>총상환이자</th>\n",
       "      <th>총연체금액</th>\n",
       "      <th>연체계좌수</th>\n",
       "    </tr>\n",
       "    <tr>\n",
       "      <th>대출등급</th>\n",
       "      <th></th>\n",
       "      <th></th>\n",
       "      <th></th>\n",
       "      <th></th>\n",
       "      <th></th>\n",
       "      <th></th>\n",
       "      <th></th>\n",
       "      <th></th>\n",
       "      <th></th>\n",
       "    </tr>\n",
       "  </thead>\n",
       "  <tbody>\n",
       "    <tr>\n",
       "      <th>A</th>\n",
       "      <td>17905794.77701</td>\n",
       "      <td>112491115.17625</td>\n",
       "      <td>16.54785</td>\n",
       "      <td>26.91068</td>\n",
       "      <td>0.21870</td>\n",
       "      <td>1066966.31147</td>\n",
       "      <td>224008.46101</td>\n",
       "      <td>14.80611</td>\n",
       "      <td>0.00113</td>\n",
       "    </tr>\n",
       "    <tr>\n",
       "      <th>B</th>\n",
       "      <td>16868082.72894</td>\n",
       "      <td>95706399.97932</td>\n",
       "      <td>18.12953</td>\n",
       "      <td>25.22338</td>\n",
       "      <td>0.36541</td>\n",
       "      <td>834014.43648</td>\n",
       "      <td>303340.96082</td>\n",
       "      <td>29.44137</td>\n",
       "      <td>0.00479</td>\n",
       "    </tr>\n",
       "    <tr>\n",
       "      <th>C</th>\n",
       "      <td>17890044.89013</td>\n",
       "      <td>89038039.57195</td>\n",
       "      <td>20.27009</td>\n",
       "      <td>24.69507</td>\n",
       "      <td>0.38030</td>\n",
       "      <td>752107.76353</td>\n",
       "      <td>430674.46201</td>\n",
       "      <td>48.05256</td>\n",
       "      <td>0.00789</td>\n",
       "    </tr>\n",
       "    <tr>\n",
       "      <th>D</th>\n",
       "      <td>19533313.61390</td>\n",
       "      <td>83596728.50502</td>\n",
       "      <td>21.80846</td>\n",
       "      <td>24.70511</td>\n",
       "      <td>0.38438</td>\n",
       "      <td>729717.33922</td>\n",
       "      <td>611789.58215</td>\n",
       "      <td>113.35210</td>\n",
       "      <td>0.00846</td>\n",
       "    </tr>\n",
       "    <tr>\n",
       "      <th>E</th>\n",
       "      <td>22320130.54120</td>\n",
       "      <td>84928644.43242</td>\n",
       "      <td>22.24847</td>\n",
       "      <td>25.32064</td>\n",
       "      <td>0.34933</td>\n",
       "      <td>707450.74789</td>\n",
       "      <td>814697.46968</td>\n",
       "      <td>94.57221</td>\n",
       "      <td>0.00761</td>\n",
       "    </tr>\n",
       "    <tr>\n",
       "      <th>F</th>\n",
       "      <td>24005174.00205</td>\n",
       "      <td>84345056.54248</td>\n",
       "      <td>21.85371</td>\n",
       "      <td>25.54350</td>\n",
       "      <td>0.36182</td>\n",
       "      <td>667317.71546</td>\n",
       "      <td>1095274.02252</td>\n",
       "      <td>237.80143</td>\n",
       "      <td>0.00665</td>\n",
       "    </tr>\n",
       "    <tr>\n",
       "      <th>G</th>\n",
       "      <td>24020785.71429</td>\n",
       "      <td>82580340.45714</td>\n",
       "      <td>20.69195</td>\n",
       "      <td>24.55000</td>\n",
       "      <td>0.41667</td>\n",
       "      <td>587019.02857</td>\n",
       "      <td>1284655.05714</td>\n",
       "      <td>329.94286</td>\n",
       "      <td>0.00476</td>\n",
       "    </tr>\n",
       "  </tbody>\n",
       "</table>\n",
       "</div>"
      ],
      "text/plain": [
       "               대출금액            연간소득  부채_대비_소득_비율     총계좌수  최근_2년간_연체_횟수  \\\n",
       "대출등급                                                                      \n",
       "A    17905794.77701 112491115.17625     16.54785 26.91068       0.21870   \n",
       "B    16868082.72894  95706399.97932     18.12953 25.22338       0.36541   \n",
       "C    17890044.89013  89038039.57195     20.27009 24.69507       0.38030   \n",
       "D    19533313.61390  83596728.50502     21.80846 24.70511       0.38438   \n",
       "E    22320130.54120  84928644.43242     22.24847 25.32064       0.34933   \n",
       "F    24005174.00205  84345056.54248     21.85371 25.54350       0.36182   \n",
       "G    24020785.71429  82580340.45714     20.69195 24.55000       0.41667   \n",
       "\n",
       "             총상환원금         총상환이자     총연체금액   연체계좌수  \n",
       "대출등급                                                \n",
       "A    1066966.31147  224008.46101  14.80611 0.00113  \n",
       "B     834014.43648  303340.96082  29.44137 0.00479  \n",
       "C     752107.76353  430674.46201  48.05256 0.00789  \n",
       "D     729717.33922  611789.58215 113.35210 0.00846  \n",
       "E     707450.74789  814697.46968  94.57221 0.00761  \n",
       "F     667317.71546 1095274.02252 237.80143 0.00665  \n",
       "G     587019.02857 1284655.05714 329.94286 0.00476  "
      ]
     },
     "execution_count": 144,
     "metadata": {},
     "output_type": "execute_result"
    }
   ],
   "source": [
    "pd.options.display.float_format = '{:.5f}'.format\n",
    "df[continuous].iloc[:,1:].groupby('대출등급').mean()"
   ]
  },
  {
   "cell_type": "markdown",
   "id": "d8505eed",
   "metadata": {},
   "source": [
    "- 낮은등급으로 갈수록 대출금액은 증가하는 것으로 보인다.\n",
    "- 높은 등급일수록 연간소득은 높으며, 낮은 등급일수록 연간소득이 다소 작아진 것을 확인\n",
    "- A,B 등급의 부채_대비_소득_비율이 다른 등급에 비해 유의하게 작은 것을 확인\n",
    "- 계좌수는 등급에 따라 큰 영향이 없어보인다.\n",
    "- 최근_2년간 연체 횟수는 A등급이 가장 큰차이로 우수하며, G등급이 가장 높다 그 중간 등급은 서로간 유의한 차이로 보이지 못해보임\n",
    "- 총상환원금은 등급이 높을수록 커진다. 중요한 지표로 보인다.\n",
    "- 총 상환해야할 이자는 낮은 등급일수록 매우 커지는 것을 확인 중요한 지표로 보인다.\n",
    "- 총 연체금액은 높은 등급일 수록 작으며, 낮은 등급일수록 매우 커짐\n",
    "- 연체계좌수는 A 등급이 매우 유의하게 가장 적으며 이외에 다른 등급에서는 등급에 따라 차이를 보이기 어렵다고 보임"
   ]
  },
  {
   "cell_type": "markdown",
   "id": "d7a0a290",
   "metadata": {},
   "source": [
    "즉 등급이 높은 A는 긍정적인 변수에 모두 우의를 점하고 있고 부정적인 연체와 관련된 변수에는 모두 하위권을 차지 하고 있다"
   ]
  },
  {
   "cell_type": "markdown",
   "id": "f1a6cf64",
   "metadata": {},
   "source": [
    "---"
   ]
  },
  {
   "cell_type": "markdown",
   "id": "ac584596",
   "metadata": {},
   "source": [
    "# train/ validation data 처리 및 변환"
   ]
  },
  {
   "cell_type": "markdown",
   "id": "b97bf12d",
   "metadata": {},
   "source": [
    "`-` X feature"
   ]
  },
  {
   "cell_type": "code",
   "execution_count": 157,
   "id": "101e60aa",
   "metadata": {
    "scrolled": true
   },
   "outputs": [
    {
     "data": {
      "text/html": [
       "<div>\n",
       "<style scoped>\n",
       "    .dataframe tbody tr th:only-of-type {\n",
       "        vertical-align: middle;\n",
       "    }\n",
       "\n",
       "    .dataframe tbody tr th {\n",
       "        vertical-align: top;\n",
       "    }\n",
       "\n",
       "    .dataframe thead th {\n",
       "        text-align: right;\n",
       "    }\n",
       "</style>\n",
       "<table border=\"1\" class=\"dataframe\">\n",
       "  <thead>\n",
       "    <tr style=\"text-align: right;\">\n",
       "      <th></th>\n",
       "      <th>36 months</th>\n",
       "      <th>60 months</th>\n",
       "      <th>ANY</th>\n",
       "      <th>MORTGAGE</th>\n",
       "      <th>OWN</th>\n",
       "      <th>RENT</th>\n",
       "      <th>기타</th>\n",
       "      <th>부채 통합</th>\n",
       "      <th>소규모 사업</th>\n",
       "      <th>신용 카드</th>\n",
       "      <th>...</th>\n",
       "      <th>Unknown</th>\n",
       "      <th>대출금액</th>\n",
       "      <th>연간소득</th>\n",
       "      <th>부채_대비_소득_비율</th>\n",
       "      <th>총계좌수</th>\n",
       "      <th>최근_2년간_연체_횟수</th>\n",
       "      <th>총상환원금</th>\n",
       "      <th>총상환이자</th>\n",
       "      <th>총연체금액</th>\n",
       "      <th>연체계좌수</th>\n",
       "    </tr>\n",
       "  </thead>\n",
       "  <tbody>\n",
       "    <tr>\n",
       "      <th>0</th>\n",
       "      <td>1</td>\n",
       "      <td>0</td>\n",
       "      <td>0</td>\n",
       "      <td>0</td>\n",
       "      <td>0</td>\n",
       "      <td>1</td>\n",
       "      <td>0</td>\n",
       "      <td>1</td>\n",
       "      <td>0</td>\n",
       "      <td>0</td>\n",
       "      <td>...</td>\n",
       "      <td>0</td>\n",
       "      <td>12480000</td>\n",
       "      <td>72000000</td>\n",
       "      <td>18.90000</td>\n",
       "      <td>15</td>\n",
       "      <td>0</td>\n",
       "      <td>0</td>\n",
       "      <td>0.00000</td>\n",
       "      <td>0.00000</td>\n",
       "      <td>0.00000</td>\n",
       "    </tr>\n",
       "    <tr>\n",
       "      <th>1</th>\n",
       "      <td>0</td>\n",
       "      <td>1</td>\n",
       "      <td>0</td>\n",
       "      <td>1</td>\n",
       "      <td>0</td>\n",
       "      <td>0</td>\n",
       "      <td>0</td>\n",
       "      <td>0</td>\n",
       "      <td>0</td>\n",
       "      <td>0</td>\n",
       "      <td>...</td>\n",
       "      <td>0</td>\n",
       "      <td>14400000</td>\n",
       "      <td>130800000</td>\n",
       "      <td>22.33000</td>\n",
       "      <td>21</td>\n",
       "      <td>0</td>\n",
       "      <td>373572</td>\n",
       "      <td>234060.00000</td>\n",
       "      <td>0.00000</td>\n",
       "      <td>0.00000</td>\n",
       "    </tr>\n",
       "    <tr>\n",
       "      <th>2</th>\n",
       "      <td>1</td>\n",
       "      <td>0</td>\n",
       "      <td>0</td>\n",
       "      <td>1</td>\n",
       "      <td>0</td>\n",
       "      <td>0</td>\n",
       "      <td>0</td>\n",
       "      <td>1</td>\n",
       "      <td>0</td>\n",
       "      <td>0</td>\n",
       "      <td>...</td>\n",
       "      <td>0</td>\n",
       "      <td>12000000</td>\n",
       "      <td>96000000</td>\n",
       "      <td>8.60000</td>\n",
       "      <td>14</td>\n",
       "      <td>0</td>\n",
       "      <td>928644</td>\n",
       "      <td>151944.00000</td>\n",
       "      <td>0.00000</td>\n",
       "      <td>0.00000</td>\n",
       "    </tr>\n",
       "    <tr>\n",
       "      <th>3</th>\n",
       "      <td>1</td>\n",
       "      <td>0</td>\n",
       "      <td>0</td>\n",
       "      <td>1</td>\n",
       "      <td>0</td>\n",
       "      <td>0</td>\n",
       "      <td>0</td>\n",
       "      <td>1</td>\n",
       "      <td>0</td>\n",
       "      <td>0</td>\n",
       "      <td>...</td>\n",
       "      <td>0</td>\n",
       "      <td>14400000</td>\n",
       "      <td>132000000</td>\n",
       "      <td>15.09000</td>\n",
       "      <td>15</td>\n",
       "      <td>0</td>\n",
       "      <td>325824</td>\n",
       "      <td>153108.00000</td>\n",
       "      <td>0.00000</td>\n",
       "      <td>0.00000</td>\n",
       "    </tr>\n",
       "    <tr>\n",
       "      <th>4</th>\n",
       "      <td>0</td>\n",
       "      <td>1</td>\n",
       "      <td>0</td>\n",
       "      <td>0</td>\n",
       "      <td>0</td>\n",
       "      <td>1</td>\n",
       "      <td>0</td>\n",
       "      <td>0</td>\n",
       "      <td>0</td>\n",
       "      <td>0</td>\n",
       "      <td>...</td>\n",
       "      <td>1</td>\n",
       "      <td>18000000</td>\n",
       "      <td>71736000</td>\n",
       "      <td>25.39000</td>\n",
       "      <td>19</td>\n",
       "      <td>0</td>\n",
       "      <td>228540</td>\n",
       "      <td>148956.00000</td>\n",
       "      <td>0.00000</td>\n",
       "      <td>0.00000</td>\n",
       "    </tr>\n",
       "  </tbody>\n",
       "</table>\n",
       "<p>5 rows × 43 columns</p>\n",
       "</div>"
      ],
      "text/plain": [
       "    36 months   60 months  ANY  MORTGAGE  OWN  RENT  기타  부채 통합  소규모 사업  신용 카드  \\\n",
       "0           1           0    0         0    0     1   0      1       0      0   \n",
       "1           0           1    0         1    0     0   0      0       0      0   \n",
       "2           1           0    0         1    0     0   0      1       0      0   \n",
       "3           1           0    0         1    0     0   0      1       0      0   \n",
       "4           0           1    0         0    0     1   0      0       0      0   \n",
       "\n",
       "   ...  Unknown      대출금액       연간소득  부채_대비_소득_비율  총계좌수  최근_2년간_연체_횟수   총상환원금  \\\n",
       "0  ...        0  12480000   72000000     18.90000    15             0       0   \n",
       "1  ...        0  14400000  130800000     22.33000    21             0  373572   \n",
       "2  ...        0  12000000   96000000      8.60000    14             0  928644   \n",
       "3  ...        0  14400000  132000000     15.09000    15             0  325824   \n",
       "4  ...        1  18000000   71736000     25.39000    19             0  228540   \n",
       "\n",
       "         총상환이자   총연체금액   연체계좌수  \n",
       "0      0.00000 0.00000 0.00000  \n",
       "1 234060.00000 0.00000 0.00000  \n",
       "2 151944.00000 0.00000 0.00000  \n",
       "3 153108.00000 0.00000 0.00000  \n",
       "4 148956.00000 0.00000 0.00000  \n",
       "\n",
       "[5 rows x 43 columns]"
      ]
     },
     "execution_count": 157,
     "metadata": {},
     "output_type": "execute_result"
    }
   ],
   "source": [
    "data = pd.concat([df_dummy.iloc[:,:-1],df_continuous],axis=1)\n",
    "data.head()"
   ]
  },
  {
   "cell_type": "markdown",
   "id": "f89d57ca",
   "metadata": {},
   "source": [
    "`-` minmax scaler"
   ]
  },
  {
   "cell_type": "code",
   "execution_count": 182,
   "id": "8510ede6",
   "metadata": {},
   "outputs": [],
   "source": [
    "from sklearn.preprocessing import MinMaxScaler\n",
    "minmax = MinMaxScaler()\n",
    "X_minmax= minmax.fit_transform(data)"
   ]
  },
  {
   "cell_type": "markdown",
   "id": "438fa4d4",
   "metadata": {},
   "source": [
    "`-` y"
   ]
  },
  {
   "cell_type": "code",
   "execution_count": 164,
   "id": "11a63c9b",
   "metadata": {
    "scrolled": false
   },
   "outputs": [
    {
     "data": {
      "text/plain": [
       "0    C\n",
       "1    B\n",
       "2    A\n",
       "3    C\n",
       "4    B\n",
       "Name: 대출등급, dtype: object"
      ]
     },
     "execution_count": 164,
     "metadata": {},
     "output_type": "execute_result"
    }
   ],
   "source": [
    "y = df_dummy.iloc[:,-1]\n",
    "y.head()"
   ]
  },
  {
   "cell_type": "markdown",
   "id": "a3d692ea",
   "metadata": {},
   "source": [
    "`-` labelencoder"
   ]
  },
  {
   "cell_type": "code",
   "execution_count": 177,
   "id": "2e8b0864",
   "metadata": {},
   "outputs": [],
   "source": [
    "from sklearn.preprocessing import LabelEncoder\n",
    "y_encoder= LabelEncoder()\n",
    "y_label = y_encoder.fit_transform(y)"
   ]
  },
  {
   "cell_type": "markdown",
   "id": "56d18c84",
   "metadata": {},
   "source": [
    "`-` train/test set"
   ]
  },
  {
   "cell_type": "code",
   "execution_count": 183,
   "id": "a8d22f4d",
   "metadata": {},
   "outputs": [],
   "source": [
    "from sklearn.model_selection import train_test_split\n",
    "X_train, X_test, y_train, y_test = train_test_split(X_minmax,y_label)"
   ]
  },
  {
   "cell_type": "markdown",
   "id": "12e6d5cf",
   "metadata": {},
   "source": [
    "---"
   ]
  },
  {
   "cell_type": "markdown",
   "id": "791dcfc7",
   "metadata": {},
   "source": [
    "# test data 처리/ 변환"
   ]
  },
  {
   "cell_type": "code",
   "execution_count": 195,
   "id": "9415f298",
   "metadata": {},
   "outputs": [],
   "source": [
    "df_ = pd.read_csv('C:\\\\Users\\\\default.DESKTOP-2ISHQBS\\\\lab\\\\data\\\\dacon\\\\open\\\\test.csv')"
   ]
  },
  {
   "cell_type": "code",
   "execution_count": 198,
   "id": "2f19b200",
   "metadata": {},
   "outputs": [],
   "source": [
    "df_= df_.drop(['ID'],axis=1)"
   ]
  },
  {
   "cell_type": "markdown",
   "id": "32267100",
   "metadata": {},
   "source": [
    "`-` 이산형 변수 가변수 data"
   ]
  },
  {
   "cell_type": "code",
   "execution_count": 204,
   "id": "72c937c8",
   "metadata": {
    "scrolled": true
   },
   "outputs": [
    {
     "data": {
      "text/html": [
       "<div>\n",
       "<style scoped>\n",
       "    .dataframe tbody tr th:only-of-type {\n",
       "        vertical-align: middle;\n",
       "    }\n",
       "\n",
       "    .dataframe tbody tr th {\n",
       "        vertical-align: top;\n",
       "    }\n",
       "\n",
       "    .dataframe thead th {\n",
       "        text-align: right;\n",
       "    }\n",
       "</style>\n",
       "<table border=\"1\" class=\"dataframe\">\n",
       "  <thead>\n",
       "    <tr style=\"text-align: right;\">\n",
       "      <th></th>\n",
       "      <th>대출기간</th>\n",
       "      <th>주택소유상태</th>\n",
       "      <th>대출목적</th>\n",
       "      <th>근로기간</th>\n",
       "    </tr>\n",
       "  </thead>\n",
       "  <tbody>\n",
       "    <tr>\n",
       "      <th>0</th>\n",
       "      <td>36 months</td>\n",
       "      <td>MORTGAGE</td>\n",
       "      <td>주택 개선</td>\n",
       "      <td>8 years</td>\n",
       "    </tr>\n",
       "    <tr>\n",
       "      <th>1</th>\n",
       "      <td>36 months</td>\n",
       "      <td>RENT</td>\n",
       "      <td>부채 통합</td>\n",
       "      <td>5 years</td>\n",
       "    </tr>\n",
       "    <tr>\n",
       "      <th>2</th>\n",
       "      <td>36 months</td>\n",
       "      <td>RENT</td>\n",
       "      <td>신용 카드</td>\n",
       "      <td>6 years</td>\n",
       "    </tr>\n",
       "    <tr>\n",
       "      <th>3</th>\n",
       "      <td>36 months</td>\n",
       "      <td>MORTGAGE</td>\n",
       "      <td>신용 카드</td>\n",
       "      <td>5 years</td>\n",
       "    </tr>\n",
       "    <tr>\n",
       "      <th>4</th>\n",
       "      <td>36 months</td>\n",
       "      <td>RENT</td>\n",
       "      <td>신용 카드</td>\n",
       "      <td>5 years</td>\n",
       "    </tr>\n",
       "  </tbody>\n",
       "</table>\n",
       "</div>"
      ],
      "text/plain": [
       "         대출기간    주택소유상태   대출목적     근로기간\n",
       "0   36 months  MORTGAGE  주택 개선  8 years\n",
       "1   36 months      RENT  부채 통합  5 years\n",
       "2   36 months      RENT  신용 카드  6 years\n",
       "3   36 months  MORTGAGE  신용 카드  5 years\n",
       "4   36 months      RENT  신용 카드  5 years"
      ]
     },
     "execution_count": 204,
     "metadata": {},
     "output_type": "execute_result"
    }
   ],
   "source": [
    "df_.loc[:,discrete].head()"
   ]
  },
  {
   "cell_type": "code",
   "execution_count": 206,
   "id": "9d224568",
   "metadata": {},
   "outputs": [
    {
     "data": {
      "text/html": [
       "<div>\n",
       "<style scoped>\n",
       "    .dataframe tbody tr th:only-of-type {\n",
       "        vertical-align: middle;\n",
       "    }\n",
       "\n",
       "    .dataframe tbody tr th {\n",
       "        vertical-align: top;\n",
       "    }\n",
       "\n",
       "    .dataframe thead th {\n",
       "        text-align: right;\n",
       "    }\n",
       "</style>\n",
       "<table border=\"1\" class=\"dataframe\">\n",
       "  <thead>\n",
       "    <tr style=\"text-align: right;\">\n",
       "      <th></th>\n",
       "      <th>36 months</th>\n",
       "      <th>60 months</th>\n",
       "      <th>MORTGAGE</th>\n",
       "      <th>OWN</th>\n",
       "      <th>RENT</th>\n",
       "      <th>결혼</th>\n",
       "      <th>기타</th>\n",
       "      <th>부채 통합</th>\n",
       "      <th>소규모 사업</th>\n",
       "      <th>신용 카드</th>\n",
       "      <th>...</th>\n",
       "      <th>3 years</th>\n",
       "      <th>4 years</th>\n",
       "      <th>5 years</th>\n",
       "      <th>6 years</th>\n",
       "      <th>7 years</th>\n",
       "      <th>8 years</th>\n",
       "      <th>9 years</th>\n",
       "      <th>&lt; 1 year</th>\n",
       "      <th>&lt;1 year</th>\n",
       "      <th>Unknown</th>\n",
       "    </tr>\n",
       "  </thead>\n",
       "  <tbody>\n",
       "    <tr>\n",
       "      <th>0</th>\n",
       "      <td>1</td>\n",
       "      <td>0</td>\n",
       "      <td>1</td>\n",
       "      <td>0</td>\n",
       "      <td>0</td>\n",
       "      <td>0</td>\n",
       "      <td>0</td>\n",
       "      <td>0</td>\n",
       "      <td>0</td>\n",
       "      <td>0</td>\n",
       "      <td>...</td>\n",
       "      <td>0</td>\n",
       "      <td>0</td>\n",
       "      <td>0</td>\n",
       "      <td>0</td>\n",
       "      <td>0</td>\n",
       "      <td>1</td>\n",
       "      <td>0</td>\n",
       "      <td>0</td>\n",
       "      <td>0</td>\n",
       "      <td>0</td>\n",
       "    </tr>\n",
       "    <tr>\n",
       "      <th>1</th>\n",
       "      <td>1</td>\n",
       "      <td>0</td>\n",
       "      <td>0</td>\n",
       "      <td>0</td>\n",
       "      <td>1</td>\n",
       "      <td>0</td>\n",
       "      <td>0</td>\n",
       "      <td>1</td>\n",
       "      <td>0</td>\n",
       "      <td>0</td>\n",
       "      <td>...</td>\n",
       "      <td>0</td>\n",
       "      <td>0</td>\n",
       "      <td>1</td>\n",
       "      <td>0</td>\n",
       "      <td>0</td>\n",
       "      <td>0</td>\n",
       "      <td>0</td>\n",
       "      <td>0</td>\n",
       "      <td>0</td>\n",
       "      <td>0</td>\n",
       "    </tr>\n",
       "    <tr>\n",
       "      <th>2</th>\n",
       "      <td>1</td>\n",
       "      <td>0</td>\n",
       "      <td>0</td>\n",
       "      <td>0</td>\n",
       "      <td>1</td>\n",
       "      <td>0</td>\n",
       "      <td>0</td>\n",
       "      <td>0</td>\n",
       "      <td>0</td>\n",
       "      <td>1</td>\n",
       "      <td>...</td>\n",
       "      <td>0</td>\n",
       "      <td>0</td>\n",
       "      <td>0</td>\n",
       "      <td>1</td>\n",
       "      <td>0</td>\n",
       "      <td>0</td>\n",
       "      <td>0</td>\n",
       "      <td>0</td>\n",
       "      <td>0</td>\n",
       "      <td>0</td>\n",
       "    </tr>\n",
       "    <tr>\n",
       "      <th>3</th>\n",
       "      <td>1</td>\n",
       "      <td>0</td>\n",
       "      <td>1</td>\n",
       "      <td>0</td>\n",
       "      <td>0</td>\n",
       "      <td>0</td>\n",
       "      <td>0</td>\n",
       "      <td>0</td>\n",
       "      <td>0</td>\n",
       "      <td>1</td>\n",
       "      <td>...</td>\n",
       "      <td>0</td>\n",
       "      <td>0</td>\n",
       "      <td>1</td>\n",
       "      <td>0</td>\n",
       "      <td>0</td>\n",
       "      <td>0</td>\n",
       "      <td>0</td>\n",
       "      <td>0</td>\n",
       "      <td>0</td>\n",
       "      <td>0</td>\n",
       "    </tr>\n",
       "    <tr>\n",
       "      <th>4</th>\n",
       "      <td>1</td>\n",
       "      <td>0</td>\n",
       "      <td>0</td>\n",
       "      <td>0</td>\n",
       "      <td>1</td>\n",
       "      <td>0</td>\n",
       "      <td>0</td>\n",
       "      <td>0</td>\n",
       "      <td>0</td>\n",
       "      <td>1</td>\n",
       "      <td>...</td>\n",
       "      <td>0</td>\n",
       "      <td>0</td>\n",
       "      <td>1</td>\n",
       "      <td>0</td>\n",
       "      <td>0</td>\n",
       "      <td>0</td>\n",
       "      <td>0</td>\n",
       "      <td>0</td>\n",
       "      <td>0</td>\n",
       "      <td>0</td>\n",
       "    </tr>\n",
       "  </tbody>\n",
       "</table>\n",
       "<p>5 rows × 34 columns</p>\n",
       "</div>"
      ],
      "text/plain": [
       "    36 months   60 months  MORTGAGE  OWN  RENT  결혼  기타  부채 통합  소규모 사업  신용 카드  \\\n",
       "0           1           0         1    0     0   0   0      0       0      0   \n",
       "1           1           0         0    0     1   0   0      1       0      0   \n",
       "2           1           0         0    0     1   0   0      0       0      1   \n",
       "3           1           0         1    0     0   0   0      0       0      1   \n",
       "4           1           0         0    0     1   0   0      0       0      1   \n",
       "\n",
       "   ...  3 years  4 years  5 years  6 years  7 years  8 years  9 years  \\\n",
       "0  ...        0        0        0        0        0        1        0   \n",
       "1  ...        0        0        1        0        0        0        0   \n",
       "2  ...        0        0        0        1        0        0        0   \n",
       "3  ...        0        0        1        0        0        0        0   \n",
       "4  ...        0        0        1        0        0        0        0   \n",
       "\n",
       "   < 1 year  <1 year  Unknown  \n",
       "0         0        0        0  \n",
       "1         0        0        0  \n",
       "2         0        0        0  \n",
       "3         0        0        0  \n",
       "4         0        0        0  \n",
       "\n",
       "[5 rows x 34 columns]"
      ]
     },
     "execution_count": 206,
     "metadata": {},
     "output_type": "execute_result"
    }
   ],
   "source": [
    "\n",
    "df_dummy2= [pd.get_dummies(df_[discrete[i]]) for i in range(len(discrete))]\n",
    "\n",
    "df_dummy2 = pd.concat([df_dummy2[i] for i in range(len(df_dummy2))],axis=1)\n",
    "\n",
    "#df_dummy2 = pd.concat([df_dummy2,df_discrete.iloc[:,[3]]],axis=1)\n",
    "df_dummy2.head()"
   ]
  },
  {
   "cell_type": "markdown",
   "id": "845f0d85",
   "metadata": {},
   "source": [
    "`-` 연속형 변수"
   ]
  },
  {
   "cell_type": "code",
   "execution_count": 225,
   "id": "7f802ca9",
   "metadata": {
    "scrolled": true
   },
   "outputs": [
    {
     "data": {
      "text/html": [
       "<div>\n",
       "<style scoped>\n",
       "    .dataframe tbody tr th:only-of-type {\n",
       "        vertical-align: middle;\n",
       "    }\n",
       "\n",
       "    .dataframe tbody tr th {\n",
       "        vertical-align: top;\n",
       "    }\n",
       "\n",
       "    .dataframe thead th {\n",
       "        text-align: right;\n",
       "    }\n",
       "</style>\n",
       "<table border=\"1\" class=\"dataframe\">\n",
       "  <thead>\n",
       "    <tr style=\"text-align: right;\">\n",
       "      <th></th>\n",
       "      <th>대출금액</th>\n",
       "      <th>연간소득</th>\n",
       "      <th>부채_대비_소득_비율</th>\n",
       "      <th>총계좌수</th>\n",
       "      <th>최근_2년간_연체_횟수</th>\n",
       "      <th>총상환원금</th>\n",
       "      <th>총상환이자</th>\n",
       "      <th>총연체금액</th>\n",
       "      <th>연체계좌수</th>\n",
       "    </tr>\n",
       "  </thead>\n",
       "  <tbody>\n",
       "    <tr>\n",
       "      <th>0</th>\n",
       "      <td>16800000</td>\n",
       "      <td>132000000</td>\n",
       "      <td>19.64000</td>\n",
       "      <td>12</td>\n",
       "      <td>0</td>\n",
       "      <td>394692</td>\n",
       "      <td>146604.00000</td>\n",
       "      <td>0.00000</td>\n",
       "      <td>0.00000</td>\n",
       "    </tr>\n",
       "    <tr>\n",
       "      <th>1</th>\n",
       "      <td>8400000</td>\n",
       "      <td>89971200</td>\n",
       "      <td>15.84000</td>\n",
       "      <td>25</td>\n",
       "      <td>0</td>\n",
       "      <td>0</td>\n",
       "      <td>0.00000</td>\n",
       "      <td>0.00000</td>\n",
       "      <td>0.00000</td>\n",
       "    </tr>\n",
       "    <tr>\n",
       "      <th>2</th>\n",
       "      <td>17280000</td>\n",
       "      <td>150000000</td>\n",
       "      <td>8.41000</td>\n",
       "      <td>20</td>\n",
       "      <td>0</td>\n",
       "      <td>1786980</td>\n",
       "      <td>281820.00000</td>\n",
       "      <td>0.00000</td>\n",
       "      <td>0.00000</td>\n",
       "    </tr>\n",
       "    <tr>\n",
       "      <th>3</th>\n",
       "      <td>14400000</td>\n",
       "      <td>66000000</td>\n",
       "      <td>13.72000</td>\n",
       "      <td>30</td>\n",
       "      <td>1</td>\n",
       "      <td>669024</td>\n",
       "      <td>281724.00000</td>\n",
       "      <td>0.00000</td>\n",
       "      <td>0.00000</td>\n",
       "    </tr>\n",
       "    <tr>\n",
       "      <th>4</th>\n",
       "      <td>27600000</td>\n",
       "      <td>55200000</td>\n",
       "      <td>30.50000</td>\n",
       "      <td>12</td>\n",
       "      <td>0</td>\n",
       "      <td>1250052</td>\n",
       "      <td>614844.00000</td>\n",
       "      <td>0.00000</td>\n",
       "      <td>0.00000</td>\n",
       "    </tr>\n",
       "  </tbody>\n",
       "</table>\n",
       "</div>"
      ],
      "text/plain": [
       "       대출금액       연간소득  부채_대비_소득_비율  총계좌수  최근_2년간_연체_횟수    총상환원금        총상환이자  \\\n",
       "0  16800000  132000000     19.64000    12             0   394692 146604.00000   \n",
       "1   8400000   89971200     15.84000    25             0        0      0.00000   \n",
       "2  17280000  150000000      8.41000    20             0  1786980 281820.00000   \n",
       "3  14400000   66000000     13.72000    30             1   669024 281724.00000   \n",
       "4  27600000   55200000     30.50000    12             0  1250052 614844.00000   \n",
       "\n",
       "    총연체금액   연체계좌수  \n",
       "0 0.00000 0.00000  \n",
       "1 0.00000 0.00000  \n",
       "2 0.00000 0.00000  \n",
       "3 0.00000 0.00000  \n",
       "4 0.00000 0.00000  "
      ]
     },
     "execution_count": 225,
     "metadata": {},
     "output_type": "execute_result"
    }
   ],
   "source": [
    "df_[continuous[1:-1]].iloc[:,0:].head()"
   ]
  },
  {
   "cell_type": "code",
   "execution_count": 231,
   "id": "96ff26b4",
   "metadata": {},
   "outputs": [
    {
     "data": {
      "text/plain": [
       "Index([' 36 months', ' 60 months', 'MORTGAGE', 'OWN', 'RENT', '결혼', '기타',\n",
       "       '부채 통합', '소규모 사업', '신용 카드', '의료', '이사', '자동차', '재생 에너지', '주요 구매', '주택',\n",
       "       '주택 개선', '휴가', '1 year', '1 years', '10+ years', '10+years', '2 years',\n",
       "       '3', '3 years', '4 years', '5 years', '6 years', '7 years', '8 years',\n",
       "       '9 years', '< 1 year', '<1 year', 'Unknown', '대출금액', '연간소득',\n",
       "       '부채_대비_소득_비율', '총계좌수', '최근_2년간_연체_횟수', '총상환원금', '총상환이자', '총연체금액',\n",
       "       '연체계좌수'],\n",
       "      dtype='object')"
      ]
     },
     "execution_count": 231,
     "metadata": {},
     "output_type": "execute_result"
    }
   ],
   "source": [
    "df_test = pd.concat([df_dummy2,df_[continuous[1:-1]].iloc[:, 0:]],axis=1)\n",
    "df_test.columns"
   ]
  },
  {
   "cell_type": "code",
   "execution_count": 228,
   "id": "e8f9a42e",
   "metadata": {},
   "outputs": [
    {
     "data": {
      "text/plain": [
       "Index([' 36 months', ' 60 months', 'ANY', 'MORTGAGE', 'OWN', 'RENT', '기타',\n",
       "       '부채 통합', '소규모 사업', '신용 카드', '의료', '이사', '자동차', '재생 에너지', '주요 구매', '주택',\n",
       "       '주택 개선', '휴가', '1 year', '1 years', '10+ years', '10+years', '2 years',\n",
       "       '3', '3 years', '4 years', '5 years', '6 years', '7 years', '8 years',\n",
       "       '9 years', '< 1 year', '<1 year', 'Unknown', '대출금액', '연간소득',\n",
       "       '부채_대비_소득_비율', '총계좌수', '최근_2년간_연체_횟수', '총상환원금', '총상환이자', '총연체금액',\n",
       "       '연체계좌수'],\n",
       "      dtype='object')"
      ]
     },
     "execution_count": 228,
     "metadata": {},
     "output_type": "execute_result"
    }
   ],
   "source": [
    "data.columns"
   ]
  },
  {
   "cell_type": "code",
   "execution_count": 232,
   "id": "eff6f63d",
   "metadata": {},
   "outputs": [],
   "source": [
    "test_scale = minmax.fit_transform(df_test)"
   ]
  },
  {
   "cell_type": "markdown",
   "id": "3468029f",
   "metadata": {},
   "source": [
    "---"
   ]
  },
  {
   "cell_type": "markdown",
   "id": "a890d562",
   "metadata": {},
   "source": [
    "# basemodel Ramdomforest"
   ]
  },
  {
   "cell_type": "code",
   "execution_count": 190,
   "id": "5af03205",
   "metadata": {},
   "outputs": [],
   "source": [
    "from sklearn.ensemble import RandomForestClassifier\n",
    "from sklearn.metrics import accuracy_score, classification_report"
   ]
  },
  {
   "cell_type": "code",
   "execution_count": 189,
   "id": "a69d1463",
   "metadata": {},
   "outputs": [
    {
     "data": {
      "text/html": [
       "<style>#sk-container-id-1 {color: black;background-color: white;}#sk-container-id-1 pre{padding: 0;}#sk-container-id-1 div.sk-toggleable {background-color: white;}#sk-container-id-1 label.sk-toggleable__label {cursor: pointer;display: block;width: 100%;margin-bottom: 0;padding: 0.3em;box-sizing: border-box;text-align: center;}#sk-container-id-1 label.sk-toggleable__label-arrow:before {content: \"▸\";float: left;margin-right: 0.25em;color: #696969;}#sk-container-id-1 label.sk-toggleable__label-arrow:hover:before {color: black;}#sk-container-id-1 div.sk-estimator:hover label.sk-toggleable__label-arrow:before {color: black;}#sk-container-id-1 div.sk-toggleable__content {max-height: 0;max-width: 0;overflow: hidden;text-align: left;background-color: #f0f8ff;}#sk-container-id-1 div.sk-toggleable__content pre {margin: 0.2em;color: black;border-radius: 0.25em;background-color: #f0f8ff;}#sk-container-id-1 input.sk-toggleable__control:checked~div.sk-toggleable__content {max-height: 200px;max-width: 100%;overflow: auto;}#sk-container-id-1 input.sk-toggleable__control:checked~label.sk-toggleable__label-arrow:before {content: \"▾\";}#sk-container-id-1 div.sk-estimator input.sk-toggleable__control:checked~label.sk-toggleable__label {background-color: #d4ebff;}#sk-container-id-1 div.sk-label input.sk-toggleable__control:checked~label.sk-toggleable__label {background-color: #d4ebff;}#sk-container-id-1 input.sk-hidden--visually {border: 0;clip: rect(1px 1px 1px 1px);clip: rect(1px, 1px, 1px, 1px);height: 1px;margin: -1px;overflow: hidden;padding: 0;position: absolute;width: 1px;}#sk-container-id-1 div.sk-estimator {font-family: monospace;background-color: #f0f8ff;border: 1px dotted black;border-radius: 0.25em;box-sizing: border-box;margin-bottom: 0.5em;}#sk-container-id-1 div.sk-estimator:hover {background-color: #d4ebff;}#sk-container-id-1 div.sk-parallel-item::after {content: \"\";width: 100%;border-bottom: 1px solid gray;flex-grow: 1;}#sk-container-id-1 div.sk-label:hover label.sk-toggleable__label {background-color: #d4ebff;}#sk-container-id-1 div.sk-serial::before {content: \"\";position: absolute;border-left: 1px solid gray;box-sizing: border-box;top: 0;bottom: 0;left: 50%;z-index: 0;}#sk-container-id-1 div.sk-serial {display: flex;flex-direction: column;align-items: center;background-color: white;padding-right: 0.2em;padding-left: 0.2em;position: relative;}#sk-container-id-1 div.sk-item {position: relative;z-index: 1;}#sk-container-id-1 div.sk-parallel {display: flex;align-items: stretch;justify-content: center;background-color: white;position: relative;}#sk-container-id-1 div.sk-item::before, #sk-container-id-1 div.sk-parallel-item::before {content: \"\";position: absolute;border-left: 1px solid gray;box-sizing: border-box;top: 0;bottom: 0;left: 50%;z-index: -1;}#sk-container-id-1 div.sk-parallel-item {display: flex;flex-direction: column;z-index: 1;position: relative;background-color: white;}#sk-container-id-1 div.sk-parallel-item:first-child::after {align-self: flex-end;width: 50%;}#sk-container-id-1 div.sk-parallel-item:last-child::after {align-self: flex-start;width: 50%;}#sk-container-id-1 div.sk-parallel-item:only-child::after {width: 0;}#sk-container-id-1 div.sk-dashed-wrapped {border: 1px dashed gray;margin: 0 0.4em 0.5em 0.4em;box-sizing: border-box;padding-bottom: 0.4em;background-color: white;}#sk-container-id-1 div.sk-label label {font-family: monospace;font-weight: bold;display: inline-block;line-height: 1.2em;}#sk-container-id-1 div.sk-label-container {text-align: center;}#sk-container-id-1 div.sk-container {/* jupyter's `normalize.less` sets `[hidden] { display: none; }` but bootstrap.min.css set `[hidden] { display: none !important; }` so we also need the `!important` here to be able to override the default hidden behavior on the sphinx rendered scikit-learn.org. See: https://github.com/scikit-learn/scikit-learn/issues/21755 */display: inline-block !important;position: relative;}#sk-container-id-1 div.sk-text-repr-fallback {display: none;}</style><div id=\"sk-container-id-1\" class=\"sk-top-container\"><div class=\"sk-text-repr-fallback\"><pre>RandomForestClassifier(random_state=42)</pre><b>In a Jupyter environment, please rerun this cell to show the HTML representation or trust the notebook. <br />On GitHub, the HTML representation is unable to render, please try loading this page with nbviewer.org.</b></div><div class=\"sk-container\" hidden><div class=\"sk-item\"><div class=\"sk-estimator sk-toggleable\"><input class=\"sk-toggleable__control sk-hidden--visually\" id=\"sk-estimator-id-1\" type=\"checkbox\" checked><label for=\"sk-estimator-id-1\" class=\"sk-toggleable__label sk-toggleable__label-arrow\">RandomForestClassifier</label><div class=\"sk-toggleable__content\"><pre>RandomForestClassifier(random_state=42)</pre></div></div></div></div></div>"
      ],
      "text/plain": [
       "RandomForestClassifier(random_state=42)"
      ]
     },
     "execution_count": 189,
     "metadata": {},
     "output_type": "execute_result"
    }
   ],
   "source": [
    "RF= RandomForestClassifier(n_estimators=100, random_state=42)\n",
    "RF.fit(X_train,y_train)"
   ]
  },
  {
   "cell_type": "markdown",
   "id": "70a0a516",
   "metadata": {},
   "source": [
    "`-` validation"
   ]
  },
  {
   "cell_type": "code",
   "execution_count": 192,
   "id": "78c6dae8",
   "metadata": {},
   "outputs": [
    {
     "data": {
      "text/plain": [
       "0.7169560521724683"
      ]
     },
     "execution_count": 192,
     "metadata": {},
     "output_type": "execute_result"
    }
   ],
   "source": [
    "pred = RF.predict(X_test)\n",
    "accuracy_score(y_test, pred)"
   ]
  },
  {
   "cell_type": "markdown",
   "id": "2183147f",
   "metadata": {},
   "source": [
    "`-` test"
   ]
  },
  {
   "cell_type": "code",
   "execution_count": 237,
   "id": "901e8497",
   "metadata": {},
   "outputs": [],
   "source": [
    "preds= RF.predict(test_scale)"
   ]
  },
  {
   "cell_type": "code",
   "execution_count": 242,
   "id": "db2594dc",
   "metadata": {},
   "outputs": [],
   "source": [
    "preds= y_encoder.inverse_transform(preds)"
   ]
  },
  {
   "cell_type": "markdown",
   "id": "1d0dbaf9",
   "metadata": {},
   "source": [
    "`-` submit"
   ]
  },
  {
   "cell_type": "code",
   "execution_count": 243,
   "id": "5ea253bd",
   "metadata": {},
   "outputs": [],
   "source": [
    "submit = pd.read_csv('C:\\\\Users\\\\default.DESKTOP-2ISHQBS\\\\lab\\\\data\\\\dacon\\\\open\\\\sample_submission.csv')"
   ]
  },
  {
   "cell_type": "code",
   "execution_count": 244,
   "id": "702e96bf",
   "metadata": {},
   "outputs": [],
   "source": [
    "submit['대출등급'] = preds"
   ]
  },
  {
   "cell_type": "code",
   "execution_count": 245,
   "id": "79a3260e",
   "metadata": {},
   "outputs": [],
   "source": [
    "submit.to_csv('./baseline_submission.csv', index=False)"
   ]
  },
  {
   "cell_type": "markdown",
   "id": "8f8baae5",
   "metadata": {},
   "source": [
    "---"
   ]
  }
 ],
 "metadata": {
  "kernelspec": {
   "display_name": "Python 3 (ipykernel)",
   "language": "python",
   "name": "python3"
  },
  "language_info": {
   "codemirror_mode": {
    "name": "ipython",
    "version": 3
   },
   "file_extension": ".py",
   "mimetype": "text/x-python",
   "name": "python",
   "nbconvert_exporter": "python",
   "pygments_lexer": "ipython3",
   "version": "3.10.9"
  }
 },
 "nbformat": 4,
 "nbformat_minor": 5
}
