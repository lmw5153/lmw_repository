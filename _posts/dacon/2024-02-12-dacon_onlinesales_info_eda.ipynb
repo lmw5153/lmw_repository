{
 "cells": [
  {
   "cell_type": "markdown",
   "id": "6177d733",
   "metadata": {},
   "source": [
    "# 데이콘 온라인세일 정보 데이터분석"
   ]
  },
  {
   "cell_type": "markdown",
   "id": "ff01f533",
   "metadata": {},
   "source": [
    "---"
   ]
  },
  {
   "cell_type": "markdown",
   "id": "9a47427e",
   "metadata": {},
   "source": [
    "- 목차\n",
    "    - 사전준비 및 read data\n",
    "    - 이산형 변수 EDA\n",
    "    - 연속형 변수 EDA\n",
    "    - 연속형 변수 회귀분석"
   ]
  },
  {
   "cell_type": "markdown",
   "id": "7cfbdf69",
   "metadata": {},
   "source": [
    "---"
   ]
  },
  {
   "cell_type": "markdown",
   "id": "aeec8d73",
   "metadata": {},
   "source": [
    "# 사전준비 및 read data"
   ]
  },
  {
   "cell_type": "code",
   "execution_count": 245,
   "id": "9f468ba9",
   "metadata": {},
   "outputs": [],
   "source": [
    "import numpy as np\n",
    "import matplotlib.pyplot as plt\n",
    "import pandas as pd\n",
    "\n",
    "# 한글깨짐해결\n",
    "plt.rcParams['font.family'] ='Malgun Gothic'\n",
    "plt.rcParams['axes.unicode_minus'] =False"
   ]
  },
  {
   "cell_type": "code",
   "execution_count": 283,
   "id": "225e49b4",
   "metadata": {},
   "outputs": [
    {
     "data": {
      "text/html": [
       "<div>\n",
       "<style scoped>\n",
       "    .dataframe tbody tr th:only-of-type {\n",
       "        vertical-align: middle;\n",
       "    }\n",
       "\n",
       "    .dataframe tbody tr th {\n",
       "        vertical-align: top;\n",
       "    }\n",
       "\n",
       "    .dataframe thead th {\n",
       "        text-align: right;\n",
       "    }\n",
       "</style>\n",
       "<table border=\"1\" class=\"dataframe\">\n",
       "  <thead>\n",
       "    <tr style=\"text-align: right;\">\n",
       "      <th></th>\n",
       "      <th>고객ID</th>\n",
       "      <th>거래ID</th>\n",
       "      <th>거래날짜</th>\n",
       "      <th>제품ID</th>\n",
       "      <th>제품카테고리</th>\n",
       "      <th>수량</th>\n",
       "      <th>평균금액</th>\n",
       "      <th>배송료</th>\n",
       "      <th>쿠폰상태</th>\n",
       "    </tr>\n",
       "  </thead>\n",
       "  <tbody>\n",
       "    <tr>\n",
       "      <th>0</th>\n",
       "      <td>USER_1358</td>\n",
       "      <td>Transaction_0000</td>\n",
       "      <td>2019-01-01</td>\n",
       "      <td>Product_0981</td>\n",
       "      <td>Nest-USA</td>\n",
       "      <td>1</td>\n",
       "      <td>153.71</td>\n",
       "      <td>6.5</td>\n",
       "      <td>Used</td>\n",
       "    </tr>\n",
       "    <tr>\n",
       "      <th>1</th>\n",
       "      <td>USER_1358</td>\n",
       "      <td>Transaction_0001</td>\n",
       "      <td>2019-01-01</td>\n",
       "      <td>Product_0981</td>\n",
       "      <td>Nest-USA</td>\n",
       "      <td>1</td>\n",
       "      <td>153.71</td>\n",
       "      <td>6.5</td>\n",
       "      <td>Used</td>\n",
       "    </tr>\n",
       "    <tr>\n",
       "      <th>2</th>\n",
       "      <td>USER_1358</td>\n",
       "      <td>Transaction_0002</td>\n",
       "      <td>2019-01-01</td>\n",
       "      <td>Product_0904</td>\n",
       "      <td>Office</td>\n",
       "      <td>1</td>\n",
       "      <td>2.05</td>\n",
       "      <td>6.5</td>\n",
       "      <td>Used</td>\n",
       "    </tr>\n",
       "    <tr>\n",
       "      <th>3</th>\n",
       "      <td>USER_1358</td>\n",
       "      <td>Transaction_0003</td>\n",
       "      <td>2019-01-01</td>\n",
       "      <td>Product_0203</td>\n",
       "      <td>Apparel</td>\n",
       "      <td>5</td>\n",
       "      <td>17.53</td>\n",
       "      <td>6.5</td>\n",
       "      <td>Not Used</td>\n",
       "    </tr>\n",
       "    <tr>\n",
       "      <th>4</th>\n",
       "      <td>USER_1358</td>\n",
       "      <td>Transaction_0003</td>\n",
       "      <td>2019-01-01</td>\n",
       "      <td>Product_0848</td>\n",
       "      <td>Bags</td>\n",
       "      <td>1</td>\n",
       "      <td>16.50</td>\n",
       "      <td>6.5</td>\n",
       "      <td>Used</td>\n",
       "    </tr>\n",
       "  </tbody>\n",
       "</table>\n",
       "</div>"
      ],
      "text/plain": [
       "        고객ID              거래ID        거래날짜          제품ID    제품카테고리  수량  \\\n",
       "0  USER_1358  Transaction_0000  2019-01-01  Product_0981  Nest-USA   1   \n",
       "1  USER_1358  Transaction_0001  2019-01-01  Product_0981  Nest-USA   1   \n",
       "2  USER_1358  Transaction_0002  2019-01-01  Product_0904    Office   1   \n",
       "3  USER_1358  Transaction_0003  2019-01-01  Product_0203   Apparel   5   \n",
       "4  USER_1358  Transaction_0003  2019-01-01  Product_0848      Bags   1   \n",
       "\n",
       "     평균금액  배송료      쿠폰상태  \n",
       "0  153.71  6.5      Used  \n",
       "1  153.71  6.5      Used  \n",
       "2    2.05  6.5      Used  \n",
       "3   17.53  6.5  Not Used  \n",
       "4   16.50  6.5      Used  "
      ]
     },
     "execution_count": 283,
     "metadata": {},
     "output_type": "execute_result"
    }
   ],
   "source": [
    "df = pd.read_csv('C:\\\\Users\\\\minu\\\\lab\\\\dacon0210\\\\Onlinesales_info.csv')\n",
    "df.head()"
   ]
  },
  {
   "cell_type": "code",
   "execution_count": 6,
   "id": "43a648a4",
   "metadata": {},
   "outputs": [
    {
     "data": {
      "text/plain": [
       "Index(['고객ID', '거래ID', '거래날짜', '제품ID', '제품카테고리', '수량', '평균금액', '배송료', '쿠폰상태'], dtype='object')"
      ]
     },
     "execution_count": 6,
     "metadata": {},
     "output_type": "execute_result"
    }
   ],
   "source": [
    "df.columns"
   ]
  },
  {
   "cell_type": "code",
   "execution_count": 7,
   "id": "1400363a",
   "metadata": {},
   "outputs": [
    {
     "data": {
      "text/plain": [
       "(52924, 9)"
      ]
     },
     "execution_count": 7,
     "metadata": {},
     "output_type": "execute_result"
    }
   ],
   "source": [
    "df.shape"
   ]
  },
  {
   "cell_type": "code",
   "execution_count": 9,
   "id": "aa5ba279",
   "metadata": {},
   "outputs": [
    {
     "data": {
      "text/plain": [
       "고객ID      0\n",
       "거래ID      0\n",
       "거래날짜      0\n",
       "제품ID      0\n",
       "제품카테고리    0\n",
       "수량        0\n",
       "평균금액      0\n",
       "배송료       0\n",
       "쿠폰상태      0\n",
       "dtype: int64"
      ]
     },
     "execution_count": 9,
     "metadata": {},
     "output_type": "execute_result"
    }
   ],
   "source": [
    "df.isnull().sum(axis=0)"
   ]
  },
  {
   "cell_type": "markdown",
   "id": "9f084209",
   "metadata": {},
   "source": [
    "- 데이터 변수\n",
    "    - 이산형 변수 : 고객, 거래, 제품, 카테고리, 쿠폰상태\n",
    "    - 연속형 변수 : 수량, 평균금액, 배송료"
   ]
  },
  {
   "cell_type": "markdown",
   "id": "c123bb14",
   "metadata": {},
   "source": [
    "---"
   ]
  },
  {
   "cell_type": "code",
   "execution_count": 284,
   "id": "77049a53",
   "metadata": {},
   "outputs": [],
   "source": [
    "class df_tool():\n",
    "    def __init__(self,df,feature1):\n",
    "        self.df = df.reset_index()\n",
    "        self.feature1 = feature1\n",
    "        \n",
    "    def DFcount(self):\n",
    "        df_count= self.df.groupby(self.feature1).count().sort_values('index',ascending=False)[['index']]\n",
    "        print('{}의 중복되지 않는 수 :'.format(self.feature1),df_count.shape[0])\n",
    "        self.df_count = df_count\n",
    "        return self.df_count\n",
    "    \n",
    "    def DFdistribution(self,n):\n",
    "        #print('{} 집계 수의 히스토그램'.format(self.feature1))\n",
    "        fig, ax = plt.subplots(1,2,figsize=(8, 6))\n",
    "        #hist= self.df_count.hist(bins=n)\n",
    "        ax[0].hist(self.df_count,n)\n",
    "        ax[1].boxplot(self.df_count, labels =' ')"
   ]
  },
  {
   "cell_type": "markdown",
   "id": "b6955044",
   "metadata": {},
   "source": [
    "---"
   ]
  },
  {
   "cell_type": "markdown",
   "id": "d9bc2d72",
   "metadata": {},
   "source": [
    "# 이산형 변수 EDA"
   ]
  },
  {
   "cell_type": "markdown",
   "id": "dd21f73a",
   "metadata": {},
   "source": [
    "### 고객ID"
   ]
  },
  {
   "cell_type": "code",
   "execution_count": 285,
   "id": "6cd91d32",
   "metadata": {
    "scrolled": true
   },
   "outputs": [
    {
     "name": "stdout",
     "output_type": "stream",
     "text": [
      "고객ID의 중복되지 않는 수 : 1468\n"
     ]
    },
    {
     "data": {
      "text/html": [
       "<div>\n",
       "<style scoped>\n",
       "    .dataframe tbody tr th:only-of-type {\n",
       "        vertical-align: middle;\n",
       "    }\n",
       "\n",
       "    .dataframe tbody tr th {\n",
       "        vertical-align: top;\n",
       "    }\n",
       "\n",
       "    .dataframe thead th {\n",
       "        text-align: right;\n",
       "    }\n",
       "</style>\n",
       "<table border=\"1\" class=\"dataframe\">\n",
       "  <thead>\n",
       "    <tr style=\"text-align: right;\">\n",
       "      <th></th>\n",
       "      <th>index</th>\n",
       "    </tr>\n",
       "    <tr>\n",
       "      <th>고객ID</th>\n",
       "      <th></th>\n",
       "    </tr>\n",
       "  </thead>\n",
       "  <tbody>\n",
       "    <tr>\n",
       "      <th>USER_0118</th>\n",
       "      <td>695</td>\n",
       "    </tr>\n",
       "    <tr>\n",
       "      <th>USER_0736</th>\n",
       "      <td>587</td>\n",
       "    </tr>\n",
       "    <tr>\n",
       "      <th>USER_0563</th>\n",
       "      <td>575</td>\n",
       "    </tr>\n",
       "    <tr>\n",
       "      <th>USER_1355</th>\n",
       "      <td>572</td>\n",
       "    </tr>\n",
       "    <tr>\n",
       "      <th>USER_0643</th>\n",
       "      <td>523</td>\n",
       "    </tr>\n",
       "  </tbody>\n",
       "</table>\n",
       "</div>"
      ],
      "text/plain": [
       "           index\n",
       "고객ID            \n",
       "USER_0118    695\n",
       "USER_0736    587\n",
       "USER_0563    575\n",
       "USER_1355    572\n",
       "USER_0643    523"
      ]
     },
     "execution_count": 285,
     "metadata": {},
     "output_type": "execute_result"
    }
   ],
   "source": [
    "tool1 = df_tool(df,'고객ID')\n",
    "tool1.DFcount().head()"
   ]
  },
  {
   "cell_type": "code",
   "execution_count": 299,
   "id": "065a4bcb",
   "metadata": {},
   "outputs": [
    {
     "data": {
      "text/html": [
       "<div>\n",
       "<style scoped>\n",
       "    .dataframe tbody tr th:only-of-type {\n",
       "        vertical-align: middle;\n",
       "    }\n",
       "\n",
       "    .dataframe tbody tr th {\n",
       "        vertical-align: top;\n",
       "    }\n",
       "\n",
       "    .dataframe thead th {\n",
       "        text-align: right;\n",
       "    }\n",
       "</style>\n",
       "<table border=\"1\" class=\"dataframe\">\n",
       "  <thead>\n",
       "    <tr style=\"text-align: right;\">\n",
       "      <th></th>\n",
       "      <th>index</th>\n",
       "    </tr>\n",
       "  </thead>\n",
       "  <tbody>\n",
       "    <tr>\n",
       "      <th>count</th>\n",
       "      <td>1468.000000</td>\n",
       "    </tr>\n",
       "    <tr>\n",
       "      <th>mean</th>\n",
       "      <td>36.051771</td>\n",
       "    </tr>\n",
       "    <tr>\n",
       "      <th>std</th>\n",
       "      <td>50.885680</td>\n",
       "    </tr>\n",
       "    <tr>\n",
       "      <th>min</th>\n",
       "      <td>1.000000</td>\n",
       "    </tr>\n",
       "    <tr>\n",
       "      <th>25%</th>\n",
       "      <td>10.000000</td>\n",
       "    </tr>\n",
       "    <tr>\n",
       "      <th>50%</th>\n",
       "      <td>21.000000</td>\n",
       "    </tr>\n",
       "    <tr>\n",
       "      <th>75%</th>\n",
       "      <td>46.000000</td>\n",
       "    </tr>\n",
       "    <tr>\n",
       "      <th>max</th>\n",
       "      <td>695.000000</td>\n",
       "    </tr>\n",
       "  </tbody>\n",
       "</table>\n",
       "</div>"
      ],
      "text/plain": [
       "             index\n",
       "count  1468.000000\n",
       "mean     36.051771\n",
       "std      50.885680\n",
       "min       1.000000\n",
       "25%      10.000000\n",
       "50%      21.000000\n",
       "75%      46.000000\n",
       "max     695.000000"
      ]
     },
     "execution_count": 299,
     "metadata": {},
     "output_type": "execute_result"
    }
   ],
   "source": [
    "tool1.df_count.describe()"
   ]
  },
  {
   "cell_type": "markdown",
   "id": "51a40be1",
   "metadata": {},
   "source": [
    "- 평균적인 고객의 이커머스의 이용은 36회이다\n",
    "- 단 최댓값이 매우 높은 것으로 특정 고객이 이용률이 매우 높다\n",
    "- 이용률이 높은 고객과 낮은 고객이 어떤 특성을 지닌지 확인해볼만 하다."
   ]
  },
  {
   "cell_type": "code",
   "execution_count": 286,
   "id": "6741fa71",
   "metadata": {
    "scrolled": false
   },
   "outputs": [
    {
     "data": {
      "image/png": "[encoded data removed]",
      "text/plain": [
       "<Figure size 800x600 with 2 Axes>"
      ]
     },
     "metadata": {},
     "output_type": "display_data"
    }
   ],
   "source": [
    "tool1.DFdistribution(30)"
   ]
  },
  {
   "cell_type": "markdown",
   "id": "ef686126",
   "metadata": {},
   "source": [
    "- 특정 고객이 매우 높은 거래율을 보여준다.\n",
    "- 대부분이 주문율이 0~30회 구간에 쏠려있는 것을 확인할 수 있다"
   ]
  },
  {
   "cell_type": "markdown",
   "id": "68b28361",
   "metadata": {},
   "source": [
    "---"
   ]
  },
  {
   "cell_type": "markdown",
   "id": "101f7c86",
   "metadata": {},
   "source": [
    "### 거래ID"
   ]
  },
  {
   "cell_type": "markdown",
   "id": "6807807f",
   "metadata": {},
   "source": [
    "- 고객 ID와 거래 ID의 차이를 정확히 인지할 필요가 있다\n",
    "- 아직까진 정확히 무슨 기준으로 나누어진 것인지 애매하다.\n",
    "- 같은 고객 ID여도 거래 ID의 차이가 있고 반대로 같은 거래 ID이지만 고객 ID가 다른경우가 있다. \n",
    "- 고객의 특성을 볼 때 고객 ID를 활용할 수 있고 거래와 관련된 특성을 확인할 때 거래 ID가 필요해보인다.\n",
    "- 일단 거래ID가 고객이 구매를 진행할 때 나온 기록 데이터라고 가정하고 분석을 하도록 하겠음"
   ]
  },
  {
   "cell_type": "code",
   "execution_count": 307,
   "id": "72c7ebaf",
   "metadata": {},
   "outputs": [
    {
     "name": "stdout",
     "output_type": "stream",
     "text": [
      "거래ID의 중복되지 않는 수 : 25061\n"
     ]
    },
    {
     "data": {
      "text/html": [
       "<div>\n",
       "<style scoped>\n",
       "    .dataframe tbody tr th:only-of-type {\n",
       "        vertical-align: middle;\n",
       "    }\n",
       "\n",
       "    .dataframe tbody tr th {\n",
       "        vertical-align: top;\n",
       "    }\n",
       "\n",
       "    .dataframe thead th {\n",
       "        text-align: right;\n",
       "    }\n",
       "</style>\n",
       "<table border=\"1\" class=\"dataframe\">\n",
       "  <thead>\n",
       "    <tr style=\"text-align: right;\">\n",
       "      <th></th>\n",
       "      <th>index</th>\n",
       "    </tr>\n",
       "    <tr>\n",
       "      <th>거래ID</th>\n",
       "      <th></th>\n",
       "    </tr>\n",
       "  </thead>\n",
       "  <tbody>\n",
       "    <tr>\n",
       "      <th>Transaction_12261</th>\n",
       "      <td>35</td>\n",
       "    </tr>\n",
       "    <tr>\n",
       "      <th>Transaction_4716</th>\n",
       "      <td>30</td>\n",
       "    </tr>\n",
       "    <tr>\n",
       "      <th>Transaction_19047</th>\n",
       "      <td>29</td>\n",
       "    </tr>\n",
       "    <tr>\n",
       "      <th>Transaction_13487</th>\n",
       "      <td>28</td>\n",
       "    </tr>\n",
       "    <tr>\n",
       "      <th>Transaction_16759</th>\n",
       "      <td>27</td>\n",
       "    </tr>\n",
       "  </tbody>\n",
       "</table>\n",
       "</div>"
      ],
      "text/plain": [
       "                   index\n",
       "거래ID                    \n",
       "Transaction_12261     35\n",
       "Transaction_4716      30\n",
       "Transaction_19047     29\n",
       "Transaction_13487     28\n",
       "Transaction_16759     27"
      ]
     },
     "execution_count": 307,
     "metadata": {},
     "output_type": "execute_result"
    }
   ],
   "source": [
    "tool2 = df_tool(df,'거래ID')\n",
    "tool2.DFcount().head()"
   ]
  },
  {
   "cell_type": "code",
   "execution_count": 308,
   "id": "10cc8c7e",
   "metadata": {},
   "outputs": [
    {
     "data": {
      "text/html": [
       "<div>\n",
       "<style scoped>\n",
       "    .dataframe tbody tr th:only-of-type {\n",
       "        vertical-align: middle;\n",
       "    }\n",
       "\n",
       "    .dataframe tbody tr th {\n",
       "        vertical-align: top;\n",
       "    }\n",
       "\n",
       "    .dataframe thead th {\n",
       "        text-align: right;\n",
       "    }\n",
       "</style>\n",
       "<table border=\"1\" class=\"dataframe\">\n",
       "  <thead>\n",
       "    <tr style=\"text-align: right;\">\n",
       "      <th></th>\n",
       "      <th>index</th>\n",
       "    </tr>\n",
       "  </thead>\n",
       "  <tbody>\n",
       "    <tr>\n",
       "      <th>count</th>\n",
       "      <td>25061.000000</td>\n",
       "    </tr>\n",
       "    <tr>\n",
       "      <th>mean</th>\n",
       "      <td>2.111807</td>\n",
       "    </tr>\n",
       "    <tr>\n",
       "      <th>std</th>\n",
       "      <td>2.177670</td>\n",
       "    </tr>\n",
       "    <tr>\n",
       "      <th>min</th>\n",
       "      <td>1.000000</td>\n",
       "    </tr>\n",
       "    <tr>\n",
       "      <th>25%</th>\n",
       "      <td>1.000000</td>\n",
       "    </tr>\n",
       "    <tr>\n",
       "      <th>50%</th>\n",
       "      <td>1.000000</td>\n",
       "    </tr>\n",
       "    <tr>\n",
       "      <th>75%</th>\n",
       "      <td>2.000000</td>\n",
       "    </tr>\n",
       "    <tr>\n",
       "      <th>max</th>\n",
       "      <td>35.000000</td>\n",
       "    </tr>\n",
       "  </tbody>\n",
       "</table>\n",
       "</div>"
      ],
      "text/plain": [
       "              index\n",
       "count  25061.000000\n",
       "mean       2.111807\n",
       "std        2.177670\n",
       "min        1.000000\n",
       "25%        1.000000\n",
       "50%        1.000000\n",
       "75%        2.000000\n",
       "max       35.000000"
      ]
     },
     "execution_count": 308,
     "metadata": {},
     "output_type": "execute_result"
    }
   ],
   "source": [
    "tool2.df_count.describe()"
   ]
  },
  {
   "cell_type": "markdown",
   "id": "327088dd",
   "metadata": {},
   "source": [
    "- 평균적인 거래는 2회\n",
    "- 상위 75%의 값또한 2회로 쏠려 있고 중앙값은 1회이므로 분포자체가 오른쪽이 매우긴 분포가 예상되어진다.\n",
    "- 특정 고객만이 계속 이커머스를 통해 거래를 하는 경향이 있다는 것을 알 수 있음\n",
    "- 그 특정 고객이 가진 특성과 다른 일반 고객의 특성의 차이가 무엇인지 확인이 필요해보인다"
   ]
  },
  {
   "cell_type": "code",
   "execution_count": 310,
   "id": "40b15d83",
   "metadata": {
    "scrolled": true
   },
   "outputs": [
    {
     "data": {
      "image/png": "[encoded data removed]",
      "text/plain": [
       "<Figure size 800x600 with 2 Axes>"
      ]
     },
     "metadata": {},
     "output_type": "display_data"
    }
   ],
   "source": [
    "tool2.DFdistribution(30)"
   ]
  },
  {
   "cell_type": "markdown",
   "id": "e864e5c9",
   "metadata": {},
   "source": [
    "---"
   ]
  },
  {
   "cell_type": "markdown",
   "id": "85281c10",
   "metadata": {},
   "source": [
    "### 제품 ID"
   ]
  },
  {
   "cell_type": "code",
   "execution_count": 235,
   "id": "6f6de532",
   "metadata": {
    "scrolled": true
   },
   "outputs": [
    {
     "name": "stdout",
     "output_type": "stream",
     "text": [
      "제품ID의 중복되지 않는 수 : 1145\n"
     ]
    },
    {
     "data": {
      "text/html": [
       "<div>\n",
       "<style scoped>\n",
       "    .dataframe tbody tr th:only-of-type {\n",
       "        vertical-align: middle;\n",
       "    }\n",
       "\n",
       "    .dataframe tbody tr th {\n",
       "        vertical-align: top;\n",
       "    }\n",
       "\n",
       "    .dataframe thead th {\n",
       "        text-align: right;\n",
       "    }\n",
       "</style>\n",
       "<table border=\"1\" class=\"dataframe\">\n",
       "  <thead>\n",
       "    <tr style=\"text-align: right;\">\n",
       "      <th></th>\n",
       "      <th>index</th>\n",
       "    </tr>\n",
       "    <tr>\n",
       "      <th>제품ID</th>\n",
       "      <th></th>\n",
       "    </tr>\n",
       "  </thead>\n",
       "  <tbody>\n",
       "    <tr>\n",
       "      <th>Product_0981</th>\n",
       "      <td>3511</td>\n",
       "    </tr>\n",
       "    <tr>\n",
       "      <th>Product_0983</th>\n",
       "      <td>3328</td>\n",
       "    </tr>\n",
       "    <tr>\n",
       "      <th>Product_0976</th>\n",
       "      <td>3230</td>\n",
       "    </tr>\n",
       "    <tr>\n",
       "      <th>Product_0984</th>\n",
       "      <td>1361</td>\n",
       "    </tr>\n",
       "    <tr>\n",
       "      <th>Product_0989</th>\n",
       "      <td>1089</td>\n",
       "    </tr>\n",
       "  </tbody>\n",
       "</table>\n",
       "</div>"
      ],
      "text/plain": [
       "              index\n",
       "제품ID               \n",
       "Product_0981   3511\n",
       "Product_0983   3328\n",
       "Product_0976   3230\n",
       "Product_0984   1361\n",
       "Product_0989   1089"
      ]
     },
     "execution_count": 235,
     "metadata": {},
     "output_type": "execute_result"
    }
   ],
   "source": [
    "tool3 = df_tool(df,'제품ID')\n",
    "tool3.DFcount().head()"
   ]
  },
  {
   "cell_type": "markdown",
   "id": "d169bf0f",
   "metadata": {},
   "source": [
    "- 제품 ID의 카운트가 높을수록 구매자가 많다라고 볼 수 있거나 특정 고객이 대량을 구매한다라고 볼 수 있다."
   ]
  },
  {
   "cell_type": "code",
   "execution_count": 313,
   "id": "de257243",
   "metadata": {},
   "outputs": [
    {
     "data": {
      "text/html": [
       "<div>\n",
       "<style scoped>\n",
       "    .dataframe tbody tr th:only-of-type {\n",
       "        vertical-align: middle;\n",
       "    }\n",
       "\n",
       "    .dataframe tbody tr th {\n",
       "        vertical-align: top;\n",
       "    }\n",
       "\n",
       "    .dataframe thead th {\n",
       "        text-align: right;\n",
       "    }\n",
       "</style>\n",
       "<table border=\"1\" class=\"dataframe\">\n",
       "  <thead>\n",
       "    <tr style=\"text-align: right;\">\n",
       "      <th></th>\n",
       "      <th>index</th>\n",
       "    </tr>\n",
       "  </thead>\n",
       "  <tbody>\n",
       "    <tr>\n",
       "      <th>count</th>\n",
       "      <td>1145.000000</td>\n",
       "    </tr>\n",
       "    <tr>\n",
       "      <th>mean</th>\n",
       "      <td>46.221834</td>\n",
       "    </tr>\n",
       "    <tr>\n",
       "      <th>std</th>\n",
       "      <td>193.262109</td>\n",
       "    </tr>\n",
       "    <tr>\n",
       "      <th>min</th>\n",
       "      <td>1.000000</td>\n",
       "    </tr>\n",
       "    <tr>\n",
       "      <th>25%</th>\n",
       "      <td>6.000000</td>\n",
       "    </tr>\n",
       "    <tr>\n",
       "      <th>50%</th>\n",
       "      <td>15.000000</td>\n",
       "    </tr>\n",
       "    <tr>\n",
       "      <th>75%</th>\n",
       "      <td>32.000000</td>\n",
       "    </tr>\n",
       "    <tr>\n",
       "      <th>max</th>\n",
       "      <td>3511.000000</td>\n",
       "    </tr>\n",
       "  </tbody>\n",
       "</table>\n",
       "</div>"
      ],
      "text/plain": [
       "             index\n",
       "count  1145.000000\n",
       "mean     46.221834\n",
       "std     193.262109\n",
       "min       1.000000\n",
       "25%       6.000000\n",
       "50%      15.000000\n",
       "75%      32.000000\n",
       "max    3511.000000"
      ]
     },
     "execution_count": 313,
     "metadata": {},
     "output_type": "execute_result"
    }
   ],
   "source": [
    "tool3.df_count.describe()"
   ]
  },
  {
   "cell_type": "markdown",
   "id": "41445659",
   "metadata": {},
   "source": [
    "- 평균은 46회\n",
    "- 중앙값이 15회, 75% 값이 32회인 것으로 보아 마찬가지로 오른쪽이 매우 긴 분포를 형성하고 있겠다.\n",
    "- 즉 몇몇 제품이 압도적인 구매율을 나타낸다는 것으로 볼 수 있다."
   ]
  },
  {
   "cell_type": "code",
   "execution_count": 236,
   "id": "ed4d124c",
   "metadata": {},
   "outputs": [
    {
     "data": {
      "image/png": "[encoded data removed]",
      "text/plain": [
       "<Figure size 800x600 with 2 Axes>"
      ]
     },
     "metadata": {},
     "output_type": "display_data"
    }
   ],
   "source": [
    "tool3.DFdistribution(30)"
   ]
  },
  {
   "cell_type": "markdown",
   "id": "876c94e5",
   "metadata": {},
   "source": [
    "---"
   ]
  },
  {
   "cell_type": "markdown",
   "id": "7c1560ee",
   "metadata": {},
   "source": [
    "### 제품카테고리"
   ]
  },
  {
   "cell_type": "code",
   "execution_count": 237,
   "id": "a7a77c02",
   "metadata": {},
   "outputs": [
    {
     "name": "stdout",
     "output_type": "stream",
     "text": [
      "제품카테고리의 중복되지 않는 수 : 20\n"
     ]
    },
    {
     "data": {
      "text/html": [
       "<div>\n",
       "<style scoped>\n",
       "    .dataframe tbody tr th:only-of-type {\n",
       "        vertical-align: middle;\n",
       "    }\n",
       "\n",
       "    .dataframe tbody tr th {\n",
       "        vertical-align: top;\n",
       "    }\n",
       "\n",
       "    .dataframe thead th {\n",
       "        text-align: right;\n",
       "    }\n",
       "</style>\n",
       "<table border=\"1\" class=\"dataframe\">\n",
       "  <thead>\n",
       "    <tr style=\"text-align: right;\">\n",
       "      <th></th>\n",
       "      <th>index</th>\n",
       "    </tr>\n",
       "    <tr>\n",
       "      <th>제품카테고리</th>\n",
       "      <th></th>\n",
       "    </tr>\n",
       "  </thead>\n",
       "  <tbody>\n",
       "    <tr>\n",
       "      <th>Apparel</th>\n",
       "      <td>18126</td>\n",
       "    </tr>\n",
       "    <tr>\n",
       "      <th>Nest-USA</th>\n",
       "      <td>14013</td>\n",
       "    </tr>\n",
       "    <tr>\n",
       "      <th>Office</th>\n",
       "      <td>6513</td>\n",
       "    </tr>\n",
       "    <tr>\n",
       "      <th>Drinkware</th>\n",
       "      <td>3483</td>\n",
       "    </tr>\n",
       "    <tr>\n",
       "      <th>Lifestyle</th>\n",
       "      <td>3092</td>\n",
       "    </tr>\n",
       "  </tbody>\n",
       "</table>\n",
       "</div>"
      ],
      "text/plain": [
       "           index\n",
       "제품카테고리          \n",
       "Apparel    18126\n",
       "Nest-USA   14013\n",
       "Office      6513\n",
       "Drinkware   3483\n",
       "Lifestyle   3092"
      ]
     },
     "execution_count": 237,
     "metadata": {},
     "output_type": "execute_result"
    }
   ],
   "source": [
    "tool4 = df_tool(df,'제품카테고리')\n",
    "tool4.DFcount().head()"
   ]
  },
  {
   "cell_type": "code",
   "execution_count": 320,
   "id": "8b3314a5",
   "metadata": {},
   "outputs": [
    {
     "data": {
      "text/plain": [
       "array(['Apparel', 'Nest-USA', 'Office', 'Drinkware', 'Lifestyle', 'Nest',\n",
       "       'Bags', 'Headgear', 'Notebooks & Journals', 'Waze', 'Nest-Canada',\n",
       "       'Bottles', 'Accessories', 'Fun', 'Gift Cards', 'Housewares',\n",
       "       'Google', 'Backpacks', 'More Bags', 'Android'], dtype=object)"
      ]
     },
     "execution_count": 320,
     "metadata": {},
     "output_type": "execute_result"
    }
   ],
   "source": [
    "tool4.df_count.index.values"
   ]
  },
  {
   "cell_type": "markdown",
   "id": "0889d31d",
   "metadata": {},
   "source": [
    "- 제품 카테고리는 다른 이산형변수보다 변수 폭이 좁다"
   ]
  },
  {
   "cell_type": "code",
   "execution_count": 323,
   "id": "6d7d2f23",
   "metadata": {},
   "outputs": [
    {
     "data": {
      "text/html": [
       "<div>\n",
       "<style scoped>\n",
       "    .dataframe tbody tr th:only-of-type {\n",
       "        vertical-align: middle;\n",
       "    }\n",
       "\n",
       "    .dataframe tbody tr th {\n",
       "        vertical-align: top;\n",
       "    }\n",
       "\n",
       "    .dataframe thead th {\n",
       "        text-align: right;\n",
       "    }\n",
       "</style>\n",
       "<table border=\"1\" class=\"dataframe\">\n",
       "  <thead>\n",
       "    <tr style=\"text-align: right;\">\n",
       "      <th></th>\n",
       "      <th>index</th>\n",
       "    </tr>\n",
       "  </thead>\n",
       "  <tbody>\n",
       "    <tr>\n",
       "      <th>count</th>\n",
       "      <td>20.000000</td>\n",
       "    </tr>\n",
       "    <tr>\n",
       "      <th>mean</th>\n",
       "      <td>2646.200000</td>\n",
       "    </tr>\n",
       "    <tr>\n",
       "      <th>std</th>\n",
       "      <td>4915.767912</td>\n",
       "    </tr>\n",
       "    <tr>\n",
       "      <th>min</th>\n",
       "      <td>43.000000</td>\n",
       "    </tr>\n",
       "    <tr>\n",
       "      <th>25%</th>\n",
       "      <td>149.750000</td>\n",
       "    </tr>\n",
       "    <tr>\n",
       "      <th>50%</th>\n",
       "      <td>435.500000</td>\n",
       "    </tr>\n",
       "    <tr>\n",
       "      <th>75%</th>\n",
       "      <td>2421.500000</td>\n",
       "    </tr>\n",
       "    <tr>\n",
       "      <th>max</th>\n",
       "      <td>18126.000000</td>\n",
       "    </tr>\n",
       "  </tbody>\n",
       "</table>\n",
       "</div>"
      ],
      "text/plain": [
       "              index\n",
       "count     20.000000\n",
       "mean    2646.200000\n",
       "std     4915.767912\n",
       "min       43.000000\n",
       "25%      149.750000\n",
       "50%      435.500000\n",
       "75%     2421.500000\n",
       "max    18126.000000"
      ]
     },
     "execution_count": 323,
     "metadata": {},
     "output_type": "execute_result"
    }
   ],
   "source": [
    "tool4.df_count.describe()"
   ]
  },
  {
   "cell_type": "markdown",
   "id": "e62d773c",
   "metadata": {},
   "source": [
    "- 평균은 약 2646회\n",
    "- 중앙값이 435회, 75% 값이 2421회인 것으로 보아 마찬가지로 오른쪽이 매우 긴 분포를 형성하고 있겠다.\n",
    "- 즉 몇몇 제품의 카테고리가 압도적인 구매율을 보여줄 것으로 보인다"
   ]
  },
  {
   "cell_type": "code",
   "execution_count": 326,
   "id": "72fd7886",
   "metadata": {},
   "outputs": [
    {
     "data": {
      "text/plain": [
       "<Axes: ylabel='제품카테고리'>"
      ]
     },
     "execution_count": 326,
     "metadata": {},
     "output_type": "execute_result"
    },
    {
     "data": {
      "image/png": "[encoded data removed]",
      "text/plain": [
       "<Figure size 640x480 with 1 Axes>"
      ]
     },
     "metadata": {},
     "output_type": "display_data"
    }
   ],
   "source": [
    "tool4.df_count.sort_values('index').plot(kind = 'barh')"
   ]
  },
  {
   "cell_type": "markdown",
   "id": "5ee9cddd",
   "metadata": {},
   "source": [
    "- 제품 카테고리의 바그래프이다.\n",
    "- Apparel, Nest-usa, office, drinkware, lifestyle순으로 가장 많은 카테고리를 차지하고 있다."
   ]
  },
  {
   "cell_type": "code",
   "execution_count": 378,
   "id": "ea36dc98",
   "metadata": {},
   "outputs": [
    {
     "data": {
      "image/png": "[encoded data removed]",
      "text/plain": [
       "<Figure size 640x480 with 1 Axes>"
      ]
     },
     "metadata": {},
     "output_type": "display_data"
    },
    {
     "data": {
      "text/plain": [
       "<Figure size 2000x2000 with 0 Axes>"
      ]
     },
     "metadata": {},
     "output_type": "display_data"
    }
   ],
   "source": [
    "tool4.df_count.sort_values('index')['index'].plot(kind = 'pie',autopct='%1.f%%')\n",
    "plt.figure(figsize=(20, 20))\n",
    "plt.rcParams.update({'font.size': 6})\n",
    "\n",
    "plt.show()"
   ]
  },
  {
   "cell_type": "markdown",
   "id": "94abf5ab",
   "metadata": {},
   "source": [
    "- 파이차트이다\n",
    "- 인기 카테고리 5개가 85%를 차지하고 있다"
   ]
  },
  {
   "cell_type": "markdown",
   "id": "fa0474c4",
   "metadata": {},
   "source": [
    "---"
   ]
  },
  {
   "cell_type": "markdown",
   "id": "52ebbc6b",
   "metadata": {},
   "source": [
    "### 쿠폰상태"
   ]
  },
  {
   "cell_type": "code",
   "execution_count": 239,
   "id": "94759581",
   "metadata": {},
   "outputs": [
    {
     "name": "stdout",
     "output_type": "stream",
     "text": [
      "쿠폰상태의 중복되지 않는 수 : 3\n"
     ]
    },
    {
     "data": {
      "text/html": [
       "<div>\n",
       "<style scoped>\n",
       "    .dataframe tbody tr th:only-of-type {\n",
       "        vertical-align: middle;\n",
       "    }\n",
       "\n",
       "    .dataframe tbody tr th {\n",
       "        vertical-align: top;\n",
       "    }\n",
       "\n",
       "    .dataframe thead th {\n",
       "        text-align: right;\n",
       "    }\n",
       "</style>\n",
       "<table border=\"1\" class=\"dataframe\">\n",
       "  <thead>\n",
       "    <tr style=\"text-align: right;\">\n",
       "      <th></th>\n",
       "      <th>index</th>\n",
       "    </tr>\n",
       "    <tr>\n",
       "      <th>쿠폰상태</th>\n",
       "      <th></th>\n",
       "    </tr>\n",
       "  </thead>\n",
       "  <tbody>\n",
       "    <tr>\n",
       "      <th>Clicked</th>\n",
       "      <td>26926</td>\n",
       "    </tr>\n",
       "    <tr>\n",
       "      <th>Used</th>\n",
       "      <td>17904</td>\n",
       "    </tr>\n",
       "    <tr>\n",
       "      <th>Not Used</th>\n",
       "      <td>8094</td>\n",
       "    </tr>\n",
       "  </tbody>\n",
       "</table>\n",
       "</div>"
      ],
      "text/plain": [
       "          index\n",
       "쿠폰상태           \n",
       "Clicked   26926\n",
       "Used      17904\n",
       "Not Used   8094"
      ]
     },
     "execution_count": 239,
     "metadata": {},
     "output_type": "execute_result"
    }
   ],
   "source": [
    "tool5 = df_tool(df,'쿠폰상태')\n",
    "tool5.DFcount().head()"
   ]
  },
  {
   "cell_type": "code",
   "execution_count": 395,
   "id": "872eb65f",
   "metadata": {},
   "outputs": [
    {
     "name": "stdout",
     "output_type": "stream",
     "text": [
      "쿠폰을 클릭했지만 사용하지 않음 [9022]\n",
      "쿠폰을 클릭조차 하지 않음 [928]\n"
     ]
    }
   ],
   "source": [
    "clicked_but_not_used= tool5.df_count.iloc[0,:] - tool5.df_count.iloc[1,:]\n",
    "not_click_and_not_used= clicked_but_not_used - tool5.df_count.iloc[2,:]\n",
    "print('쿠폰을 클릭했지만 사용하지 않음',clicked_but_not_used.values)\n",
    "print('쿠폰을 클릭조차 하지 않음',not_click_and_not_used.values)"
   ]
  },
  {
   "cell_type": "markdown",
   "id": "7d89135a",
   "metadata": {},
   "source": [
    "- 쿠폰의 이용 상태이다,\n",
    "    - 쿠폰을 클릭한 횟수는 26926회\n",
    "    - 사용한 횟수는 17904회\n",
    "    - 사용하지 않은 횟수는 8094회이다.\n",
    "- 여기서 쿠폰을 사용하기 위해서는 클릭을 해야하기 때문에 used는 clicked와 관련이 있다.\n",
    "- 또한 clicked에서 used를 뺀 값은 쿠폰을 클릭하고도 사용하지 않은 횟수이며 이는 not used값과 다름"
   ]
  },
  {
   "cell_type": "code",
   "execution_count": 420,
   "id": "487b1d7e",
   "metadata": {},
   "outputs": [],
   "source": [
    "coupon_values= np.concatenate([tool5.df_count.values.flatten(),clicked_but_not_used.values,not_click_and_not_used.values],axis=0)\n",
    "coupon_index= tool5.df_count.index.values.flatten().tolist() +['clicked_not_used','No_clicked']\n",
    "\n",
    "df_coupon = pd.DataFrame({'coupon':coupon_values},coupon_index)"
   ]
  },
  {
   "cell_type": "code",
   "execution_count": 422,
   "id": "bf808c24",
   "metadata": {},
   "outputs": [
    {
     "data": {
      "text/plain": [
       "<Axes: >"
      ]
     },
     "execution_count": 422,
     "metadata": {},
     "output_type": "execute_result"
    },
    {
     "data": {
      "image/png": "[encoded data removed]",
      "text/plain": [
       "<Figure size 640x480 with 1 Axes>"
      ]
     },
     "metadata": {},
     "output_type": "display_data"
    }
   ],
   "source": [
    "df_coupon.sort_values('coupon').plot(kind = 'bar')"
   ]
  },
  {
   "cell_type": "markdown",
   "id": "44b3c25a",
   "metadata": {},
   "source": [
    "- 쿠폰의 이용 현황을 나타낸 바그래프이다"
   ]
  },
  {
   "cell_type": "markdown",
   "id": "b6dc72e8",
   "metadata": {},
   "source": [
    "---"
   ]
  },
  {
   "cell_type": "markdown",
   "id": "a79b5695",
   "metadata": {},
   "source": [
    "# 연속형 변수 EDA"
   ]
  },
  {
   "cell_type": "markdown",
   "id": "37b36a1c",
   "metadata": {},
   "source": [
    "### EDA"
   ]
  },
  {
   "cell_type": "code",
   "execution_count": 433,
   "id": "a1dc4208",
   "metadata": {},
   "outputs": [
    {
     "data": {
      "text/html": [
       "<div>\n",
       "<style scoped>\n",
       "    .dataframe tbody tr th:only-of-type {\n",
       "        vertical-align: middle;\n",
       "    }\n",
       "\n",
       "    .dataframe tbody tr th {\n",
       "        vertical-align: top;\n",
       "    }\n",
       "\n",
       "    .dataframe thead th {\n",
       "        text-align: right;\n",
       "    }\n",
       "</style>\n",
       "<table border=\"1\" class=\"dataframe\">\n",
       "  <thead>\n",
       "    <tr style=\"text-align: right;\">\n",
       "      <th></th>\n",
       "      <th>수량</th>\n",
       "      <th>평균금액</th>\n",
       "      <th>배송료</th>\n",
       "    </tr>\n",
       "  </thead>\n",
       "  <tbody>\n",
       "    <tr>\n",
       "      <th>count</th>\n",
       "      <td>52924.000000</td>\n",
       "      <td>52924.000000</td>\n",
       "      <td>52924.000000</td>\n",
       "    </tr>\n",
       "    <tr>\n",
       "      <th>mean</th>\n",
       "      <td>4.497638</td>\n",
       "      <td>52.237646</td>\n",
       "      <td>10.517630</td>\n",
       "    </tr>\n",
       "    <tr>\n",
       "      <th>std</th>\n",
       "      <td>20.104711</td>\n",
       "      <td>64.006882</td>\n",
       "      <td>19.475613</td>\n",
       "    </tr>\n",
       "    <tr>\n",
       "      <th>min</th>\n",
       "      <td>1.000000</td>\n",
       "      <td>0.390000</td>\n",
       "      <td>0.000000</td>\n",
       "    </tr>\n",
       "    <tr>\n",
       "      <th>25%</th>\n",
       "      <td>1.000000</td>\n",
       "      <td>5.700000</td>\n",
       "      <td>6.000000</td>\n",
       "    </tr>\n",
       "    <tr>\n",
       "      <th>50%</th>\n",
       "      <td>1.000000</td>\n",
       "      <td>16.990000</td>\n",
       "      <td>6.000000</td>\n",
       "    </tr>\n",
       "    <tr>\n",
       "      <th>75%</th>\n",
       "      <td>2.000000</td>\n",
       "      <td>102.130000</td>\n",
       "      <td>6.500000</td>\n",
       "    </tr>\n",
       "    <tr>\n",
       "      <th>max</th>\n",
       "      <td>900.000000</td>\n",
       "      <td>355.740000</td>\n",
       "      <td>521.360000</td>\n",
       "    </tr>\n",
       "  </tbody>\n",
       "</table>\n",
       "</div>"
      ],
      "text/plain": [
       "                 수량          평균금액           배송료\n",
       "count  52924.000000  52924.000000  52924.000000\n",
       "mean       4.497638     52.237646     10.517630\n",
       "std       20.104711     64.006882     19.475613\n",
       "min        1.000000      0.390000      0.000000\n",
       "25%        1.000000      5.700000      6.000000\n",
       "50%        1.000000     16.990000      6.000000\n",
       "75%        2.000000    102.130000      6.500000\n",
       "max      900.000000    355.740000    521.360000"
      ]
     },
     "execution_count": 433,
     "metadata": {},
     "output_type": "execute_result"
    }
   ],
   "source": [
    "df_con = df.loc[:,['수량','평균금액','배송료']]\n",
    "df_con.describe()"
   ]
  },
  {
   "cell_type": "markdown",
   "id": "931a80df",
   "metadata": {},
   "source": [
    "- 수량, 평균금액, 배송료 변수 전부다 평균보다 중앙값이 더 낮은 공통점이 존재한다\n",
    "- 분포는 오른쪽이 긴꼬리를 형성할 것이고 기준은 평균보다 중앙값을 잡는 것이 좋아보인다\n",
    "\n",
    "`-` 수량\n",
    "- 수량은 맥시멈 값이 상당히 높은데 대량구매로 보여진다. 고객의 특성이 도매업, 소매업, 또는 대량 구매를 하는 쪽일 것이다.\n",
    "- 대체적으로 구매할 때 수량은 2개를 넘지 않을 것\n",
    "\n",
    "`-` 평균금액\n",
    "- 평균금액은 물건 하나의 평균적인 금액을 의미한다.\n",
    "- 금액에 따른 수량 또는 금액에 따른 고객의 특성을 볼 수 있겠다\n",
    "\n",
    "`-` 배송료\n",
    "- 배송료는 배송료가 측정되어지는 기준이 중요해보인다\n",
    "- 운송하는 거리, 산간지역이나 섬 등 지역의 특성을 고려해서 배송료가 큰 편차로 벌어질 것"
   ]
  },
  {
   "cell_type": "code",
   "execution_count": 437,
   "id": "a7ae1a65",
   "metadata": {},
   "outputs": [
    {
     "data": {
      "image/png": "[encoded data removed]",
      "text/plain": [
       "<Figure size 640x480 with 4 Axes>"
      ]
     },
     "metadata": {},
     "output_type": "display_data"
    }
   ],
   "source": [
    "df_con.hist(bins=50);"
   ]
  },
  {
   "cell_type": "markdown",
   "id": "68d9647f",
   "metadata": {},
   "source": [
    "- 수량과 배송료는 극단적으로 분포가 매우 치우쳐져 있다\n",
    "- 평균금액 또한 마찬가지로 왼쪽에 쏠려 있지만 중앙에 봉우리 하나가 더 형성되있다.\n",
    "    - 이는 대부분의 많은 구매 물품은 저가로 형성되어있지만 특정 어떤 물품인 경우는 사람들이 비싸더라도 많이 구매하는 것으로 볼 수 있다"
   ]
  },
  {
   "cell_type": "markdown",
   "id": "7431ad88",
   "metadata": {},
   "source": [
    "---"
   ]
  },
  {
   "cell_type": "markdown",
   "id": "8930c195",
   "metadata": {},
   "source": [
    "### 연속형 변수 산점도"
   ]
  },
  {
   "cell_type": "code",
   "execution_count": 472,
   "id": "2ba6930b",
   "metadata": {},
   "outputs": [
    {
     "data": {
      "image/png": "[encoded data removed]",
      "text/plain": [
       "<Figure size 750x750 with 12 Axes>"
      ]
     },
     "metadata": {},
     "output_type": "display_data"
    }
   ],
   "source": [
    "import seaborn as sns\n",
    "sns.pairplot(df_con,diag_kws={'bins': 30});\n"
   ]
  },
  {
   "cell_type": "markdown",
   "id": "339ec685",
   "metadata": {},
   "source": [
    "- 변수들 간의 상관관계가 두드러지는 특징이 관찰되지 않는다"
   ]
  },
  {
   "cell_type": "code",
   "execution_count": 461,
   "id": "0d631a58",
   "metadata": {},
   "outputs": [
    {
     "data": {
      "text/html": [
       "<div>\n",
       "<style scoped>\n",
       "    .dataframe tbody tr th:only-of-type {\n",
       "        vertical-align: middle;\n",
       "    }\n",
       "\n",
       "    .dataframe tbody tr th {\n",
       "        vertical-align: top;\n",
       "    }\n",
       "\n",
       "    .dataframe thead th {\n",
       "        text-align: right;\n",
       "    }\n",
       "</style>\n",
       "<table border=\"1\" class=\"dataframe\">\n",
       "  <thead>\n",
       "    <tr style=\"text-align: right;\">\n",
       "      <th></th>\n",
       "      <th>수량</th>\n",
       "      <th>평균금액</th>\n",
       "      <th>배송료</th>\n",
       "    </tr>\n",
       "  </thead>\n",
       "  <tbody>\n",
       "    <tr>\n",
       "      <th>수량</th>\n",
       "      <td>1.000000</td>\n",
       "      <td>-0.113996</td>\n",
       "      <td>0.191383</td>\n",
       "    </tr>\n",
       "    <tr>\n",
       "      <th>평균금액</th>\n",
       "      <td>-0.113996</td>\n",
       "      <td>1.000000</td>\n",
       "      <td>-0.107799</td>\n",
       "    </tr>\n",
       "    <tr>\n",
       "      <th>배송료</th>\n",
       "      <td>0.191383</td>\n",
       "      <td>-0.107799</td>\n",
       "      <td>1.000000</td>\n",
       "    </tr>\n",
       "  </tbody>\n",
       "</table>\n",
       "</div>"
      ],
      "text/plain": [
       "            수량      평균금액       배송료\n",
       "수량    1.000000 -0.113996  0.191383\n",
       "평균금액 -0.113996  1.000000 -0.107799\n",
       "배송료   0.191383 -0.107799  1.000000"
      ]
     },
     "execution_count": 461,
     "metadata": {},
     "output_type": "execute_result"
    }
   ],
   "source": [
    "df_con.corr()"
   ]
  },
  {
   "cell_type": "markdown",
   "id": "f5a42235",
   "metadata": {},
   "source": [
    "- 상관관계의 구체적인 수치 또한 서로 큰 상관성이 있다고 보이지 않는다"
   ]
  },
  {
   "cell_type": "markdown",
   "id": "849bf0b5",
   "metadata": {},
   "source": [
    "- 이는 보통 물건의 금액이 비싸면 배송료가 싸다는 것이나 또는 배송료가 비싸다는 것은 물건의 금액이 비싸다라는 인식은 맞지 않다고\n",
    "말하는 지표라고 볼 수 있다\n",
    "\n",
    "- 다만 이는 물건의 카테고리에 따라 다를 수가 있겠는데, 어떤 물건은 가격은 비싸지만 운송이 어려워 배송료가 높아질 수도 있고 어떤 물건은 가격은 비싸더라도 운송이 쉬워 배송료가 낮아질 수가 있다. 따라서 물건을 카테고리로 나눠서 다시 변수간의 관계를 보는 것이 좋아보인다"
   ]
  },
  {
   "cell_type": "markdown",
   "id": "bca0564d",
   "metadata": {},
   "source": [
    "---"
   ]
  },
  {
   "cell_type": "markdown",
   "id": "55008a76",
   "metadata": {},
   "source": [
    "# 연속형 변수 회귀분석"
   ]
  },
  {
   "cell_type": "markdown",
   "id": "0dbaca28",
   "metadata": {},
   "source": [
    "- 각 변수를 타겟으로 설정하여 회귀분석 모형을 돌린 결과이다\n",
    "- 해당 결과로 타겟과 설명변수가 어떤 사이에 있는지를 대략 알 수 있는 지표가 된다"
   ]
  },
  {
   "cell_type": "code",
   "execution_count": 447,
   "id": "5f9027e2",
   "metadata": {},
   "outputs": [],
   "source": [
    "import statsmodels.api as sm\n",
    "from statsmodels.formula.api import *\n"
   ]
  },
  {
   "cell_type": "markdown",
   "id": "b124134a",
   "metadata": {},
   "source": [
    "### 평균금액 타겟"
   ]
  },
  {
   "cell_type": "code",
   "execution_count": 452,
   "id": "70878f29",
   "metadata": {},
   "outputs": [
    {
     "data": {
      "text/html": [
       "<table class=\"simpletable\">\n",
       "<caption>OLS Regression Results</caption>\n",
       "<tr>\n",
       "  <th>Dep. Variable:</th>          <td>평균금액</td>       <th>  R-squared:         </th>  <td>   0.021</td>  \n",
       "</tr>\n",
       "<tr>\n",
       "  <th>Model:</th>                   <td>OLS</td>       <th>  Adj. R-squared:    </th>  <td>   0.021</td>  \n",
       "</tr>\n",
       "<tr>\n",
       "  <th>Method:</th>             <td>Least Squares</td>  <th>  F-statistic:       </th>  <td>   558.5</td>  \n",
       "</tr>\n",
       "<tr>\n",
       "  <th>Date:</th>             <td>Mon, 12 Feb 2024</td> <th>  Prob (F-statistic):</th>  <td>9.75e-241</td> \n",
       "</tr>\n",
       "<tr>\n",
       "  <th>Time:</th>                 <td>15:16:33</td>     <th>  Log-Likelihood:    </th> <td>-2.9465e+05</td>\n",
       "</tr>\n",
       "<tr>\n",
       "  <th>No. Observations:</th>      <td> 52924</td>      <th>  AIC:               </th>  <td>5.893e+05</td> \n",
       "</tr>\n",
       "<tr>\n",
       "  <th>Df Residuals:</th>          <td> 52921</td>      <th>  BIC:               </th>  <td>5.893e+05</td> \n",
       "</tr>\n",
       "<tr>\n",
       "  <th>Df Model:</th>              <td>     2</td>      <th>                     </th>      <td> </td>     \n",
       "</tr>\n",
       "<tr>\n",
       "  <th>Covariance Type:</th>      <td>nonrobust</td>    <th>                     </th>      <td> </td>     \n",
       "</tr>\n",
       "</table>\n",
       "<table class=\"simpletable\">\n",
       "<tr>\n",
       "      <td></td>         <th>coef</th>     <th>std err</th>      <th>t</th>      <th>P>|t|</th>  <th>[0.025</th>    <th>0.975]</th>  \n",
       "</tr>\n",
       "<tr>\n",
       "  <th>Intercept</th> <td>   56.7105</td> <td>    0.315</td> <td>  180.179</td> <td> 0.000</td> <td>   56.094</td> <td>   57.327</td>\n",
       "</tr>\n",
       "<tr>\n",
       "  <th>수량</th>        <td>   -0.3085</td> <td>    0.014</td> <td>  -22.112</td> <td> 0.000</td> <td>   -0.336</td> <td>   -0.281</td>\n",
       "</tr>\n",
       "<tr>\n",
       "  <th>배송료</th>       <td>   -0.2933</td> <td>    0.014</td> <td>  -20.364</td> <td> 0.000</td> <td>   -0.322</td> <td>   -0.265</td>\n",
       "</tr>\n",
       "</table>\n",
       "<table class=\"simpletable\">\n",
       "<tr>\n",
       "  <th>Omnibus:</th>       <td>16449.346</td> <th>  Durbin-Watson:     </th> <td>   1.174</td> \n",
       "</tr>\n",
       "<tr>\n",
       "  <th>Prob(Omnibus):</th>  <td> 0.000</td>   <th>  Jarque-Bera (JB):  </th> <td>49211.380</td>\n",
       "</tr>\n",
       "<tr>\n",
       "  <th>Skew:</th>           <td> 1.630</td>   <th>  Prob(JB):          </th> <td>    0.00</td> \n",
       "</tr>\n",
       "<tr>\n",
       "  <th>Kurtosis:</th>       <td> 6.418</td>   <th>  Cond. No.          </th> <td>    27.6</td> \n",
       "</tr>\n",
       "</table><br/><br/>Notes:<br/>[1] Standard Errors assume that the covariance matrix of the errors is correctly specified."
      ],
      "text/plain": [
       "<class 'statsmodels.iolib.summary.Summary'>\n",
       "\"\"\"\n",
       "                            OLS Regression Results                            \n",
       "==============================================================================\n",
       "Dep. Variable:                   평균금액   R-squared:                       0.021\n",
       "Model:                            OLS   Adj. R-squared:                  0.021\n",
       "Method:                 Least Squares   F-statistic:                     558.5\n",
       "Date:                Mon, 12 Feb 2024   Prob (F-statistic):          9.75e-241\n",
       "Time:                        15:16:33   Log-Likelihood:            -2.9465e+05\n",
       "No. Observations:               52924   AIC:                         5.893e+05\n",
       "Df Residuals:                   52921   BIC:                         5.893e+05\n",
       "Df Model:                           2                                         \n",
       "Covariance Type:            nonrobust                                         \n",
       "==============================================================================\n",
       "                 coef    std err          t      P>|t|      [0.025      0.975]\n",
       "------------------------------------------------------------------------------\n",
       "Intercept     56.7105      0.315    180.179      0.000      56.094      57.327\n",
       "수량            -0.3085      0.014    -22.112      0.000      -0.336      -0.281\n",
       "배송료           -0.2933      0.014    -20.364      0.000      -0.322      -0.265\n",
       "==============================================================================\n",
       "Omnibus:                    16449.346   Durbin-Watson:                   1.174\n",
       "Prob(Omnibus):                  0.000   Jarque-Bera (JB):            49211.380\n",
       "Skew:                           1.630   Prob(JB):                         0.00\n",
       "Kurtosis:                       6.418   Cond. No.                         27.6\n",
       "==============================================================================\n",
       "\n",
       "Notes:\n",
       "[1] Standard Errors assume that the covariance matrix of the errors is correctly specified.\n",
       "\"\"\""
      ]
     },
     "execution_count": 452,
     "metadata": {},
     "output_type": "execute_result"
    }
   ],
   "source": [
    "m1 =ols('평균금액 ~수량+배송료',df_con).fit()\n",
    "\n",
    "m1.summary()"
   ]
  },
  {
   "cell_type": "markdown",
   "id": "b6745586",
   "metadata": {},
   "source": [
    "- 결정계수가 매우 낮음 변수의 변동성을 잘 설명한 것은 아니다\n",
    "- 하지만 각 변수의 t-value가 매우 높다. f 통계량도 매우 높다\n",
    "- 이는 각 변수 끼리의 관계 자체는 서로 유의한 어떤 점이 있을 것으로 보임\n",
    "- 또한 수량과 배송료의 계수가 음수인 것으로 보아 금액이 증가할 수록 수량 또는 배송료는 감소하는 관계에 있다고 볼 수 있다"
   ]
  },
  {
   "cell_type": "markdown",
   "id": "6c3d146a",
   "metadata": {},
   "source": [
    "---"
   ]
  },
  {
   "cell_type": "markdown",
   "id": "a69b4bbf",
   "metadata": {},
   "source": [
    "### 수량 타겟"
   ]
  },
  {
   "cell_type": "code",
   "execution_count": 480,
   "id": "8307db60",
   "metadata": {},
   "outputs": [
    {
     "data": {
      "text/html": [
       "<table class=\"simpletable\">\n",
       "<caption>OLS Regression Results</caption>\n",
       "<tr>\n",
       "  <th>Dep. Variable:</th>           <td>수량</td>        <th>  R-squared:         </th>  <td>   0.045</td>  \n",
       "</tr>\n",
       "<tr>\n",
       "  <th>Model:</th>                   <td>OLS</td>       <th>  Adj. R-squared:    </th>  <td>   0.045</td>  \n",
       "</tr>\n",
       "<tr>\n",
       "  <th>Method:</th>             <td>Least Squares</td>  <th>  F-statistic:       </th>  <td>   1260.</td>  \n",
       "</tr>\n",
       "<tr>\n",
       "  <th>Date:</th>             <td>Mon, 12 Feb 2024</td> <th>  Prob (F-statistic):</th>   <td>  0.00</td>   \n",
       "</tr>\n",
       "<tr>\n",
       "  <th>Time:</th>                 <td>15:35:33</td>     <th>  Log-Likelihood:    </th> <td>-2.3269e+05</td>\n",
       "</tr>\n",
       "<tr>\n",
       "  <th>No. Observations:</th>      <td> 52924</td>      <th>  AIC:               </th>  <td>4.654e+05</td> \n",
       "</tr>\n",
       "<tr>\n",
       "  <th>Df Residuals:</th>          <td> 52921</td>      <th>  BIC:               </th>  <td>4.654e+05</td> \n",
       "</tr>\n",
       "<tr>\n",
       "  <th>Df Model:</th>              <td>     2</td>      <th>                     </th>      <td> </td>     \n",
       "</tr>\n",
       "<tr>\n",
       "  <th>Covariance Type:</th>      <td>nonrobust</td>    <th>                     </th>      <td> </td>     \n",
       "</tr>\n",
       "</table>\n",
       "<table class=\"simpletable\">\n",
       "<tr>\n",
       "      <td></td>         <th>coef</th>     <th>std err</th>      <th>t</th>      <th>P>|t|</th>  <th>[0.025</th>    <th>0.975]</th>  \n",
       "</tr>\n",
       "<tr>\n",
       "  <th>Intercept</th> <td>    4.0802</td> <td>    0.123</td> <td>   33.253</td> <td> 0.000</td> <td>    3.840</td> <td>    4.321</td>\n",
       "</tr>\n",
       "<tr>\n",
       "  <th>평균금액</th>      <td>   -0.0297</td> <td>    0.001</td> <td>  -22.112</td> <td> 0.000</td> <td>   -0.032</td> <td>   -0.027</td>\n",
       "</tr>\n",
       "<tr>\n",
       "  <th>배송료</th>       <td>    0.1871</td> <td>    0.004</td> <td>   42.416</td> <td> 0.000</td> <td>    0.178</td> <td>    0.196</td>\n",
       "</tr>\n",
       "</table>\n",
       "<table class=\"simpletable\">\n",
       "<tr>\n",
       "  <th>Omnibus:</th>       <td>114084.552</td> <th>  Durbin-Watson:     </th>   <td>   1.384</td>   \n",
       "</tr>\n",
       "<tr>\n",
       "  <th>Prob(Omnibus):</th>   <td> 0.000</td>   <th>  Jarque-Bera (JB):  </th> <td>666683222.028</td>\n",
       "</tr>\n",
       "<tr>\n",
       "  <th>Skew:</th>            <td>19.342</td>   <th>  Prob(JB):          </th>   <td>    0.00</td>   \n",
       "</tr>\n",
       "<tr>\n",
       "  <th>Kurtosis:</th>        <td>551.481</td>  <th>  Cond. No.          </th>   <td>    119.</td>   \n",
       "</tr>\n",
       "</table><br/><br/>Notes:<br/>[1] Standard Errors assume that the covariance matrix of the errors is correctly specified."
      ],
      "text/plain": [
       "<class 'statsmodels.iolib.summary.Summary'>\n",
       "\"\"\"\n",
       "                            OLS Regression Results                            \n",
       "==============================================================================\n",
       "Dep. Variable:                     수량   R-squared:                       0.045\n",
       "Model:                            OLS   Adj. R-squared:                  0.045\n",
       "Method:                 Least Squares   F-statistic:                     1260.\n",
       "Date:                Mon, 12 Feb 2024   Prob (F-statistic):               0.00\n",
       "Time:                        15:35:33   Log-Likelihood:            -2.3269e+05\n",
       "No. Observations:               52924   AIC:                         4.654e+05\n",
       "Df Residuals:                   52921   BIC:                         4.654e+05\n",
       "Df Model:                           2                                         \n",
       "Covariance Type:            nonrobust                                         \n",
       "==============================================================================\n",
       "                 coef    std err          t      P>|t|      [0.025      0.975]\n",
       "------------------------------------------------------------------------------\n",
       "Intercept      4.0802      0.123     33.253      0.000       3.840       4.321\n",
       "평균금액          -0.0297      0.001    -22.112      0.000      -0.032      -0.027\n",
       "배송료            0.1871      0.004     42.416      0.000       0.178       0.196\n",
       "==============================================================================\n",
       "Omnibus:                   114084.552   Durbin-Watson:                   1.384\n",
       "Prob(Omnibus):                  0.000   Jarque-Bera (JB):        666683222.028\n",
       "Skew:                          19.342   Prob(JB):                         0.00\n",
       "Kurtosis:                     551.481   Cond. No.                         119.\n",
       "==============================================================================\n",
       "\n",
       "Notes:\n",
       "[1] Standard Errors assume that the covariance matrix of the errors is correctly specified.\n",
       "\"\"\""
      ]
     },
     "execution_count": 480,
     "metadata": {},
     "output_type": "execute_result"
    }
   ],
   "source": [
    "m2 =ols('수량 ~평균금액+배송료',df_con).fit()\n",
    "\n",
    "m2.summary()"
   ]
  },
  {
   "cell_type": "markdown",
   "id": "92180289",
   "metadata": {},
   "source": [
    "- 위 첫번째 모델과 같이 모형자체의 적합성을 논하기 어렵다\n",
    "- 변수들의 계수가 금액은 음수이고 배송료는 양수이다\n",
    "    - 물건의 수량이 증가할 때마다, 평균금액은 떨어지고 배송료는 오른다는 것\n",
    "    - 이는 대량 구입하면 할인을 더 붙일 수 있다는 의미이고, 물건의 개수는 많으니 배송할 때 양이 많아져 배송료는 오를수 있다는 의미로 해석되어진다"
   ]
  },
  {
   "cell_type": "markdown",
   "id": "def5c61c",
   "metadata": {},
   "source": [
    "---"
   ]
  },
  {
   "cell_type": "markdown",
   "id": "1f660fdf",
   "metadata": {},
   "source": [
    "### 배송료 타겟"
   ]
  },
  {
   "cell_type": "code",
   "execution_count": 484,
   "id": "c5d97c02",
   "metadata": {},
   "outputs": [
    {
     "data": {
      "text/html": [
       "<table class=\"simpletable\">\n",
       "<caption>OLS Regression Results</caption>\n",
       "<tr>\n",
       "  <th>Dep. Variable:</th>           <td>배송료</td>       <th>  R-squared:         </th>  <td>   0.044</td>  \n",
       "</tr>\n",
       "<tr>\n",
       "  <th>Model:</th>                   <td>OLS</td>       <th>  Adj. R-squared:    </th>  <td>   0.044</td>  \n",
       "</tr>\n",
       "<tr>\n",
       "  <th>Method:</th>             <td>Least Squares</td>  <th>  F-statistic:       </th>  <td>   1221.</td>  \n",
       "</tr>\n",
       "<tr>\n",
       "  <th>Date:</th>             <td>Mon, 12 Feb 2024</td> <th>  Prob (F-statistic):</th>   <td>  0.00</td>   \n",
       "</tr>\n",
       "<tr>\n",
       "  <th>Time:</th>                 <td>15:36:41</td>     <th>  Log-Likelihood:    </th> <td>-2.3104e+05</td>\n",
       "</tr>\n",
       "<tr>\n",
       "  <th>No. Observations:</th>      <td> 52924</td>      <th>  AIC:               </th>  <td>4.621e+05</td> \n",
       "</tr>\n",
       "<tr>\n",
       "  <th>Df Residuals:</th>          <td> 52921</td>      <th>  BIC:               </th>  <td>4.621e+05</td> \n",
       "</tr>\n",
       "<tr>\n",
       "  <th>Df Model:</th>              <td>     2</td>      <th>                     </th>      <td> </td>     \n",
       "</tr>\n",
       "<tr>\n",
       "  <th>Covariance Type:</th>      <td>nonrobust</td>    <th>                     </th>      <td> </td>     \n",
       "</tr>\n",
       "</table>\n",
       "<table class=\"simpletable\">\n",
       "<tr>\n",
       "      <td></td>         <th>coef</th>     <th>std err</th>      <th>t</th>      <th>P>|t|</th>  <th>[0.025</th>    <th>0.975]</th>  \n",
       "</tr>\n",
       "<tr>\n",
       "  <th>Intercept</th> <td>   11.1117</td> <td>    0.110</td> <td>  100.971</td> <td> 0.000</td> <td>   10.896</td> <td>   11.327</td>\n",
       "</tr>\n",
       "<tr>\n",
       "  <th>평균금액</th>      <td>   -0.0265</td> <td>    0.001</td> <td>  -20.364</td> <td> 0.000</td> <td>   -0.029</td> <td>   -0.024</td>\n",
       "</tr>\n",
       "<tr>\n",
       "  <th>수량</th>        <td>    0.1758</td> <td>    0.004</td> <td>   42.416</td> <td> 0.000</td> <td>    0.168</td> <td>    0.184</td>\n",
       "</tr>\n",
       "</table>\n",
       "<table class=\"simpletable\">\n",
       "<tr>\n",
       "  <th>Omnibus:</th>       <td>89720.174</td> <th>  Durbin-Watson:     </th>   <td>   0.469</td>  \n",
       "</tr>\n",
       "<tr>\n",
       "  <th>Prob(Omnibus):</th>  <td> 0.000</td>   <th>  Jarque-Bera (JB):  </th> <td>93311016.587</td>\n",
       "</tr>\n",
       "<tr>\n",
       "  <th>Skew:</th>           <td>11.711</td>   <th>  Prob(JB):          </th>   <td>    0.00</td>  \n",
       "</tr>\n",
       "<tr>\n",
       "  <th>Kurtosis:</th>       <td>207.368</td>  <th>  Cond. No.          </th>   <td>    110.</td>  \n",
       "</tr>\n",
       "</table><br/><br/>Notes:<br/>[1] Standard Errors assume that the covariance matrix of the errors is correctly specified."
      ],
      "text/plain": [
       "<class 'statsmodels.iolib.summary.Summary'>\n",
       "\"\"\"\n",
       "                            OLS Regression Results                            \n",
       "==============================================================================\n",
       "Dep. Variable:                    배송료   R-squared:                       0.044\n",
       "Model:                            OLS   Adj. R-squared:                  0.044\n",
       "Method:                 Least Squares   F-statistic:                     1221.\n",
       "Date:                Mon, 12 Feb 2024   Prob (F-statistic):               0.00\n",
       "Time:                        15:36:41   Log-Likelihood:            -2.3104e+05\n",
       "No. Observations:               52924   AIC:                         4.621e+05\n",
       "Df Residuals:                   52921   BIC:                         4.621e+05\n",
       "Df Model:                           2                                         \n",
       "Covariance Type:            nonrobust                                         \n",
       "==============================================================================\n",
       "                 coef    std err          t      P>|t|      [0.025      0.975]\n",
       "------------------------------------------------------------------------------\n",
       "Intercept     11.1117      0.110    100.971      0.000      10.896      11.327\n",
       "평균금액          -0.0265      0.001    -20.364      0.000      -0.029      -0.024\n",
       "수량             0.1758      0.004     42.416      0.000       0.168       0.184\n",
       "==============================================================================\n",
       "Omnibus:                    89720.174   Durbin-Watson:                   0.469\n",
       "Prob(Omnibus):                  0.000   Jarque-Bera (JB):         93311016.587\n",
       "Skew:                          11.711   Prob(JB):                         0.00\n",
       "Kurtosis:                     207.368   Cond. No.                         110.\n",
       "==============================================================================\n",
       "\n",
       "Notes:\n",
       "[1] Standard Errors assume that the covariance matrix of the errors is correctly specified.\n",
       "\"\"\""
      ]
     },
     "execution_count": 484,
     "metadata": {},
     "output_type": "execute_result"
    }
   ],
   "source": [
    "m3 =ols('배송료 ~평균금액+수량',df_con).fit()\n",
    "\n",
    "m3.summary()"
   ]
  },
  {
   "cell_type": "markdown",
   "id": "83207832",
   "metadata": {},
   "source": [
    "- 모형의 적합성은 위 모델들처럼 논하기가 어렵다\n",
    "- 변수간의 관계는 평균금액이 음수, 수량이 양수이다.\n",
    "    - 2번째 모델 설명과 일치한다"
   ]
  }
 ],
 "metadata": {
  "kernelspec": {
   "display_name": "Python 3 (ipykernel)",
   "language": "python",
   "name": "python3"
  },
  "language_info": {
   "codemirror_mode": {
    "name": "ipython",
    "version": 3
   },
   "file_extension": ".py",
   "mimetype": "text/x-python",
   "name": "python",
   "nbconvert_exporter": "python",
   "pygments_lexer": "ipython3",
   "version": "3.11.3"
  }
 },
 "nbformat": 4,
 "nbformat_minor": 5
}
