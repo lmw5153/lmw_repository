{
 "cells": [
  {
   "cell_type": "markdown",
   "id": "69b80be3",
   "metadata": {},
   "source": [
    "# seq2one 단방향 전이학습 LSTM 예제\n",
    "\n",
    "- 전이학습에 대한 예제\n",
    "- 사용할 모델은 lstm으로 아래와 같이 모든 모델을 통일하도록 함\n",
    "    - seq2one 구조의 데이터\n",
    "    - 단방향\n",
    "    - 2층구조, 각 층의 unit은 64개"
   ]
  },
  {
   "cell_type": "markdown",
   "id": "9d08e5e3",
   "metadata": {},
   "source": [
    "---"
   ]
  },
  {
   "cell_type": "markdown",
   "id": "120455d8",
   "metadata": {},
   "source": [
    "# import "
   ]
  },
  {
   "cell_type": "code",
   "execution_count": 6,
   "id": "a19eaecf",
   "metadata": {},
   "outputs": [],
   "source": [
    "from datasetsforecast.m4 import M4, M4Evaluation\n",
    "import pandas as pd \n",
    "import numpy as np\n",
    "import matplotlib.pyplot as plt\n",
    "import time\n",
    "\n",
    "from keras.layers import LSTM ,Dense \n",
    "from keras.models import Sequential\n",
    "import keras.backend as K\n",
    "from keras.callbacks import EarlyStopping"
   ]
  },
  {
   "cell_type": "markdown",
   "id": "ac3c2a1d",
   "metadata": {},
   "source": [
    "# source data\n",
    "\n",
    "- 소스데이터는 m4데이터의 hourly data로 24주기의 계절성분을 지님\n",
    "- 24주기의 타임스탭과 363436의 data size를 지닌다\n"
   ]
  },
  {
   "cell_type": "code",
   "execution_count": 12,
   "id": "3758033d",
   "metadata": {},
   "outputs": [],
   "source": [
    "df,*_= M4.load(directory='data',group = 'Hourly')\n",
    "\n",
    "lst = list(set(df.loc[:,'unique_id']))\n",
    "\n",
    "tt = [df[df.loc[:,'unique_id']==lst[i]].iloc[:,1:4].set_index(['ds']) \n",
    "      for i in range(len(lst))]\n",
    "\n",
    "for l in range(len(tt)):\n",
    "    for s in range(1, 25):\n",
    "        tt[l]['shift_{}'.format(s)] = tt[l]['y'].shift(s)\n",
    "        tt[l]['shift_{}'.format(s)] = tt[l]['y'].shift(s)\n",
    "        \n",
    "tt=[tt[i].dropna(axis=0) for i in range(len(tt))]\n",
    "\n",
    "train = np.concatenate([np.array(tt[i].iloc[:,1:]) for i in range(len(tt))])\n",
    "y = np.concatenate([np.array(tt[i].iloc[:,0]) for i in range(len(tt))]).reshape(-1,1)\n",
    "\n",
    "from sklearn.preprocessing import MinMaxScaler\n",
    "min_max_scaler1 = MinMaxScaler()\n",
    "\n",
    "X_scale = min_max_scaler1.fit_transform(train)\n",
    "y_scale = min_max_scaler1.fit_transform(y)"
   ]
  },
  {
   "cell_type": "code",
   "execution_count": 109,
   "id": "a27c7e00",
   "metadata": {},
   "outputs": [
    {
     "data": {
      "text/plain": [
       "((363436, 24), (363436, 1))"
      ]
     },
     "execution_count": 109,
     "metadata": {},
     "output_type": "execute_result"
    }
   ],
   "source": [
    "X_scale.shape, y_scale.shape"
   ]
  },
  {
   "cell_type": "markdown",
   "id": "eed0dd8c",
   "metadata": {},
   "source": [
    "---"
   ]
  },
  {
   "cell_type": "markdown",
   "id": "384b74d2",
   "metadata": {},
   "source": [
    "# target data\n",
    "- target data는 마지막으로부터 2400개의 정보만 쓰기로함\n",
    "- target data의 크기가 커질수록 전이학습의 효력은 떨어질 것으로 예상되어짐\n",
    "- 가지고 있는 data가 작을 수록 유의한 성능을 보여줄 수 있지 않을까"
   ]
  },
  {
   "cell_type": "code",
   "execution_count": 82,
   "id": "8c5646d1",
   "metadata": {},
   "outputs": [],
   "source": [
    "df = pd.read_csv('C:/Users/default.DESKTOP-2ISHQBS/Documents/R/time_ele/train.csv')\n",
    "\n",
    "arr = df.iloc[:,9] # 전력소비량\n",
    "date=  pd.to_datetime(df.iloc[:,2]) # 일시\n",
    "\n",
    "df_= pd.DataFrame({'date':date,\n",
    "              'ele': arr})\n",
    "\n",
    "df_ = df_.set_index('date')\n",
    "\n",
    "from sklearn.preprocessing import MinMaxScaler\n",
    "min_max_scaler = MinMaxScaler()\n",
    "\n",
    "df_['mmele'] = min_max_scaler.fit_transform(df_.iloc[:].to_numpy().reshape(-1,1))\n",
    "\n",
    "df_ = df_.drop(['ele'],axis=1)\n",
    "\n",
    "for s in range(1, 25):\n",
    "    df_['shift_{}'.format(s)] = df_['mmele'].shift(s)\n",
    "    df_['shift_{}'.format(s)] = df_['mmele'].shift(s)\n",
    "\n",
    "df_ = df_.dropna()\n",
    "\n",
    "y = df_.iloc[:,[0]].values #scaled \n",
    "\n",
    "X = df_.iloc[:,1:]\n",
    "\n",
    "from sklearn.model_selection import train_test_split\n",
    "\n",
    "x_train,x_test, y_train , y_test = train_test_split(X.iloc[-2400:,:],y[-2400:],shuffle=False, test_size=0.1)"
   ]
  },
  {
   "cell_type": "code",
   "execution_count": 112,
   "id": "d59071c6",
   "metadata": {},
   "outputs": [
    {
     "data": {
      "text/plain": [
       "((2160, 24), (240, 24), (2160, 1), (240, 1))"
      ]
     },
     "execution_count": 112,
     "metadata": {},
     "output_type": "execute_result"
    }
   ],
   "source": [
    "x_train.shape, x_test.shape, y_train.shape, y_test.shape"
   ]
  },
  {
   "cell_type": "markdown",
   "id": "02755221",
   "metadata": {},
   "source": [
    "- target data는 마지막으로부터 2400개의 정보만 쓰기로함\n",
    "- target data의 크기가 커질수록 전이학습의 효력은 떨어질 것으로 예상되어짐\n",
    "- 가지고 있는 data가 작을 수록 유의한 성능을 보여줄 수 있지 않을까"
   ]
  },
  {
   "cell_type": "markdown",
   "id": "503dfba1",
   "metadata": {},
   "source": [
    "---"
   ]
  },
  {
   "cell_type": "markdown",
   "id": "7b89d142",
   "metadata": {},
   "source": [
    "# non pretrained lstm model\n",
    "\n",
    "- 비교군 모델\n",
    "- 타겟 데이터를 직접적으로 피팅하고 예측"
   ]
  },
  {
   "cell_type": "code",
   "execution_count": 83,
   "id": "3d50a1e4",
   "metadata": {},
   "outputs": [],
   "source": [
    "K.clear_session()\n",
    "model0 = Sequential() # Sequeatial Model\n",
    "model0.add(LSTM(64, return_sequences=True,input_shape=(24, 1)))# (timestep, feature)\n",
    "model0.add(LSTM(64))\n",
    "model0.add(Dense(1)) # output = 1\n",
    "model0.compile(loss='mean_squared_error', optimizer='adam')"
   ]
  },
  {
   "cell_type": "code",
   "execution_count": 85,
   "id": "7b7018af",
   "metadata": {},
   "outputs": [
    {
     "name": "stdout",
     "output_type": "stream",
     "text": [
      "Epoch 1/100\n",
      "17/17 [==============================] - 3s 14ms/step - loss: 3.1825e-04\n",
      "Epoch 2/100\n",
      "17/17 [==============================] - 0s 14ms/step - loss: 1.7635e-04\n",
      "Epoch 3/100\n",
      "17/17 [==============================] - 0s 14ms/step - loss: 1.5396e-04\n",
      "Epoch 4/100\n",
      "17/17 [==============================] - 0s 14ms/step - loss: 1.3626e-04\n",
      "Epoch 5/100\n",
      "17/17 [==============================] - 0s 14ms/step - loss: 1.1880e-04\n",
      "Epoch 6/100\n",
      "17/17 [==============================] - 0s 14ms/step - loss: 9.0592e-05\n",
      "Epoch 7/100\n",
      "17/17 [==============================] - 0s 14ms/step - loss: 5.7634e-05\n",
      "Epoch 8/100\n",
      "17/17 [==============================] - 0s 14ms/step - loss: 3.5648e-05\n",
      "Epoch 9/100\n",
      "17/17 [==============================] - 0s 14ms/step - loss: 2.6257e-05\n",
      "Epoch 10/100\n",
      "17/17 [==============================] - 0s 14ms/step - loss: 2.7105e-05\n",
      "Epoch 10: early stopping\n"
     ]
    }
   ],
   "source": [
    "early_stop = EarlyStopping(monitor='loss', patience=1, verbose=1)\n",
    "start_time0 = time.time()\n",
    "model0.fit(x_train,y_train, epochs=100,\n",
    "          batch_size=128, verbose=1, callbacks=[early_stop])\n",
    "end_time0 = time.time()"
   ]
  },
  {
   "cell_type": "code",
   "execution_count": 86,
   "id": "8eaa60cc",
   "metadata": {},
   "outputs": [
    {
     "name": "stdout",
     "output_type": "stream",
     "text": [
      "총 학습에 걸린 시간: 4.8234617710113525 초\n"
     ]
    }
   ],
   "source": [
    "total_training_time0 = end_time0 - start_time0\n",
    "\n",
    "print(f\"총 학습에 걸린 시간: {total_training_time0} 초\")"
   ]
  },
  {
   "cell_type": "markdown",
   "id": "acc1cb77",
   "metadata": {},
   "source": [
    "---"
   ]
  },
  {
   "cell_type": "markdown",
   "id": "3ab214a4",
   "metadata": {},
   "source": [
    "# pretrained LSTM model\n",
    "- 2개의 레이어를 전이학습에 사용\n",
    "- 따라서 모든 시퀀스를 반환해야하기 때문에 return_sequences=True 사용\n",
    "- output 레이어는 사용하지 않음"
   ]
  },
  {
   "cell_type": "code",
   "execution_count": 55,
   "id": "e90e1910",
   "metadata": {},
   "outputs": [],
   "source": [
    "K.clear_session()\n",
    "model1 = Sequential() # Sequeatial Model\n",
    "model1.add(LSTM(64, return_sequences=True, input_shape=(24, 1))) # (timestep, feature)\n",
    "model1.add(LSTM(64, return_sequences=True)) # 연결한 모델의 차원을 맞추기 위해 시퀀스 반환을 함\n",
    "model1.add(Dense(1)) # output 사용 x\n",
    "model1.compile(loss='mean_squared_error', optimizer='adam')"
   ]
  },
  {
   "cell_type": "code",
   "execution_count": 56,
   "id": "41578897",
   "metadata": {
    "scrolled": false
   },
   "outputs": [
    {
     "name": "stdout",
     "output_type": "stream",
     "text": [
      "Epoch 1/100\n",
      "2840/2840 [==============================] - 44s 15ms/step - loss: 1.5204e-04\n",
      "Epoch 2/100\n",
      "2840/2840 [==============================] - 42s 15ms/step - loss: 2.3503e-05\n",
      "Epoch 3/100\n",
      "2840/2840 [==============================] - 44s 15ms/step - loss: 1.0142e-05\n",
      "Epoch 4/100\n",
      "2840/2840 [==============================] - 44s 16ms/step - loss: 7.2908e-06\n",
      "Epoch 5/100\n",
      "2840/2840 [==============================] - 44s 16ms/step - loss: 5.7220e-06\n",
      "Epoch 6/100\n",
      "2840/2840 [==============================] - 43s 15ms/step - loss: 5.4433e-06\n",
      "Epoch 7/100\n",
      "2840/2840 [==============================] - 45s 16ms/step - loss: 3.7361e-06\n",
      "Epoch 8/100\n",
      "2840/2840 [==============================] - 42s 15ms/step - loss: 3.7977e-06\n",
      "Epoch 8: early stopping\n"
     ]
    },
    {
     "data": {
      "text/plain": [
       "<keras.src.callbacks.History at 0x1a799064d60>"
      ]
     },
     "execution_count": 56,
     "metadata": {},
     "output_type": "execute_result"
    }
   ],
   "source": [
    "np.random.seed(1)\n",
    "early_stop = EarlyStopping(monitor='loss', patience=1, verbose=1)\n",
    "\n",
    "model1.fit(X_scale, y_scale, epochs=100,\n",
    "          batch_size=128, verbose=1, callbacks=[early_stop])"
   ]
  },
  {
   "cell_type": "code",
   "execution_count": 57,
   "id": "8c31dc9b",
   "metadata": {
    "scrolled": true
   },
   "outputs": [
    {
     "name": "stdout",
     "output_type": "stream",
     "text": [
      "Model: \"sequential\"\n",
      "_________________________________________________________________\n",
      " Layer (type)                Output Shape              Param #   \n",
      "=================================================================\n",
      " lstm (LSTM)                 (None, 24, 64)            16896     \n",
      "                                                                 \n",
      " lstm_1 (LSTM)               (None, 24, 64)            33024     \n",
      "                                                                 \n",
      " dense (Dense)               (None, 24, 1)             65        \n",
      "                                                                 \n",
      "=================================================================\n",
      "Total params: 49985 (195.25 KB)\n",
      "Trainable params: 49985 (195.25 KB)\n",
      "Non-trainable params: 0 (0.00 Byte)\n",
      "_________________________________________________________________\n"
     ]
    }
   ],
   "source": [
    "model1.summary()"
   ]
  },
  {
   "cell_type": "markdown",
   "id": "8f07ba87",
   "metadata": {},
   "source": [
    "---"
   ]
  },
  {
   "cell_type": "markdown",
   "id": "1352ff02",
   "metadata": {},
   "source": [
    "# transfer learning lstm freezing model21\n"
   ]
  },
  {
   "cell_type": "code",
   "execution_count": 40,
   "id": "63643008",
   "metadata": {},
   "outputs": [],
   "source": [
    "from tensorflow.keras import layers"
   ]
  },
  {
   "cell_type": "code",
   "execution_count": 87,
   "id": "1200c443",
   "metadata": {
    "scrolled": true
   },
   "outputs": [],
   "source": [
    "for layer in model1.layers:\n",
    "    layer.trainable = False # freezing\n",
    "    \n",
    "pretrained_layers = model1.layers[:-1]\n",
    "model21 = Sequential(pretrained_layers)\n",
    "model21.add(layers.LSTM(64, return_sequences=False ,input_shape =(24,64)))\n",
    "model21.add(layers.Dense(1))\n",
    "model21.compile(loss='mean_squared_error', optimizer='adam')"
   ]
  },
  {
   "cell_type": "code",
   "execution_count": 114,
   "id": "6a81a1df",
   "metadata": {
    "scrolled": true
   },
   "outputs": [
    {
     "name": "stdout",
     "output_type": "stream",
     "text": [
      "Model: \"sequential_1\"\n",
      "_________________________________________________________________\n",
      " Layer (type)                Output Shape              Param #   \n",
      "=================================================================\n",
      " lstm (LSTM)                 (None, 24, 64)            16896     \n",
      "                                                                 \n",
      " lstm_1 (LSTM)               (None, 24, 64)            33024     \n",
      "                                                                 \n",
      " lstm_2 (LSTM)               (None, 64)                33024     \n",
      "                                                                 \n",
      " dense_1 (Dense)             (None, 1)                 65        \n",
      "                                                                 \n",
      "=================================================================\n",
      "Total params: 83009 (324.25 KB)\n",
      "Trainable params: 83009 (324.25 KB)\n",
      "Non-trainable params: 0 (0.00 Byte)\n",
      "_________________________________________________________________\n"
     ]
    }
   ],
   "source": [
    "model21.summary()"
   ]
  },
  {
   "cell_type": "markdown",
   "id": "e81b9683",
   "metadata": {},
   "source": [
    "`-` fitting"
   ]
  },
  {
   "cell_type": "code",
   "execution_count": 88,
   "id": "b5bed5bd",
   "metadata": {
    "scrolled": true
   },
   "outputs": [
    {
     "name": "stdout",
     "output_type": "stream",
     "text": [
      "Epoch 1/100\n",
      "17/17 [==============================] - 3s 14ms/step - loss: 5.7444e-04\n",
      "Epoch 2/100\n",
      "17/17 [==============================] - 0s 14ms/step - loss: 1.0211e-04\n",
      "Epoch 3/100\n",
      "17/17 [==============================] - 0s 14ms/step - loss: 6.7253e-05\n",
      "Epoch 4/100\n",
      "17/17 [==============================] - 0s 14ms/step - loss: 5.2278e-05\n",
      "Epoch 5/100\n",
      "17/17 [==============================] - 0s 14ms/step - loss: 4.1522e-05\n",
      "Epoch 6/100\n",
      "17/17 [==============================] - 0s 14ms/step - loss: 3.1840e-05\n",
      "Epoch 7/100\n",
      "17/17 [==============================] - 0s 14ms/step - loss: 2.2793e-05\n",
      "Epoch 8/100\n",
      "17/17 [==============================] - 0s 14ms/step - loss: 1.5893e-05\n",
      "Epoch 9/100\n",
      "17/17 [==============================] - 0s 14ms/step - loss: 1.1731e-05\n",
      "Epoch 10/100\n",
      "17/17 [==============================] - 0s 14ms/step - loss: 1.0025e-05\n",
      "Epoch 11/100\n",
      "17/17 [==============================] - 0s 14ms/step - loss: 9.9737e-06\n",
      "Epoch 12/100\n",
      "17/17 [==============================] - 0s 14ms/step - loss: 9.4503e-06\n",
      "Epoch 13/100\n",
      "17/17 [==============================] - 0s 14ms/step - loss: 1.0275e-05\n",
      "Epoch 13: early stopping\n"
     ]
    }
   ],
   "source": [
    "early_stop = EarlyStopping(monitor='loss', patience=1, verbose=1)\n",
    "start_time21 = time.time()\n",
    "model21.fit(x_train, y_train, epochs=100,\n",
    "          batch_size=128, verbose=1, callbacks=[early_stop])\n",
    "end_time21 = time.time()"
   ]
  },
  {
   "cell_type": "code",
   "execution_count": 89,
   "id": "96ae3197",
   "metadata": {},
   "outputs": [
    {
     "name": "stdout",
     "output_type": "stream",
     "text": [
      "총 학습에 걸린 시간: 5.911895275115967 초\n"
     ]
    }
   ],
   "source": [
    "total_training_time21 = end_time21 - start_time21\n",
    "\n",
    "print(f\"총 학습에 걸린 시간: {total_training_time21} 초\")"
   ]
  },
  {
   "cell_type": "markdown",
   "id": "7f1cb313",
   "metadata": {},
   "source": [
    "---"
   ]
  },
  {
   "cell_type": "markdown",
   "id": "150a71ad",
   "metadata": {},
   "source": [
    "# transfer learning no freezing model22"
   ]
  },
  {
   "cell_type": "code",
   "execution_count": 90,
   "id": "a608c7fb",
   "metadata": {},
   "outputs": [],
   "source": [
    "pretrained_layers = model1.layers[:-1]\n",
    "for layer in model1.layers:\n",
    "    layer.trainable = True # freezing\n",
    "    \n",
    "\n",
    "model22 = Sequential(pretrained_layers)\n",
    "model22.add(layers.LSTM(64, input_shape=(24,64)))\n",
    "model22.add(layers.Dense(1))\n",
    "model22.compile(loss='mean_squared_error', optimizer='adam')"
   ]
  },
  {
   "cell_type": "code",
   "execution_count": 115,
   "id": "5a6685fe",
   "metadata": {},
   "outputs": [
    {
     "name": "stdout",
     "output_type": "stream",
     "text": [
      "Model: \"sequential_2\"\n",
      "_________________________________________________________________\n",
      " Layer (type)                Output Shape              Param #   \n",
      "=================================================================\n",
      " lstm (LSTM)                 (None, 24, 64)            16896     \n",
      "                                                                 \n",
      " lstm_1 (LSTM)               (None, 24, 64)            33024     \n",
      "                                                                 \n",
      " lstm_3 (LSTM)               (None, 64)                33024     \n",
      "                                                                 \n",
      " dense_2 (Dense)             (None, 1)                 65        \n",
      "                                                                 \n",
      "=================================================================\n",
      "Total params: 83009 (324.25 KB)\n",
      "Trainable params: 83009 (324.25 KB)\n",
      "Non-trainable params: 0 (0.00 Byte)\n",
      "_________________________________________________________________\n"
     ]
    }
   ],
   "source": [
    "model22.summary()"
   ]
  },
  {
   "cell_type": "markdown",
   "id": "270d3734",
   "metadata": {},
   "source": [
    "`-` fitting"
   ]
  },
  {
   "cell_type": "code",
   "execution_count": 92,
   "id": "35493a7e",
   "metadata": {
    "scrolled": true
   },
   "outputs": [
    {
     "name": "stdout",
     "output_type": "stream",
     "text": [
      "Epoch 1/100\n",
      "17/17 [==============================] - 4s 21ms/step - loss: 3.4234e-04\n",
      "Epoch 2/100\n",
      "17/17 [==============================] - 0s 21ms/step - loss: 5.5641e-05\n",
      "Epoch 3/100\n",
      "17/17 [==============================] - 0s 21ms/step - loss: 3.4360e-05\n",
      "Epoch 4/100\n",
      "17/17 [==============================] - 0s 21ms/step - loss: 2.2878e-05\n",
      "Epoch 5/100\n",
      "17/17 [==============================] - 0s 21ms/step - loss: 1.5959e-05\n",
      "Epoch 6/100\n",
      "17/17 [==============================] - 0s 21ms/step - loss: 1.1400e-05\n",
      "Epoch 7/100\n",
      "17/17 [==============================] - 0s 21ms/step - loss: 9.6892e-06\n",
      "Epoch 8/100\n",
      "17/17 [==============================] - 0s 21ms/step - loss: 9.2253e-06\n",
      "Epoch 9/100\n",
      "17/17 [==============================] - 0s 21ms/step - loss: 8.9927e-06\n",
      "Epoch 10/100\n",
      "17/17 [==============================] - 0s 21ms/step - loss: 9.1064e-06\n",
      "Epoch 10: early stopping\n"
     ]
    }
   ],
   "source": [
    "early_stop = EarlyStopping(monitor='loss', patience=1, verbose=1)\n",
    "start_time22 = time.time()\n",
    "model22.fit(x_train, y_train, epochs=100,\n",
    "          batch_size=128, verbose=1, callbacks=[early_stop])\n",
    "end_time22 = time.time()"
   ]
  },
  {
   "cell_type": "code",
   "execution_count": 93,
   "id": "0c946867",
   "metadata": {},
   "outputs": [
    {
     "name": "stdout",
     "output_type": "stream",
     "text": [
      "총 학습에 걸린 시간: 6.9649338722229 초\n"
     ]
    }
   ],
   "source": [
    "total_training_time22 = end_time22 - start_time22\n",
    "\n",
    "print(f\"총 학습에 걸린 시간: {total_training_time22} 초\")"
   ]
  },
  {
   "cell_type": "markdown",
   "id": "cb0a7dfe",
   "metadata": {},
   "source": [
    "---"
   ]
  },
  {
   "cell_type": "markdown",
   "id": "3486e368",
   "metadata": {},
   "source": [
    "# test"
   ]
  },
  {
   "cell_type": "code",
   "execution_count": 94,
   "id": "af5e3304",
   "metadata": {
    "scrolled": true
   },
   "outputs": [
    {
     "name": "stdout",
     "output_type": "stream",
     "text": [
      "8/8 [==============================] - 1s 3ms/step\n",
      "8/8 [==============================] - 1s 4ms/step\n",
      "8/8 [==============================] - 1s 5ms/step\n"
     ]
    }
   ],
   "source": [
    "pred0 = model0.predict(x_test)\n",
    "pred21 = model21.predict(x_test)\n",
    "pred22 = model22.predict(x_test)"
   ]
  },
  {
   "cell_type": "markdown",
   "id": "925c5518",
   "metadata": {},
   "source": [
    "`-` 그래프"
   ]
  },
  {
   "cell_type": "code",
   "execution_count": 120,
   "id": "f0fd9da2",
   "metadata": {},
   "outputs": [
    {
     "data": {
      "image/png": "[encoded data removed]",
      "text/plain": [
       "<Figure size 640x480 with 1 Axes>"
      ]
     },
     "metadata": {},
     "output_type": "display_data"
    }
   ],
   "source": [
    "n =y_test.shape[0]\n",
    "plt.plot(pred0[:n],label = 'layer_not_pretrain')\n",
    "plt.plot(pred21[:n],label = 'layer_all_freezing')\n",
    "plt.plot(pred22[:n],label = 'layer_not_freezing',color = 'red')\n",
    "#plt.plot(pred31[:n],label = 'last_not_freezing')\n",
    "#plt.plot(pred32[:n],label = 'last_not_freezing',color='brown')\n",
    "plt.plot(y_test.flatten()[:n],label = 'observed',color = 'black')\n",
    "plt.legend(loc='lower left')\n",
    "plt.show()"
   ]
  },
  {
   "cell_type": "markdown",
   "id": "55c594e4",
   "metadata": {},
   "source": [
    "`-` 평가지표"
   ]
  },
  {
   "cell_type": "code",
   "execution_count": 100,
   "id": "be44d207",
   "metadata": {},
   "outputs": [],
   "source": [
    "def MSE(y_pred, y_true):\n",
    "    return np.mean((y_true - y_pred)**2)\n",
    "\n",
    "\n",
    "def MAE(y_pred, y_true):\n",
    "    absolute_errors = np.abs(y_true - y_pred)\n",
    "    mae = np.mean(absolute_errors)\n",
    "    return mae\n",
    "\n",
    "def MAPE(y_true, y_pred):\n",
    "    epsilon = 1e-10\n",
    "    percentage_errors = np.abs((y_true - y_pred) / (y_true + epsilon)) * 100\n",
    "    percentage_errors = np.nan_to_num(percentage_errors)\n",
    "    mape = np.mean(percentage_errors)  \n",
    "    return mape"
   ]
  },
  {
   "cell_type": "code",
   "execution_count": 102,
   "id": "9f18de51",
   "metadata": {},
   "outputs": [],
   "source": [
    "y_observed= y_test.flatten()\n",
    "\n",
    "lst1 = [total_training_time0,total_training_time21,total_training_time22]\n",
    "lst2 =  [MSE(pred0.flatten(),y_observed), MSE(pred21.flatten(),y_observed), MSE(pred22.flatten(),y_observed)]\n",
    "lst3 =  [MAE(pred0.flatten(),y_observed), MAE(pred21.flatten(),y_observed),MAE(pred22.flatten(),y_observed)]\n",
    "lst4 =  [MAPE(pred0.flatten(),y_observed), MAPE(pred21.flatten(),y_observed),MAPE(pred22.flatten(),y_observed)]                                                                                                         \n",
    "name = ['lstm_no_pretrain','lstm_use_freezing','lstm_not_freezing']\n",
    "      #  'gru_no_pretrain','gru_use_freezing','gru_not_freezing']                                                                                                         "
   ]
  },
  {
   "cell_type": "code",
   "execution_count": 103,
   "id": "38330922",
   "metadata": {
    "scrolled": true
   },
   "outputs": [
    {
     "data": {
      "text/html": [
       "<div>\n",
       "<style scoped>\n",
       "    .dataframe tbody tr th:only-of-type {\n",
       "        vertical-align: middle;\n",
       "    }\n",
       "\n",
       "    .dataframe tbody tr th {\n",
       "        vertical-align: top;\n",
       "    }\n",
       "\n",
       "    .dataframe thead th {\n",
       "        text-align: right;\n",
       "    }\n",
       "</style>\n",
       "<table border=\"1\" class=\"dataframe\">\n",
       "  <thead>\n",
       "    <tr style=\"text-align: right;\">\n",
       "      <th></th>\n",
       "      <th>time(second)</th>\n",
       "      <th>MSE</th>\n",
       "      <th>MAE</th>\n",
       "      <th>MAPE</th>\n",
       "    </tr>\n",
       "  </thead>\n",
       "  <tbody>\n",
       "    <tr>\n",
       "      <th>lstm_no_pretrain</th>\n",
       "      <td>4.8234618</td>\n",
       "      <td>0.0000196</td>\n",
       "      <td>0.0036641</td>\n",
       "      <td>11.6255815</td>\n",
       "    </tr>\n",
       "    <tr>\n",
       "      <th>lstm_use_freezing</th>\n",
       "      <td>5.9118953</td>\n",
       "      <td>0.0010151</td>\n",
       "      <td>0.0316519</td>\n",
       "      <td>700.5574370</td>\n",
       "    </tr>\n",
       "    <tr>\n",
       "      <th>lstm_not_freezing</th>\n",
       "      <td>6.9649339</td>\n",
       "      <td>0.0000063</td>\n",
       "      <td>0.0020283</td>\n",
       "      <td>6.6532814</td>\n",
       "    </tr>\n",
       "  </tbody>\n",
       "</table>\n",
       "</div>"
      ],
      "text/plain": [
       "                   time(second)       MSE       MAE        MAPE\n",
       "lstm_no_pretrain      4.8234618 0.0000196 0.0036641  11.6255815\n",
       "lstm_use_freezing     5.9118953 0.0010151 0.0316519 700.5574370\n",
       "lstm_not_freezing     6.9649339 0.0000063 0.0020283   6.6532814"
      ]
     },
     "execution_count": 103,
     "metadata": {},
     "output_type": "execute_result"
    }
   ],
   "source": [
    "pd.options.display.float_format = '{:.7f}'.format\n",
    "pd.DataFrame({'time(second)':lst1,\n",
    "             'MSE':lst2,\n",
    "              'MAE':lst3,\n",
    "             'MAPE':lst4},index=name)"
   ]
  },
  {
   "cell_type": "markdown",
   "id": "8ba30075",
   "metadata": {},
   "source": [
    "`-` 결과\n",
    "\n",
    "- freezing 하지 않는 pretrain model이 성능이 가장 좋게 나옴\n",
    "- 걸리는 시간은 서로 엇비슷하다.\n",
    "- target data의 크기에 따른 성능적 효율의 차이가 있을 것으로 예상\n",
    "- freezing 모델은 유의하게 성능이 뒤떨어진다."
   ]
  }
 ],
 "metadata": {
  "kernelspec": {
   "display_name": "Python 3 (ipykernel)",
   "language": "python",
   "name": "python3"
  },
  "language_info": {
   "codemirror_mode": {
    "name": "ipython",
    "version": 3
   },
   "file_extension": ".py",
   "mimetype": "text/x-python",
   "name": "python",
   "nbconvert_exporter": "python",
   "pygments_lexer": "ipython3",
   "version": "3.10.9"
  }
 },
 "nbformat": 4,
 "nbformat_minor": 5
}
