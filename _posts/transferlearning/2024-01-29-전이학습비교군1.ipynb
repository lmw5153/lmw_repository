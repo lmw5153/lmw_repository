{
 "cells": [
  {
   "cell_type": "markdown",
   "id": "f46334c0",
   "metadata": {},
   "source": [
    "# 전이학습 nbeats, lstm 비교\n",
    "\n",
    "`-` nbeats 전이학습 소스코드 출처\n",
    "\n",
    "- https://github.com/unit8co/darts/blob/master/examples/14-transfer-learning.ipynb\n"
   ]
  },
  {
   "cell_type": "markdown",
   "id": "3dedec02",
   "metadata": {},
   "source": [
    "---"
   ]
  },
  {
   "cell_type": "markdown",
   "id": "224933ca",
   "metadata": {},
   "source": [
    "# import"
   ]
  },
  {
   "cell_type": "code",
   "execution_count": 2,
   "id": "03912f38",
   "metadata": {},
   "outputs": [],
   "source": [
    "%matplotlib inline\n",
    "\n",
    "import warnings\n",
    "\n",
    "warnings.filterwarnings(\"ignore\")\n",
    "\n",
    "import os\n",
    "import time\n",
    "import random\n",
    "import pandas as pd\n",
    "import pickle\n",
    "import numpy as np\n",
    "from tqdm.auto import tqdm\n",
    "from datetime import datetime\n",
    "from itertools import product\n",
    "import torch\n",
    "from torch import nn\n",
    "from typing import List, Tuple, Dict, Optional\n",
    "from sklearn.preprocessing import MaxAbsScaler\n",
    "from sklearn.linear_model import Ridge\n",
    "import matplotlib.pyplot as plt\n",
    "\n",
    "from darts import TimeSeries\n",
    "from darts.utils.losses import SmapeLoss\n",
    "from darts.dataprocessing.transformers import Scaler\n",
    "from darts.metrics import smape\n",
    "from darts.utils.utils import SeasonalityMode, TrendMode, ModelMode\n",
    "from darts.models import *"
   ]
  },
  {
   "cell_type": "code",
   "execution_count": 3,
   "id": "1642b382",
   "metadata": {},
   "outputs": [],
   "source": [
    "HORIZON = 18"
   ]
  },
  {
   "cell_type": "markdown",
   "id": "d6eca4b6",
   "metadata": {},
   "source": [
    "---"
   ]
  },
  {
   "cell_type": "markdown",
   "id": "d4017ead",
   "metadata": {},
   "source": [
    "# load pretrained data "
   ]
  },
  {
   "cell_type": "code",
   "execution_count": 4,
   "id": "07ae9e48",
   "metadata": {},
   "outputs": [],
   "source": [
    "def load_m4(\n",
    "    max_number_series: Optional[int] = None,\n",
    ") -> Tuple[List[TimeSeries], List[TimeSeries]]:\n",
    "    \"\"\"\n",
    "    Due to the size of the dataset, this function takes approximately 10 minutes.\n",
    "\n",
    "    Use the `max_number_series` parameter to reduce the computation time if necessary\n",
    "    \"\"\"\n",
    "    # Read data dataFrame\n",
    "    df_m4 = pd.read_csv(\"m4_monthly.csv\")\n",
    "    if max_number_series is not None:\n",
    "        df_m4 = df_m4[:max_number_series]\n",
    "    # Read metadata dataframe\n",
    "    df_meta = pd.read_csv(\"m4_metadata.csv\")\n",
    "    df_meta = df_meta.loc[df_meta.SP == \"Monthly\"]\n",
    "\n",
    "    # Build TimeSeries\n",
    "    m4_train = []\n",
    "    m4_test = []\n",
    "    for row in tqdm(df_m4.iterrows(), total=len(df_m4)):\n",
    "        s = row[1]\n",
    "        values_series = s[1:].dropna()\n",
    "        start_date = pd.Timestamp(\n",
    "            df_meta.loc[df_meta[\"M4id\"] == \"M1\", \"StartingDate\"].values[0]\n",
    "        )\n",
    "        time_axis = pd.date_range(start_date, periods=len(values_series), freq=\"M\")\n",
    "        series = TimeSeries.from_times_and_values(\n",
    "            time_axis, values_series.values\n",
    "        ).astype(np.float32)\n",
    "        # remove series with less than 48 training samples\n",
    "        if len(series) > 48 + HORIZON:\n",
    "            # Split train/test\n",
    "            m4_train.append(series[:-HORIZON])\n",
    "            m4_test.append(series[-HORIZON:])\n",
    "\n",
    "    print(\"\\nThere are {} monthly series in the M3 dataset\".format(len(m4_train)))\n",
    "\n",
    "    # Scale so that the largest value is 1\n",
    "    print(\"scaling...\")\n",
    "    scaler_m4 = Scaler(scaler=MaxAbsScaler())\n",
    "    m4_train_scaled: List[TimeSeries] = scaler_m4.fit_transform(m4_train)\n",
    "    m4_test_scaled: List[TimeSeries] = scaler_m4.transform(m4_test)\n",
    "\n",
    "    print(\n",
    "        \"done. There are {} series, with average training length {}\".format(\n",
    "            len(m4_train_scaled), np.mean([len(s) for s in m4_train_scaled])\n",
    "        )\n",
    "    )\n",
    "    return m4_train_scaled, m4_test_scaled"
   ]
  },
  {
   "cell_type": "code",
   "execution_count": 7,
   "id": "b2d8b483",
   "metadata": {
    "scrolled": true
   },
   "outputs": [
    {
     "data": {
      "application/vnd.jupyter.widget-view+json": {
       "model_id": "e6a5478a27fc4df6b3da2f2ab7f010e4",
       "version_major": 2,
       "version_minor": 0
      },
      "text/plain": [
       "  0%|          | 0/48000 [00:00<?, ?it/s]"
      ]
     },
     "metadata": {},
     "output_type": "display_data"
    },
    {
     "name": "stdout",
     "output_type": "stream",
     "text": [
      "\n",
      "There are 47087 monthly series in the M3 dataset\n",
      "scaling...\n",
      "done. There are 47087 series, with average training length 201.25202285131778\n"
     ]
    }
   ],
   "source": [
    "m4_train, m4_test = load_m4()"
   ]
  },
  {
   "cell_type": "markdown",
   "id": "fa04018a",
   "metadata": {},
   "source": [
    "\n",
    "---"
   ]
  },
  {
   "cell_type": "markdown",
   "id": "6def5bde",
   "metadata": {},
   "source": [
    "# load target data"
   ]
  },
  {
   "cell_type": "code",
   "execution_count": 144,
   "id": "c8157998",
   "metadata": {},
   "outputs": [],
   "source": [
    "def load_air() -> Tuple[List[TimeSeries], List[TimeSeries]]:\n",
    "    # download csv file\n",
    "    df = pd.read_csv(\"carrier_passengers.csv\")\n",
    "    # extract relevant columns\n",
    "    df = df[[\"data_dte\", \"carrier\", \"Total\"]]\n",
    "    # aggregate per carrier and date\n",
    "    df = pd.DataFrame(df.groupby([\"carrier\", \"data_dte\"]).sum())\n",
    "    # move indexes to columns\n",
    "    df = df.reset_index()\n",
    "\n",
    "    # group bt carrier, specificy time index and target variable\n",
    "    all_air_series = TimeSeries.from_group_dataframe(\n",
    "        df, group_cols=\"carrier\", time_col=\"data_dte\", value_cols=\"Total\", freq=\"MS\"\n",
    "    )\n",
    "\n",
    "    # Split train/test\n",
    "    print(\"splitting train/test...\")\n",
    "    air_train = []\n",
    "    air_test = []\n",
    "    for series in all_air_series:\n",
    "        # remove the end of the series\n",
    "        series = series[: pd.Timestamp(\"2019-12-31\")]\n",
    "        # convert to proper type\n",
    "        series = series.astype(np.float32)\n",
    "        # extract longest contiguous slice\n",
    "        try:\n",
    "            series = series.longest_contiguous_slice()\n",
    "        except:\n",
    "            continue\n",
    "        # remove static covariates\n",
    "        series = series.with_static_covariates(None)\n",
    "        # remove short series\n",
    "        if len(series) >= 36 + HORIZON:\n",
    "            air_train.append(series[:-HORIZON])\n",
    "            air_test.append(series[-HORIZON:])\n",
    "\n",
    "    # Scale so that the largest value is 1\n",
    "    print(\"scaling series...\")\n",
    "    scaler_air = Scaler(scaler=MaxAbsScaler())\n",
    "    air_train_scaled: List[TimeSeries] = scaler_air.fit_transform(air_train)\n",
    "    air_test_scaled: List[TimeSeries] = scaler_air.transform(air_test)\n",
    "\n",
    "    print(\n",
    "        \"done. There are {} series, with average training length {}\".format(\n",
    "            len(air_train_scaled), np.mean([len(s) for s in air_train_scaled])\n",
    "        )\n",
    "    )\n",
    "    return air_train_scaled, air_test_scaled\n"
   ]
  },
  {
   "cell_type": "markdown",
   "id": "924c00b2",
   "metadata": {},
   "source": [
    "`-` nbeats input data"
   ]
  },
  {
   "cell_type": "code",
   "execution_count": 383,
   "id": "c072083b",
   "metadata": {
    "scrolled": false
   },
   "outputs": [
    {
     "name": "stdout",
     "output_type": "stream",
     "text": [
      "splitting train/test...\n"
     ]
    },
    {
     "name": "stderr",
     "output_type": "stream",
     "text": [
      "ERROR:darts.timeseries:IndexError: The type of your index was not matched.\n",
      "ERROR:darts.timeseries:IndexError: The type of your index was not matched.\n",
      "ERROR:darts.timeseries:IndexError: The type of your index was not matched.\n",
      "ERROR:darts.timeseries:IndexError: The type of your index was not matched.\n",
      "ERROR:darts.timeseries:IndexError: The type of your index was not matched.\n",
      "ERROR:darts.timeseries:IndexError: The type of your index was not matched.\n",
      "ERROR:darts.timeseries:IndexError: The type of your index was not matched.\n",
      "ERROR:darts.timeseries:IndexError: The type of your index was not matched.\n",
      "ERROR:darts.timeseries:IndexError: The type of your index was not matched.\n",
      "ERROR:darts.timeseries:IndexError: The type of your index was not matched.\n",
      "ERROR:darts.timeseries:IndexError: The type of your index was not matched.\n",
      "ERROR:darts.timeseries:IndexError: The type of your index was not matched.\n",
      "ERROR:darts.timeseries:IndexError: The type of your index was not matched.\n",
      "ERROR:darts.timeseries:IndexError: The type of your index was not matched.\n"
     ]
    },
    {
     "name": "stdout",
     "output_type": "stream",
     "text": [
      "scaling series...\n",
      "done. There are 245 series, with average training length 154.06938775510204\n"
     ]
    }
   ],
   "source": [
    "air_train, air_test = load_air()"
   ]
  },
  {
   "cell_type": "markdown",
   "id": "a345b3a2",
   "metadata": {},
   "source": [
    "`-` lstm input shape 변경"
   ]
  },
  {
   "cell_type": "code",
   "execution_count": 468,
   "id": "f347673e",
   "metadata": {},
   "outputs": [],
   "source": [
    "air_train_arr = [air_train[i].univariate_values() for i in range(len(air_train))]\n",
    "concatenated_list = []\n",
    "for arr in air_train_arr:\n",
    "    concatenated_list.extend(arr.tolist())\n",
    "df = pd.DataFrame(concatenated_list)"
   ]
  },
  {
   "cell_type": "code",
   "execution_count": 469,
   "id": "f5e4cd9b",
   "metadata": {},
   "outputs": [],
   "source": [
    "class WINdow:\n",
    "    def __init__(self,df,timestep):\n",
    "        self.df = df\n",
    "        self.timestep=timestep+1 # 예상한 timestep보다 1적기 때문에 +1\n",
    "        \n",
    "    def window(self):\n",
    "        for i in range(1, self.timestep):\n",
    "            df['shift_{}'.format(i)] = df.iloc[:,0].shift(i)\n",
    "            df['shift_{}'.format(i)] = df.iloc[:,0].shift(i)\n",
    "        window_df= df.dropna(axis=0) # 결측치 공간 제거\n",
    "        self.window_df = window_df.iloc[:,::-1] # 좌우 반전\n",
    "        \n",
    "                \n",
    "        self.feature= self.window_df.iloc[:,:-1].values\n",
    "        self.y_label= self.window_df.iloc[:,-1].values\n",
    "        \n",
    "        return self.window_df"
   ]
  },
  {
   "cell_type": "code",
   "execution_count": 470,
   "id": "7702b6d1",
   "metadata": {
    "scrolled": true
   },
   "outputs": [
    {
     "data": {
      "text/html": [
       "<div>\n",
       "<style scoped>\n",
       "    .dataframe tbody tr th:only-of-type {\n",
       "        vertical-align: middle;\n",
       "    }\n",
       "\n",
       "    .dataframe tbody tr th {\n",
       "        vertical-align: top;\n",
       "    }\n",
       "\n",
       "    .dataframe thead th {\n",
       "        text-align: right;\n",
       "    }\n",
       "</style>\n",
       "<table border=\"1\" class=\"dataframe\">\n",
       "  <thead>\n",
       "    <tr style=\"text-align: right;\">\n",
       "      <th></th>\n",
       "      <th>shift_24</th>\n",
       "      <th>shift_23</th>\n",
       "      <th>shift_22</th>\n",
       "      <th>shift_21</th>\n",
       "      <th>shift_20</th>\n",
       "      <th>shift_19</th>\n",
       "      <th>shift_18</th>\n",
       "      <th>shift_17</th>\n",
       "      <th>shift_16</th>\n",
       "      <th>shift_15</th>\n",
       "      <th>...</th>\n",
       "      <th>shift_9</th>\n",
       "      <th>shift_8</th>\n",
       "      <th>shift_7</th>\n",
       "      <th>shift_6</th>\n",
       "      <th>shift_5</th>\n",
       "      <th>shift_4</th>\n",
       "      <th>shift_3</th>\n",
       "      <th>shift_2</th>\n",
       "      <th>shift_1</th>\n",
       "      <th>0</th>\n",
       "    </tr>\n",
       "  </thead>\n",
       "  <tbody>\n",
       "    <tr>\n",
       "      <th>24</th>\n",
       "      <td>0.299873</td>\n",
       "      <td>0.346738</td>\n",
       "      <td>0.442052</td>\n",
       "      <td>0.485117</td>\n",
       "      <td>0.526599</td>\n",
       "      <td>0.234326</td>\n",
       "      <td>0.276441</td>\n",
       "      <td>0.276441</td>\n",
       "      <td>0.125079</td>\n",
       "      <td>0.125079</td>\n",
       "      <td>...</td>\n",
       "      <td>0.346738</td>\n",
       "      <td>0.360988</td>\n",
       "      <td>0.475617</td>\n",
       "      <td>0.339772</td>\n",
       "      <td>0.207726</td>\n",
       "      <td>0.195060</td>\n",
       "      <td>0.171944</td>\n",
       "      <td>0.071564</td>\n",
       "      <td>0.183027</td>\n",
       "      <td>0.442685</td>\n",
       "    </tr>\n",
       "    <tr>\n",
       "      <th>25</th>\n",
       "      <td>0.346738</td>\n",
       "      <td>0.442052</td>\n",
       "      <td>0.485117</td>\n",
       "      <td>0.526599</td>\n",
       "      <td>0.234326</td>\n",
       "      <td>0.276441</td>\n",
       "      <td>0.276441</td>\n",
       "      <td>0.125079</td>\n",
       "      <td>0.125079</td>\n",
       "      <td>0.015516</td>\n",
       "      <td>...</td>\n",
       "      <td>0.360988</td>\n",
       "      <td>0.475617</td>\n",
       "      <td>0.339772</td>\n",
       "      <td>0.207726</td>\n",
       "      <td>0.195060</td>\n",
       "      <td>0.171944</td>\n",
       "      <td>0.071564</td>\n",
       "      <td>0.183027</td>\n",
       "      <td>0.442685</td>\n",
       "      <td>0.572514</td>\n",
       "    </tr>\n",
       "    <tr>\n",
       "      <th>26</th>\n",
       "      <td>0.442052</td>\n",
       "      <td>0.485117</td>\n",
       "      <td>0.526599</td>\n",
       "      <td>0.234326</td>\n",
       "      <td>0.276441</td>\n",
       "      <td>0.276441</td>\n",
       "      <td>0.125079</td>\n",
       "      <td>0.125079</td>\n",
       "      <td>0.015516</td>\n",
       "      <td>0.124446</td>\n",
       "      <td>...</td>\n",
       "      <td>0.475617</td>\n",
       "      <td>0.339772</td>\n",
       "      <td>0.207726</td>\n",
       "      <td>0.195060</td>\n",
       "      <td>0.171944</td>\n",
       "      <td>0.071564</td>\n",
       "      <td>0.183027</td>\n",
       "      <td>0.442685</td>\n",
       "      <td>0.572514</td>\n",
       "      <td>0.686510</td>\n",
       "    </tr>\n",
       "    <tr>\n",
       "      <th>27</th>\n",
       "      <td>0.485117</td>\n",
       "      <td>0.526599</td>\n",
       "      <td>0.234326</td>\n",
       "      <td>0.276441</td>\n",
       "      <td>0.276441</td>\n",
       "      <td>0.125079</td>\n",
       "      <td>0.125079</td>\n",
       "      <td>0.015516</td>\n",
       "      <td>0.124446</td>\n",
       "      <td>0.184294</td>\n",
       "      <td>...</td>\n",
       "      <td>0.339772</td>\n",
       "      <td>0.207726</td>\n",
       "      <td>0.195060</td>\n",
       "      <td>0.171944</td>\n",
       "      <td>0.071564</td>\n",
       "      <td>0.183027</td>\n",
       "      <td>0.442685</td>\n",
       "      <td>0.572514</td>\n",
       "      <td>0.686510</td>\n",
       "      <td>0.683661</td>\n",
       "    </tr>\n",
       "    <tr>\n",
       "      <th>28</th>\n",
       "      <td>0.526599</td>\n",
       "      <td>0.234326</td>\n",
       "      <td>0.276441</td>\n",
       "      <td>0.276441</td>\n",
       "      <td>0.125079</td>\n",
       "      <td>0.125079</td>\n",
       "      <td>0.015516</td>\n",
       "      <td>0.124446</td>\n",
       "      <td>0.184294</td>\n",
       "      <td>0.485117</td>\n",
       "      <td>...</td>\n",
       "      <td>0.207726</td>\n",
       "      <td>0.195060</td>\n",
       "      <td>0.171944</td>\n",
       "      <td>0.071564</td>\n",
       "      <td>0.183027</td>\n",
       "      <td>0.442685</td>\n",
       "      <td>0.572514</td>\n",
       "      <td>0.686510</td>\n",
       "      <td>0.683661</td>\n",
       "      <td>0.770741</td>\n",
       "    </tr>\n",
       "    <tr>\n",
       "      <th>...</th>\n",
       "      <td>...</td>\n",
       "      <td>...</td>\n",
       "      <td>...</td>\n",
       "      <td>...</td>\n",
       "      <td>...</td>\n",
       "      <td>...</td>\n",
       "      <td>...</td>\n",
       "      <td>...</td>\n",
       "      <td>...</td>\n",
       "      <td>...</td>\n",
       "      <td>...</td>\n",
       "      <td>...</td>\n",
       "      <td>...</td>\n",
       "      <td>...</td>\n",
       "      <td>...</td>\n",
       "      <td>...</td>\n",
       "      <td>...</td>\n",
       "      <td>...</td>\n",
       "      <td>...</td>\n",
       "      <td>...</td>\n",
       "      <td>...</td>\n",
       "    </tr>\n",
       "    <tr>\n",
       "      <th>37742</th>\n",
       "      <td>0.324597</td>\n",
       "      <td>0.445240</td>\n",
       "      <td>0.488611</td>\n",
       "      <td>0.792075</td>\n",
       "      <td>0.914047</td>\n",
       "      <td>0.988894</td>\n",
       "      <td>0.936916</td>\n",
       "      <td>0.859088</td>\n",
       "      <td>0.853555</td>\n",
       "      <td>0.632306</td>\n",
       "      <td>...</td>\n",
       "      <td>0.864388</td>\n",
       "      <td>1.000000</td>\n",
       "      <td>0.987780</td>\n",
       "      <td>0.987481</td>\n",
       "      <td>0.852866</td>\n",
       "      <td>0.888636</td>\n",
       "      <td>0.720651</td>\n",
       "      <td>0.711854</td>\n",
       "      <td>0.630462</td>\n",
       "      <td>0.585596</td>\n",
       "    </tr>\n",
       "    <tr>\n",
       "      <th>37743</th>\n",
       "      <td>0.445240</td>\n",
       "      <td>0.488611</td>\n",
       "      <td>0.792075</td>\n",
       "      <td>0.914047</td>\n",
       "      <td>0.988894</td>\n",
       "      <td>0.936916</td>\n",
       "      <td>0.859088</td>\n",
       "      <td>0.853555</td>\n",
       "      <td>0.632306</td>\n",
       "      <td>0.654145</td>\n",
       "      <td>...</td>\n",
       "      <td>1.000000</td>\n",
       "      <td>0.987780</td>\n",
       "      <td>0.987481</td>\n",
       "      <td>0.852866</td>\n",
       "      <td>0.888636</td>\n",
       "      <td>0.720651</td>\n",
       "      <td>0.711854</td>\n",
       "      <td>0.630462</td>\n",
       "      <td>0.585596</td>\n",
       "      <td>0.774173</td>\n",
       "    </tr>\n",
       "    <tr>\n",
       "      <th>37744</th>\n",
       "      <td>0.488611</td>\n",
       "      <td>0.792075</td>\n",
       "      <td>0.914047</td>\n",
       "      <td>0.988894</td>\n",
       "      <td>0.936916</td>\n",
       "      <td>0.859088</td>\n",
       "      <td>0.853555</td>\n",
       "      <td>0.632306</td>\n",
       "      <td>0.654145</td>\n",
       "      <td>0.596644</td>\n",
       "      <td>...</td>\n",
       "      <td>0.987780</td>\n",
       "      <td>0.987481</td>\n",
       "      <td>0.852866</td>\n",
       "      <td>0.888636</td>\n",
       "      <td>0.720651</td>\n",
       "      <td>0.711854</td>\n",
       "      <td>0.630462</td>\n",
       "      <td>0.585596</td>\n",
       "      <td>0.774173</td>\n",
       "      <td>0.707485</td>\n",
       "    </tr>\n",
       "    <tr>\n",
       "      <th>37745</th>\n",
       "      <td>0.792075</td>\n",
       "      <td>0.914047</td>\n",
       "      <td>0.988894</td>\n",
       "      <td>0.936916</td>\n",
       "      <td>0.859088</td>\n",
       "      <td>0.853555</td>\n",
       "      <td>0.632306</td>\n",
       "      <td>0.654145</td>\n",
       "      <td>0.596644</td>\n",
       "      <td>0.524705</td>\n",
       "      <td>...</td>\n",
       "      <td>0.987481</td>\n",
       "      <td>0.852866</td>\n",
       "      <td>0.888636</td>\n",
       "      <td>0.720651</td>\n",
       "      <td>0.711854</td>\n",
       "      <td>0.630462</td>\n",
       "      <td>0.585596</td>\n",
       "      <td>0.774173</td>\n",
       "      <td>0.707485</td>\n",
       "      <td>0.821515</td>\n",
       "    </tr>\n",
       "    <tr>\n",
       "      <th>37746</th>\n",
       "      <td>0.914047</td>\n",
       "      <td>0.988894</td>\n",
       "      <td>0.936916</td>\n",
       "      <td>0.859088</td>\n",
       "      <td>0.853555</td>\n",
       "      <td>0.632306</td>\n",
       "      <td>0.654145</td>\n",
       "      <td>0.596644</td>\n",
       "      <td>0.524705</td>\n",
       "      <td>0.694418</td>\n",
       "      <td>...</td>\n",
       "      <td>0.852866</td>\n",
       "      <td>0.888636</td>\n",
       "      <td>0.720651</td>\n",
       "      <td>0.711854</td>\n",
       "      <td>0.630462</td>\n",
       "      <td>0.585596</td>\n",
       "      <td>0.774173</td>\n",
       "      <td>0.707485</td>\n",
       "      <td>0.821515</td>\n",
       "      <td>0.970028</td>\n",
       "    </tr>\n",
       "  </tbody>\n",
       "</table>\n",
       "<p>37723 rows × 25 columns</p>\n",
       "</div>"
      ],
      "text/plain": [
       "       shift_24  shift_23  shift_22  shift_21  shift_20  shift_19  shift_18  \\\n",
       "24     0.299873  0.346738  0.442052  0.485117  0.526599  0.234326  0.276441   \n",
       "25     0.346738  0.442052  0.485117  0.526599  0.234326  0.276441  0.276441   \n",
       "26     0.442052  0.485117  0.526599  0.234326  0.276441  0.276441  0.125079   \n",
       "27     0.485117  0.526599  0.234326  0.276441  0.276441  0.125079  0.125079   \n",
       "28     0.526599  0.234326  0.276441  0.276441  0.125079  0.125079  0.015516   \n",
       "...         ...       ...       ...       ...       ...       ...       ...   \n",
       "37742  0.324597  0.445240  0.488611  0.792075  0.914047  0.988894  0.936916   \n",
       "37743  0.445240  0.488611  0.792075  0.914047  0.988894  0.936916  0.859088   \n",
       "37744  0.488611  0.792075  0.914047  0.988894  0.936916  0.859088  0.853555   \n",
       "37745  0.792075  0.914047  0.988894  0.936916  0.859088  0.853555  0.632306   \n",
       "37746  0.914047  0.988894  0.936916  0.859088  0.853555  0.632306  0.654145   \n",
       "\n",
       "       shift_17  shift_16  shift_15  ...   shift_9   shift_8   shift_7  \\\n",
       "24     0.276441  0.125079  0.125079  ...  0.346738  0.360988  0.475617   \n",
       "25     0.125079  0.125079  0.015516  ...  0.360988  0.475617  0.339772   \n",
       "26     0.125079  0.015516  0.124446  ...  0.475617  0.339772  0.207726   \n",
       "27     0.015516  0.124446  0.184294  ...  0.339772  0.207726  0.195060   \n",
       "28     0.124446  0.184294  0.485117  ...  0.207726  0.195060  0.171944   \n",
       "...         ...       ...       ...  ...       ...       ...       ...   \n",
       "37742  0.859088  0.853555  0.632306  ...  0.864388  1.000000  0.987780   \n",
       "37743  0.853555  0.632306  0.654145  ...  1.000000  0.987780  0.987481   \n",
       "37744  0.632306  0.654145  0.596644  ...  0.987780  0.987481  0.852866   \n",
       "37745  0.654145  0.596644  0.524705  ...  0.987481  0.852866  0.888636   \n",
       "37746  0.596644  0.524705  0.694418  ...  0.852866  0.888636  0.720651   \n",
       "\n",
       "        shift_6   shift_5   shift_4   shift_3   shift_2   shift_1         0  \n",
       "24     0.339772  0.207726  0.195060  0.171944  0.071564  0.183027  0.442685  \n",
       "25     0.207726  0.195060  0.171944  0.071564  0.183027  0.442685  0.572514  \n",
       "26     0.195060  0.171944  0.071564  0.183027  0.442685  0.572514  0.686510  \n",
       "27     0.171944  0.071564  0.183027  0.442685  0.572514  0.686510  0.683661  \n",
       "28     0.071564  0.183027  0.442685  0.572514  0.686510  0.683661  0.770741  \n",
       "...         ...       ...       ...       ...       ...       ...       ...  \n",
       "37742  0.987481  0.852866  0.888636  0.720651  0.711854  0.630462  0.585596  \n",
       "37743  0.852866  0.888636  0.720651  0.711854  0.630462  0.585596  0.774173  \n",
       "37744  0.888636  0.720651  0.711854  0.630462  0.585596  0.774173  0.707485  \n",
       "37745  0.720651  0.711854  0.630462  0.585596  0.774173  0.707485  0.821515  \n",
       "37746  0.711854  0.630462  0.585596  0.774173  0.707485  0.821515  0.970028  \n",
       "\n",
       "[37723 rows x 25 columns]"
      ]
     },
     "execution_count": 470,
     "metadata": {},
     "output_type": "execute_result"
    }
   ],
   "source": [
    "lstm_data= WINdow(df,24)\n",
    "lstm_data.window()"
   ]
  },
  {
   "cell_type": "code",
   "execution_count": 516,
   "id": "fa41fd1c",
   "metadata": {},
   "outputs": [],
   "source": [
    "lstm_X = lstm_data.feature\n",
    "lstm_y = lstm_data.y_label"
   ]
  },
  {
   "cell_type": "markdown",
   "id": "6186f792",
   "metadata": {},
   "source": [
    "---"
   ]
  },
  {
   "cell_type": "markdown",
   "id": "6777ff9e",
   "metadata": {},
   "source": [
    "# pretrained nbeats model fitting"
   ]
  },
  {
   "cell_type": "code",
   "execution_count": 8,
   "id": "b7ec2d0d",
   "metadata": {},
   "outputs": [],
   "source": [
    "# Slicing hyper-params:\n",
    "IN_LEN = 36\n",
    "OUT_LEN = 4\n",
    "\n",
    "# Architecture hyper-params:\n",
    "NUM_STACKS = 20\n",
    "NUM_BLOCKS = 1\n",
    "NUM_LAYERS = 2\n",
    "LAYER_WIDTH = 136\n",
    "COEFFS_DIM = 11\n",
    "\n",
    "# Training settings:\n",
    "LR = 1e-3\n",
    "BATCH_SIZE = 1024\n",
    "MAX_SAMPLES_PER_TS = (\n",
    "    10  # <-- new parameter, limiting the number of training samples per series\n",
    ")\n",
    "NUM_EPOCHS = 5"
   ]
  },
  {
   "cell_type": "code",
   "execution_count": 9,
   "id": "5c60ac08",
   "metadata": {
    "scrolled": true
   },
   "outputs": [
    {
     "name": "stderr",
     "output_type": "stream",
     "text": [
      "GPU available: True (cuda), used: False\n",
      "TPU available: False, using: 0 TPU cores\n",
      "IPU available: False, using: 0 IPUs\n",
      "HPU available: False, using: 0 HPUs\n",
      "\n",
      "  | Name          | Type             | Params\n",
      "---------------------------------------------------\n",
      "0 | criterion     | SmapeLoss        | 0     \n",
      "1 | train_metrics | MetricCollection | 0     \n",
      "2 | val_metrics   | MetricCollection | 0     \n",
      "3 | stacks        | ModuleList       | 543 K \n",
      "---------------------------------------------------\n",
      "541 K     Trainable params\n",
      "1.9 K     Non-trainable params\n",
      "543 K     Total params\n",
      "2.173     Total estimated model params size (MB)\n"
     ]
    },
    {
     "data": {
      "application/vnd.jupyter.widget-view+json": {
       "model_id": "2fb8fac7c8474617a51ba47ea5cd1221",
       "version_major": 2,
       "version_minor": 0
      },
      "text/plain": [
       "Training: |                                                                                      | 0/? [00:00<…"
      ]
     },
     "metadata": {},
     "output_type": "display_data"
    },
    {
     "name": "stderr",
     "output_type": "stream",
     "text": [
      "`Trainer.fit` stopped: `max_epochs=5` reached.\n"
     ]
    },
    {
     "data": {
      "text/plain": [
       "NBEATSModel(generic_architecture=True, num_stacks=20, num_blocks=1, num_layers=2, layer_widths=136, expansion_coefficient_dim=11, trend_polynomial_degree=2, dropout=0.0, activation=ReLU, input_chunk_length=36, output_chunk_length=4, batch_size=1024, loss_fn=SmapeLoss(), optimizer_kwargs={'lr': 0.001}, pl_trainer_kwargs={'enable_progress_bar': True, 'accelerator': 'cpu'})"
      ]
     },
     "execution_count": 9,
     "metadata": {},
     "output_type": "execute_result"
    }
   ],
   "source": [
    "\n",
    "# reproducibility\n",
    "np.random.seed(42)\n",
    "torch.manual_seed(42)\n",
    "\n",
    "nbeats_model_m4 = NBEATSModel(\n",
    "    input_chunk_length=IN_LEN,\n",
    "    output_chunk_length=OUT_LEN,\n",
    "    batch_size=BATCH_SIZE,\n",
    "    num_stacks=NUM_STACKS,\n",
    "    num_blocks=NUM_BLOCKS,\n",
    "    num_layers=NUM_LAYERS,\n",
    "    layer_widths=LAYER_WIDTH,\n",
    "    expansion_coefficient_dim=COEFFS_DIM,\n",
    "    loss_fn=SmapeLoss(),\n",
    "    optimizer_kwargs={\"lr\": LR},\n",
    "    pl_trainer_kwargs={\n",
    "        \"enable_progress_bar\": True,\n",
    "        # change this one to \"gpu\" if your notebook does run in a GPU environment:\n",
    "        \"accelerator\": \"cpu\",\n",
    "    },\n",
    ")\n",
    "\n",
    "# Train\n",
    "nbeats_model_m4.fit(\n",
    "    m4_train,\n",
    "    num_loader_workers=4,\n",
    "    epochs=NUM_EPOCHS,\n",
    "    max_samples_per_ts=MAX_SAMPLES_PER_TS,\n",
    ")"
   ]
  },
  {
   "cell_type": "markdown",
   "id": "94a29bfb",
   "metadata": {},
   "source": [
    "---"
   ]
  },
  {
   "cell_type": "markdown",
   "id": "0d195c0a",
   "metadata": {},
   "source": [
    "# pretrained LSTM model fitting"
   ]
  },
  {
   "cell_type": "code",
   "execution_count": 162,
   "id": "a43415d7",
   "metadata": {},
   "outputs": [],
   "source": [
    "from datasetsforecast.m4 import M4, M4Evaluation\n",
    "import pandas as pd \n",
    "import numpy as np\n",
    "import matplotlib.pyplot as plt\n",
    "import time\n",
    "\n",
    "from keras.layers import LSTM ,Dense ,GRU\n",
    "from keras.models import Sequential\n",
    "import keras.backend as K\n",
    "from keras.callbacks import EarlyStopping"
   ]
  },
  {
   "cell_type": "markdown",
   "id": "e62dbbb8",
   "metadata": {},
   "source": [
    "`-` source data\n",
    "\n",
    "- 변경점 : 스케일 옵션 통일 MaxAbsScaler()"
   ]
  },
  {
   "cell_type": "code",
   "execution_count": 459,
   "id": "baeafa1a",
   "metadata": {},
   "outputs": [],
   "source": [
    "df,*_= M4.load(directory='data',group = 'hourly')\n",
    "\n",
    "lst = list(set(df.loc[:,'unique_id']))\n",
    "\n",
    "tt = [df[df.loc[:,'unique_id']==lst[i]].iloc[:,1:4].set_index(['ds']) \n",
    "      for i in range(len(lst))]\n",
    "\n",
    "for l in range(len(tt)):\n",
    "    for s in range(1, 25):\n",
    "        tt[l]['shift_{}'.format(s)] = tt[l]['y'].shift(s)\n",
    "        tt[l]['shift_{}'.format(s)] = tt[l]['y'].shift(s)\n",
    "        \n",
    "tt=[tt[i].dropna(axis=0) for i in range(len(tt))]\n",
    "\n",
    "train = np.concatenate([np.array(tt[i].iloc[:,1:]) for i in range(len(tt))])\n",
    "y = np.concatenate([np.array(tt[i].iloc[:,0]) for i in range(len(tt))]).reshape(-1,1)\n",
    "\n",
    "from sklearn.preprocessing import MaxAbsScaler\n",
    "min_max_scaler1 = MaxAbsScaler()\n",
    "\n",
    "X_scale = min_max_scaler1.fit_transform(train)\n",
    "y_scale = min_max_scaler1.fit_transform(y)"
   ]
  },
  {
   "cell_type": "markdown",
   "id": "14895a7d",
   "metadata": {},
   "source": [
    "`-` pretrained model fitting"
   ]
  },
  {
   "cell_type": "code",
   "execution_count": 460,
   "id": "09d8e7c0",
   "metadata": {},
   "outputs": [],
   "source": [
    "K.clear_session()\n",
    "model01 = Sequential() # Sequeatial Model\n",
    "model01.add(LSTM(64, return_sequences=True, input_shape=(24, 1))) # (timestep, feature)\n",
    "model01.add(LSTM(64, return_sequences=True)) # 연결한 모델의 차원을 맞추기 위해 시퀀스 반환을 함\n",
    "model01.add(Dense(1)) # output 사용 x\n",
    "model01.compile(loss='mean_squared_error', optimizer='adam')"
   ]
  },
  {
   "cell_type": "code",
   "execution_count": 461,
   "id": "42dc1e2b",
   "metadata": {
    "scrolled": true
   },
   "outputs": [
    {
     "name": "stdout",
     "output_type": "stream",
     "text": [
      "Epoch 1/100\n",
      "2840/2840 [==============================] - 73s 25ms/step - loss: 1.5419e-04\n",
      "Epoch 2/100\n",
      "2840/2840 [==============================] - 71s 25ms/step - loss: 3.6012e-05\n",
      "Epoch 3/100\n",
      "2840/2840 [==============================] - 71s 25ms/step - loss: 1.1630e-05\n",
      "Epoch 4/100\n",
      "2840/2840 [==============================] - 71s 25ms/step - loss: 7.0654e-06\n",
      "Epoch 5/100\n",
      "2840/2840 [==============================] - 71s 25ms/step - loss: 5.6490e-06\n",
      "Epoch 6/100\n",
      "2840/2840 [==============================] - 71s 25ms/step - loss: 5.6899e-06\n",
      "Epoch 6: early stopping\n"
     ]
    },
    {
     "data": {
      "text/plain": [
       "<keras.src.callbacks.History at 0x26144d1b4c0>"
      ]
     },
     "execution_count": 461,
     "metadata": {},
     "output_type": "execute_result"
    }
   ],
   "source": [
    "np.random.seed(1)\n",
    "early_stop = EarlyStopping(monitor='loss', patience=1, verbose=1)\n",
    "\n",
    "model01.fit(X_scale, y_scale, epochs=100,\n",
    "          batch_size=128, verbose=1, callbacks=[early_stop])"
   ]
  },
  {
   "cell_type": "markdown",
   "id": "84416870",
   "metadata": {},
   "source": [
    "`-` target data fitting"
   ]
  },
  {
   "cell_type": "code",
   "execution_count": 462,
   "id": "945807c1",
   "metadata": {},
   "outputs": [
    {
     "name": "stdout",
     "output_type": "stream",
     "text": [
      "총 학습에 걸린 시간: 18.33818817138672 초\n"
     ]
    }
   ],
   "source": [
    "pretrained_layers = model01.layers[:-1]\n",
    "for layer in model01.layers:\n",
    "    layer.trainable = True # freezing\n",
    "    \n",
    "\n",
    "model012 = Sequential(pretrained_layers)\n",
    "model012.add(LSTM(64, input_shape=(24,64)))\n",
    "model012.add(Dense(1))\n",
    "model012.compile(loss='mean_squared_error', optimizer='adam')\n",
    "\n",
    "early_stop = EarlyStopping(monitor='loss', patience=1, verbose=0)\n",
    "start_time22 = time.time()\n",
    "\n",
    "model012.fit(lstm_X, lstm_y, epochs=100,\n",
    "          batch_size=128, verbose=0, callbacks=[early_stop])\n",
    "end_time22 = time.time()\n",
    "\n",
    "total_training_time012 = end_time22 - start_time22\n",
    "\n",
    "print(f\"총 학습에 걸린 시간: {total_training_time012} 초\")"
   ]
  },
  {
   "cell_type": "markdown",
   "id": "dbeb12fb",
   "metadata": {},
   "source": [
    "---"
   ]
  },
  {
   "cell_type": "markdown",
   "id": "b501e672",
   "metadata": {},
   "source": [
    "# test"
   ]
  },
  {
   "cell_type": "markdown",
   "id": "3962b91a",
   "metadata": {},
   "source": [
    "`-` nbeats predict"
   ]
  },
  {
   "cell_type": "code",
   "execution_count": 146,
   "id": "c9fcebc8",
   "metadata": {
    "scrolled": false
   },
   "outputs": [
    {
     "name": "stderr",
     "output_type": "stream",
     "text": [
      "GPU available: True (cuda), used: False\n",
      "TPU available: False, using: 0 TPU cores\n",
      "IPU available: False, using: 0 IPUs\n",
      "HPU available: False, using: 0 HPUs\n"
     ]
    },
    {
     "data": {
      "application/vnd.jupyter.widget-view+json": {
       "model_id": "ba0209e5c48b415bbae2f636bef1f36d",
       "version_major": 2,
       "version_minor": 0
      },
      "text/plain": [
       "Predicting: |                                                                                    | 0/? [00:00<…"
      ]
     },
     "metadata": {},
     "output_type": "display_data"
    }
   ],
   "source": [
    "start_time = time.time()\n",
    "preds = nbeats_model_m4.predict(series=air_train, n=HORIZON)  # get forecasts\n",
    "nbeats_m4_elapsed_time = time.time() - start_time"
   ]
  },
  {
   "cell_type": "markdown",
   "id": "2f63d387",
   "metadata": {},
   "source": [
    "`-` timeseries $\\rightarrow$array 변경\n",
    "\n",
    "- 평가지표 계산하기 쉽게하려고."
   ]
  },
  {
   "cell_type": "code",
   "execution_count": 472,
   "id": "a082bd76",
   "metadata": {},
   "outputs": [],
   "source": [
    "air_preds =[preds[i].univariate_values() for i in range(len(air_train))]\n",
    "air_preds_arr = np.vstack(arr for arr in air_preds)"
   ]
  },
  {
   "cell_type": "code",
   "execution_count": 473,
   "id": "7d5b56d7",
   "metadata": {},
   "outputs": [],
   "source": [
    "air_test_arr = [air_test[i].univariate_values() for i in range(len(air_test))]\n",
    "air_test_arr = np.vstack(arr for arr in air_test_arr)"
   ]
  },
  {
   "cell_type": "markdown",
   "id": "278cbc7a",
   "metadata": {},
   "source": [
    "---"
   ]
  },
  {
   "cell_type": "markdown",
   "id": "b2cc5eef",
   "metadata": {},
   "source": [
    "`-` lstm test data shape"
   ]
  },
  {
   "cell_type": "code",
   "execution_count": 474,
   "id": "cb5c8c5f",
   "metadata": {
    "scrolled": true
   },
   "outputs": [
    {
     "data": {
      "text/html": [
       "<div>\n",
       "<style scoped>\n",
       "    .dataframe tbody tr th:only-of-type {\n",
       "        vertical-align: middle;\n",
       "    }\n",
       "\n",
       "    .dataframe tbody tr th {\n",
       "        vertical-align: top;\n",
       "    }\n",
       "\n",
       "    .dataframe thead th {\n",
       "        text-align: right;\n",
       "    }\n",
       "</style>\n",
       "<table border=\"1\" class=\"dataframe\">\n",
       "  <thead>\n",
       "    <tr style=\"text-align: right;\">\n",
       "      <th></th>\n",
       "      <th>shift_24</th>\n",
       "      <th>shift_23</th>\n",
       "      <th>shift_22</th>\n",
       "      <th>shift_21</th>\n",
       "      <th>shift_20</th>\n",
       "      <th>shift_19</th>\n",
       "      <th>shift_18</th>\n",
       "      <th>shift_17</th>\n",
       "      <th>shift_16</th>\n",
       "      <th>shift_15</th>\n",
       "      <th>...</th>\n",
       "      <th>shift_9</th>\n",
       "      <th>shift_8</th>\n",
       "      <th>shift_7</th>\n",
       "      <th>shift_6</th>\n",
       "      <th>shift_5</th>\n",
       "      <th>shift_4</th>\n",
       "      <th>shift_3</th>\n",
       "      <th>shift_2</th>\n",
       "      <th>shift_1</th>\n",
       "      <th>0</th>\n",
       "    </tr>\n",
       "  </thead>\n",
       "  <tbody>\n",
       "    <tr>\n",
       "      <th>24</th>\n",
       "      <td>0.299873</td>\n",
       "      <td>0.346738</td>\n",
       "      <td>0.442052</td>\n",
       "      <td>0.485117</td>\n",
       "      <td>0.526599</td>\n",
       "      <td>0.234326</td>\n",
       "      <td>0.276441</td>\n",
       "      <td>0.276441</td>\n",
       "      <td>0.125079</td>\n",
       "      <td>0.125079</td>\n",
       "      <td>...</td>\n",
       "      <td>0.346738</td>\n",
       "      <td>0.360988</td>\n",
       "      <td>0.475617</td>\n",
       "      <td>0.339772</td>\n",
       "      <td>0.207726</td>\n",
       "      <td>0.195060</td>\n",
       "      <td>0.171944</td>\n",
       "      <td>0.071564</td>\n",
       "      <td>0.183027</td>\n",
       "      <td>0.442685</td>\n",
       "    </tr>\n",
       "    <tr>\n",
       "      <th>25</th>\n",
       "      <td>0.346738</td>\n",
       "      <td>0.442052</td>\n",
       "      <td>0.485117</td>\n",
       "      <td>0.526599</td>\n",
       "      <td>0.234326</td>\n",
       "      <td>0.276441</td>\n",
       "      <td>0.276441</td>\n",
       "      <td>0.125079</td>\n",
       "      <td>0.125079</td>\n",
       "      <td>0.015516</td>\n",
       "      <td>...</td>\n",
       "      <td>0.360988</td>\n",
       "      <td>0.475617</td>\n",
       "      <td>0.339772</td>\n",
       "      <td>0.207726</td>\n",
       "      <td>0.195060</td>\n",
       "      <td>0.171944</td>\n",
       "      <td>0.071564</td>\n",
       "      <td>0.183027</td>\n",
       "      <td>0.442685</td>\n",
       "      <td>0.572514</td>\n",
       "    </tr>\n",
       "    <tr>\n",
       "      <th>26</th>\n",
       "      <td>0.442052</td>\n",
       "      <td>0.485117</td>\n",
       "      <td>0.526599</td>\n",
       "      <td>0.234326</td>\n",
       "      <td>0.276441</td>\n",
       "      <td>0.276441</td>\n",
       "      <td>0.125079</td>\n",
       "      <td>0.125079</td>\n",
       "      <td>0.015516</td>\n",
       "      <td>0.124446</td>\n",
       "      <td>...</td>\n",
       "      <td>0.475617</td>\n",
       "      <td>0.339772</td>\n",
       "      <td>0.207726</td>\n",
       "      <td>0.195060</td>\n",
       "      <td>0.171944</td>\n",
       "      <td>0.071564</td>\n",
       "      <td>0.183027</td>\n",
       "      <td>0.442685</td>\n",
       "      <td>0.572514</td>\n",
       "      <td>0.686510</td>\n",
       "    </tr>\n",
       "    <tr>\n",
       "      <th>27</th>\n",
       "      <td>0.485117</td>\n",
       "      <td>0.526599</td>\n",
       "      <td>0.234326</td>\n",
       "      <td>0.276441</td>\n",
       "      <td>0.276441</td>\n",
       "      <td>0.125079</td>\n",
       "      <td>0.125079</td>\n",
       "      <td>0.015516</td>\n",
       "      <td>0.124446</td>\n",
       "      <td>0.184294</td>\n",
       "      <td>...</td>\n",
       "      <td>0.339772</td>\n",
       "      <td>0.207726</td>\n",
       "      <td>0.195060</td>\n",
       "      <td>0.171944</td>\n",
       "      <td>0.071564</td>\n",
       "      <td>0.183027</td>\n",
       "      <td>0.442685</td>\n",
       "      <td>0.572514</td>\n",
       "      <td>0.686510</td>\n",
       "      <td>0.683661</td>\n",
       "    </tr>\n",
       "    <tr>\n",
       "      <th>28</th>\n",
       "      <td>0.526599</td>\n",
       "      <td>0.234326</td>\n",
       "      <td>0.276441</td>\n",
       "      <td>0.276441</td>\n",
       "      <td>0.125079</td>\n",
       "      <td>0.125079</td>\n",
       "      <td>0.015516</td>\n",
       "      <td>0.124446</td>\n",
       "      <td>0.184294</td>\n",
       "      <td>0.485117</td>\n",
       "      <td>...</td>\n",
       "      <td>0.207726</td>\n",
       "      <td>0.195060</td>\n",
       "      <td>0.171944</td>\n",
       "      <td>0.071564</td>\n",
       "      <td>0.183027</td>\n",
       "      <td>0.442685</td>\n",
       "      <td>0.572514</td>\n",
       "      <td>0.686510</td>\n",
       "      <td>0.683661</td>\n",
       "      <td>0.770741</td>\n",
       "    </tr>\n",
       "    <tr>\n",
       "      <th>...</th>\n",
       "      <td>...</td>\n",
       "      <td>...</td>\n",
       "      <td>...</td>\n",
       "      <td>...</td>\n",
       "      <td>...</td>\n",
       "      <td>...</td>\n",
       "      <td>...</td>\n",
       "      <td>...</td>\n",
       "      <td>...</td>\n",
       "      <td>...</td>\n",
       "      <td>...</td>\n",
       "      <td>...</td>\n",
       "      <td>...</td>\n",
       "      <td>...</td>\n",
       "      <td>...</td>\n",
       "      <td>...</td>\n",
       "      <td>...</td>\n",
       "      <td>...</td>\n",
       "      <td>...</td>\n",
       "      <td>...</td>\n",
       "      <td>...</td>\n",
       "    </tr>\n",
       "    <tr>\n",
       "      <th>37742</th>\n",
       "      <td>0.324597</td>\n",
       "      <td>0.445240</td>\n",
       "      <td>0.488611</td>\n",
       "      <td>0.792075</td>\n",
       "      <td>0.914047</td>\n",
       "      <td>0.988894</td>\n",
       "      <td>0.936916</td>\n",
       "      <td>0.859088</td>\n",
       "      <td>0.853555</td>\n",
       "      <td>0.632306</td>\n",
       "      <td>...</td>\n",
       "      <td>0.864388</td>\n",
       "      <td>1.000000</td>\n",
       "      <td>0.987780</td>\n",
       "      <td>0.987481</td>\n",
       "      <td>0.852866</td>\n",
       "      <td>0.888636</td>\n",
       "      <td>0.720651</td>\n",
       "      <td>0.711854</td>\n",
       "      <td>0.630462</td>\n",
       "      <td>0.585596</td>\n",
       "    </tr>\n",
       "    <tr>\n",
       "      <th>37743</th>\n",
       "      <td>0.445240</td>\n",
       "      <td>0.488611</td>\n",
       "      <td>0.792075</td>\n",
       "      <td>0.914047</td>\n",
       "      <td>0.988894</td>\n",
       "      <td>0.936916</td>\n",
       "      <td>0.859088</td>\n",
       "      <td>0.853555</td>\n",
       "      <td>0.632306</td>\n",
       "      <td>0.654145</td>\n",
       "      <td>...</td>\n",
       "      <td>1.000000</td>\n",
       "      <td>0.987780</td>\n",
       "      <td>0.987481</td>\n",
       "      <td>0.852866</td>\n",
       "      <td>0.888636</td>\n",
       "      <td>0.720651</td>\n",
       "      <td>0.711854</td>\n",
       "      <td>0.630462</td>\n",
       "      <td>0.585596</td>\n",
       "      <td>0.774173</td>\n",
       "    </tr>\n",
       "    <tr>\n",
       "      <th>37744</th>\n",
       "      <td>0.488611</td>\n",
       "      <td>0.792075</td>\n",
       "      <td>0.914047</td>\n",
       "      <td>0.988894</td>\n",
       "      <td>0.936916</td>\n",
       "      <td>0.859088</td>\n",
       "      <td>0.853555</td>\n",
       "      <td>0.632306</td>\n",
       "      <td>0.654145</td>\n",
       "      <td>0.596644</td>\n",
       "      <td>...</td>\n",
       "      <td>0.987780</td>\n",
       "      <td>0.987481</td>\n",
       "      <td>0.852866</td>\n",
       "      <td>0.888636</td>\n",
       "      <td>0.720651</td>\n",
       "      <td>0.711854</td>\n",
       "      <td>0.630462</td>\n",
       "      <td>0.585596</td>\n",
       "      <td>0.774173</td>\n",
       "      <td>0.707485</td>\n",
       "    </tr>\n",
       "    <tr>\n",
       "      <th>37745</th>\n",
       "      <td>0.792075</td>\n",
       "      <td>0.914047</td>\n",
       "      <td>0.988894</td>\n",
       "      <td>0.936916</td>\n",
       "      <td>0.859088</td>\n",
       "      <td>0.853555</td>\n",
       "      <td>0.632306</td>\n",
       "      <td>0.654145</td>\n",
       "      <td>0.596644</td>\n",
       "      <td>0.524705</td>\n",
       "      <td>...</td>\n",
       "      <td>0.987481</td>\n",
       "      <td>0.852866</td>\n",
       "      <td>0.888636</td>\n",
       "      <td>0.720651</td>\n",
       "      <td>0.711854</td>\n",
       "      <td>0.630462</td>\n",
       "      <td>0.585596</td>\n",
       "      <td>0.774173</td>\n",
       "      <td>0.707485</td>\n",
       "      <td>0.821515</td>\n",
       "    </tr>\n",
       "    <tr>\n",
       "      <th>37746</th>\n",
       "      <td>0.914047</td>\n",
       "      <td>0.988894</td>\n",
       "      <td>0.936916</td>\n",
       "      <td>0.859088</td>\n",
       "      <td>0.853555</td>\n",
       "      <td>0.632306</td>\n",
       "      <td>0.654145</td>\n",
       "      <td>0.596644</td>\n",
       "      <td>0.524705</td>\n",
       "      <td>0.694418</td>\n",
       "      <td>...</td>\n",
       "      <td>0.852866</td>\n",
       "      <td>0.888636</td>\n",
       "      <td>0.720651</td>\n",
       "      <td>0.711854</td>\n",
       "      <td>0.630462</td>\n",
       "      <td>0.585596</td>\n",
       "      <td>0.774173</td>\n",
       "      <td>0.707485</td>\n",
       "      <td>0.821515</td>\n",
       "      <td>0.970028</td>\n",
       "    </tr>\n",
       "  </tbody>\n",
       "</table>\n",
       "<p>37723 rows × 25 columns</p>\n",
       "</div>"
      ],
      "text/plain": [
       "       shift_24  shift_23  shift_22  shift_21  shift_20  shift_19  shift_18  \\\n",
       "24     0.299873  0.346738  0.442052  0.485117  0.526599  0.234326  0.276441   \n",
       "25     0.346738  0.442052  0.485117  0.526599  0.234326  0.276441  0.276441   \n",
       "26     0.442052  0.485117  0.526599  0.234326  0.276441  0.276441  0.125079   \n",
       "27     0.485117  0.526599  0.234326  0.276441  0.276441  0.125079  0.125079   \n",
       "28     0.526599  0.234326  0.276441  0.276441  0.125079  0.125079  0.015516   \n",
       "...         ...       ...       ...       ...       ...       ...       ...   \n",
       "37742  0.324597  0.445240  0.488611  0.792075  0.914047  0.988894  0.936916   \n",
       "37743  0.445240  0.488611  0.792075  0.914047  0.988894  0.936916  0.859088   \n",
       "37744  0.488611  0.792075  0.914047  0.988894  0.936916  0.859088  0.853555   \n",
       "37745  0.792075  0.914047  0.988894  0.936916  0.859088  0.853555  0.632306   \n",
       "37746  0.914047  0.988894  0.936916  0.859088  0.853555  0.632306  0.654145   \n",
       "\n",
       "       shift_17  shift_16  shift_15  ...   shift_9   shift_8   shift_7  \\\n",
       "24     0.276441  0.125079  0.125079  ...  0.346738  0.360988  0.475617   \n",
       "25     0.125079  0.125079  0.015516  ...  0.360988  0.475617  0.339772   \n",
       "26     0.125079  0.015516  0.124446  ...  0.475617  0.339772  0.207726   \n",
       "27     0.015516  0.124446  0.184294  ...  0.339772  0.207726  0.195060   \n",
       "28     0.124446  0.184294  0.485117  ...  0.207726  0.195060  0.171944   \n",
       "...         ...       ...       ...  ...       ...       ...       ...   \n",
       "37742  0.859088  0.853555  0.632306  ...  0.864388  1.000000  0.987780   \n",
       "37743  0.853555  0.632306  0.654145  ...  1.000000  0.987780  0.987481   \n",
       "37744  0.632306  0.654145  0.596644  ...  0.987780  0.987481  0.852866   \n",
       "37745  0.654145  0.596644  0.524705  ...  0.987481  0.852866  0.888636   \n",
       "37746  0.596644  0.524705  0.694418  ...  0.852866  0.888636  0.720651   \n",
       "\n",
       "        shift_6   shift_5   shift_4   shift_3   shift_2   shift_1         0  \n",
       "24     0.339772  0.207726  0.195060  0.171944  0.071564  0.183027  0.442685  \n",
       "25     0.207726  0.195060  0.171944  0.071564  0.183027  0.442685  0.572514  \n",
       "26     0.195060  0.171944  0.071564  0.183027  0.442685  0.572514  0.686510  \n",
       "27     0.171944  0.071564  0.183027  0.442685  0.572514  0.686510  0.683661  \n",
       "28     0.071564  0.183027  0.442685  0.572514  0.686510  0.683661  0.770741  \n",
       "...         ...       ...       ...       ...       ...       ...       ...  \n",
       "37742  0.987481  0.852866  0.888636  0.720651  0.711854  0.630462  0.585596  \n",
       "37743  0.852866  0.888636  0.720651  0.711854  0.630462  0.585596  0.774173  \n",
       "37744  0.888636  0.720651  0.711854  0.630462  0.585596  0.774173  0.707485  \n",
       "37745  0.720651  0.711854  0.630462  0.585596  0.774173  0.707485  0.821515  \n",
       "37746  0.711854  0.630462  0.585596  0.774173  0.707485  0.821515  0.970028  \n",
       "\n",
       "[37723 rows x 25 columns]"
      ]
     },
     "execution_count": 474,
     "metadata": {},
     "output_type": "execute_result"
    }
   ],
   "source": [
    "df_test_ = pd.DataFrame(air_test_arr.flatten())\n",
    "\n",
    "df_test = WINdow(df_test_,24)\n",
    "\n",
    "df_test.window()"
   ]
  },
  {
   "cell_type": "code",
   "execution_count": 475,
   "id": "006e8ac4",
   "metadata": {},
   "outputs": [],
   "source": [
    "X_test= df_test.feature\n",
    "y_test =df_test.y_label"
   ]
  },
  {
   "cell_type": "code",
   "execution_count": 476,
   "id": "889e15aa",
   "metadata": {
    "scrolled": true
   },
   "outputs": [
    {
     "name": "stdout",
     "output_type": "stream",
     "text": [
      "1179/1179 [==============================] - 8s 6ms/step\n"
     ]
    }
   ],
   "source": [
    "pred2 = model012.predict(X_test)"
   ]
  },
  {
   "cell_type": "markdown",
   "id": "f3885daf",
   "metadata": {},
   "source": [
    "`-` MSE"
   ]
  },
  {
   "cell_type": "code",
   "execution_count": 511,
   "id": "d27de193",
   "metadata": {
    "scrolled": true
   },
   "outputs": [
    {
     "name": "stdout",
     "output_type": "stream",
     "text": [
      "MSE_nbeat: 0.033856794 |MSE_lstm: 0.012509177532071508\n"
     ]
    }
   ],
   "source": [
    "from sklearn.metrics import mean_squared_error\n",
    "\n",
    "a, b= mean_squared_error(air_test_arr,air_preds_arr), mean_squared_error(y_test,pred2)\n",
    "\n",
    "print('MSE_nbeat:',a,'|MSE_lstm:',b)"
   ]
  },
  {
   "cell_type": "markdown",
   "id": "e7a478cb",
   "metadata": {},
   "source": [
    "`-` plot"
   ]
  },
  {
   "cell_type": "code",
   "execution_count": 515,
   "id": "3ec79a7a",
   "metadata": {
    "scrolled": true
   },
   "outputs": [
    {
     "data": {
      "image/png": "[encoded data removed]",
      "text/plain": [
       "<Figure size 640x480 with 1 Axes>"
      ]
     },
     "metadata": {},
     "output_type": "display_data"
    }
   ],
   "source": [
    "n=100\n",
    "plt.plot(y_test.flatten()[-n:], label ='observed')\n",
    "plt.plot(pred2.flatten()[-n:],label ='lstm')\n",
    "plt.plot(air_preds_arr.flatten()[-n:], color = 'red',label ='nbeats')\n",
    "plt.legend(loc='lower left')\n",
    "plt.show()"
   ]
  }
 ],
 "metadata": {
  "kernelspec": {
   "display_name": "Python 3 (ipykernel)",
   "language": "python",
   "name": "python3"
  },
  "language_info": {
   "codemirror_mode": {
    "name": "ipython",
    "version": 3
   },
   "file_extension": ".py",
   "mimetype": "text/x-python",
   "name": "python",
   "nbconvert_exporter": "python",
   "pygments_lexer": "ipython3",
   "version": "3.10.9"
  }
 },
 "nbformat": 4,
 "nbformat_minor": 5
}
