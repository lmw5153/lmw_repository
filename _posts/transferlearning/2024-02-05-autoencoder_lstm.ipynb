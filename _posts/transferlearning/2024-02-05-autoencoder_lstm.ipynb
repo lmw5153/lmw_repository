{
 "cells": [
  {
   "cell_type": "markdown",
   "id": "8536d411",
   "metadata": {},
   "source": [
    "# 오토인코더 lstm 전이학습"
   ]
  },
  {
   "cell_type": "markdown",
   "id": "aad1ba8d",
   "metadata": {},
   "source": [
    "---"
   ]
  },
  {
   "cell_type": "markdown",
   "id": "d18827c1",
   "metadata": {},
   "source": [
    "`-` import "
   ]
  },
  {
   "cell_type": "code",
   "execution_count": 53,
   "id": "21e1d240",
   "metadata": {},
   "outputs": [],
   "source": [
    "import numpy as np\n",
    "import pandas as pd\n",
    "from datasetsforecast.m4 import M4, M4Evaluation\n",
    "import matplotlib.pyplot as plt\n",
    "import time\n",
    "from keras.layers import *\n",
    "from keras.models import Sequential ,Model\n",
    "from keras.callbacks import EarlyStopping\n",
    "import keras.backend as K"
   ]
  },
  {
   "cell_type": "markdown",
   "id": "a82d120a",
   "metadata": {},
   "source": [
    "`-` data set"
   ]
  },
  {
   "cell_type": "code",
   "execution_count": 3,
   "id": "8addf270",
   "metadata": {},
   "outputs": [],
   "source": [
    "df,*_= M4.load(directory='data',group = 'Hourly')\n",
    "\n",
    "lst = list(set(df.loc[:,'unique_id']))\n",
    "\n",
    "tt = [df[df.loc[:,'unique_id']==lst[i]].iloc[:,1:4].set_index(['ds']) \n",
    "      for i in range(len(lst))]\n",
    "\n",
    "for l in range(len(tt)):\n",
    "    for s in range(1, 25):\n",
    "        tt[l]['shift_{}'.format(s)] = tt[l]['y'].shift(s)\n",
    "        tt[l]['shift_{}'.format(s)] = tt[l]['y'].shift(s)\n",
    "        \n",
    "tt=[tt[i].dropna(axis=0) for i in range(len(tt))]\n",
    "\n",
    "train = np.concatenate([np.array(tt[i].iloc[:,1:]) for i in range(len(tt))])\n",
    "y = np.concatenate([np.array(tt[i].iloc[:,0]) for i in range(len(tt))]).reshape(-1,1)\n",
    "\n",
    "from sklearn.preprocessing import MinMaxScaler\n",
    "min_max_scaler1 = MinMaxScaler()\n",
    "\n",
    "X_scale = min_max_scaler1.fit_transform(train)\n",
    "y_scale = min_max_scaler1.fit_transform(y)"
   ]
  },
  {
   "cell_type": "code",
   "execution_count": 16,
   "id": "09a9bbbd",
   "metadata": {},
   "outputs": [],
   "source": [
    "df = pd.read_csv('C:/Users/default.DESKTOP-2ISHQBS/Documents/R/time_ele/train.csv')\n",
    "\n",
    "arr = df.iloc[:,9] # 전력소비량\n",
    "date=  pd.to_datetime(df.iloc[:,2]) # 일시\n",
    "\n",
    "df_= pd.DataFrame({'date':date,\n",
    "              'ele': arr})\n",
    "\n",
    "df_ = df_.set_index('date')\n",
    "\n",
    "from sklearn.preprocessing import MinMaxScaler\n",
    "min_max_scaler = MinMaxScaler()\n",
    "\n",
    "df_['mmele'] = min_max_scaler.fit_transform(df_.iloc[:].to_numpy().reshape(-1,1))\n",
    "\n",
    "df_ = df_.drop(['ele'],axis=1)\n",
    "\n",
    "for s in range(1, 25):\n",
    "    df_['shift_{}'.format(s)] = df_['mmele'].shift(s)\n",
    "    df_['shift_{}'.format(s)] = df_['mmele'].shift(s)\n",
    "\n",
    "df_ = df_.dropna()\n",
    "\n",
    "y = df_.iloc[:,[0]].values #scaled \n",
    "\n",
    "X = df_.iloc[:,1:]\n",
    "\n",
    "from sklearn.model_selection import train_test_split\n",
    "\n",
    "x_train,x_test, y_train , y_test = train_test_split(X.iloc[-2400:,:],y[-2400:],shuffle=False, test_size=0.1)"
   ]
  },
  {
   "cell_type": "markdown",
   "id": "d277d3a4",
   "metadata": {},
   "source": [
    "---"
   ]
  },
  {
   "cell_type": "markdown",
   "id": "f4095869",
   "metadata": {},
   "source": [
    "# 오토인코더 lstm pretrained model"
   ]
  },
  {
   "cell_type": "code",
   "execution_count": 64,
   "id": "64a6f6b9",
   "metadata": {
    "scrolled": true
   },
   "outputs": [
    {
     "name": "stdout",
     "output_type": "stream",
     "text": [
      "Model: \"sequential_1\"\n",
      "_________________________________________________________________\n",
      " Layer (type)                Output Shape              Param #   \n",
      "=================================================================\n",
      " lstm (LSTM)                 (None, 24, 64)            16896     \n",
      "                                                                 \n",
      " lstm_1 (LSTM)               (None, 32)                12416     \n",
      "                                                                 \n",
      " repeat_vector (RepeatVecto  (None, 24, 32)            0         \n",
      " r)                                                              \n",
      "                                                                 \n",
      " lstm_2 (LSTM)               (None, 24, 32)            8320      \n",
      "                                                                 \n",
      " lstm_3 (LSTM)               (None, 24, 64)            24832     \n",
      "                                                                 \n",
      " time_distributed (TimeDist  (None, 24, 1)             65        \n",
      " ributed)                                                        \n",
      "                                                                 \n",
      "=================================================================\n",
      "Total params: 62529 (244.25 KB)\n",
      "Trainable params: 62529 (244.25 KB)\n",
      "Non-trainable params: 0 (0.00 Byte)\n",
      "_________________________________________________________________\n"
     ]
    }
   ],
   "source": [
    "automodel = Sequential()\n",
    "\n",
    "K.clear_session()\n",
    "automodel.add(LSTM(64,input_shape=(24,1),return_sequences=True))\n",
    "automodel.add(LSTM(32,return_sequences=False))\n",
    "automodel.add(RepeatVector(24))\n",
    "automodel.add(LSTM(32,return_sequences=True))\n",
    "automodel.add(LSTM(64,input_shape=(24,1),return_sequences=True))\n",
    "automodel.add(TimeDistributed(Dense(1)))\n",
    "automodel.compile(optimizer='adam', loss='mse')\n",
    "automodel.summary()"
   ]
  },
  {
   "cell_type": "code",
   "execution_count": 65,
   "id": "dce108eb",
   "metadata": {
    "scrolled": false
   },
   "outputs": [
    {
     "name": "stdout",
     "output_type": "stream",
     "text": [
      "Epoch 1/100\n",
      "2840/2840 [==============================] - 72s 24ms/step - loss: 9.2669e-05\n",
      "Epoch 2/100\n",
      "2840/2840 [==============================] - 69s 24ms/step - loss: 1.4031e-05\n",
      "Epoch 3/100\n",
      "2840/2840 [==============================] - 69s 24ms/step - loss: 1.1972e-05\n",
      "Epoch 4/100\n",
      "2840/2840 [==============================] - 68s 24ms/step - loss: 9.7325e-06\n",
      "Epoch 5/100\n",
      "2840/2840 [==============================] - 69s 24ms/step - loss: 8.6826e-06\n",
      "Epoch 6/100\n",
      "2840/2840 [==============================] - 71s 25ms/step - loss: 8.9413e-06\n",
      "Epoch 6: early stopping\n"
     ]
    },
    {
     "data": {
      "text/plain": [
       "<keras.src.callbacks.History at 0x14e0758b070>"
      ]
     },
     "execution_count": 65,
     "metadata": {},
     "output_type": "execute_result"
    }
   ],
   "source": [
    "early_stop = EarlyStopping(monitor='loss', patience=1, verbose=1)\n",
    "\n",
    "automodel.fit(X_scale,y_scale, epochs=100,\n",
    "          batch_size=128, verbose=1, callbacks=[early_stop])"
   ]
  },
  {
   "cell_type": "markdown",
   "id": "b5783e64",
   "metadata": {},
   "source": [
    "# transfer learning"
   ]
  },
  {
   "cell_type": "code",
   "execution_count": 66,
   "id": "ba197044",
   "metadata": {
    "scrolled": false
   },
   "outputs": [
    {
     "name": "stdout",
     "output_type": "stream",
     "text": [
      "Epoch 1/100\n",
      "2160/2160 [==============================] - 33s 13ms/step - loss: 4.5200e-05\n",
      "Epoch 2/100\n",
      "2160/2160 [==============================] - 29s 13ms/step - loss: 2.2819e-05\n",
      "Epoch 3/100\n",
      "2160/2160 [==============================] - 29s 13ms/step - loss: 2.0939e-05\n",
      "Epoch 4/100\n",
      "2160/2160 [==============================] - 29s 13ms/step - loss: 1.9764e-05\n",
      "Epoch 5/100\n",
      "2160/2160 [==============================] - 29s 13ms/step - loss: 1.8037e-05\n",
      "Epoch 6/100\n",
      "2160/2160 [==============================] - 29s 13ms/step - loss: 1.6563e-05\n",
      "Epoch 7/100\n",
      "2160/2160 [==============================] - 29s 13ms/step - loss: 1.6461e-05\n",
      "Epoch 8/100\n",
      "2160/2160 [==============================] - 29s 13ms/step - loss: 1.5489e-05\n",
      "Epoch 9/100\n",
      "2160/2160 [==============================] - 29s 13ms/step - loss: 1.5914e-05\n"
     ]
    }
   ],
   "source": [
    "pretrained_layers = automodel.layers[:-1]\n",
    "for layer in automodel.layers:\n",
    "    layer.trainable = True # freezing\n",
    "    \n",
    "K.clear_session()\n",
    "model012 = Sequential(pretrained_layers)\n",
    "model012.add(LSTM(64, name='lstm_t',input_shape=(24,64)))\n",
    "model012.add(Dense(1))\n",
    "model012.compile(loss='mean_squared_error', optimizer='adam')\n",
    "\n",
    "early_stop = EarlyStopping(monitor='loss', patience=1, verbose=0)\n",
    "start_time22 = time.time()\n",
    "model012.fit(x_train, y_train, epochs=100,\n",
    "          batch_size=1, verbose=1, callbacks=[early_stop])\n",
    "end_time22 = time.time()"
   ]
  },
  {
   "cell_type": "markdown",
   "id": "c4a48b91",
   "metadata": {},
   "source": [
    "---"
   ]
  },
  {
   "cell_type": "markdown",
   "id": "c60a6b4d",
   "metadata": {},
   "source": [
    "# 비교군 \n",
    "\n",
    "- autoencoder non pretrained model\n",
    "- 기존 non-pretrained 방법\n",
    "- 기존 pretrained 방법"
   ]
  },
  {
   "cell_type": "markdown",
   "id": "7bff4c9c",
   "metadata": {},
   "source": [
    "---"
   ]
  },
  {
   "cell_type": "markdown",
   "id": "729be34f",
   "metadata": {},
   "source": [
    "###  autoencoder non pretrained model"
   ]
  },
  {
   "cell_type": "code",
   "execution_count": 113,
   "id": "4d4b9ec1",
   "metadata": {
    "scrolled": false
   },
   "outputs": [
    {
     "name": "stdout",
     "output_type": "stream",
     "text": [
      "Model: \"sequential\"\n",
      "_________________________________________________________________\n",
      " Layer (type)                Output Shape              Param #   \n",
      "=================================================================\n",
      " lstm (LSTM)                 (None, 24, 64)            16896     \n",
      "                                                                 \n",
      " lstm_1 (LSTM)               (None, 32)                12416     \n",
      "                                                                 \n",
      " repeat_vector (RepeatVecto  (None, 24, 32)            0         \n",
      " r)                                                              \n",
      "                                                                 \n",
      " lstm_2 (LSTM)               (None, 24, 32)            8320      \n",
      "                                                                 \n",
      " lstm_3 (LSTM)               (None, 64)                24832     \n",
      "                                                                 \n",
      " dense (Dense)               (None, 1)                 65        \n",
      "                                                                 \n",
      "=================================================================\n",
      "Total params: 62529 (244.25 KB)\n",
      "Trainable params: 62529 (244.25 KB)\n",
      "Non-trainable params: 0 (0.00 Byte)\n",
      "_________________________________________________________________\n"
     ]
    }
   ],
   "source": [
    "automodel1 = Sequential()\n",
    "\n",
    "K.clear_session()\n",
    "automodel1.add(LSTM(64,input_shape=(24,1),return_sequences=True))\n",
    "automodel1.add(LSTM(32,return_sequences=False))\n",
    "automodel1.add(RepeatVector(24))\n",
    "automodel1.add(LSTM(32,return_sequences=True))\n",
    "automodel1.add(LSTM(64,input_shape=(24,1),return_sequences=False))\n",
    "automodel1.add((Dense(1)))\n",
    "automodel1.compile(optimizer='adam', loss='mse')\n",
    "automodel1.summary()"
   ]
  },
  {
   "cell_type": "code",
   "execution_count": 114,
   "id": "4f348ded",
   "metadata": {},
   "outputs": [
    {
     "name": "stdout",
     "output_type": "stream",
     "text": [
      "Epoch 1/100\n",
      "2160/2160 [==============================] - 28s 11ms/step - loss: 1.1583e-04\n",
      "Epoch 2/100\n",
      "2160/2160 [==============================] - 23s 11ms/step - loss: 2.9984e-05\n",
      "Epoch 3/100\n",
      "2160/2160 [==============================] - 23s 11ms/step - loss: 2.1880e-05\n",
      "Epoch 4/100\n",
      "2160/2160 [==============================] - 23s 11ms/step - loss: 1.9261e-05\n",
      "Epoch 5/100\n",
      "2160/2160 [==============================] - 23s 11ms/step - loss: 1.6977e-05\n",
      "Epoch 6/100\n",
      "2160/2160 [==============================] - 23s 11ms/step - loss: 1.5505e-05\n",
      "Epoch 7/100\n",
      "2160/2160 [==============================] - 23s 11ms/step - loss: 1.6692e-05\n",
      "Epoch 7: early stopping\n"
     ]
    },
    {
     "data": {
      "text/plain": [
       "<keras.src.callbacks.History at 0x14e319527a0>"
      ]
     },
     "execution_count": 114,
     "metadata": {},
     "output_type": "execute_result"
    }
   ],
   "source": [
    "early_stop = EarlyStopping(monitor='loss', patience=1, verbose=1)\n",
    "\n",
    "automodel1.fit(x_train,y_train, epochs=100,\n",
    "          batch_size=1, verbose=1, callbacks=[early_stop])"
   ]
  },
  {
   "cell_type": "markdown",
   "id": "23027d13",
   "metadata": {},
   "source": [
    "---"
   ]
  },
  {
   "cell_type": "markdown",
   "id": "2937ad86",
   "metadata": {},
   "source": [
    "### 기존 non-pretrained 방법"
   ]
  },
  {
   "cell_type": "code",
   "execution_count": 122,
   "id": "76b9affe",
   "metadata": {},
   "outputs": [
    {
     "name": "stdout",
     "output_type": "stream",
     "text": [
      "Epoch 1/100\n",
      "2160/2160 [==============================] - 14s 5ms/step - loss: 5.3170e-05\n",
      "Epoch 2/100\n",
      "2160/2160 [==============================] - 12s 5ms/step - loss: 2.3713e-05\n",
      "Epoch 3/100\n",
      "2160/2160 [==============================] - 12s 5ms/step - loss: 1.9659e-05\n",
      "Epoch 4/100\n",
      "2160/2160 [==============================] - 12s 5ms/step - loss: 1.8894e-05\n",
      "Epoch 5/100\n",
      "2160/2160 [==============================] - 12s 5ms/step - loss: 1.8055e-05\n",
      "Epoch 6/100\n",
      "2160/2160 [==============================] - 12s 5ms/step - loss: 1.7648e-05\n",
      "Epoch 7/100\n",
      "2160/2160 [==============================] - 12s 5ms/step - loss: 1.8185e-05\n",
      "Epoch 7: early stopping\n"
     ]
    }
   ],
   "source": [
    "K.clear_session()\n",
    "modelnon0 = Sequential() # Sequeatial Model\n",
    "modelnon0.add(LSTM(64, return_sequences=True,input_shape=(24, 1)))# (timestep, feature)\n",
    "modelnon0.add(LSTM(32))\n",
    "modelnon0.add(Dense(1)) # output = 1\n",
    "modelnon0.compile(loss='mean_squared_error', optimizer='adam')\n",
    "\n",
    "early_stop = EarlyStopping(monitor='loss', patience=1, verbose=1)\n",
    "start_timenon0 = time.time()\n",
    "modelnon0.fit(x_train,y_train, epochs=100,\n",
    "          batch_size=1, verbose=1, callbacks=[early_stop])\n",
    "end_timenon0 = time.time()"
   ]
  },
  {
   "cell_type": "markdown",
   "id": "db489ba0",
   "metadata": {},
   "source": [
    "---"
   ]
  },
  {
   "cell_type": "markdown",
   "id": "be993b64",
   "metadata": {},
   "source": [
    "### 기존 pretrained 방법"
   ]
  },
  {
   "cell_type": "code",
   "execution_count": 91,
   "id": "b75cc680",
   "metadata": {},
   "outputs": [
    {
     "name": "stdout",
     "output_type": "stream",
     "text": [
      "Epoch 1/100\n",
      "2840/2840 [==============================] - 36s 12ms/step - loss: 1.5185e-04\n",
      "Epoch 2/100\n",
      "2840/2840 [==============================] - 35s 12ms/step - loss: 1.6656e-05\n",
      "Epoch 3/100\n",
      "2840/2840 [==============================] - 34s 12ms/step - loss: 9.5554e-06\n",
      "Epoch 4/100\n",
      "2840/2840 [==============================] - 34s 12ms/step - loss: 6.2406e-06\n",
      "Epoch 5/100\n",
      "2840/2840 [==============================] - 34s 12ms/step - loss: 5.1281e-06\n",
      "Epoch 6/100\n",
      "2840/2840 [==============================] - 34s 12ms/step - loss: 4.9113e-06\n",
      "Epoch 7/100\n",
      "2840/2840 [==============================] - 35s 12ms/step - loss: 3.7298e-06\n",
      "Epoch 8/100\n",
      "2840/2840 [==============================] - 36s 13ms/step - loss: 3.4296e-06\n",
      "Epoch 9/100\n",
      "2840/2840 [==============================] - 36s 13ms/step - loss: 3.0742e-06\n",
      "Epoch 10/100\n",
      "2840/2840 [==============================] - 36s 13ms/step - loss: 3.3453e-06\n",
      "Epoch 10: early stopping\n"
     ]
    },
    {
     "data": {
      "text/plain": [
       "<keras.src.callbacks.History at 0x14e11e2b970>"
      ]
     },
     "execution_count": 91,
     "metadata": {},
     "output_type": "execute_result"
    }
   ],
   "source": [
    "K.clear_session()\n",
    "model01 = Sequential() # Sequeatial Model\n",
    "model01.add(LSTM(64,name ='lstm0', return_sequences=True, input_shape=(24, 1))) # (timestep, feature)\n",
    "model01.add(LSTM(32, return_sequences=True)) # 연결한 모델의 차원을 맞추기 위해 시퀀스 반환을 함\n",
    "model01.add(Dense(1)) # output 사용 x\n",
    "model01.compile(loss='mean_squared_error', optimizer='adam')\n",
    "np.random.seed(1)\n",
    "early_stop = EarlyStopping(monitor='loss', patience=1, verbose=1)\n",
    "\n",
    "model01.fit(X_scale, y_scale, epochs=100,\n",
    "          batch_size=128, verbose=1, callbacks=[early_stop])"
   ]
  },
  {
   "cell_type": "code",
   "execution_count": 92,
   "id": "f2d8062f",
   "metadata": {},
   "outputs": [
    {
     "name": "stdout",
     "output_type": "stream",
     "text": [
      "Epoch 1/100\n",
      "2160/2160 [==============================] - 20s 8ms/step - loss: 4.0714e-05\n",
      "Epoch 2/100\n",
      "2160/2160 [==============================] - 17s 8ms/step - loss: 1.9990e-05\n",
      "Epoch 3/100\n",
      "2160/2160 [==============================] - 17s 8ms/step - loss: 1.8598e-05\n",
      "Epoch 4/100\n",
      "2160/2160 [==============================] - 17s 8ms/step - loss: 1.5589e-05\n",
      "Epoch 5/100\n",
      "2160/2160 [==============================] - 17s 8ms/step - loss: 1.6602e-05\n"
     ]
    }
   ],
   "source": [
    "pretrained_layers = model01.layers[:-1]\n",
    "for layer in model01.layers:\n",
    "    layer.trainable = True # freezing\n",
    "    \n",
    "\n",
    "model011 = Sequential(pretrained_layers)\n",
    "model011.add(LSTM(64, input_shape=(24,64)))\n",
    "model011.add(Dense(1))\n",
    "model011.compile(loss='mean_squared_error', optimizer='adam')\n",
    "\n",
    "early_stop = EarlyStopping(monitor='loss', patience=1, verbose=0)\n",
    "start_time22 = time.time()\n",
    "model011.fit(x_train, y_train, epochs=100,\n",
    "          batch_size=1, verbose=1, callbacks=[early_stop])\n",
    "end_time22 = time.time()"
   ]
  },
  {
   "cell_type": "markdown",
   "id": "6a71a54b",
   "metadata": {},
   "source": [
    "---"
   ]
  },
  {
   "cell_type": "markdown",
   "id": "2657e15d",
   "metadata": {},
   "source": [
    "# test"
   ]
  },
  {
   "cell_type": "code",
   "execution_count": 123,
   "id": "baab0642",
   "metadata": {
    "scrolled": true
   },
   "outputs": [
    {
     "name": "stdout",
     "output_type": "stream",
     "text": [
      "8/8 [==============================] - 1s 3ms/step\n",
      "8/8 [==============================] - 0s 5ms/step\n",
      "8/8 [==============================] - 0s 4ms/step\n",
      "8/8 [==============================] - 0s 6ms/step\n"
     ]
    }
   ],
   "source": [
    "pred1 = modelnon0.predict(x_test)\n",
    "pred2 = automodel1.predict(x_test)\n",
    "pred3 = model011.predict(x_test)\n",
    "pred4 = model012.predict(x_test)"
   ]
  },
  {
   "cell_type": "code",
   "execution_count": 125,
   "id": "125f6a74",
   "metadata": {},
   "outputs": [
    {
     "data": {
      "image/png": "[encoded data removed]",
      "text/plain": [
       "<Figure size 640x480 with 1 Axes>"
      ]
     },
     "metadata": {},
     "output_type": "display_data"
    }
   ],
   "source": [
    "plt.plot(pred4,label = 'autoencoder pretrain',color = 'red')\n",
    "plt.plot(pred2.flatten(),label = 'autoencoder no-pretrain')\n",
    "plt.plot(pred3,label = 'no-encoder pretrain')\n",
    "plt.plot(pred1,label = 'no-encoder no-pretrain',color='brown')\n",
    "plt.plot(y_test,label = 'y', color = 'black')\n",
    "plt.legend(loc='lower left')\n",
    "plt.show()"
   ]
  },
  {
   "cell_type": "code",
   "execution_count": 126,
   "id": "4e9cdcd6",
   "metadata": {},
   "outputs": [
    {
     "name": "stdout",
     "output_type": "stream",
     "text": [
      "no-encoder no-pretrain MSE : 0.00001696 MAE : 0.00322499\n",
      "no-encoder pretrain  MSE : 0.00001056 MAE : 0.00273292\n",
      "autoencoder no-pretrain MSE : 0.00000720 MAE : 0.00216013\n",
      "autoencoder pretrain MSE : 0.00000537 MAE : 0.00187278\n"
     ]
    }
   ],
   "source": [
    "from sklearn.metrics import mean_squared_error\n",
    "from sklearn.metrics import mean_absolute_error\n",
    "msepred1= mean_squared_error(y_test, pred1)\n",
    "maepred1= mean_absolute_error(y_test, pred1)\n",
    "msepred2= mean_squared_error(y_test, pred2)\n",
    "maepred2= mean_absolute_error(y_test, pred2)\n",
    "mse2= mean_squared_error(y_test, pred3)\n",
    "mae2= mean_absolute_error(y_test, pred3)\n",
    "mse3= mean_squared_error(y_test, pred4)\n",
    "mae3= mean_absolute_error(y_test, pred4)\n",
    "\n",
    "\n",
    "print('no-encoder no-pretrain',f\"MSE : {msepred1:.8f}\",f\"MAE : {maepred1:.8f}\")\n",
    "print('no-encoder pretrain ',f\"MSE : {mse2:.8f}\",f\"MAE : {mae2:.8f}\")\n",
    "print('autoencoder no-pretrain',f\"MSE : {msepred2:.8f}\",f\"MAE : {maepred2:.8f}\")\n",
    "print('autoencoder pretrain',f\"MSE : {mse3:.8f}\",f\"MAE : {mae3:.8f}\")"
   ]
  }
 ],
 "metadata": {
  "kernelspec": {
   "display_name": "Python 3 (ipykernel)",
   "language": "python",
   "name": "python3"
  },
  "language_info": {
   "codemirror_mode": {
    "name": "ipython",
    "version": 3
   },
   "file_extension": ".py",
   "mimetype": "text/x-python",
   "name": "python",
   "nbconvert_exporter": "python",
   "pygments_lexer": "ipython3",
   "version": "3.10.9"
  }
 },
 "nbformat": 4,
 "nbformat_minor": 5
}
