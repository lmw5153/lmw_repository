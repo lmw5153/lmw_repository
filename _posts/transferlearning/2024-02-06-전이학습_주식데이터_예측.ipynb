{
 "cells": [
  {
   "cell_type": "markdown",
   "id": "a58c1099",
   "metadata": {},
   "source": [
    "# 전이학습 주식데이터 예측\n",
    "\n",
    "- m4 data 24주기의 소스데이터\n",
    "- targetdata는 시간별 종가 주식데이터이고 5주기이다.\n",
    "- 앞으로의 12시차를 예측하고 싶음\n",
    "- 학습할 때는 하루 차이를 두어 model fitting 진행\n",
    "- seq2seq 형식으로 변경"
   ]
  },
  {
   "cell_type": "code",
   "execution_count": 130,
   "id": "a5eec5e3",
   "metadata": {},
   "outputs": [],
   "source": [
    "#import pandas_datareader.data as pdr\n",
    "import yfinance as yf\n",
    "import matplotlib.pyplot as plt\n",
    "import pandas as pd\n",
    "import numpy as np\n",
    "from datasetsforecast.m4 import M4, M4Evaluation\n",
    "import time\n",
    "from keras.layers import *\n",
    "from keras.models import Sequential ,Model\n",
    "from keras.callbacks import EarlyStopping\n",
    "import keras.backend as K"
   ]
  },
  {
   "cell_type": "markdown",
   "id": "9285af6a",
   "metadata": {},
   "source": [
    "# source m4 data "
   ]
  },
  {
   "cell_type": "code",
   "execution_count": 131,
   "id": "8306700b",
   "metadata": {},
   "outputs": [],
   "source": [
    "df,*_= M4.load(directory='data',group = 'Hourly')\n",
    "\n",
    "lst = list(set(df.loc[:,'unique_id']))\n",
    "\n",
    "tt = [df[df.loc[:,'unique_id']==lst[i]].iloc[:,1:4].set_index(['ds']) \n",
    "      for i in range(len(lst))]\n",
    "\n",
    "for l in range(len(tt)):\n",
    "    for s in range(1, 25):\n",
    "        tt[l]['shift_{}'.format(s)] = tt[l]['y'].shift(s)\n",
    "        tt[l]['shift_{}'.format(s)] = tt[l]['y'].shift(s)\n",
    "        \n",
    "tt=[tt[i].dropna(axis=0) for i in range(len(tt))]\n",
    "\n",
    "train = np.concatenate([np.array(tt[i].iloc[:,1:]) for i in range(len(tt))])\n",
    "y = np.concatenate([np.array(tt[i].iloc[:,0]) for i in range(len(tt))]).reshape(-1,1)\n",
    "\n",
    "from sklearn.preprocessing import MinMaxScaler\n",
    "min_max_scaler1 = MinMaxScaler()\n",
    "\n",
    "X_scale = min_max_scaler1.fit_transform(train)\n",
    "y_scale = min_max_scaler1.fit_transform(y)"
   ]
  },
  {
   "cell_type": "markdown",
   "id": "74450c40",
   "metadata": {},
   "source": [
    "# target data"
   ]
  },
  {
   "cell_type": "code",
   "execution_count": 143,
   "id": "6283feaf",
   "metadata": {
    "scrolled": true
   },
   "outputs": [],
   "source": [
    "start_date = '2023-01-01'\n",
    "end_date ='2024-01-01'\n",
    "\n",
    "ticker = yf.Ticker('005930.KS')\n",
    " \n",
    "df1= ticker.history(\n",
    "               interval='1h',\n",
    "               start=start_date,\n",
    "               end=end_date,\n",
    "               actions=True,\n",
    "               auto_adjust=True)\n",
    "df1= df1[['Close']].values.flatten().reshape(-1, 1)"
   ]
  },
  {
   "cell_type": "code",
   "execution_count": 147,
   "id": "8d32a3cc",
   "metadata": {},
   "outputs": [],
   "source": [
    "scale_target= min_max_scaler1.fit_transform(df1)\n",
    "target= pd.DataFrame({'y':scale_target.flatten()})"
   ]
  },
  {
   "cell_type": "code",
   "execution_count": 123,
   "id": "1470a45a",
   "metadata": {},
   "outputs": [],
   "source": [
    "class WINdow:\n",
    "    def __init__(self,df,timestep):\n",
    "        self.df = df\n",
    "        self.timestep=timestep+1 # 예상한 timestep보다 1적기 때문에 +1\n",
    "        \n",
    "    def window(self):\n",
    "        for i in range(1, self.timestep):\n",
    "            self.df['shift_{}'.format(i)] = self.df.iloc[:,0].shift(i)\n",
    "            self.df['shift_{}'.format(i)] = self.df.iloc[:,0].shift(i)\n",
    "        window_df = self.df.dropna(axis=0) # 결측치 공간 제거\n",
    "        self.window_df = window_df.iloc[:,::-1] # 좌우 반전\n",
    "        \n",
    "                \n",
    "        self.feature= self.window_df.iloc[:,:-1].values\n",
    "        self.y_label= self.window_df.iloc[:,-1].values\n",
    "        \n",
    "        return self. window_df "
   ]
  },
  {
   "cell_type": "code",
   "execution_count": 227,
   "id": "b295d1e1",
   "metadata": {},
   "outputs": [],
   "source": [
    "cake = WINdow(target,24)"
   ]
  },
  {
   "cell_type": "code",
   "execution_count": 228,
   "id": "a653cb59",
   "metadata": {},
   "outputs": [
    {
     "data": {
      "text/plain": [
       "((1420, 24), (1420, 24))"
      ]
     },
     "execution_count": 228,
     "metadata": {},
     "output_type": "execute_result"
    }
   ],
   "source": [
    "cake.window()\n",
    "X_train= cake.feature\n",
    "#X_train[:-24].shape,X_train[24:].shape"
   ]
  },
  {
   "cell_type": "code",
   "execution_count": 229,
   "id": "9b873adf",
   "metadata": {},
   "outputs": [],
   "source": [
    "start_date = '2024-01-02'\n",
    "end_date ='2024-02-02'\n",
    "\n",
    "ticker = yf.Ticker('005930.KS')\n",
    " \n",
    "df2= ticker.history(\n",
    "               interval='1h',\n",
    "               start=start_date,\n",
    "               end=end_date,\n",
    "               actions=True,\n",
    "               auto_adjust=True)\n",
    "df2= df2[['Close']].values.flatten().reshape(-1, 1)\n",
    "\n",
    "scale_target2= min_max_scaler1.fit_transform(df2)\n",
    "target2= pd.DataFrame({'y':scale_target2.flatten()})\n",
    "\n",
    "cake2 = WINdow(target2,24)"
   ]
  },
  {
   "cell_type": "code",
   "execution_count": 230,
   "id": "a5edf980",
   "metadata": {},
   "outputs": [
    {
     "data": {
      "text/plain": [
       "((89, 24), (89, 24))"
      ]
     },
     "execution_count": 230,
     "metadata": {},
     "output_type": "execute_result"
    }
   ],
   "source": [
    "cake2.window()\n",
    "X_test= cake2.feature\n",
    "#X_test[:-24].shape,X_test[24:].shape"
   ]
  },
  {
   "cell_type": "markdown",
   "id": "014ca038",
   "metadata": {},
   "source": [
    "---"
   ]
  },
  {
   "cell_type": "markdown",
   "id": "66fc595e",
   "metadata": {},
   "source": [
    "# pretrained model fitting"
   ]
  },
  {
   "cell_type": "code",
   "execution_count": 155,
   "id": "02d9811d",
   "metadata": {},
   "outputs": [
    {
     "name": "stdout",
     "output_type": "stream",
     "text": [
      "Epoch 1/100\n"
     ]
    },
    {
     "name": "stderr",
     "output_type": "stream",
     "text": [
      "WARNING:tensorflow:From C:\\Users\\default.DESKTOP-2ISHQBS\\anaconda3\\lib\\site-packages\\keras\\src\\utils\\tf_utils.py:492: The name tf.ragged.RaggedTensorValue is deprecated. Please use tf.compat.v1.ragged.RaggedTensorValue instead.\n",
      "\n"
     ]
    },
    {
     "name": "stdout",
     "output_type": "stream",
     "text": [
      "2840/2840 [==============================] - 45s 15ms/step - loss: 1.5430e-04\n",
      "Epoch 2/100\n",
      "2840/2840 [==============================] - 42s 15ms/step - loss: 1.8609e-05\n",
      "Epoch 3/100\n",
      "2840/2840 [==============================] - 43s 15ms/step - loss: 9.4355e-06\n",
      "Epoch 4/100\n",
      "2840/2840 [==============================] - 45s 16ms/step - loss: 7.5013e-06\n",
      "Epoch 5/100\n",
      "2840/2840 [==============================] - 46s 16ms/step - loss: 5.9220e-06\n",
      "Epoch 6/100\n",
      "2840/2840 [==============================] - 47s 17ms/step - loss: 4.8200e-06\n",
      "Epoch 7/100\n",
      "2840/2840 [==============================] - 47s 17ms/step - loss: 4.2194e-06\n",
      "Epoch 8/100\n",
      "2840/2840 [==============================] - 45s 16ms/step - loss: 4.1059e-06\n",
      "Epoch 9/100\n",
      "2840/2840 [==============================] - 44s 15ms/step - loss: 3.2705e-06\n",
      "Epoch 10/100\n",
      "2840/2840 [==============================] - 45s 16ms/step - loss: 3.0131e-06\n",
      "Epoch 11/100\n",
      "2840/2840 [==============================] - 45s 16ms/step - loss: 2.8367e-06\n",
      "Epoch 12/100\n",
      "2840/2840 [==============================] - 43s 15ms/step - loss: 3.0423e-06\n",
      "Epoch 12: early stopping\n"
     ]
    },
    {
     "data": {
      "text/plain": [
       "<keras.src.callbacks.History at 0x27779835210>"
      ]
     },
     "execution_count": 155,
     "metadata": {},
     "output_type": "execute_result"
    }
   ],
   "source": [
    "K.clear_session()\n",
    "model01 = Sequential() # Sequeatial Model\n",
    "model01.add(LSTM(64, return_sequences=True, input_shape=(24, 1))) # (timestep, feature)\n",
    "model01.add(LSTM(64, return_sequences=True)) # 연결한 모델의 차원을 맞추기 위해 시퀀스 반환을 함\n",
    "model01.add(Dense(1)) # output 사용 x\n",
    "model01.compile(loss='mean_squared_error', optimizer='adam')\n",
    "np.random.seed(1)\n",
    "early_stop = EarlyStopping(monitor='loss', patience=1, verbose=1)\n",
    "\n",
    "model01.fit(X_scale, y_scale, epochs=100,\n",
    "          batch_size=128, verbose=1, callbacks=[early_stop])"
   ]
  },
  {
   "cell_type": "code",
   "execution_count": 315,
   "id": "4bd6cf8d",
   "metadata": {},
   "outputs": [
    {
     "name": "stdout",
     "output_type": "stream",
     "text": [
      "Epoch 1/10\n",
      "1420/1420 [==============================] - 15s 8ms/step - loss: 0.0073\n",
      "Epoch 2/10\n",
      "1420/1420 [==============================] - 12s 8ms/step - loss: 0.0044\n",
      "Epoch 3/10\n",
      "1420/1420 [==============================] - 12s 8ms/step - loss: 0.0045\n",
      "Epoch 4/10\n",
      "1420/1420 [==============================] - 12s 8ms/step - loss: 0.0044\n",
      "Epoch 5/10\n",
      "1420/1420 [==============================] - 12s 8ms/step - loss: 0.0043\n",
      "Epoch 6/10\n",
      "1420/1420 [==============================] - 12s 8ms/step - loss: 0.0043\n",
      "Epoch 7/10\n",
      "1420/1420 [==============================] - 12s 8ms/step - loss: 0.0042\n",
      "Epoch 8/10\n",
      "1420/1420 [==============================] - 12s 8ms/step - loss: 0.0042\n",
      "Epoch 9/10\n",
      "1420/1420 [==============================] - 12s 8ms/step - loss: 0.0042\n",
      "Epoch 10/10\n",
      "1420/1420 [==============================] - 12s 8ms/step - loss: 0.0041\n"
     ]
    }
   ],
   "source": [
    "pretrained_layers = model01.layers[:-1]\n",
    "for layer in model01.layers:\n",
    "    layer.trainable = True # freezing\n",
    "    \n",
    "K.clear_session()\n",
    "model012 = Sequential(pretrained_layers)\n",
    "model012.add(LSTM(64, name='lstmd2',input_shape=(24,64), return_sequences=True))\n",
    "model012.add(TimeDistributed(Dense(1)))\n",
    "model012.compile(loss='mean_squared_error', optimizer='adam')\n",
    "\n",
    "early_stop = EarlyStopping(monitor='loss', patience=3, verbose=0)\n",
    "start_time22 = time.time()\n",
    "model012.fit(X_train[:-24], X_train[24:], epochs=10,\n",
    "          batch_size=1, verbose=1, callbacks=[early_stop])\n",
    "end_time22 = time.time()"
   ]
  },
  {
   "cell_type": "markdown",
   "id": "c1155676",
   "metadata": {},
   "source": [
    "---"
   ]
  },
  {
   "cell_type": "markdown",
   "id": "99a63126",
   "metadata": {},
   "source": [
    "# no-pretrained model"
   ]
  },
  {
   "cell_type": "code",
   "execution_count": 316,
   "id": "e6ee8726",
   "metadata": {},
   "outputs": [
    {
     "name": "stdout",
     "output_type": "stream",
     "text": [
      "Epoch 1/100\n",
      "1420/1420 [==============================] - 10s 5ms/step - loss: 0.0088\n",
      "Epoch 2/100\n",
      "1420/1420 [==============================] - 8s 5ms/step - loss: 0.0048\n",
      "Epoch 3/100\n",
      "1420/1420 [==============================] - 8s 5ms/step - loss: 0.0048\n",
      "Epoch 3: early stopping\n"
     ]
    }
   ],
   "source": [
    "K.clear_session()\n",
    "modelnon0 = Sequential() # Sequeatial Model\n",
    "modelnon0.add(LSTM(64, return_sequences=True,input_shape=(24, 1)))# (timestep, feature)\n",
    "modelnon0.add(LSTM(64, return_sequences=True))\n",
    "modelnon0.add(TimeDistributed(Dense(1))) # output = 1\n",
    "modelnon0.compile(loss='mean_squared_error', optimizer='adam')\n",
    "early_stop = EarlyStopping(monitor='loss', patience=1, verbose=1)\n",
    "start_timenon0 = time.time()\n",
    "modelnon0.fit(X_train[:-24],X_train[24:], epochs=100,\n",
    "          batch_size=1, verbose=1, callbacks=[early_stop])\n",
    "end_timenon0 = time.time()"
   ]
  },
  {
   "cell_type": "markdown",
   "id": "33f6dfa5",
   "metadata": {},
   "source": [
    "---"
   ]
  },
  {
   "cell_type": "markdown",
   "id": "bf4f3933",
   "metadata": {},
   "source": [
    "# test"
   ]
  },
  {
   "cell_type": "code",
   "execution_count": 319,
   "id": "e91505c5",
   "metadata": {},
   "outputs": [
    {
     "name": "stdout",
     "output_type": "stream",
     "text": [
      "3/3 [==============================] - 1s 5ms/step\n",
      "3/3 [==============================] - 1s 3ms/step\n"
     ]
    }
   ],
   "source": [
    "pred1 = model012.predict(X_test[:-24])\n",
    "pred2 = modelnon0.predict(X_test[:-24])"
   ]
  },
  {
   "cell_type": "code",
   "execution_count": 320,
   "id": "2b8e6c06",
   "metadata": {},
   "outputs": [
    {
     "data": {
      "text/plain": [
       "[<matplotlib.lines.Line2D at 0x27797cbc1c0>]"
      ]
     },
     "execution_count": 320,
     "metadata": {},
     "output_type": "execute_result"
    },
    {
     "data": {
      "image/png": "[encoded data removed]",
      "text/plain": [
       "<Figure size 640x480 with 1 Axes>"
      ]
     },
     "metadata": {},
     "output_type": "display_data"
    }
   ],
   "source": [
    "plt.plot(pred1[-1],color='red')\n",
    "plt.plot(pred2[-1])\n",
    "plt.plot(X_test[-1],color='black')"
   ]
  },
  {
   "cell_type": "code",
   "execution_count": 321,
   "id": "48a3f30a",
   "metadata": {},
   "outputs": [
    {
     "name": "stdout",
     "output_type": "stream",
     "text": [
      "pretrain 0.008131648222782943 \n",
      "normal 0.009715282244397572\n"
     ]
    }
   ],
   "source": [
    "from sklearn.metrics import mean_squared_error as mse\n",
    "mse1,mse2 = mse(X_test[-1],pred1[-1]),mse(X_test[-1],pred2[-1])\n",
    "print('pretrain',mse1,'\\nnormal',mse2)\n"
   ]
  }
 ],
 "metadata": {
  "kernelspec": {
   "display_name": "Python 3 (ipykernel)",
   "language": "python",
   "name": "python3"
  },
  "language_info": {
   "codemirror_mode": {
    "name": "ipython",
    "version": 3
   },
   "file_extension": ".py",
   "mimetype": "text/x-python",
   "name": "python",
   "nbconvert_exporter": "python",
   "pygments_lexer": "ipython3",
   "version": "3.10.9"
  }
 },
 "nbformat": 4,
 "nbformat_minor": 5
}
