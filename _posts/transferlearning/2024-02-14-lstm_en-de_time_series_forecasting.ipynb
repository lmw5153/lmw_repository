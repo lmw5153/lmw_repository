{
 "cells": [
  {
   "cell_type": "markdown",
   "id": "de5e295d",
   "metadata": {},
   "source": [
    "# en-de time series forecasting example"
   ]
  },
  {
   "cell_type": "markdown",
   "id": "265acb8a",
   "metadata": {},
   "source": [
    "- data : 삼성 주식 시간별 데이터\n",
    "- 목적 : 시가, 하한가, 상한가를 이용해 일주일치 종가를 예측\n",
    "- 참고자료 : https://agupubs.onlinelibrary.wiley.com/doi/pdfdirect/10.1029/2019WR025326\n",
    "\n",
    "- seq2one 예제"
   ]
  },
  {
   "cell_type": "markdown",
   "id": "759d55ac",
   "metadata": {},
   "source": [
    "---"
   ]
  },
  {
   "cell_type": "markdown",
   "id": "103ae611",
   "metadata": {},
   "source": [
    "# import & read data"
   ]
  },
  {
   "cell_type": "code",
   "execution_count": 97,
   "id": "58b5b0fc",
   "metadata": {},
   "outputs": [],
   "source": [
    "import pandas as pd \n",
    "import numpy as np\n",
    "import matplotlib.pyplot as plt\n",
    "import time\n",
    "import tensorflow as tf\n",
    "from tensorflow.keras.models import Model\n",
    "from tensorflow.keras.layers import Input, LSTM, Dense, concatenate\n",
    "from tensorflow.keras import backend as K\n",
    "from tensorflow.keras.callbacks import EarlyStopping\n",
    "import yfinance as yf"
   ]
  },
  {
   "cell_type": "markdown",
   "id": "1ee32024",
   "metadata": {},
   "source": [
    "`-` 삼성 주식 데이터 불러오기"
   ]
  },
  {
   "cell_type": "code",
   "execution_count": 24,
   "id": "8b1c3a4a",
   "metadata": {},
   "outputs": [],
   "source": [
    "start_date = '2022-12-31'\n",
    "end_date ='2024-12-31'\n",
    "\n",
    "ticker = yf.Ticker('005930.KS')\n",
    " \n",
    "df1= ticker.history(\n",
    "               interval='1h',\n",
    "               start=start_date,\n",
    "               end=end_date,\n",
    "               actions=True,\n",
    "               auto_adjust=True)"
   ]
  },
  {
   "cell_type": "code",
   "execution_count": 30,
   "id": "5631b9eb",
   "metadata": {
    "scrolled": false
   },
   "outputs": [
    {
     "data": {
      "text/html": [
       "<div>\n",
       "<style scoped>\n",
       "    .dataframe tbody tr th:only-of-type {\n",
       "        vertical-align: middle;\n",
       "    }\n",
       "\n",
       "    .dataframe tbody tr th {\n",
       "        vertical-align: top;\n",
       "    }\n",
       "\n",
       "    .dataframe thead th {\n",
       "        text-align: right;\n",
       "    }\n",
       "</style>\n",
       "<table border=\"1\" class=\"dataframe\">\n",
       "  <thead>\n",
       "    <tr style=\"text-align: right;\">\n",
       "      <th></th>\n",
       "      <th>Open</th>\n",
       "      <th>High</th>\n",
       "      <th>Low</th>\n",
       "      <th>Close</th>\n",
       "      <th>Volume</th>\n",
       "      <th>Dividends</th>\n",
       "      <th>Stock Splits</th>\n",
       "    </tr>\n",
       "    <tr>\n",
       "      <th>Datetime</th>\n",
       "      <th></th>\n",
       "      <th></th>\n",
       "      <th></th>\n",
       "      <th></th>\n",
       "      <th></th>\n",
       "      <th></th>\n",
       "      <th></th>\n",
       "    </tr>\n",
       "  </thead>\n",
       "  <tbody>\n",
       "    <tr>\n",
       "      <th>2023-01-02 10:00:00+09:00</th>\n",
       "      <td>55500.0</td>\n",
       "      <td>56100.0</td>\n",
       "      <td>55500.0</td>\n",
       "      <td>55900.0</td>\n",
       "      <td>2981828</td>\n",
       "      <td>0.0</td>\n",
       "      <td>0.0</td>\n",
       "    </tr>\n",
       "    <tr>\n",
       "      <th>2023-01-02 11:00:00+09:00</th>\n",
       "      <td>55900.0</td>\n",
       "      <td>56000.0</td>\n",
       "      <td>55800.0</td>\n",
       "      <td>55900.0</td>\n",
       "      <td>1236593</td>\n",
       "      <td>0.0</td>\n",
       "      <td>0.0</td>\n",
       "    </tr>\n",
       "    <tr>\n",
       "      <th>2023-01-02 12:00:00+09:00</th>\n",
       "      <td>55800.0</td>\n",
       "      <td>55900.0</td>\n",
       "      <td>55500.0</td>\n",
       "      <td>55500.0</td>\n",
       "      <td>1201020</td>\n",
       "      <td>0.0</td>\n",
       "      <td>0.0</td>\n",
       "    </tr>\n",
       "    <tr>\n",
       "      <th>2023-01-02 13:00:00+09:00</th>\n",
       "      <td>55500.0</td>\n",
       "      <td>55700.0</td>\n",
       "      <td>55400.0</td>\n",
       "      <td>55500.0</td>\n",
       "      <td>1206452</td>\n",
       "      <td>0.0</td>\n",
       "      <td>0.0</td>\n",
       "    </tr>\n",
       "    <tr>\n",
       "      <th>2023-01-02 14:00:00+09:00</th>\n",
       "      <td>55400.0</td>\n",
       "      <td>55500.0</td>\n",
       "      <td>55200.0</td>\n",
       "      <td>55400.0</td>\n",
       "      <td>1855373</td>\n",
       "      <td>0.0</td>\n",
       "      <td>0.0</td>\n",
       "    </tr>\n",
       "  </tbody>\n",
       "</table>\n",
       "</div>"
      ],
      "text/plain": [
       "                              Open     High      Low    Close   Volume  \\\n",
       "Datetime                                                                 \n",
       "2023-01-02 10:00:00+09:00  55500.0  56100.0  55500.0  55900.0  2981828   \n",
       "2023-01-02 11:00:00+09:00  55900.0  56000.0  55800.0  55900.0  1236593   \n",
       "2023-01-02 12:00:00+09:00  55800.0  55900.0  55500.0  55500.0  1201020   \n",
       "2023-01-02 13:00:00+09:00  55500.0  55700.0  55400.0  55500.0  1206452   \n",
       "2023-01-02 14:00:00+09:00  55400.0  55500.0  55200.0  55400.0  1855373   \n",
       "\n",
       "                           Dividends  Stock Splits  \n",
       "Datetime                                            \n",
       "2023-01-02 10:00:00+09:00        0.0           0.0  \n",
       "2023-01-02 11:00:00+09:00        0.0           0.0  \n",
       "2023-01-02 12:00:00+09:00        0.0           0.0  \n",
       "2023-01-02 13:00:00+09:00        0.0           0.0  \n",
       "2023-01-02 14:00:00+09:00        0.0           0.0  "
      ]
     },
     "execution_count": 30,
     "metadata": {},
     "output_type": "execute_result"
    }
   ],
   "source": [
    "df1.head()"
   ]
  },
  {
   "cell_type": "code",
   "execution_count": 16,
   "id": "6abbf70a",
   "metadata": {},
   "outputs": [
    {
     "data": {
      "text/plain": [
       "<Axes: xlabel='Datetime'>"
      ]
     },
     "execution_count": 16,
     "metadata": {},
     "output_type": "execute_result"
    },
    {
     "data": {
      "image/png": "[encoded data removed]",
      "text/plain": [
       "<Figure size 640x480 with 1 Axes>"
      ]
     },
     "metadata": {},
     "output_type": "display_data"
    }
   ],
   "source": [
    "df1.iloc[:,:4].plot()"
   ]
  },
  {
   "cell_type": "markdown",
   "id": "0ba142c3",
   "metadata": {},
   "source": [
    "- feature data : open, high, low\n",
    "- target data: close\n",
    "- 목적 : 1~11월의 train data를 이용하여 12월의 target data를 예측\n",
    "- seq2seq model을 이용하여 예측 모형 생성하기"
   ]
  },
  {
   "cell_type": "code",
   "execution_count": 40,
   "id": "21045c19",
   "metadata": {},
   "outputs": [],
   "source": [
    "X = df1.iloc[:,:4].loc[:'2023-11-30 14:00:00+09:00',:]\n",
    "Y = df1.iloc[:,:4].loc['2023-12-01 10:00:00+09:00':,:]"
   ]
  },
  {
   "cell_type": "code",
   "execution_count": 138,
   "id": "9a027a47",
   "metadata": {},
   "outputs": [],
   "source": [
    "class WINdow:\n",
    "    def __init__(self,df,timestep):\n",
    "        self.df = df\n",
    "        self.timestep=timestep+1 # 예상한 timestep보다 1적기 때문에 +1\n",
    "        \n",
    "    def window(self):\n",
    "        for i in range(1, self.timestep):\n",
    "            self.df['shift_{}'.format(i)] = self.df.iloc[:,0].shift(i)\n",
    "            self.df['shift_{}'.format(i)] = self.df.iloc[:,0].shift(i)\n",
    "        window_df = self.df.dropna(axis=0) # 결측치 공간 제거\n",
    "        self.window_df = window_df.iloc[:,::-1] # 좌우 반전\n",
    "        \n",
    "                \n",
    "        self.feature= self.window_df.iloc[:,:-1].values\n",
    "        self.y_label= self.window_df.iloc[:,-1].values\n",
    "        \n",
    "        return self. window_df "
   ]
  },
  {
   "cell_type": "markdown",
   "id": "bf10d0da",
   "metadata": {},
   "source": [
    "# fitting data 전처리"
   ]
  },
  {
   "cell_type": "code",
   "execution_count": 280,
   "id": "8f5a0880",
   "metadata": {
    "scrolled": true
   },
   "outputs": [
    {
     "name": "stderr",
     "output_type": "stream",
     "text": [
      "C:\\Users\\Public\\Documents\\ESTsoft\\CreatorTemp\\ipykernel_19024\\1267832976.py:8: SettingWithCopyWarning: \n",
      "A value is trying to be set on a copy of a slice from a DataFrame.\n",
      "Try using .loc[row_indexer,col_indexer] = value instead\n",
      "\n",
      "See the caveats in the documentation: https://pandas.pydata.org/pandas-docs/stable/user_guide/indexing.html#returning-a-view-versus-a-copy\n",
      "  self.df['shift_{}'.format(i)] = self.df.iloc[:,0].shift(i)\n",
      "C:\\Users\\Public\\Documents\\ESTsoft\\CreatorTemp\\ipykernel_19024\\1267832976.py:9: SettingWithCopyWarning: \n",
      "A value is trying to be set on a copy of a slice from a DataFrame.\n",
      "Try using .loc[row_indexer,col_indexer] = value instead\n",
      "\n",
      "See the caveats in the documentation: https://pandas.pydata.org/pandas-docs/stable/user_guide/indexing.html#returning-a-view-versus-a-copy\n",
      "  self.df['shift_{}'.format(i)] = self.df.iloc[:,0].shift(i)\n",
      "C:\\Users\\Public\\Documents\\ESTsoft\\CreatorTemp\\ipykernel_19024\\1267832976.py:8: SettingWithCopyWarning: \n",
      "A value is trying to be set on a copy of a slice from a DataFrame.\n",
      "Try using .loc[row_indexer,col_indexer] = value instead\n",
      "\n",
      "See the caveats in the documentation: https://pandas.pydata.org/pandas-docs/stable/user_guide/indexing.html#returning-a-view-versus-a-copy\n",
      "  self.df['shift_{}'.format(i)] = self.df.iloc[:,0].shift(i)\n",
      "C:\\Users\\Public\\Documents\\ESTsoft\\CreatorTemp\\ipykernel_19024\\1267832976.py:9: SettingWithCopyWarning: \n",
      "A value is trying to be set on a copy of a slice from a DataFrame.\n",
      "Try using .loc[row_indexer,col_indexer] = value instead\n",
      "\n",
      "See the caveats in the documentation: https://pandas.pydata.org/pandas-docs/stable/user_guide/indexing.html#returning-a-view-versus-a-copy\n",
      "  self.df['shift_{}'.format(i)] = self.df.iloc[:,0].shift(i)\n",
      "C:\\Users\\Public\\Documents\\ESTsoft\\CreatorTemp\\ipykernel_19024\\1267832976.py:8: SettingWithCopyWarning: \n",
      "A value is trying to be set on a copy of a slice from a DataFrame.\n",
      "Try using .loc[row_indexer,col_indexer] = value instead\n",
      "\n",
      "See the caveats in the documentation: https://pandas.pydata.org/pandas-docs/stable/user_guide/indexing.html#returning-a-view-versus-a-copy\n",
      "  self.df['shift_{}'.format(i)] = self.df.iloc[:,0].shift(i)\n",
      "C:\\Users\\Public\\Documents\\ESTsoft\\CreatorTemp\\ipykernel_19024\\1267832976.py:9: SettingWithCopyWarning: \n",
      "A value is trying to be set on a copy of a slice from a DataFrame.\n",
      "Try using .loc[row_indexer,col_indexer] = value instead\n",
      "\n",
      "See the caveats in the documentation: https://pandas.pydata.org/pandas-docs/stable/user_guide/indexing.html#returning-a-view-versus-a-copy\n",
      "  self.df['shift_{}'.format(i)] = self.df.iloc[:,0].shift(i)\n",
      "C:\\Users\\Public\\Documents\\ESTsoft\\CreatorTemp\\ipykernel_19024\\1267832976.py:8: SettingWithCopyWarning: \n",
      "A value is trying to be set on a copy of a slice from a DataFrame.\n",
      "Try using .loc[row_indexer,col_indexer] = value instead\n",
      "\n",
      "See the caveats in the documentation: https://pandas.pydata.org/pandas-docs/stable/user_guide/indexing.html#returning-a-view-versus-a-copy\n",
      "  self.df['shift_{}'.format(i)] = self.df.iloc[:,0].shift(i)\n",
      "C:\\Users\\Public\\Documents\\ESTsoft\\CreatorTemp\\ipykernel_19024\\1267832976.py:9: SettingWithCopyWarning: \n",
      "A value is trying to be set on a copy of a slice from a DataFrame.\n",
      "Try using .loc[row_indexer,col_indexer] = value instead\n",
      "\n",
      "See the caveats in the documentation: https://pandas.pydata.org/pandas-docs/stable/user_guide/indexing.html#returning-a-view-versus-a-copy\n",
      "  self.df['shift_{}'.format(i)] = self.df.iloc[:,0].shift(i)\n",
      "C:\\Users\\Public\\Documents\\ESTsoft\\CreatorTemp\\ipykernel_19024\\1267832976.py:8: SettingWithCopyWarning: \n",
      "A value is trying to be set on a copy of a slice from a DataFrame.\n",
      "Try using .loc[row_indexer,col_indexer] = value instead\n",
      "\n",
      "See the caveats in the documentation: https://pandas.pydata.org/pandas-docs/stable/user_guide/indexing.html#returning-a-view-versus-a-copy\n",
      "  self.df['shift_{}'.format(i)] = self.df.iloc[:,0].shift(i)\n",
      "C:\\Users\\Public\\Documents\\ESTsoft\\CreatorTemp\\ipykernel_19024\\1267832976.py:9: SettingWithCopyWarning: \n",
      "A value is trying to be set on a copy of a slice from a DataFrame.\n",
      "Try using .loc[row_indexer,col_indexer] = value instead\n",
      "\n",
      "See the caveats in the documentation: https://pandas.pydata.org/pandas-docs/stable/user_guide/indexing.html#returning-a-view-versus-a-copy\n",
      "  self.df['shift_{}'.format(i)] = self.df.iloc[:,0].shift(i)\n",
      "C:\\Users\\Public\\Documents\\ESTsoft\\CreatorTemp\\ipykernel_19024\\1267832976.py:8: SettingWithCopyWarning: \n",
      "A value is trying to be set on a copy of a slice from a DataFrame.\n",
      "Try using .loc[row_indexer,col_indexer] = value instead\n",
      "\n",
      "See the caveats in the documentation: https://pandas.pydata.org/pandas-docs/stable/user_guide/indexing.html#returning-a-view-versus-a-copy\n",
      "  self.df['shift_{}'.format(i)] = self.df.iloc[:,0].shift(i)\n",
      "C:\\Users\\Public\\Documents\\ESTsoft\\CreatorTemp\\ipykernel_19024\\1267832976.py:9: SettingWithCopyWarning: \n",
      "A value is trying to be set on a copy of a slice from a DataFrame.\n",
      "Try using .loc[row_indexer,col_indexer] = value instead\n",
      "\n",
      "See the caveats in the documentation: https://pandas.pydata.org/pandas-docs/stable/user_guide/indexing.html#returning-a-view-versus-a-copy\n",
      "  self.df['shift_{}'.format(i)] = self.df.iloc[:,0].shift(i)\n",
      "C:\\Users\\Public\\Documents\\ESTsoft\\CreatorTemp\\ipykernel_19024\\1267832976.py:8: SettingWithCopyWarning: \n",
      "A value is trying to be set on a copy of a slice from a DataFrame.\n",
      "Try using .loc[row_indexer,col_indexer] = value instead\n",
      "\n",
      "See the caveats in the documentation: https://pandas.pydata.org/pandas-docs/stable/user_guide/indexing.html#returning-a-view-versus-a-copy\n",
      "  self.df['shift_{}'.format(i)] = self.df.iloc[:,0].shift(i)\n",
      "C:\\Users\\Public\\Documents\\ESTsoft\\CreatorTemp\\ipykernel_19024\\1267832976.py:9: SettingWithCopyWarning: \n",
      "A value is trying to be set on a copy of a slice from a DataFrame.\n",
      "Try using .loc[row_indexer,col_indexer] = value instead\n",
      "\n",
      "See the caveats in the documentation: https://pandas.pydata.org/pandas-docs/stable/user_guide/indexing.html#returning-a-view-versus-a-copy\n",
      "  self.df['shift_{}'.format(i)] = self.df.iloc[:,0].shift(i)\n",
      "C:\\Users\\Public\\Documents\\ESTsoft\\CreatorTemp\\ipykernel_19024\\1267832976.py:8: SettingWithCopyWarning: \n",
      "A value is trying to be set on a copy of a slice from a DataFrame.\n",
      "Try using .loc[row_indexer,col_indexer] = value instead\n",
      "\n",
      "See the caveats in the documentation: https://pandas.pydata.org/pandas-docs/stable/user_guide/indexing.html#returning-a-view-versus-a-copy\n",
      "  self.df['shift_{}'.format(i)] = self.df.iloc[:,0].shift(i)\n",
      "C:\\Users\\Public\\Documents\\ESTsoft\\CreatorTemp\\ipykernel_19024\\1267832976.py:9: SettingWithCopyWarning: \n",
      "A value is trying to be set on a copy of a slice from a DataFrame.\n",
      "Try using .loc[row_indexer,col_indexer] = value instead\n",
      "\n",
      "See the caveats in the documentation: https://pandas.pydata.org/pandas-docs/stable/user_guide/indexing.html#returning-a-view-versus-a-copy\n",
      "  self.df['shift_{}'.format(i)] = self.df.iloc[:,0].shift(i)\n"
     ]
    },
    {
     "data": {
      "text/html": [
       "<div>\n",
       "<style scoped>\n",
       "    .dataframe tbody tr th:only-of-type {\n",
       "        vertical-align: middle;\n",
       "    }\n",
       "\n",
       "    .dataframe tbody tr th {\n",
       "        vertical-align: top;\n",
       "    }\n",
       "\n",
       "    .dataframe thead th {\n",
       "        text-align: right;\n",
       "    }\n",
       "</style>\n",
       "<table border=\"1\" class=\"dataframe\">\n",
       "  <thead>\n",
       "    <tr style=\"text-align: right;\">\n",
       "      <th></th>\n",
       "      <th>shift_5</th>\n",
       "      <th>shift_4</th>\n",
       "      <th>shift_3</th>\n",
       "      <th>shift_2</th>\n",
       "      <th>shift_1</th>\n",
       "      <th>Close</th>\n",
       "    </tr>\n",
       "    <tr>\n",
       "      <th>Datetime</th>\n",
       "      <th></th>\n",
       "      <th></th>\n",
       "      <th></th>\n",
       "      <th></th>\n",
       "      <th></th>\n",
       "      <th></th>\n",
       "    </tr>\n",
       "  </thead>\n",
       "  <tbody>\n",
       "    <tr>\n",
       "      <th>2023-01-03 09:00:00+09:00</th>\n",
       "      <td>55900.0</td>\n",
       "      <td>55900.0</td>\n",
       "      <td>55500.0</td>\n",
       "      <td>55500.0</td>\n",
       "      <td>55400.0</td>\n",
       "      <td>54700.0</td>\n",
       "    </tr>\n",
       "    <tr>\n",
       "      <th>2023-01-03 10:00:00+09:00</th>\n",
       "      <td>55900.0</td>\n",
       "      <td>55500.0</td>\n",
       "      <td>55500.0</td>\n",
       "      <td>55400.0</td>\n",
       "      <td>54700.0</td>\n",
       "      <td>54800.0</td>\n",
       "    </tr>\n",
       "    <tr>\n",
       "      <th>2023-01-03 11:00:00+09:00</th>\n",
       "      <td>55500.0</td>\n",
       "      <td>55500.0</td>\n",
       "      <td>55400.0</td>\n",
       "      <td>54700.0</td>\n",
       "      <td>54800.0</td>\n",
       "      <td>55100.0</td>\n",
       "    </tr>\n",
       "    <tr>\n",
       "      <th>2023-01-03 12:00:00+09:00</th>\n",
       "      <td>55500.0</td>\n",
       "      <td>55400.0</td>\n",
       "      <td>54700.0</td>\n",
       "      <td>54800.0</td>\n",
       "      <td>55100.0</td>\n",
       "      <td>55700.0</td>\n",
       "    </tr>\n",
       "    <tr>\n",
       "      <th>2023-01-03 13:00:00+09:00</th>\n",
       "      <td>55400.0</td>\n",
       "      <td>54700.0</td>\n",
       "      <td>54800.0</td>\n",
       "      <td>55100.0</td>\n",
       "      <td>55700.0</td>\n",
       "      <td>55600.0</td>\n",
       "    </tr>\n",
       "    <tr>\n",
       "      <th>...</th>\n",
       "      <td>...</td>\n",
       "      <td>...</td>\n",
       "      <td>...</td>\n",
       "      <td>...</td>\n",
       "      <td>...</td>\n",
       "      <td>...</td>\n",
       "    </tr>\n",
       "    <tr>\n",
       "      <th>2023-11-30 10:00:00+09:00</th>\n",
       "      <td>72600.0</td>\n",
       "      <td>72300.0</td>\n",
       "      <td>72700.0</td>\n",
       "      <td>72700.0</td>\n",
       "      <td>72400.0</td>\n",
       "      <td>72500.0</td>\n",
       "    </tr>\n",
       "    <tr>\n",
       "      <th>2023-11-30 11:00:00+09:00</th>\n",
       "      <td>72300.0</td>\n",
       "      <td>72700.0</td>\n",
       "      <td>72700.0</td>\n",
       "      <td>72400.0</td>\n",
       "      <td>72500.0</td>\n",
       "      <td>72600.0</td>\n",
       "    </tr>\n",
       "    <tr>\n",
       "      <th>2023-11-30 12:00:00+09:00</th>\n",
       "      <td>72700.0</td>\n",
       "      <td>72700.0</td>\n",
       "      <td>72400.0</td>\n",
       "      <td>72500.0</td>\n",
       "      <td>72600.0</td>\n",
       "      <td>72400.0</td>\n",
       "    </tr>\n",
       "    <tr>\n",
       "      <th>2023-11-30 13:00:00+09:00</th>\n",
       "      <td>72700.0</td>\n",
       "      <td>72400.0</td>\n",
       "      <td>72500.0</td>\n",
       "      <td>72600.0</td>\n",
       "      <td>72400.0</td>\n",
       "      <td>72500.0</td>\n",
       "    </tr>\n",
       "    <tr>\n",
       "      <th>2023-11-30 14:00:00+09:00</th>\n",
       "      <td>72400.0</td>\n",
       "      <td>72500.0</td>\n",
       "      <td>72600.0</td>\n",
       "      <td>72400.0</td>\n",
       "      <td>72500.0</td>\n",
       "      <td>72400.0</td>\n",
       "    </tr>\n",
       "  </tbody>\n",
       "</table>\n",
       "<p>1349 rows × 6 columns</p>\n",
       "</div>"
      ],
      "text/plain": [
       "                           shift_5  shift_4  shift_3  shift_2  shift_1  \\\n",
       "Datetime                                                                 \n",
       "2023-01-03 09:00:00+09:00  55900.0  55900.0  55500.0  55500.0  55400.0   \n",
       "2023-01-03 10:00:00+09:00  55900.0  55500.0  55500.0  55400.0  54700.0   \n",
       "2023-01-03 11:00:00+09:00  55500.0  55500.0  55400.0  54700.0  54800.0   \n",
       "2023-01-03 12:00:00+09:00  55500.0  55400.0  54700.0  54800.0  55100.0   \n",
       "2023-01-03 13:00:00+09:00  55400.0  54700.0  54800.0  55100.0  55700.0   \n",
       "...                            ...      ...      ...      ...      ...   \n",
       "2023-11-30 10:00:00+09:00  72600.0  72300.0  72700.0  72700.0  72400.0   \n",
       "2023-11-30 11:00:00+09:00  72300.0  72700.0  72700.0  72400.0  72500.0   \n",
       "2023-11-30 12:00:00+09:00  72700.0  72700.0  72400.0  72500.0  72600.0   \n",
       "2023-11-30 13:00:00+09:00  72700.0  72400.0  72500.0  72600.0  72400.0   \n",
       "2023-11-30 14:00:00+09:00  72400.0  72500.0  72600.0  72400.0  72500.0   \n",
       "\n",
       "                             Close  \n",
       "Datetime                            \n",
       "2023-01-03 09:00:00+09:00  54700.0  \n",
       "2023-01-03 10:00:00+09:00  54800.0  \n",
       "2023-01-03 11:00:00+09:00  55100.0  \n",
       "2023-01-03 12:00:00+09:00  55700.0  \n",
       "2023-01-03 13:00:00+09:00  55600.0  \n",
       "...                            ...  \n",
       "2023-11-30 10:00:00+09:00  72500.0  \n",
       "2023-11-30 11:00:00+09:00  72600.0  \n",
       "2023-11-30 12:00:00+09:00  72400.0  \n",
       "2023-11-30 13:00:00+09:00  72500.0  \n",
       "2023-11-30 14:00:00+09:00  72400.0  \n",
       "\n",
       "[1349 rows x 6 columns]"
      ]
     },
     "execution_count": 280,
     "metadata": {},
     "output_type": "execute_result"
    }
   ],
   "source": [
    "f1 = WINdow(X[['Open']],5)\n",
    "f2 = WINdow(X[['High']],5)\n",
    "f3 = WINdow(X[['Low']],5)\n",
    "f4 = WINdow(X[['Close']],5)\n",
    "f1.window()\n",
    "f2.window()\n",
    "f3.window()\n",
    "f4.window()"
   ]
  },
  {
   "cell_type": "code",
   "execution_count": 560,
   "id": "bbe45057",
   "metadata": {
    "scrolled": true
   },
   "outputs": [],
   "source": [
    "f1234= [f1.feature,f2.feature,f3.feature,f4.feature]\n",
    "\n",
    "from sklearn.preprocessing import MinMaxScaler\n",
    "minmax = MinMaxScaler()\n",
    "# minmax scale\n",
    "f1234= [minmax.fit_transform(f1234[i]) for  i in range(len(f1234))]\n",
    "\n",
    "# 3-dims shape \n",
    "f1234reshape = [f1234[i].reshape(-1,5,1) for i in range(len(f1234))]\n",
    "\n",
    "# 시가\n",
    "encoder_X1 = np.concatenate([f1234reshape[0]],axis=2)\n",
    "# 상한가 하한가\n",
    "encoder_X2 = np.concatenate([f1234reshape[1],f1234reshape[2]],axis=2)\n",
    "#encoder_X3 = np.concatenate([f1234reshape[2]],axis=2)\n",
    "# 종가\n",
    "y_scale = minmax.fit_transform(f4.y_label.reshape(-1, 1))\n"
   ]
  },
  {
   "cell_type": "markdown",
   "id": "52b87030",
   "metadata": {},
   "source": [
    "---"
   ]
  },
  {
   "cell_type": "markdown",
   "id": "d71bd1a0",
   "metadata": {},
   "source": [
    "# target data 전처리"
   ]
  },
  {
   "cell_type": "code",
   "execution_count": 282,
   "id": "ceab1fc4",
   "metadata": {},
   "outputs": [
    {
     "name": "stderr",
     "output_type": "stream",
     "text": [
      "C:\\Users\\Public\\Documents\\ESTsoft\\CreatorTemp\\ipykernel_19024\\1267832976.py:8: SettingWithCopyWarning: \n",
      "A value is trying to be set on a copy of a slice from a DataFrame.\n",
      "Try using .loc[row_indexer,col_indexer] = value instead\n",
      "\n",
      "See the caveats in the documentation: https://pandas.pydata.org/pandas-docs/stable/user_guide/indexing.html#returning-a-view-versus-a-copy\n",
      "  self.df['shift_{}'.format(i)] = self.df.iloc[:,0].shift(i)\n",
      "C:\\Users\\Public\\Documents\\ESTsoft\\CreatorTemp\\ipykernel_19024\\1267832976.py:9: SettingWithCopyWarning: \n",
      "A value is trying to be set on a copy of a slice from a DataFrame.\n",
      "Try using .loc[row_indexer,col_indexer] = value instead\n",
      "\n",
      "See the caveats in the documentation: https://pandas.pydata.org/pandas-docs/stable/user_guide/indexing.html#returning-a-view-versus-a-copy\n",
      "  self.df['shift_{}'.format(i)] = self.df.iloc[:,0].shift(i)\n",
      "C:\\Users\\Public\\Documents\\ESTsoft\\CreatorTemp\\ipykernel_19024\\1267832976.py:8: SettingWithCopyWarning: \n",
      "A value is trying to be set on a copy of a slice from a DataFrame.\n",
      "Try using .loc[row_indexer,col_indexer] = value instead\n",
      "\n",
      "See the caveats in the documentation: https://pandas.pydata.org/pandas-docs/stable/user_guide/indexing.html#returning-a-view-versus-a-copy\n",
      "  self.df['shift_{}'.format(i)] = self.df.iloc[:,0].shift(i)\n",
      "C:\\Users\\Public\\Documents\\ESTsoft\\CreatorTemp\\ipykernel_19024\\1267832976.py:9: SettingWithCopyWarning: \n",
      "A value is trying to be set on a copy of a slice from a DataFrame.\n",
      "Try using .loc[row_indexer,col_indexer] = value instead\n",
      "\n",
      "See the caveats in the documentation: https://pandas.pydata.org/pandas-docs/stable/user_guide/indexing.html#returning-a-view-versus-a-copy\n",
      "  self.df['shift_{}'.format(i)] = self.df.iloc[:,0].shift(i)\n",
      "C:\\Users\\Public\\Documents\\ESTsoft\\CreatorTemp\\ipykernel_19024\\1267832976.py:8: SettingWithCopyWarning: \n",
      "A value is trying to be set on a copy of a slice from a DataFrame.\n",
      "Try using .loc[row_indexer,col_indexer] = value instead\n",
      "\n",
      "See the caveats in the documentation: https://pandas.pydata.org/pandas-docs/stable/user_guide/indexing.html#returning-a-view-versus-a-copy\n",
      "  self.df['shift_{}'.format(i)] = self.df.iloc[:,0].shift(i)\n",
      "C:\\Users\\Public\\Documents\\ESTsoft\\CreatorTemp\\ipykernel_19024\\1267832976.py:9: SettingWithCopyWarning: \n",
      "A value is trying to be set on a copy of a slice from a DataFrame.\n",
      "Try using .loc[row_indexer,col_indexer] = value instead\n",
      "\n",
      "See the caveats in the documentation: https://pandas.pydata.org/pandas-docs/stable/user_guide/indexing.html#returning-a-view-versus-a-copy\n",
      "  self.df['shift_{}'.format(i)] = self.df.iloc[:,0].shift(i)\n",
      "C:\\Users\\Public\\Documents\\ESTsoft\\CreatorTemp\\ipykernel_19024\\1267832976.py:8: SettingWithCopyWarning: \n",
      "A value is trying to be set on a copy of a slice from a DataFrame.\n",
      "Try using .loc[row_indexer,col_indexer] = value instead\n",
      "\n",
      "See the caveats in the documentation: https://pandas.pydata.org/pandas-docs/stable/user_guide/indexing.html#returning-a-view-versus-a-copy\n",
      "  self.df['shift_{}'.format(i)] = self.df.iloc[:,0].shift(i)\n",
      "C:\\Users\\Public\\Documents\\ESTsoft\\CreatorTemp\\ipykernel_19024\\1267832976.py:9: SettingWithCopyWarning: \n",
      "A value is trying to be set on a copy of a slice from a DataFrame.\n",
      "Try using .loc[row_indexer,col_indexer] = value instead\n",
      "\n",
      "See the caveats in the documentation: https://pandas.pydata.org/pandas-docs/stable/user_guide/indexing.html#returning-a-view-versus-a-copy\n",
      "  self.df['shift_{}'.format(i)] = self.df.iloc[:,0].shift(i)\n",
      "C:\\Users\\Public\\Documents\\ESTsoft\\CreatorTemp\\ipykernel_19024\\1267832976.py:8: SettingWithCopyWarning: \n",
      "A value is trying to be set on a copy of a slice from a DataFrame.\n",
      "Try using .loc[row_indexer,col_indexer] = value instead\n",
      "\n",
      "See the caveats in the documentation: https://pandas.pydata.org/pandas-docs/stable/user_guide/indexing.html#returning-a-view-versus-a-copy\n",
      "  self.df['shift_{}'.format(i)] = self.df.iloc[:,0].shift(i)\n",
      "C:\\Users\\Public\\Documents\\ESTsoft\\CreatorTemp\\ipykernel_19024\\1267832976.py:9: SettingWithCopyWarning: \n",
      "A value is trying to be set on a copy of a slice from a DataFrame.\n",
      "Try using .loc[row_indexer,col_indexer] = value instead\n",
      "\n",
      "See the caveats in the documentation: https://pandas.pydata.org/pandas-docs/stable/user_guide/indexing.html#returning-a-view-versus-a-copy\n",
      "  self.df['shift_{}'.format(i)] = self.df.iloc[:,0].shift(i)\n",
      "C:\\Users\\Public\\Documents\\ESTsoft\\CreatorTemp\\ipykernel_19024\\1267832976.py:8: SettingWithCopyWarning: \n",
      "A value is trying to be set on a copy of a slice from a DataFrame.\n",
      "Try using .loc[row_indexer,col_indexer] = value instead\n",
      "\n",
      "See the caveats in the documentation: https://pandas.pydata.org/pandas-docs/stable/user_guide/indexing.html#returning-a-view-versus-a-copy\n",
      "  self.df['shift_{}'.format(i)] = self.df.iloc[:,0].shift(i)\n",
      "C:\\Users\\Public\\Documents\\ESTsoft\\CreatorTemp\\ipykernel_19024\\1267832976.py:9: SettingWithCopyWarning: \n",
      "A value is trying to be set on a copy of a slice from a DataFrame.\n",
      "Try using .loc[row_indexer,col_indexer] = value instead\n",
      "\n",
      "See the caveats in the documentation: https://pandas.pydata.org/pandas-docs/stable/user_guide/indexing.html#returning-a-view-versus-a-copy\n",
      "  self.df['shift_{}'.format(i)] = self.df.iloc[:,0].shift(i)\n",
      "C:\\Users\\Public\\Documents\\ESTsoft\\CreatorTemp\\ipykernel_19024\\1267832976.py:8: SettingWithCopyWarning: \n",
      "A value is trying to be set on a copy of a slice from a DataFrame.\n",
      "Try using .loc[row_indexer,col_indexer] = value instead\n",
      "\n",
      "See the caveats in the documentation: https://pandas.pydata.org/pandas-docs/stable/user_guide/indexing.html#returning-a-view-versus-a-copy\n",
      "  self.df['shift_{}'.format(i)] = self.df.iloc[:,0].shift(i)\n",
      "C:\\Users\\Public\\Documents\\ESTsoft\\CreatorTemp\\ipykernel_19024\\1267832976.py:9: SettingWithCopyWarning: \n",
      "A value is trying to be set on a copy of a slice from a DataFrame.\n",
      "Try using .loc[row_indexer,col_indexer] = value instead\n",
      "\n",
      "See the caveats in the documentation: https://pandas.pydata.org/pandas-docs/stable/user_guide/indexing.html#returning-a-view-versus-a-copy\n",
      "  self.df['shift_{}'.format(i)] = self.df.iloc[:,0].shift(i)\n",
      "C:\\Users\\Public\\Documents\\ESTsoft\\CreatorTemp\\ipykernel_19024\\1267832976.py:8: SettingWithCopyWarning: \n",
      "A value is trying to be set on a copy of a slice from a DataFrame.\n",
      "Try using .loc[row_indexer,col_indexer] = value instead\n",
      "\n",
      "See the caveats in the documentation: https://pandas.pydata.org/pandas-docs/stable/user_guide/indexing.html#returning-a-view-versus-a-copy\n",
      "  self.df['shift_{}'.format(i)] = self.df.iloc[:,0].shift(i)\n",
      "C:\\Users\\Public\\Documents\\ESTsoft\\CreatorTemp\\ipykernel_19024\\1267832976.py:9: SettingWithCopyWarning: \n",
      "A value is trying to be set on a copy of a slice from a DataFrame.\n",
      "Try using .loc[row_indexer,col_indexer] = value instead\n",
      "\n",
      "See the caveats in the documentation: https://pandas.pydata.org/pandas-docs/stable/user_guide/indexing.html#returning-a-view-versus-a-copy\n",
      "  self.df['shift_{}'.format(i)] = self.df.iloc[:,0].shift(i)\n"
     ]
    },
    {
     "data": {
      "text/html": [
       "<div>\n",
       "<style scoped>\n",
       "    .dataframe tbody tr th:only-of-type {\n",
       "        vertical-align: middle;\n",
       "    }\n",
       "\n",
       "    .dataframe tbody tr th {\n",
       "        vertical-align: top;\n",
       "    }\n",
       "\n",
       "    .dataframe thead th {\n",
       "        text-align: right;\n",
       "    }\n",
       "</style>\n",
       "<table border=\"1\" class=\"dataframe\">\n",
       "  <thead>\n",
       "    <tr style=\"text-align: right;\">\n",
       "      <th></th>\n",
       "      <th>shift_5</th>\n",
       "      <th>shift_4</th>\n",
       "      <th>shift_3</th>\n",
       "      <th>shift_2</th>\n",
       "      <th>shift_1</th>\n",
       "      <th>Close</th>\n",
       "    </tr>\n",
       "    <tr>\n",
       "      <th>Datetime</th>\n",
       "      <th></th>\n",
       "      <th></th>\n",
       "      <th></th>\n",
       "      <th></th>\n",
       "      <th></th>\n",
       "      <th></th>\n",
       "    </tr>\n",
       "  </thead>\n",
       "  <tbody>\n",
       "    <tr>\n",
       "      <th>2023-12-04 09:00:00+09:00</th>\n",
       "      <td>72000.0</td>\n",
       "      <td>72000.0</td>\n",
       "      <td>72000.0</td>\n",
       "      <td>72000.0</td>\n",
       "      <td>72000.0</td>\n",
       "      <td>72600.0</td>\n",
       "    </tr>\n",
       "    <tr>\n",
       "      <th>2023-12-04 10:00:00+09:00</th>\n",
       "      <td>72000.0</td>\n",
       "      <td>72000.0</td>\n",
       "      <td>72000.0</td>\n",
       "      <td>72000.0</td>\n",
       "      <td>72600.0</td>\n",
       "      <td>72700.0</td>\n",
       "    </tr>\n",
       "    <tr>\n",
       "      <th>2023-12-04 11:00:00+09:00</th>\n",
       "      <td>72000.0</td>\n",
       "      <td>72000.0</td>\n",
       "      <td>72000.0</td>\n",
       "      <td>72600.0</td>\n",
       "      <td>72700.0</td>\n",
       "      <td>72600.0</td>\n",
       "    </tr>\n",
       "    <tr>\n",
       "      <th>2023-12-04 12:00:00+09:00</th>\n",
       "      <td>72000.0</td>\n",
       "      <td>72000.0</td>\n",
       "      <td>72600.0</td>\n",
       "      <td>72700.0</td>\n",
       "      <td>72600.0</td>\n",
       "      <td>72600.0</td>\n",
       "    </tr>\n",
       "    <tr>\n",
       "      <th>2023-12-04 13:00:00+09:00</th>\n",
       "      <td>72000.0</td>\n",
       "      <td>72600.0</td>\n",
       "      <td>72700.0</td>\n",
       "      <td>72600.0</td>\n",
       "      <td>72600.0</td>\n",
       "      <td>72700.0</td>\n",
       "    </tr>\n",
       "    <tr>\n",
       "      <th>...</th>\n",
       "      <td>...</td>\n",
       "      <td>...</td>\n",
       "      <td>...</td>\n",
       "      <td>...</td>\n",
       "      <td>...</td>\n",
       "      <td>...</td>\n",
       "    </tr>\n",
       "    <tr>\n",
       "      <th>2024-02-14 10:00:00+09:00</th>\n",
       "      <td>75000.0</td>\n",
       "      <td>74900.0</td>\n",
       "      <td>74900.0</td>\n",
       "      <td>75000.0</td>\n",
       "      <td>74000.0</td>\n",
       "      <td>73800.0</td>\n",
       "    </tr>\n",
       "    <tr>\n",
       "      <th>2024-02-14 11:00:00+09:00</th>\n",
       "      <td>74900.0</td>\n",
       "      <td>74900.0</td>\n",
       "      <td>75000.0</td>\n",
       "      <td>74000.0</td>\n",
       "      <td>73800.0</td>\n",
       "      <td>73900.0</td>\n",
       "    </tr>\n",
       "    <tr>\n",
       "      <th>2024-02-14 12:00:00+09:00</th>\n",
       "      <td>74900.0</td>\n",
       "      <td>75000.0</td>\n",
       "      <td>74000.0</td>\n",
       "      <td>73800.0</td>\n",
       "      <td>73900.0</td>\n",
       "      <td>74000.0</td>\n",
       "    </tr>\n",
       "    <tr>\n",
       "      <th>2024-02-14 13:00:00+09:00</th>\n",
       "      <td>75000.0</td>\n",
       "      <td>74000.0</td>\n",
       "      <td>73800.0</td>\n",
       "      <td>73900.0</td>\n",
       "      <td>74000.0</td>\n",
       "      <td>74100.0</td>\n",
       "    </tr>\n",
       "    <tr>\n",
       "      <th>2024-02-14 14:00:00+09:00</th>\n",
       "      <td>74000.0</td>\n",
       "      <td>73800.0</td>\n",
       "      <td>73900.0</td>\n",
       "      <td>74000.0</td>\n",
       "      <td>74100.0</td>\n",
       "      <td>74100.0</td>\n",
       "    </tr>\n",
       "  </tbody>\n",
       "</table>\n",
       "<p>287 rows × 6 columns</p>\n",
       "</div>"
      ],
      "text/plain": [
       "                           shift_5  shift_4  shift_3  shift_2  shift_1  \\\n",
       "Datetime                                                                 \n",
       "2023-12-04 09:00:00+09:00  72000.0  72000.0  72000.0  72000.0  72000.0   \n",
       "2023-12-04 10:00:00+09:00  72000.0  72000.0  72000.0  72000.0  72600.0   \n",
       "2023-12-04 11:00:00+09:00  72000.0  72000.0  72000.0  72600.0  72700.0   \n",
       "2023-12-04 12:00:00+09:00  72000.0  72000.0  72600.0  72700.0  72600.0   \n",
       "2023-12-04 13:00:00+09:00  72000.0  72600.0  72700.0  72600.0  72600.0   \n",
       "...                            ...      ...      ...      ...      ...   \n",
       "2024-02-14 10:00:00+09:00  75000.0  74900.0  74900.0  75000.0  74000.0   \n",
       "2024-02-14 11:00:00+09:00  74900.0  74900.0  75000.0  74000.0  73800.0   \n",
       "2024-02-14 12:00:00+09:00  74900.0  75000.0  74000.0  73800.0  73900.0   \n",
       "2024-02-14 13:00:00+09:00  75000.0  74000.0  73800.0  73900.0  74000.0   \n",
       "2024-02-14 14:00:00+09:00  74000.0  73800.0  73900.0  74000.0  74100.0   \n",
       "\n",
       "                             Close  \n",
       "Datetime                            \n",
       "2023-12-04 09:00:00+09:00  72600.0  \n",
       "2023-12-04 10:00:00+09:00  72700.0  \n",
       "2023-12-04 11:00:00+09:00  72600.0  \n",
       "2023-12-04 12:00:00+09:00  72600.0  \n",
       "2023-12-04 13:00:00+09:00  72700.0  \n",
       "...                            ...  \n",
       "2024-02-14 10:00:00+09:00  73800.0  \n",
       "2024-02-14 11:00:00+09:00  73900.0  \n",
       "2024-02-14 12:00:00+09:00  74000.0  \n",
       "2024-02-14 13:00:00+09:00  74100.0  \n",
       "2024-02-14 14:00:00+09:00  74100.0  \n",
       "\n",
       "[287 rows x 6 columns]"
      ]
     },
     "execution_count": 282,
     "metadata": {},
     "output_type": "execute_result"
    }
   ],
   "source": [
    "t1 = WINdow(Y[['Open']],5)\n",
    "t2 = WINdow(Y[['High']],5)\n",
    "t3 = WINdow(Y[['Low']],5)\n",
    "t4 = WINdow(Y[['Close']],5)\n",
    "t1.window()\n",
    "t2.window()\n",
    "t3.window()\n",
    "t4.window()"
   ]
  },
  {
   "cell_type": "code",
   "execution_count": 506,
   "id": "d241f7c5",
   "metadata": {},
   "outputs": [],
   "source": [
    "t1234= [t1.feature,t2.feature,t3.feature,t4.feature]\n",
    "\n",
    "from sklearn.preprocessing import MinMaxScaler\n",
    "minmax = MinMaxScaler()\n",
    "# minmax scale\n",
    "t1234= [minmax.fit_transform(t1234[i]) for  i in range(len(t1234))]\n",
    "\n",
    "# 3-dims shape \n",
    "t1234reshape = [t1234[i].reshape(-1,5,1) for i in range(len(t1234))]\n",
    "# 시가\n",
    "target_X1 = np.concatenate([t1234reshape[0]],axis=2)\n",
    "# 상한가와 하한가\n",
    "target_X2 = np.concatenate([t1234reshape[1],t1234reshape[2]],axis=2)\n",
    "# 비교군\n",
    "contrast= np.concatenate([t1234reshape[0],t1234reshape[1],t1234reshape[2]],axis=2)\n",
    "\n",
    "# y\n",
    "target_y_scale = minmax.fit_transform(t4.y_label.reshape(-1, 1))"
   ]
  },
  {
   "cell_type": "markdown",
   "id": "0a27a870",
   "metadata": {},
   "source": [
    "---"
   ]
  },
  {
   "cell_type": "markdown",
   "id": "8d4c388a",
   "metadata": {},
   "source": [
    "# model 생성 "
   ]
  },
  {
   "cell_type": "markdown",
   "id": "38118954",
   "metadata": {},
   "source": [
    "- 인코더1과 인코더2의 히든과 셀을 추출하여 디코더에게 전달\n",
    "- 따라서 인코더1과 인코더2의 인풋 데이터의 shape은 서로 상관이 없음"
   ]
  },
  {
   "cell_type": "code",
   "execution_count": 595,
   "id": "17a83d20",
   "metadata": {},
   "outputs": [
    {
     "name": "stdout",
     "output_type": "stream",
     "text": [
      "Model: \"model\"\n",
      "__________________________________________________________________________________________________\n",
      " Layer (type)                Output Shape                 Param #   Connected to                  \n",
      "==================================================================================================\n",
      " input_1 (InputLayer)        [(None, 5, 1)]               0         []                            \n",
      "                                                                                                  \n",
      " input_2 (InputLayer)        [(None, 5, 2)]               0         []                            \n",
      "                                                                                                  \n",
      " encoder1 (LSTM)             [(None, 32),                 4352      ['input_1[0][0]']             \n",
      "                              (None, 32),                                                         \n",
      "                              (None, 32)]                                                         \n",
      "                                                                                                  \n",
      " encoder2 (LSTM)             [(None, 32),                 4480      ['input_2[0][0]']             \n",
      "                              (None, 32),                                                         \n",
      "                              (None, 32)]                                                         \n",
      "                                                                                                  \n",
      " concatenate (Concatenate)   (None, 128)                  0         ['encoder1[0][1]',            \n",
      "                                                                     'encoder1[0][2]',            \n",
      "                                                                     'encoder2[0][1]',            \n",
      "                                                                     'encoder2[0][2]']            \n",
      "                                                                                                  \n",
      " tf.expand_dims (TFOpLambda  (None, 1, 128)               0         ['concatenate[0][0]']         \n",
      " )                                                                                                \n",
      "                                                                                                  \n",
      " decoder1 (LSTM)             (None, 1, 32)                20608     ['tf.expand_dims[0][0]']      \n",
      "                                                                                                  \n",
      " lstm (LSTM)                 (None, 32)                   8320      ['decoder1[0][0]']            \n",
      "                                                                                                  \n",
      " dense (Dense)               (None, 1)                    33        ['lstm[0][0]']                \n",
      "                                                                                                  \n",
      "==================================================================================================\n",
      "Total params: 37793 (147.63 KB)\n",
      "Trainable params: 37793 (147.63 KB)\n",
      "Non-trainable params: 0 (0.00 Byte)\n",
      "__________________________________________________________________________________________________\n"
     ]
    }
   ],
   "source": [
    "K.clear_session()\n",
    "n = 32\n",
    "feature1 = 1\n",
    "feature2 = 2\n",
    "timestep = 5\n",
    "\n",
    "\n",
    "################################################################################\n",
    "# encoder1\n",
    "encoder_input1 = Input(shape=( timestep , feature1))\n",
    "encoder1 = LSTM(units=n,return_state=True,name ='encoder1')\n",
    "_, encoder_h1, encoder_c1 = encoder1(encoder_input1)\n",
    "\n",
    "#################################################################################\n",
    "# encoder2\n",
    "encoder_input2 = Input(shape=(timestep, feature2))\n",
    "encoder2 = LSTM(units=n, return_state=True,name ='encoder2')\n",
    "_, encoder_h2, encoder_c2 = encoder2(encoder_input2)\n",
    "\n",
    "# encoder1,2의 state vector\n",
    "encoder_state = concatenate([encoder_h1, encoder_c1, encoder_h2, encoder_c2], axis=-1)\n",
    "################################################################################\n",
    "#decoder\n",
    "decoder = LSTM(units=n, return_sequences=True,name ='decoder1')\n",
    "\n",
    "# K.expand_dims -> data shape을 맞추기 위함\n",
    "decoder_output= decoder(K.expand_dims(encoder_state, axis=1))\n",
    "d1 = LSTM(units=n)(decoder_output)\n",
    "output =Dense(1, activation='linear')(d1)\n",
    "\n",
    "################################################################################\n",
    "#model\n",
    "\n",
    "model = Model(inputs=[encoder_input1, encoder_input2 ], outputs=output)\n",
    "model.compile(optimizer='adam', loss='mean_squared_error')\n",
    "model.summary()"
   ]
  },
  {
   "cell_type": "code",
   "execution_count": 596,
   "id": "6c8913b6",
   "metadata": {},
   "outputs": [
    {
     "name": "stdout",
     "output_type": "stream",
     "text": [
      "Epoch 1/10\n",
      "1349/1349 [==============================] - 6s 2ms/step - loss: 0.0073\n",
      "Epoch 2/10\n",
      "1349/1349 [==============================] - 3s 2ms/step - loss: 0.0013\n",
      "Epoch 3/10\n",
      "1349/1349 [==============================] - 3s 2ms/step - loss: 0.0011\n",
      "Epoch 4/10\n",
      "1349/1349 [==============================] - 3s 2ms/step - loss: 9.6875e-04\n",
      "Epoch 5/10\n",
      "1349/1349 [==============================] - 3s 2ms/step - loss: 8.3118e-04\n",
      "Epoch 6/10\n",
      "1349/1349 [==============================] - 3s 2ms/step - loss: 7.9674e-04\n",
      "Epoch 7/10\n",
      "1349/1349 [==============================] - 3s 2ms/step - loss: 7.6953e-04\n",
      "Epoch 8/10\n",
      "1349/1349 [==============================] - 3s 2ms/step - loss: 6.8552e-04\n",
      "Epoch 9/10\n",
      "1349/1349 [==============================] - 3s 2ms/step - loss: 6.7851e-04\n",
      "Epoch 10/10\n",
      "1349/1349 [==============================] - 3s 2ms/step - loss: 6.6057e-04\n"
     ]
    },
    {
     "data": {
      "text/plain": [
       "<keras.src.callbacks.History at 0x188fda5e050>"
      ]
     },
     "execution_count": 596,
     "metadata": {},
     "output_type": "execute_result"
    }
   ],
   "source": [
    "early_stop = EarlyStopping(monitor='loss', patience=5, verbose=1)\n",
    "epochs = 10\n",
    "batch_size = 1\n",
    "\n",
    "model.fit([encoder_X1,encoder_X2 ],y_scale, epochs=epochs, batch_size=batch_size\n",
    "          ,callbacks=[early_stop])\n"
   ]
  },
  {
   "cell_type": "code",
   "execution_count": 597,
   "id": "a4fa975c",
   "metadata": {
    "scrolled": true
   },
   "outputs": [
    {
     "name": "stdout",
     "output_type": "stream",
     "text": [
      "43/43 [==============================] - 1s 1ms/step\n"
     ]
    }
   ],
   "source": [
    "pred0= model.predict([encoder_X1,encoder_X2])"
   ]
  },
  {
   "cell_type": "code",
   "execution_count": 598,
   "id": "ebb0eee4",
   "metadata": {},
   "outputs": [
    {
     "name": "stdout",
     "output_type": "stream",
     "text": [
      "0.00041796782433261274\n"
     ]
    },
    {
     "data": {
      "text/plain": [
       "[<matplotlib.lines.Line2D at 0x18903706650>]"
      ]
     },
     "execution_count": 598,
     "metadata": {},
     "output_type": "execute_result"
    },
    {
     "data": {
      "image/png": "[encoded data removed]",
      "text/plain": [
       "<Figure size 640x480 with 1 Axes>"
      ]
     },
     "metadata": {},
     "output_type": "display_data"
    }
   ],
   "source": [
    "print(mean_squared_error(pred0.flatten(),y_scale))\n",
    "plt.plot(pred0.flatten())\n",
    "plt.plot(y_scale)"
   ]
  },
  {
   "cell_type": "markdown",
   "id": "8815bc65",
   "metadata": {},
   "source": [
    "---"
   ]
  },
  {
   "cell_type": "markdown",
   "id": "fbf88d3c",
   "metadata": {},
   "source": [
    "`-` 비교군"
   ]
  },
  {
   "cell_type": "code",
   "execution_count": 405,
   "id": "70909eed",
   "metadata": {},
   "outputs": [
    {
     "name": "stdout",
     "output_type": "stream",
     "text": [
      "Epoch 1/10\n",
      "1349/1349 [==============================] - 3s 1ms/step - loss: 0.0026\n",
      "Epoch 2/10\n",
      "1349/1349 [==============================] - 2s 1ms/step - loss: 0.0011\n",
      "Epoch 3/10\n",
      "1349/1349 [==============================] - 2s 1ms/step - loss: 8.9504e-04\n",
      "Epoch 4/10\n",
      "1349/1349 [==============================] - 2s 1ms/step - loss: 7.9907e-04\n",
      "Epoch 5/10\n",
      "1349/1349 [==============================] - 2s 1ms/step - loss: 7.3698e-04\n",
      "Epoch 6/10\n",
      "1349/1349 [==============================] - 2s 1ms/step - loss: 6.6593e-04\n",
      "Epoch 7/10\n",
      "1349/1349 [==============================] - 2s 1ms/step - loss: 6.2971e-04\n",
      "Epoch 8/10\n",
      "1349/1349 [==============================] - 2s 1ms/step - loss: 5.7035e-04\n",
      "Epoch 9/10\n",
      "1349/1349 [==============================] - 2s 1ms/step - loss: 5.5261e-04\n",
      "Epoch 10/10\n",
      "1349/1349 [==============================] - 2s 1ms/step - loss: 5.6763e-04\n"
     ]
    },
    {
     "data": {
      "text/plain": [
       "<keras.src.callbacks.History at 0x1888b4efd60>"
      ]
     },
     "execution_count": 405,
     "metadata": {},
     "output_type": "execute_result"
    }
   ],
   "source": [
    "# 비교군\n",
    "\n",
    "K.clear_session()\n",
    "model_no = Sequential()\n",
    "model_no.add(LSTM(32, name='lstmd2',input_shape=(5,3)))\n",
    "model_no.add(Dense(1))\n",
    "model_no.compile(loss='mean_squared_error', optimizer='adam')\n",
    "\n",
    "early_stop = EarlyStopping(monitor='loss', patience=5, verbose=0)\n",
    "model_no.fit(encoder_X1, y_scale, epochs=10,\n",
    "          batch_size=1, verbose=1, callbacks=[early_stop])"
   ]
  },
  {
   "cell_type": "markdown",
   "id": "a85f882a",
   "metadata": {},
   "source": [
    "# TEST"
   ]
  },
  {
   "cell_type": "code",
   "execution_count": 599,
   "id": "387630aa",
   "metadata": {},
   "outputs": [
    {
     "name": "stdout",
     "output_type": "stream",
     "text": [
      "9/9 [==============================] - 0s 1ms/step\n",
      "9/9 [==============================] - 0s 997us/step\n"
     ]
    }
   ],
   "source": [
    "pred1= model.predict([target_X1, target_X2])\n",
    "pred2= model_no.predict(contrast)"
   ]
  },
  {
   "cell_type": "code",
   "execution_count": 600,
   "id": "41d1499a",
   "metadata": {
    "scrolled": true
   },
   "outputs": [
    {
     "data": {
      "text/plain": [
       "[<matplotlib.lines.Line2D at 0x189037ad900>]"
      ]
     },
     "execution_count": 600,
     "metadata": {},
     "output_type": "execute_result"
    },
    {
     "data": {
      "image/png": "[encoded data removed]",
      "text/plain": [
       "<Figure size 640x480 with 1 Axes>"
      ]
     },
     "metadata": {},
     "output_type": "display_data"
    }
   ],
   "source": [
    "plt.plot(pred1.flatten(),color='red')\n",
    "plt.plot(target_y_scale,color='black')\n",
    "plt.plot(pred2.flatten())"
   ]
  },
  {
   "cell_type": "code",
   "execution_count": 601,
   "id": "1c7324ea",
   "metadata": {},
   "outputs": [
    {
     "name": "stdout",
     "output_type": "stream",
     "text": [
      "en-de lstm  0.002736452337118117\n",
      "normal lstm 0.0029113962903970854\n"
     ]
    }
   ],
   "source": [
    "from sklearn.metrics import mean_squared_error\n",
    "\n",
    "print('en-de lstm ',mean_squared_error(target_y_scale,pred1.flatten()))\n",
    "print('normal lstm',mean_squared_error(target_y_scale,pred2.flatten()))"
   ]
  }
 ],
 "metadata": {
  "kernelspec": {
   "display_name": "Python 3 (ipykernel)",
   "language": "python",
   "name": "python3"
  },
  "language_info": {
   "codemirror_mode": {
    "name": "ipython",
    "version": 3
   },
   "file_extension": ".py",
   "mimetype": "text/x-python",
   "name": "python",
   "nbconvert_exporter": "python",
   "pygments_lexer": "ipython3",
   "version": "3.10.9"
  }
 },
 "nbformat": 4,
 "nbformat_minor": 5
}
