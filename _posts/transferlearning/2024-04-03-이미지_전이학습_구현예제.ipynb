{
 "cells": [
  {
   "cell_type": "markdown",
   "id": "1b704ef4",
   "metadata": {},
   "source": [
    "# 이미지 전이학습 구현예제\n",
    "- resnet50을 이용해 mnist 분류"
   ]
  },
  {
   "cell_type": "code",
   "execution_count": 32,
   "id": "3cd1cd7a",
   "metadata": {},
   "outputs": [],
   "source": [
    "import numpy as np\n",
    "import tensorflow as tf\n",
    "import matplotlib.pyplot as plt\n",
    "from tensorflow.keras.applications import ResNet50\n",
    "from tensorflow.keras.layers import Dense, GlobalAveragePooling2D\n",
    "from tensorflow.keras.models import Model\n",
    "from tensorflow.keras.optimizers import Adam\n",
    "from tensorflow.keras.preprocessing.image import ImageDataGenerator\n",
    "from tensorflow.keras.datasets import mnist\n",
    "from tensorflow.keras.utils import to_categorical"
   ]
  },
  {
   "cell_type": "markdown",
   "id": "6c560e84",
   "metadata": {},
   "source": [
    "# dataset"
   ]
  },
  {
   "cell_type": "code",
   "execution_count": 38,
   "id": "27b53498",
   "metadata": {},
   "outputs": [],
   "source": [
    "(x_train, y_train), (x_test, y_test) = mnist.load_data()\n",
    "x_train = np.expand_dims(x_train, axis=-1) / 255.0\n",
    "x_test = np.expand_dims(x_test, axis=-1) / 255.0\n",
    "y_train = to_categorical(y_train, 10)\n",
    "y_test = to_categorical(y_test, 10)\n",
    "x_train = np.tile(x_train, (1, 1, 1, 3)) # rgb 흑백이어서 채널을 늘리는 것\n",
    "x_test = np.tile(x_test, (1, 1, 1, 3))"
   ]
  },
  {
   "cell_type": "code",
   "execution_count": 39,
   "id": "b3421477",
   "metadata": {},
   "outputs": [
    {
     "data": {
      "text/plain": [
       "<matplotlib.image.AxesImage at 0x1ad26da30d0>"
      ]
     },
     "execution_count": 39,
     "metadata": {},
     "output_type": "execute_result"
    },
    {
     "data": {
      "image/png": "[encoded data removed]",
      "text/plain": [
       "<Figure size 640x480 with 1 Axes>"
      ]
     },
     "metadata": {},
     "output_type": "display_data"
    }
   ],
   "source": [
    "plt.imshow(x_train[0])"
   ]
  },
  {
   "cell_type": "markdown",
   "id": "5417bc20",
   "metadata": {},
   "source": [
    "## 케라스 아키텍쳐 resnet50 전이학습 "
   ]
  },
  {
   "cell_type": "markdown",
   "id": "96667c0d",
   "metadata": {},
   "source": [
    "### pretrained 모델 호출"
   ]
  },
  {
   "cell_type": "code",
   "execution_count": 7,
   "id": "5226fadc",
   "metadata": {},
   "outputs": [],
   "source": [
    "source_model = ResNet50(weights='imagenet', include_top=False) # 마지막 레이어 호출 x"
   ]
  },
  {
   "cell_type": "markdown",
   "id": "188150e5",
   "metadata": {},
   "source": [
    "### last layer 생성 및 target 모델 생성"
   ]
  },
  {
   "cell_type": "code",
   "execution_count": 19,
   "id": "ed291556",
   "metadata": {},
   "outputs": [],
   "source": [
    "n1,n2 = 512,10"
   ]
  },
  {
   "cell_type": "code",
   "execution_count": 45,
   "id": "cc9d9046",
   "metadata": {
    "scrolled": false
   },
   "outputs": [],
   "source": [
    "last_layer = source_model.output\n",
    "\n",
    "last_layer = Dense(n1,activation='relu')(GlobalAveragePooling2D()(last_layer))\n",
    "\n",
    "output = Dense(n2, activation='softmax')(last_layer)\n",
    "\n",
    "model = Model(inputs=source_model.input, outputs=output)\n",
    "\n",
    "\n",
    "for layer in source_model.layers:\n",
    "    layer.trainable = False\n",
    "    \n",
    "model.compile(optimizer=Adam(), loss='categorical_crossentropy', metrics=['accuracy'])"
   ]
  },
  {
   "cell_type": "code",
   "execution_count": 46,
   "id": "dbfb27b8",
   "metadata": {},
   "outputs": [
    {
     "name": "stdout",
     "output_type": "stream",
     "text": [
      "Epoch 1/5\n",
      "1875/1875 [==============================] - 97s 50ms/step - loss: 0.5131 - accuracy: 0.8300 - val_loss: 0.2940 - val_accuracy: 0.9071\n",
      "Epoch 2/5\n",
      "1875/1875 [==============================] - 90s 48ms/step - loss: 0.3212 - accuracy: 0.8953 - val_loss: 0.3057 - val_accuracy: 0.9034\n",
      "Epoch 3/5\n",
      "1875/1875 [==============================] - 92s 49ms/step - loss: 0.2688 - accuracy: 0.9112 - val_loss: 0.2185 - val_accuracy: 0.9313\n",
      "Epoch 4/5\n",
      "1875/1875 [==============================] - 90s 48ms/step - loss: 0.2381 - accuracy: 0.9218 - val_loss: 0.2280 - val_accuracy: 0.9281\n",
      "Epoch 5/5\n",
      "1875/1875 [==============================] - 88s 47ms/step - loss: 0.2194 - accuracy: 0.9277 - val_loss: 0.1795 - val_accuracy: 0.9430\n"
     ]
    },
    {
     "data": {
      "text/plain": [
       "<keras.callbacks.History at 0x1ad0ae5a9b0>"
      ]
     },
     "execution_count": 46,
     "metadata": {},
     "output_type": "execute_result"
    }
   ],
   "source": [
    "model.fit(x_train, y_train, validation_data=(x_test, y_test), epochs=5, batch_size=32)\n"
   ]
  }
 ],
 "metadata": {
  "kernelspec": {
   "display_name": "Python 3 (ipykernel)",
   "language": "python",
   "name": "python3"
  },
  "language_info": {
   "codemirror_mode": {
    "name": "ipython",
    "version": 3
   },
   "file_extension": ".py",
   "mimetype": "text/x-python",
   "name": "python",
   "nbconvert_exporter": "python",
   "pygments_lexer": "ipython3",
   "version": "3.10.9"
  }
 },
 "nbformat": 4,
 "nbformat_minor": 5
}
